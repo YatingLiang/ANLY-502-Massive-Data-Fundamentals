{
 "cells": [
  {
   "cell_type": "code",
   "execution_count": 1,
   "metadata": {},
   "outputs": [],
   "source": [
    "import boto3\n",
    "import botocore\n",
    "import pandas as pd\n",
    "from IPython.display import display, Markdown\n",
    "\n",
    "from io import StringIO\n",
    "import os"
   ]
  },
  {
   "cell_type": "code",
   "execution_count": 2,
   "metadata": {},
   "outputs": [
    {
     "data": {
      "text/html": [
       "\n",
       "        <div>\n",
       "            <p><b>SparkContext</b></p>\n",
       "\n",
       "            <p><a href=\"http://ip-172-31-33-133.ec2.internal:4041\">Spark UI</a></p>\n",
       "\n",
       "            <dl>\n",
       "              <dt>Version</dt>\n",
       "                <dd><code>v2.4.4</code></dd>\n",
       "              <dt>Master</dt>\n",
       "                <dd><code>yarn</code></dd>\n",
       "              <dt>AppName</dt>\n",
       "                <dd><code>pyspark-shell</code></dd>\n",
       "            </dl>\n",
       "        </div>\n",
       "        "
      ],
      "text/plain": [
       "<SparkContext master=yarn appName=pyspark-shell>"
      ]
     },
     "execution_count": 2,
     "metadata": {},
     "output_type": "execute_result"
    }
   ],
   "source": [
    "import findspark\n",
    "findspark.init()\n",
    "from pyspark import SparkContext\n",
    "sc=SparkContext()\n",
    "sc"
   ]
  },
  {
   "cell_type": "code",
   "execution_count": 4,
   "metadata": {},
   "outputs": [
    {
     "data": {
      "text/html": [
       "\n",
       "            <div>\n",
       "                <p><b>SparkSession - in-memory</b></p>\n",
       "                \n",
       "        <div>\n",
       "            <p><b>SparkContext</b></p>\n",
       "\n",
       "            <p><a href=\"http://ip-172-31-33-133.ec2.internal:4041\">Spark UI</a></p>\n",
       "\n",
       "            <dl>\n",
       "              <dt>Version</dt>\n",
       "                <dd><code>v2.4.4</code></dd>\n",
       "              <dt>Master</dt>\n",
       "                <dd><code>yarn</code></dd>\n",
       "              <dt>AppName</dt>\n",
       "                <dd><code>pyspark-shell</code></dd>\n",
       "            </dl>\n",
       "        </div>\n",
       "        \n",
       "            </div>\n",
       "        "
      ],
      "text/plain": [
       "<pyspark.sql.session.SparkSession at 0x7fa7964800d0>"
      ]
     },
     "execution_count": 4,
     "metadata": {},
     "output_type": "execute_result"
    }
   ],
   "source": [
    "from pyspark.sql import SparkSession\n",
    "spark=SparkSession.builder.getOrCreate()\n",
    "spark"
   ]
  },
  {
   "cell_type": "code",
   "execution_count": 5,
   "metadata": {},
   "outputs": [
    {
     "data": {
      "text/plain": [
       "s3.ServiceResource()"
      ]
     },
     "execution_count": 5,
     "metadata": {},
     "output_type": "execute_result"
    }
   ],
   "source": [
    "s3 = boto3.resource('s3')\n",
    "s3"
   ]
  },
  {
   "cell_type": "code",
   "execution_count": 6,
   "metadata": {},
   "outputs": [
    {
     "data": {
      "text/plain": [
       "s3.Bucket(name='noaa-global-hourly-pds')"
      ]
     },
     "execution_count": 6,
     "metadata": {},
     "output_type": "execute_result"
    }
   ],
   "source": [
    "bucket = s3.Bucket(name=\"noaa-global-hourly-pds\")\n",
    "bucket"
   ]
  },
  {
   "cell_type": "code",
   "execution_count": null,
   "metadata": {},
   "outputs": [],
   "source": [
    "#Get File Name List\n",
    "prefix = \"1970/\"\n",
    "FilesNotFound = True\n",
    "FileNameList=[]\n",
    "for obj in bucket.objects.filter(Prefix=prefix):\n",
    "    FileNameList.append('{0}{1}/{2}'.format('s3://',bucket.name, obj.key))\n",
    "    print('{0}/{1}'.format(bucket.name, obj.key))\n",
    "    FilesNotFound = False\n",
    "if FilesNotFound:\n",
    "     print(\"ALERT\", \"No file in {0}/{1}\".format(bucket, prefix))\n"
   ]
  },
  {
   "cell_type": "code",
   "execution_count": null,
   "metadata": {},
   "outputs": [],
   "source": [
    "FileNameList"
   ]
  },
  {
   "cell_type": "code",
   "execution_count": 12,
   "metadata": {},
   "outputs": [],
   "source": [
    "import random\n",
    "desired_pct = 5\n",
    "file_sample = random.sample(FileNameList, int(len(FileNameList) * desired_pct / 100))"
   ]
  },
  {
   "cell_type": "code",
   "execution_count": 13,
   "metadata": {},
   "outputs": [
    {
     "data": {
      "text/plain": [
       "150"
      ]
     },
     "execution_count": 13,
     "metadata": {},
     "output_type": "execute_result"
    }
   ],
   "source": [
    "len(file_sample)"
   ]
  },
  {
   "cell_type": "code",
   "execution_count": 14,
   "metadata": {},
   "outputs": [
    {
     "name": "stdout",
     "output_type": "stream",
     "text": [
      "s3://noaa-global-hourly-pds/1970/20679099999.csv\n",
      "s3://noaa-global-hourly-pds/1970/22892099999.csv\n",
      "s3://noaa-global-hourly-pds/1970/34579099999.csv\n",
      "s3://noaa-global-hourly-pds/1970/33173099999.csv\n",
      "s3://noaa-global-hourly-pds/1970/72537714804.csv\n",
      "s3://noaa-global-hourly-pds/1970/94999900071.csv\n",
      "s3://noaa-global-hourly-pds/1970/22798099999.csv\n",
      "s3://noaa-global-hourly-pds/1970/37498099999.csv\n",
      "s3://noaa-global-hourly-pds/1970/22525099999.csv\n",
      "s3://noaa-global-hourly-pds/1970/32158099999.csv\n",
      "s3://noaa-global-hourly-pds/1970/99999912917.csv\n",
      "s3://noaa-global-hourly-pds/1970/30971099999.csv\n",
      "s3://noaa-global-hourly-pds/1970/26544099999.csv\n",
      "s3://noaa-global-hourly-pds/1970/22217099999.csv\n",
      "s3://noaa-global-hourly-pds/1970/23475099999.csv\n",
      "s3://noaa-global-hourly-pds/1970/36087099999.csv\n",
      "s3://noaa-global-hourly-pds/1970/24656099999.csv\n",
      "s3://noaa-global-hourly-pds/1970/30729099999.csv\n",
      "s3://noaa-global-hourly-pds/1970/72365023050.csv\n",
      "s3://noaa-global-hourly-pds/1970/94578599999.csv\n",
      "s3://noaa-global-hourly-pds/1970/26974099999.csv\n",
      "s3://noaa-global-hourly-pds/1970/23465099999.csv\n",
      "s3://noaa-global-hourly-pds/1970/21823099999.csv\n",
      "s3://noaa-global-hourly-pds/1970/33562099999.csv\n",
      "s3://noaa-global-hourly-pds/1970/48855699999.csv\n",
      "s3://noaa-global-hourly-pds/1970/48955099999.csv\n",
      "s3://noaa-global-hourly-pds/1970/38328099999.csv\n",
      "s3://noaa-global-hourly-pds/1970/99999913874.csv\n",
      "s3://noaa-global-hourly-pds/1970/31511099999.csv\n",
      "s3://noaa-global-hourly-pds/1970/99999914936.csv\n",
      "s3://noaa-global-hourly-pds/1970/94576099999.csv\n",
      "s3://noaa-global-hourly-pds/1970/72344013964.csv\n",
      "s3://noaa-global-hourly-pds/1970/31263099999.csv\n",
      "s3://noaa-global-hourly-pds/1970/38091099999.csv\n",
      "s3://noaa-global-hourly-pds/1970/72450503923.csv\n",
      "s3://noaa-global-hourly-pds/1970/16687099999.csv\n",
      "s3://noaa-global-hourly-pds/1970/99999914778.csv\n",
      "s3://noaa-global-hourly-pds/1970/34519099999.csv\n",
      "s3://noaa-global-hourly-pds/1970/33881099999.csv\n",
      "s3://noaa-global-hourly-pds/1970/37639099999.csv\n",
      "s3://noaa-global-hourly-pds/1970/72356013968.csv\n",
      "s3://noaa-global-hourly-pds/1970/70212026633.csv\n",
      "s3://noaa-global-hourly-pds/1970/28366099999.csv\n",
      "s3://noaa-global-hourly-pds/1970/94129099999.csv\n",
      "s3://noaa-global-hourly-pds/1970/99999941606.csv\n",
      "s3://noaa-global-hourly-pds/1970/99999903148.csv\n",
      "s3://noaa-global-hourly-pds/1970/99999914925.csv\n",
      "s3://noaa-global-hourly-pds/1970/47157199999.csv\n",
      "s3://noaa-global-hourly-pds/1970/72662524006.csv\n",
      "s3://noaa-global-hourly-pds/1970/21636099999.csv\n",
      "s3://noaa-global-hourly-pds/1970/25034099999.csv\n",
      "s3://noaa-global-hourly-pds/1970/36036099999.csv\n",
      "s3://noaa-global-hourly-pds/1970/31004099999.csv\n",
      "s3://noaa-global-hourly-pds/1970/35532099999.csv\n",
      "s3://noaa-global-hourly-pds/1970/44354099999.csv\n",
      "s3://noaa-global-hourly-pds/1970/23847099999.csv\n",
      "s3://noaa-global-hourly-pds/1970/99999927512.csv\n",
      "s3://noaa-global-hourly-pds/1970/28321099999.csv\n",
      "s3://noaa-global-hourly-pds/1970/32116099999.csv\n",
      "s3://noaa-global-hourly-pds/1970/31959099999.csv\n",
      "s3://noaa-global-hourly-pds/1970/32217099999.csv\n",
      "s3://noaa-global-hourly-pds/1970/29578099999.csv\n",
      "s3://noaa-global-hourly-pds/1970/22438099999.csv\n",
      "s3://noaa-global-hourly-pds/1970/94212099999.csv\n",
      "s3://noaa-global-hourly-pds/1970/38613099999.csv\n",
      "s3://noaa-global-hourly-pds/1970/37212099999.csv\n",
      "s3://noaa-global-hourly-pds/1970/94910099999.csv\n",
      "s3://noaa-global-hourly-pds/1970/99999912713.csv\n",
      "s3://noaa-global-hourly-pds/1970/94999900036.csv\n",
      "s3://noaa-global-hourly-pds/1970/26324099999.csv\n",
      "s3://noaa-global-hourly-pds/1970/16242099999.csv\n",
      "s3://noaa-global-hourly-pds/1970/47662099999.csv\n",
      "s3://noaa-global-hourly-pds/1970/72278523111.csv\n",
      "s3://noaa-global-hourly-pds/1970/99999994814.csv\n",
      "s3://noaa-global-hourly-pds/1970/47930099999.csv\n",
      "s3://noaa-global-hourly-pds/1970/99999912928.csv\n",
      "s3://noaa-global-hourly-pds/1970/35700099999.csv\n",
      "s3://noaa-global-hourly-pds/1970/99999903855.csv\n",
      "s3://noaa-global-hourly-pds/1970/30605099999.csv\n",
      "s3://noaa-global-hourly-pds/1970/35707099999.csv\n",
      "s3://noaa-global-hourly-pds/1970/30521099999.csv\n",
      "s3://noaa-global-hourly-pds/1970/94999900148.csv\n",
      "s3://noaa-global-hourly-pds/1970/23174099999.csv\n",
      "s3://noaa-global-hourly-pds/1970/72353599999.csv\n",
      "s3://noaa-global-hourly-pds/1970/24726099999.csv\n",
      "s3://noaa-global-hourly-pds/1970/31257099999.csv\n",
      "s3://noaa-global-hourly-pds/1970/28756099999.csv\n",
      "s3://noaa-global-hourly-pds/1970/69011099999.csv\n",
      "s3://noaa-global-hourly-pds/1970/31348099999.csv\n",
      "s3://noaa-global-hourly-pds/1970/34267099999.csv\n",
      "s3://noaa-global-hourly-pds/1970/38875099999.csv\n",
      "s3://noaa-global-hourly-pds/1970/16730099999.csv\n",
      "s3://noaa-global-hourly-pds/1970/16721099999.csv\n",
      "s3://noaa-global-hourly-pds/1970/27296099999.csv\n",
      "s3://noaa-global-hourly-pds/1970/26116099999.csv\n",
      "s3://noaa-global-hourly-pds/1970/31702099999.csv\n",
      "s3://noaa-global-hourly-pds/1970/44259099999.csv\n",
      "s3://noaa-global-hourly-pds/1970/27665099999.csv\n",
      "s3://noaa-global-hourly-pds/1970/10147099999.csv\n",
      "s3://noaa-global-hourly-pds/1970/36498099999.csv\n",
      "s3://noaa-global-hourly-pds/1970/32618099999.csv\n",
      "s3://noaa-global-hourly-pds/1970/24598099999.csv\n",
      "s3://noaa-global-hourly-pds/1970/80070099999.csv\n",
      "s3://noaa-global-hourly-pds/1970/27428099999.csv\n",
      "s3://noaa-global-hourly-pds/1970/33658099999.csv\n",
      "s3://noaa-global-hourly-pds/1970/21824099999.csv\n",
      "s3://noaa-global-hourly-pds/1970/99999914842.csv\n",
      "s3://noaa-global-hourly-pds/1970/94999900065.csv\n",
      "s3://noaa-global-hourly-pds/1970/44304099999.csv\n",
      "s3://noaa-global-hourly-pds/1970/35121099999.csv\n",
      "s3://noaa-global-hourly-pds/1970/26157099999.csv\n",
      "s3://noaa-global-hourly-pds/1970/35663099999.csv\n",
      "s3://noaa-global-hourly-pds/1970/99999924036.csv\n",
      "s3://noaa-global-hourly-pds/1970/28593099999.csv\n",
      "s3://noaa-global-hourly-pds/1970/22573099999.csv\n",
      "s3://noaa-global-hourly-pds/1970/99999913883.csv\n",
      "s3://noaa-global-hourly-pds/1970/38198099999.csv\n",
      "s3://noaa-global-hourly-pds/1970/31883099999.csv\n",
      "s3://noaa-global-hourly-pds/1970/82930099999.csv\n",
      "s3://noaa-global-hourly-pds/1970/26730099999.csv\n",
      "s3://noaa-global-hourly-pds/1970/30014099999.csv\n",
      "s3://noaa-global-hourly-pds/1970/24507099999.csv\n",
      "s3://noaa-global-hourly-pds/1970/16337099999.csv\n",
      "s3://noaa-global-hourly-pds/1970/94999900248.csv\n",
      "s3://noaa-global-hourly-pds/1970/99999914822.csv\n",
      "s3://noaa-global-hourly-pds/1970/33896099999.csv\n",
      "s3://noaa-global-hourly-pds/1970/34385099999.csv\n",
      "s3://noaa-global-hourly-pds/1970/99999912958.csv\n",
      "s3://noaa-global-hourly-pds/1970/95904099999.csv\n",
      "s3://noaa-global-hourly-pds/1970/99999903872.csv\n",
      "s3://noaa-global-hourly-pds/1970/99999940308.csv\n",
      "s3://noaa-global-hourly-pds/1970/28655099999.csv\n",
      "s3://noaa-global-hourly-pds/1970/72340813814.csv\n",
      "s3://noaa-global-hourly-pds/1970/10513099999.csv\n",
      "s3://noaa-global-hourly-pds/1970/29858099999.csv\n",
      "s3://noaa-global-hourly-pds/1970/34336099999.csv\n",
      "s3://noaa-global-hourly-pds/1970/21432099999.csv\n",
      "s3://noaa-global-hourly-pds/1970/37774099999.csv\n",
      "s3://noaa-global-hourly-pds/1970/35166099999.csv\n",
      "s3://noaa-global-hourly-pds/1970/94822099999.csv\n",
      "s3://noaa-global-hourly-pds/1970/95953099999.csv\n",
      "s3://noaa-global-hourly-pds/1970/43418099999.csv\n",
      "s3://noaa-global-hourly-pds/1970/94884099999.csv\n",
      "s3://noaa-global-hourly-pds/1970/31975099999.csv\n",
      "s3://noaa-global-hourly-pds/1970/35715099999.csv\n",
      "s3://noaa-global-hourly-pds/1970/99999994008.csv\n",
      "s3://noaa-global-hourly-pds/1970/33105099999.csv\n",
      "s3://noaa-global-hourly-pds/1970/36622099999.csv\n",
      "s3://noaa-global-hourly-pds/1970/94999900338.csv\n"
     ]
    },
    {
     "data": {
      "text/plain": [
       "432347"
      ]
     },
     "execution_count": 14,
     "metadata": {},
     "output_type": "execute_result"
    }
   ],
   "source": [
    "#Merge\n",
    "rdd = sc.textFile(file_sample[1])\n",
    "i=1\n",
    "rdd_all=rdd\n",
    "for i in range(1,len(file_sample)):\n",
    "    print(file_sample[i])\n",
    "    rdd_sep=sc.textFile(file_sample[i])\n",
    "    rdd_all=rdd_all.union(rdd_sep)\n",
    "    \n",
    "rdd_sep\n",
    "rdd_all.count()\n",
    "\n"
   ]
  },
  {
   "cell_type": "code",
   "execution_count": 27,
   "metadata": {},
   "outputs": [],
   "source": [
    "#Save\n",
    "rdd_all.repartition(1).saveAsTextFile(\"s3://open-data-noaa/1970sample\")"
   ]
  },
  {
   "cell_type": "code",
   "execution_count": 33,
   "metadata": {},
   "outputs": [],
   "source": [
    "df=spark.read.format(\"csv\").option(\"header\", \"true\").load(\"s3://open-data-noaa/1970sample\")"
   ]
  },
  {
   "cell_type": "code",
   "execution_count": 34,
   "metadata": {},
   "outputs": [
    {
     "data": {
      "text/plain": [
       "[Row(STATION='20679099999', DATE='1970-01-01T00:00:00', SOURCE='4', LATITUDE='73.25', LONGITUDE='90.917', ELEVATION='21.0', NAME='TAREYA STREAM, RS', REPORT_TYPE='FM-12', CALL_SIGN='99999', QUALITY_CONTROL='V020', WND='110,1,N,0031,1', CIG='22000,1,C,N', VIS='010000,1,N,9', TMP='-0372,1', DEW='-0400,1', SLP='10371,1', AA1=None, AA2=None, AJ1=None, AY1='1,1,99,9', GA1=None, GA2=None, GF1='05,99,1,00,1,00,1,99999,9,00,1,01,1', HL1='000,9', IA1='20,9', IA2='999,-0411,9', KA1=None, MD1='4,1,000,1,+999,9', MW1='76,1', EQD=None),\n",
       " Row(STATION='20679099999', DATE='1970-01-01T06:00:00', SOURCE='4', LATITUDE='73.25', LONGITUDE='90.917', ELEVATION='21.0', NAME='TAREYA STREAM, RS', REPORT_TYPE='FM-12', CALL_SIGN='99999', QUALITY_CONTROL='V020', WND='180,1,N,0072,1', CIG='22000,1,C,N', VIS='010000,1,N,9', TMP='-0328,1', DEW='-0372,1', SLP='10367,1', AA1=None, AA2=None, AJ1=None, AY1='1,1,99,9', GA1=None, GA2=None, GF1='02,99,1,00,1,00,1,99999,9,00,1,02,1', HL1=None, IA1=None, IA2=None, KA1=None, MD1='3,1,005,1,+999,9', MW1='76,1', EQD=None),\n",
       " Row(STATION='20679099999', DATE='1970-01-01T09:00:00', SOURCE='4', LATITUDE='73.25', LONGITUDE='90.917', ELEVATION='21.0', NAME='TAREYA STREAM, RS', REPORT_TYPE='FM-12', CALL_SIGN='99999', QUALITY_CONTROL='V020', WND='180,1,N,0072,1', CIG='22000,1,C,N', VIS='010000,1,N,9', TMP='-0339,1', DEW='-0378,1', SLP='10358,1', AA1=None, AA2=None, AJ1=None, AY1='0,1,99,9', GA1=None, GA2=None, GF1='02,99,1,00,1,00,1,99999,9,00,1,02,1', HL1=None, IA1=None, IA2=None, KA1=None, MD1='8,1,009,1,+999,9', MW1='76,1', EQD=None),\n",
       " Row(STATION='20679099999', DATE='1970-01-01T12:00:00', SOURCE='4', LATITUDE='73.25', LONGITUDE='90.917', ELEVATION='21.0', NAME='TAREYA STREAM, RS', REPORT_TYPE='FM-12', CALL_SIGN='99999', QUALITY_CONTROL='V020', WND='180,1,N,0051,1', CIG='22000,1,C,N', VIS='007000,1,N,9', TMP='-0322,1', DEW='-0361,1', SLP='10348,1', AA1='99,9999,9,9', AA2=None, AJ1=None, AY1='0,1,99,9', GA1=None, GA2=None, GF1='03,99,1,00,1,00,1,99999,9,00,1,02,1', HL1=None, IA1=None, IA2=None, KA1='999,M,-0322,1', MD1='7,1,019,1,+999,9', MW1='76,1', EQD='Q01  00002PRCP99'),\n",
       " Row(STATION='20679099999', DATE='1970-01-01T18:00:00', SOURCE='4', LATITUDE='73.25', LONGITUDE='90.917', ELEVATION='21.0', NAME='TAREYA STREAM, RS', REPORT_TYPE='FM-12', CALL_SIGN='99999', QUALITY_CONTROL='V020', WND='110,1,N,0108,1', CIG='22000,1,C,N', VIS='002100,1,N,9', TMP='-0311,1', DEW='-0350,1', SLP='10348,1', AA1=None, AA2=None, AJ1=None, AY1='3,1,99,9', GA1=None, GA2=None, GF1='00,99,1,00,1,00,1,99999,9,00,1,00,1', HL1=None, IA1=None, IA2=None, KA1=None, MD1='8,1,042,1,+999,9', MW1='38,1', EQD=None)]"
      ]
     },
     "execution_count": 34,
     "metadata": {},
     "output_type": "execute_result"
    }
   ],
   "source": [
    "df.head(5)"
   ]
  },
  {
   "cell_type": "code",
   "execution_count": 35,
   "metadata": {},
   "outputs": [],
   "source": [
    "df.write.csv(\"s3://open-data-noaa/1970samples\", sep=',', header=True,mode=\"overwrite\")"
   ]
  },
  {
   "cell_type": "code",
   "execution_count": null,
   "metadata": {},
   "outputs": [],
   "source": []
  }
 ],
 "metadata": {
  "kernelspec": {
   "display_name": "Python 3",
   "language": "python",
   "name": "python3"
  },
  "language_info": {
   "codemirror_mode": {
    "name": "ipython",
    "version": 3
   },
   "file_extension": ".py",
   "mimetype": "text/x-python",
   "name": "python",
   "nbconvert_exporter": "python",
   "pygments_lexer": "ipython3",
   "version": "3.7.6"
  }
 },
 "nbformat": 4,
 "nbformat_minor": 4
}
