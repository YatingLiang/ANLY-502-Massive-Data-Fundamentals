{
 "cells": [
  {
   "cell_type": "code",
   "execution_count": 1,
   "metadata": {},
   "outputs": [
    {
     "data": {
      "text/html": [
       "\n",
       "        <div>\n",
       "            <p><b>SparkContext</b></p>\n",
       "\n",
       "            <p><a href=\"http://ip-172-31-46-241.ec2.internal:4041\">Spark UI</a></p>\n",
       "\n",
       "            <dl>\n",
       "              <dt>Version</dt>\n",
       "                <dd><code>v2.4.4</code></dd>\n",
       "              <dt>Master</dt>\n",
       "                <dd><code>yarn</code></dd>\n",
       "              <dt>AppName</dt>\n",
       "                <dd><code>pyspark-shell</code></dd>\n",
       "            </dl>\n",
       "        </div>\n",
       "        "
      ],
      "text/plain": [
       "<SparkContext master=yarn appName=pyspark-shell>"
      ]
     },
     "execution_count": 1,
     "metadata": {},
     "output_type": "execute_result"
    }
   ],
   "source": [
    "#start spark session\n",
    "import findspark\n",
    "findspark.init()\n",
    "from pyspark import SparkContext\n",
    "sc=SparkContext()\n",
    "sc"
   ]
  },
  {
   "cell_type": "code",
   "execution_count": 2,
   "metadata": {},
   "outputs": [
    {
     "data": {
      "text/html": [
       "\n",
       "            <div>\n",
       "                <p><b>SparkSession - in-memory</b></p>\n",
       "                \n",
       "        <div>\n",
       "            <p><b>SparkContext</b></p>\n",
       "\n",
       "            <p><a href=\"http://ip-172-31-46-241.ec2.internal:4041\">Spark UI</a></p>\n",
       "\n",
       "            <dl>\n",
       "              <dt>Version</dt>\n",
       "                <dd><code>v2.4.4</code></dd>\n",
       "              <dt>Master</dt>\n",
       "                <dd><code>yarn</code></dd>\n",
       "              <dt>AppName</dt>\n",
       "                <dd><code>pyspark-shell</code></dd>\n",
       "            </dl>\n",
       "        </div>\n",
       "        \n",
       "            </div>\n",
       "        "
      ],
      "text/plain": [
       "<pyspark.sql.session.SparkSession at 0x7fae54241590>"
      ]
     },
     "execution_count": 2,
     "metadata": {},
     "output_type": "execute_result"
    }
   ],
   "source": [
    "from pyspark.sql import SparkSession\n",
    "spark=SparkSession.builder.getOrCreate()\n",
    "spark"
   ]
  },
  {
   "cell_type": "markdown",
   "metadata": {},
   "source": [
    "## Try Data 1975"
   ]
  },
  {
   "cell_type": "code",
   "execution_count": 3,
   "metadata": {},
   "outputs": [],
   "source": [
    "data1975 = spark.read\\\n",
    "  .format('csv')\\\n",
    "  .option('header', 'false')\\\n",
    "  .option('inferSchema', 'true')\\\n",
    "  .load(\"s3://open-data-noaa/1975samples\")"
   ]
  },
  {
   "cell_type": "code",
   "execution_count": 4,
   "metadata": {},
   "outputs": [
    {
     "name": "stdout",
     "output_type": "stream",
     "text": [
      "root\n",
      " |-- _c0: string (nullable = true)\n",
      " |-- _c1: string (nullable = true)\n",
      " |-- _c2: string (nullable = true)\n",
      " |-- _c3: string (nullable = true)\n",
      " |-- _c4: string (nullable = true)\n",
      " |-- _c5: string (nullable = true)\n",
      " |-- _c6: string (nullable = true)\n",
      " |-- _c7: string (nullable = true)\n",
      " |-- _c8: string (nullable = true)\n",
      " |-- _c9: string (nullable = true)\n",
      " |-- _c10: string (nullable = true)\n",
      " |-- _c11: string (nullable = true)\n",
      " |-- _c12: string (nullable = true)\n",
      " |-- _c13: string (nullable = true)\n",
      " |-- _c14: string (nullable = true)\n",
      " |-- _c15: string (nullable = true)\n",
      " |-- _c16: string (nullable = true)\n",
      " |-- _c17: string (nullable = true)\n",
      " |-- _c18: string (nullable = true)\n",
      " |-- _c19: string (nullable = true)\n",
      " |-- _c20: string (nullable = true)\n",
      "\n"
     ]
    }
   ],
   "source": [
    "data1975.printSchema()"
   ]
  },
  {
   "cell_type": "code",
   "execution_count": 5,
   "metadata": {},
   "outputs": [
    {
     "name": "stdout",
     "output_type": "stream",
     "text": [
      "+-----------+-------------------+------+----------+----------+---------+-----------------+-----------+---------+---------------+--------------+-----------+------------+-------+-------+-------+-----------+-----------+--------+----+----+\n",
      "|        _c0|                _c1|   _c2|       _c3|       _c4|      _c5|              _c6|        _c7|      _c8|            _c9|          _c10|       _c11|        _c12|   _c13|   _c14|   _c15|       _c16|       _c17|    _c18|_c19|_c20|\n",
      "+-----------+-------------------+------+----------+----------+---------+-----------------+-----------+---------+---------------+--------------+-----------+------------+-------+-------+-------+-----------+-----------+--------+----+----+\n",
      "|    STATION|               DATE|SOURCE|  LATITUDE| LONGITUDE|ELEVATION|             NAME|REPORT_TYPE|CALL_SIGN|QUALITY_CONTROL|           WND|        CIG|         VIS|    TMP|    DEW|    SLP|        GF1|        MW1|     SA1| REM| EQD|\n",
      "|87418099999|1975-02-04T05:00:00|     4|-32.831717|-68.792856|   704.08|EL PLUMERILLO, AR|      FM-12|     SAME|           V020|999,1,C,0000,1|01500,1,C,N|015000,1,N,9|+0200,1|+0150,1|99999,9|       null|       null|9,1,99,9|null|null|\n",
      "|87418099999|1975-02-04T06:00:00|     4|-32.831717|-68.792856|   704.08|EL PLUMERILLO, AR|      FM-12|     SAME|           V020|180,1,N,0010,1|01200,1,C,N|015000,1,N,9|+0190,1|+0160,1|99999,9|06,0001,9,1|99,0003,9,1|2,1,99,9|null|null|\n",
      "|87418099999|1975-02-04T07:00:00|     4|-32.831717|-68.792856|   704.08|EL PLUMERILLO, AR|      FM-12|     SAME|           V020|180,1,N,0010,1|01200,1,C,N|015000,1,N,9|+0190,1|+0160,1|99999,9|       null|       null|2,1,99,9|null|null|\n",
      "|87418099999|1975-02-04T08:00:00|     4|-32.831717|-68.792856|   704.08|EL PLUMERILLO, AR|      FM-12|     SAME|           V020|999,1,C,0000,1|01200,1,C,N|015000,1,N,9|+0180,1|+0160,1|99999,9|       null|       null|2,1,99,9|null|null|\n",
      "+-----------+-------------------+------+----------+----------+---------+-----------------+-----------+---------+---------------+--------------+-----------+------------+-------+-------+-------+-----------+-----------+--------+----+----+\n",
      "only showing top 5 rows\n",
      "\n"
     ]
    }
   ],
   "source": [
    "data1975.show(5)"
   ]
  },
  {
   "cell_type": "code",
   "execution_count": 6,
   "metadata": {},
   "outputs": [
    {
     "data": {
      "text/plain": [
       "544785"
      ]
     },
     "execution_count": 6,
     "metadata": {},
     "output_type": "execute_result"
    }
   ],
   "source": [
    "data1975.count()"
   ]
  },
  {
   "cell_type": "code",
   "execution_count": 8,
   "metadata": {},
   "outputs": [
    {
     "data": {
      "text/plain": [
       "232"
      ]
     },
     "execution_count": 8,
     "metadata": {},
     "output_type": "execute_result"
    }
   ],
   "source": [
    "#delete index row\n",
    "data1975.where('_c0==\"STATION\"').count()"
   ]
  },
  {
   "cell_type": "code",
   "execution_count": 9,
   "metadata": {},
   "outputs": [],
   "source": [
    "data19752=data1975.where('_c0!=\"STATION\"')"
   ]
  },
  {
   "cell_type": "code",
   "execution_count": 10,
   "metadata": {},
   "outputs": [
    {
     "data": {
      "text/plain": [
       "544553"
      ]
     },
     "execution_count": 10,
     "metadata": {},
     "output_type": "execute_result"
    }
   ],
   "source": [
    "data19752.count()"
   ]
  },
  {
   "cell_type": "code",
   "execution_count": 11,
   "metadata": {},
   "outputs": [],
   "source": [
    "#add index row\n",
    "from pyspark.sql import SparkSession\n",
    "#from pyspark.sql import functions._\n",
    "#import pyspark.spark.sql.{SQLContext, Row, DataFrame, Column}\n",
    "from pyspark.sql import Row,DataFrame,Column\n",
    "from pyspark.sql import SQLContext\n",
    "#from pyspark.ml import feature.VectorAssembler"
   ]
  },
  {
   "cell_type": "code",
   "execution_count": 13,
   "metadata": {},
   "outputs": [
    {
     "name": "stdout",
     "output_type": "stream",
     "text": [
      "+-----------+-----+\n",
      "|    station| temp|\n",
      "+-----------+-----+\n",
      "|87418099999|+0200|\n",
      "|87418099999|+0190|\n",
      "|87418099999|+0190|\n",
      "|87418099999|+0180|\n",
      "|87418099999|+0180|\n",
      "|87418099999|+0170|\n",
      "|87418099999|+0190|\n",
      "|87418099999|+0200|\n",
      "|87418099999|+0210|\n",
      "|87418099999|+0240|\n",
      "|87418099999|+0250|\n",
      "|87418099999|+0260|\n",
      "|87418099999|+0280|\n",
      "|87418099999|+0280|\n",
      "|87418099999|+0280|\n",
      "|87418099999|+0270|\n",
      "|87418099999|+0260|\n",
      "|87418099999|+0250|\n",
      "|87418099999|+0240|\n",
      "|87418099999|+0230|\n",
      "+-----------+-----+\n",
      "only showing top 20 rows\n",
      "\n"
     ]
    }
   ],
   "source": [
    "import pyspark.sql.functions as f\n",
    "from pyspark.sql.functions import concat, col, lit\n",
    "\n",
    "data2_converted = data19752.select(col(\"_c0\"), col(\"_c13\"))\n",
    "#data2_converted.show()\n",
    "data2_converted2 = data2_converted.select(col(\"_c0\").alias(\"station\"), f.split(data2_converted['_c13'], ',')[0].alias(\"temp\"))\n",
    "data2_converted2.show()"
   ]
  },
  {
   "cell_type": "code",
   "execution_count": null,
   "metadata": {},
   "outputs": [],
   "source": []
  },
  {
   "cell_type": "code",
   "execution_count": 41,
   "metadata": {},
   "outputs": [],
   "source": [
    "#Convert Data Type"
   ]
  },
  {
   "cell_type": "code",
   "execution_count": 14,
   "metadata": {},
   "outputs": [],
   "source": [
    "data2_converted3=data2_converted2.withColumn(\"temp\", data2_converted2[\"temp\"].cast(\"float\"))"
   ]
  },
  {
   "cell_type": "code",
   "execution_count": 15,
   "metadata": {},
   "outputs": [
    {
     "name": "stdout",
     "output_type": "stream",
     "text": [
      "+-----------+------+\n",
      "|    station|  temp|\n",
      "+-----------+------+\n",
      "|74043599999|-532.0|\n",
      "|74043599999|-505.0|\n",
      "|24343099999|-490.0|\n",
      "|24343099999|-490.0|\n",
      "|24343099999|-490.0|\n",
      "|24966099999|-490.0|\n",
      "|24966099999|-490.0|\n",
      "|24966099999|-490.0|\n",
      "|42740099999|-490.0|\n",
      "|24966099999|-490.0|\n",
      "|24966099999|-490.0|\n",
      "|74043599999|-490.0|\n",
      "|74043599999|-482.0|\n",
      "|74043599999|-482.0|\n",
      "|24966099999|-480.0|\n",
      "|24343099999|-480.0|\n",
      "|24343099999|-480.0|\n",
      "|24966099999|-480.0|\n",
      "|24966099999|-480.0|\n",
      "|24966099999|-480.0|\n",
      "+-----------+------+\n",
      "only showing top 20 rows\n",
      "\n"
     ]
    }
   ],
   "source": [
    "data2_converted3.sort('temp', ascending=True).show()"
   ]
  },
  {
   "cell_type": "code",
   "execution_count": 16,
   "metadata": {},
   "outputs": [
    {
     "name": "stdout",
     "output_type": "stream",
     "text": [
      "+-----------+----+\n",
      "|    station|temp|\n",
      "+-----------+----+\n",
      "|87418099999|20.0|\n",
      "|87418099999|19.0|\n",
      "|87418099999|19.0|\n",
      "|87418099999|18.0|\n",
      "|87418099999|18.0|\n",
      "|87418099999|17.0|\n",
      "|87418099999|19.0|\n",
      "|87418099999|20.0|\n",
      "|87418099999|21.0|\n",
      "|87418099999|24.0|\n",
      "|87418099999|25.0|\n",
      "|87418099999|26.0|\n",
      "|87418099999|28.0|\n",
      "|87418099999|28.0|\n",
      "|87418099999|28.0|\n",
      "|87418099999|27.0|\n",
      "|87418099999|26.0|\n",
      "|87418099999|25.0|\n",
      "|87418099999|24.0|\n",
      "|87418099999|23.0|\n",
      "+-----------+----+\n",
      "only showing top 20 rows\n",
      "\n"
     ]
    }
   ],
   "source": [
    "# Rescale since the original data is scaled by 10\n",
    "data2_converted4=data2_converted3.withColumn(\"temp\", data2_converted3[\"temp\"]/10)\n",
    "data2_converted4.show()"
   ]
  },
  {
   "cell_type": "code",
   "execution_count": 17,
   "metadata": {},
   "outputs": [],
   "source": [
    "# Drop rows with NA or missing values in pyspark\n",
    "data2_converted4_dropna=data2_converted4.dropna()"
   ]
  },
  {
   "cell_type": "code",
   "execution_count": 18,
   "metadata": {},
   "outputs": [
    {
     "name": "stdout",
     "output_type": "stream",
     "text": [
      "+-----------+-----+\n",
      "|    station| temp|\n",
      "+-----------+-----+\n",
      "|93337099999|999.9|\n",
      "|93337099999|999.9|\n",
      "|72278023183|999.9|\n",
      "|93337099999|999.9|\n",
      "|72278023183|999.9|\n",
      "|93337099999|999.9|\n",
      "|72278023183|999.9|\n",
      "|93337099999|999.9|\n",
      "|72278023183|999.9|\n",
      "|93337099999|999.9|\n",
      "|72278023183|999.9|\n",
      "|93337099999|999.9|\n",
      "|72278023183|999.9|\n",
      "|93337099999|999.9|\n",
      "|93337099999|999.9|\n",
      "|93337099999|999.9|\n",
      "|93337099999|999.9|\n",
      "|93337099999|999.9|\n",
      "|93337099999|999.9|\n",
      "|93337099999|999.9|\n",
      "+-----------+-----+\n",
      "only showing top 20 rows\n",
      "\n"
     ]
    }
   ],
   "source": [
    "data2_converted4_dropna.sort('temp', ascending=False).show()"
   ]
  },
  {
   "cell_type": "code",
   "execution_count": 19,
   "metadata": {},
   "outputs": [
    {
     "name": "stdout",
     "output_type": "stream",
     "text": [
      "+-----------+----+\n",
      "|    station|temp|\n",
      "+-----------+----+\n",
      "|41572099999|49.0|\n",
      "|41858099999|49.0|\n",
      "|41572099999|47.0|\n",
      "|40621099999|47.0|\n",
      "|41572099999|47.0|\n",
      "|61811099999|47.0|\n",
      "|61834099999|47.0|\n",
      "|41572099999|47.0|\n",
      "|72278023183|46.1|\n",
      "|96421099999|46.0|\n",
      "|40621099999|46.0|\n",
      "|72278023183|45.6|\n",
      "|40621099999|45.0|\n",
      "|40621099999|45.0|\n",
      "|41572099999|45.0|\n",
      "|35449099999|45.0|\n",
      "|61226099999|45.0|\n",
      "|40621099999|45.0|\n",
      "|40621099999|45.0|\n",
      "|61226099999|45.0|\n",
      "+-----------+----+\n",
      "only showing top 20 rows\n",
      "\n"
     ]
    }
   ],
   "source": [
    "#drop 9999 as NA\n",
    "data2_converted4_dropna = data2_converted4_dropna.filter(data2_converted4_dropna.temp != '999.9')\n",
    "data2_converted4_dropna.sort('temp', ascending=False).show()"
   ]
  },
  {
   "cell_type": "code",
   "execution_count": 20,
   "metadata": {},
   "outputs": [
    {
     "data": {
      "text/plain": [
       "508115"
      ]
     },
     "execution_count": 20,
     "metadata": {},
     "output_type": "execute_result"
    }
   ],
   "source": [
    "data2_converted4_dropna.count()"
   ]
  },
  {
   "cell_type": "code",
   "execution_count": 21,
   "metadata": {},
   "outputs": [
    {
     "name": "stdout",
     "output_type": "stream",
     "text": [
      "+-----------+------------------+\n",
      "|    station|         avg(temp)|\n",
      "+-----------+------------------+\n",
      "|16022099999| 652.7862527716044|\n",
      "|88968099999|24.473088455772135|\n",
      "|42539099999| 51.21972222222222|\n",
      "|59259099999|              15.3|\n",
      "|50963099999| 19.43995695839312|\n",
      "|47421099999| 9.013459915611815|\n",
      "|80415099999| 36.82712390629407|\n",
      "|08452099999| 26.51225144323284|\n",
      "|09359099999|13.864536157779401|\n",
      "|47440099999| 6.803738317757009|\n",
      "|04165099999|-6.638638297872341|\n",
      "|47402099999| 5.734276729559748|\n",
      "|57298099999|         60.658125|\n",
      "|27799099999| 57.84419889502762|\n",
      "|70385599999| 99.72853025936604|\n",
      "|70133026616|35.800354903584385|\n",
      "|24966099999| 4.111044034090907|\n",
      "|36859099999| 46.71997110870352|\n",
      "|47671099999| 64.17282816901445|\n",
      "|53067099999| 69.36666666666666|\n",
      "+-----------+------------------+\n",
      "only showing top 20 rows\n",
      "\n"
     ]
    }
   ],
   "source": [
    "#按station average\n",
    "#https://sparkbyexamples.com/spark/using-groupby-on-dataframe/\n",
    "data2_converted4.groupBy(\"station\").mean(\"temp\").show()"
   ]
  },
  {
   "cell_type": "code",
   "execution_count": 22,
   "metadata": {},
   "outputs": [
    {
     "name": "stdout",
     "output_type": "stream",
     "text": [
      "+-----------+-------------------+\n",
      "|    station|            avgtemp|\n",
      "+-----------+-------------------+\n",
      "|59259099999|               15.3|\n",
      "|42539099999| 26.894586894586894|\n",
      "|16022099999| 2.7770700636942673|\n",
      "|88968099999| -4.902702702702703|\n",
      "|50963099999| 3.7182944606413995|\n",
      "|47421099999|  8.595187842971718|\n",
      "|80415099999| 25.830002854695977|\n",
      "|47440099999|  6.803738317757009|\n",
      "|09359099999|  10.61267863686332|\n",
      "|08452099999|  17.69190938511327|\n",
      "|04165099999|-18.776055124892334|\n",
      "|47402099999|  5.734276729559748|\n",
      "|57298099999| 17.686274509803923|\n",
      "|27799099999|  10.46808510638298|\n",
      "|24966099999|-7.6967301473230325|\n",
      "|70133026616|-7.3344951180323825|\n",
      "|70385599999|  6.179427359490983|\n",
      "|36859099999|  9.522701688555347|\n",
      "|47671099999| 15.186814489832217|\n",
      "|53067099999|                2.9|\n",
      "+-----------+-------------------+\n",
      "only showing top 20 rows\n",
      "\n"
     ]
    }
   ],
   "source": [
    "final1975 = data2_converted4_dropna.groupBy(\"station\").mean(\"temp\")\n",
    "final1975 = final1975.select(col(\"station\"),col(\"avg(temp)\").alias(\"avgtemp\"))\n",
    "final1975.show()"
   ]
  },
  {
   "cell_type": "code",
   "execution_count": 23,
   "metadata": {},
   "outputs": [
    {
     "name": "stdout",
     "output_type": "stream",
     "text": [
      "+-----------+-------------------+\n",
      "|    station|            avgtemp|\n",
      "+-----------+-------------------+\n",
      "|59259099999|               15.3|\n",
      "|42539099999| 26.894586894586894|\n",
      "|16022099999| 2.7770700636942673|\n",
      "|88968099999| -4.902702702702703|\n",
      "|80415099999| 25.830002854695977|\n",
      "|47402099999|  5.734276729559748|\n",
      "|24966099999|-7.6967301473230325|\n",
      "|70385599999|  6.179427359490983|\n",
      "|70133026616|-7.3344951180323825|\n",
      "|72311013873| 16.623801711004326|\n",
      "+-----------+-------------------+\n",
      "\n"
     ]
    }
   ],
   "source": [
    "final1975.limit(10).show()"
   ]
  },
  {
   "cell_type": "code",
   "execution_count": 24,
   "metadata": {},
   "outputs": [],
   "source": [
    "final1975.createOrReplaceTempView(\"final1975\")"
   ]
  },
  {
   "cell_type": "code",
   "execution_count": 25,
   "metadata": {},
   "outputs": [],
   "source": [
    "final1975 = spark.sql(\"SELECT station,avgtemp FROM final1975 ORDER BY avgtemp ASC\")"
   ]
  },
  {
   "cell_type": "code",
   "execution_count": 26,
   "metadata": {},
   "outputs": [],
   "source": [
    "sample1975 = final1975.limit(10)"
   ]
  },
  {
   "cell_type": "code",
   "execution_count": 27,
   "metadata": {},
   "outputs": [
    {
     "name": "stdout",
     "output_type": "stream",
     "text": [
      "+-----------+-------------------+\n",
      "|    station|            avgtemp|\n",
      "+-----------+-------------------+\n",
      "|04165099999|-18.776055124892334|\n",
      "|04175099999|           -16.8125|\n",
      "|36421099999|-14.283132530120483|\n",
      "|74090099999|-12.263427109974424|\n",
      "|72914099999| -9.059259259259258|\n",
      "|24343099999| -8.935617469879517|\n",
      "|24966099999|-7.6967301473230325|\n",
      "|70133026616|-7.3344951180323825|\n",
      "|23021099999| -6.228237015362107|\n",
      "|88968099999| -4.902702702702703|\n",
      "+-----------+-------------------+\n",
      "\n"
     ]
    }
   ],
   "source": [
    "sample1975.show()"
   ]
  },
  {
   "cell_type": "code",
   "execution_count": 39,
   "metadata": {},
   "outputs": [
    {
     "name": "stdout",
     "output_type": "stream",
     "text": [
      "Collecting pyarrow\n",
      "  Downloading pyarrow-0.17.0-cp37-cp37m-manylinux2014_x86_64.whl (63.8 MB)\n",
      "\u001b[K     |████████████████████████████████| 63.8 MB 16.1 MB/s eta 0:00:01\n",
      "\u001b[?25hRequirement already satisfied: numpy>=1.14 in /home/hadoop/miniconda/lib/python3.7/site-packages (from pyarrow) (1.18.1)\n",
      "Installing collected packages: pyarrow\n",
      "Successfully installed pyarrow-0.17.0\n",
      "Note: you may need to restart the kernel to use updated packages.\n"
     ]
    }
   ],
   "source": [
    "#pip install pyarrow"
   ]
  },
  {
   "cell_type": "code",
   "execution_count": 28,
   "metadata": {},
   "outputs": [
    {
     "name": "stderr",
     "output_type": "stream",
     "text": [
      "/home/hadoop/miniconda/lib/python3.7/site-packages/pyarrow/util.py:39: FutureWarning: pyarrow.open_stream is deprecated as of 0.17.0, please use pyarrow.ipc.open_stream instead\n",
      "  warnings.warn(msg, FutureWarning)\n"
     ]
    }
   ],
   "source": [
    "final1975_p = final1975.toPandas()"
   ]
  },
  {
   "cell_type": "code",
   "execution_count": 29,
   "metadata": {},
   "outputs": [
    {
     "data": {
      "text/plain": [
       "<matplotlib.axes._subplots.AxesSubplot at 0x7fae20ccea50>"
      ]
     },
     "execution_count": 29,
     "metadata": {},
     "output_type": "execute_result"
    },
    {
     "data": {
      "image/png": "[encoded data removed]",
      "text/plain": [
       "<Figure size 432x288 with 1 Axes>"
      ]
     },
     "metadata": {
      "needs_background": "light"
     },
     "output_type": "display_data"
    }
   ],
   "source": [
    "final1975_p.plot(kind='barh',y='avgtemp',colormap='RdBu')"
   ]
  },
  {
   "cell_type": "markdown",
   "metadata": {},
   "source": [
    "### Calculate and store AvgTemp for 1975"
   ]
  },
  {
   "cell_type": "code",
   "execution_count": 30,
   "metadata": {},
   "outputs": [
    {
     "name": "stdout",
     "output_type": "stream",
     "text": [
      "+------------------+--------------+\n",
      "|      avg(avgtemp)|count(avgtemp)|\n",
      "+------------------+--------------+\n",
      "|11.842673078307735|           200|\n",
      "+------------------+--------------+\n",
      "\n"
     ]
    }
   ],
   "source": [
    "final1975.agg(f.mean('avgtemp'), f.count('avgtemp')).show()"
   ]
  },
  {
   "cell_type": "code",
   "execution_count": 31,
   "metadata": {},
   "outputs": [
    {
     "name": "stdout",
     "output_type": "stream",
     "text": [
      "+------------------+\n",
      "|         avg(temp)|\n",
      "+------------------+\n",
      "|10.203057575548842|\n",
      "+------------------+\n",
      "\n"
     ]
    }
   ],
   "source": [
    "data2_converted4_dropna.agg({\"temp\": \"avg\"}).show()"
   ]
  },
  {
   "cell_type": "code",
   "execution_count": null,
   "metadata": {},
   "outputs": [],
   "source": []
  }
 ],
 "metadata": {
  "kernelspec": {
   "display_name": "Python 3",
   "language": "python",
   "name": "python3"
  },
  "language_info": {
   "codemirror_mode": {
    "name": "ipython",
    "version": 3
   },
   "file_extension": ".py",
   "mimetype": "text/x-python",
   "name": "python",
   "nbconvert_exporter": "python",
   "pygments_lexer": "ipython3",
   "version": "3.7.6"
  }
 },
 "nbformat": 4,
 "nbformat_minor": 4
}
