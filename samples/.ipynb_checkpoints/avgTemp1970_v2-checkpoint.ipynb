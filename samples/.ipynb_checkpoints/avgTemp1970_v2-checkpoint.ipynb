{
 "cells": [
  {
   "cell_type": "code",
   "execution_count": 1,
   "metadata": {},
   "outputs": [
    {
     "data": {
      "text/html": [
       "\n",
       "        <div>\n",
       "            <p><b>SparkContext</b></p>\n",
       "\n",
       "            <p><a href=\"http://ip-172-31-44-238.ec2.internal:4042\">Spark UI</a></p>\n",
       "\n",
       "            <dl>\n",
       "              <dt>Version</dt>\n",
       "                <dd><code>v2.4.4</code></dd>\n",
       "              <dt>Master</dt>\n",
       "                <dd><code>yarn</code></dd>\n",
       "              <dt>AppName</dt>\n",
       "                <dd><code>pyspark-shell</code></dd>\n",
       "            </dl>\n",
       "        </div>\n",
       "        "
      ],
      "text/plain": [
       "<SparkContext master=yarn appName=pyspark-shell>"
      ]
     },
     "execution_count": 1,
     "metadata": {},
     "output_type": "execute_result"
    }
   ],
   "source": [
    "#start spark session\n",
    "import findspark\n",
    "findspark.init()\n",
    "from pyspark import SparkContext\n",
    "sc=SparkContext()\n",
    "sc"
   ]
  },
  {
   "cell_type": "code",
   "execution_count": 2,
   "metadata": {},
   "outputs": [
    {
     "data": {
      "text/html": [
       "\n",
       "            <div>\n",
       "                <p><b>SparkSession - in-memory</b></p>\n",
       "                \n",
       "        <div>\n",
       "            <p><b>SparkContext</b></p>\n",
       "\n",
       "            <p><a href=\"http://ip-172-31-44-238.ec2.internal:4042\">Spark UI</a></p>\n",
       "\n",
       "            <dl>\n",
       "              <dt>Version</dt>\n",
       "                <dd><code>v2.4.4</code></dd>\n",
       "              <dt>Master</dt>\n",
       "                <dd><code>yarn</code></dd>\n",
       "              <dt>AppName</dt>\n",
       "                <dd><code>pyspark-shell</code></dd>\n",
       "            </dl>\n",
       "        </div>\n",
       "        \n",
       "            </div>\n",
       "        "
      ],
      "text/plain": [
       "<pyspark.sql.session.SparkSession at 0x7fe35c3ce150>"
      ]
     },
     "execution_count": 2,
     "metadata": {},
     "output_type": "execute_result"
    }
   ],
   "source": [
    "from pyspark.sql import SparkSession\n",
    "spark=SparkSession.builder.getOrCreate()\n",
    "spark"
   ]
  },
  {
   "cell_type": "markdown",
   "metadata": {},
   "source": [
    "## Try Data 1970"
   ]
  },
  {
   "cell_type": "code",
   "execution_count": 3,
   "metadata": {},
   "outputs": [],
   "source": [
    "data1970 = spark.read\\\n",
    "  .format('csv')\\\n",
    "  .option('header', 'false')\\\n",
    "  .option('inferSchema', 'true')\\\n",
    "  .load(\"s3://open-data-noaa/1970samples_v2\")"
   ]
  },
  {
   "cell_type": "code",
   "execution_count": 4,
   "metadata": {},
   "outputs": [
    {
     "name": "stdout",
     "output_type": "stream",
     "text": [
      "root\n",
      " |-- _c0: string (nullable = true)\n",
      " |-- _c1: string (nullable = true)\n",
      " |-- _c2: string (nullable = true)\n",
      " |-- _c3: string (nullable = true)\n",
      " |-- _c4: string (nullable = true)\n",
      " |-- _c5: string (nullable = true)\n",
      " |-- _c6: string (nullable = true)\n",
      " |-- _c7: string (nullable = true)\n",
      " |-- _c8: string (nullable = true)\n",
      " |-- _c9: string (nullable = true)\n",
      " |-- _c10: string (nullable = true)\n",
      " |-- _c11: string (nullable = true)\n",
      " |-- _c12: string (nullable = true)\n",
      " |-- _c13: string (nullable = true)\n",
      " |-- _c14: string (nullable = true)\n",
      " |-- _c15: string (nullable = true)\n",
      " |-- _c16: string (nullable = true)\n",
      " |-- _c17: string (nullable = true)\n",
      " |-- _c18: string (nullable = true)\n",
      " |-- _c19: string (nullable = true)\n",
      " |-- _c20: string (nullable = true)\n",
      " |-- _c21: string (nullable = true)\n",
      " |-- _c22: string (nullable = true)\n",
      " |-- _c23: string (nullable = true)\n",
      " |-- _c24: string (nullable = true)\n",
      " |-- _c25: string (nullable = true)\n",
      " |-- _c26: string (nullable = true)\n",
      " |-- _c27: string (nullable = true)\n",
      " |-- _c28: string (nullable = true)\n",
      " |-- _c29: string (nullable = true)\n",
      " |-- _c30: string (nullable = true)\n",
      "\n"
     ]
    }
   ],
   "source": [
    "data1970.printSchema()"
   ]
  },
  {
   "cell_type": "code",
   "execution_count": 5,
   "metadata": {},
   "outputs": [
    {
     "name": "stdout",
     "output_type": "stream",
     "text": [
      "+-----------+-------------------+------+--------+---------+---------+----------------+-----------+---------+---------------+--------------+-----------+------------+-------+-------+-------+----+--------------------+---------------+----+----+----+----+----+----+----+----+----+----+----+----+\n",
      "|        _c0|                _c1|   _c2|     _c3|      _c4|      _c5|             _c6|        _c7|      _c8|            _c9|          _c10|       _c11|        _c12|   _c13|   _c14|   _c15|_c16|                _c17|           _c18|_c19|_c20|_c21|_c22|_c23|_c24|_c25|_c26|_c27|_c28|_c29|_c30|\n",
      "+-----------+-------------------+------+--------+---------+---------+----------------+-----------+---------+---------------+--------------+-----------+------------+-------+-------+-------+----+--------------------+---------------+----+----+----+----+----+----+----+----+----+----+----+----+\n",
      "|    STATION|               DATE|SOURCE|LATITUDE|LONGITUDE|ELEVATION|            NAME|REPORT_TYPE|CALL_SIGN|QUALITY_CONTROL|           WND|        CIG|         VIS|    TMP|    DEW|    SLP| AA1|                 GA1|            GA2| GA3| GA4| GD1| GD2| GD3| GD4| GF1| MA1| MW1| MW2| MW3| EQD|\n",
      "|70222099999|1970-03-28T16:00:00|     4|  64.733| -156.933|     49.0|GALENA A., AK US|        SAO|     PAGA|           V020|340,1,N,0010,1|00990,1,9,N|011200,1,N,9|-0053,1|-0098,1|99999,9|null|08,99,1,99,9,99,9...|           null|71,1|null|null|null|null|null|null|null|null|null|null|null|\n",
      "|70222099999|1970-03-28T17:00:00|     4|  64.733| -156.933|     49.0|GALENA A., AK US|        SAO|     PAGA|           V020|330,1,N,0010,1|01500,1,9,N|011200,1,N,9|-0059,1|-0103,1|99999,9|null|08,99,1,99,9,99,9...|           null|71,1|null|null|null|null|null|null|null|null|null|null|null|\n",
      "|70222099999|1970-03-28T18:00:00|     4|  64.733| -156.933|     49.0|GALENA A., AK US|        SAO|     PAGA|           V020|330,1,N,0010,1|01500,1,9,N|024000,1,N,9|-0059,1|-0103,1|10142,1|null|08,99,1,99,9,99,9...|99999,9,10081,1|71,1|null|null|null|null|null|null|null|null|null|null|null|\n",
      "|70222099999|1970-03-28T19:00:00|     4|  64.733| -156.933|     49.0|GALENA A., AK US|        SAO|     PAGA|           V020|330,1,N,0015,1|02400,1,9,N|032000,1,N,9|-0053,1|-0103,1|99999,9|null|08,99,1,99,9,99,9...|           null|71,1|null|null|null|null|null|null|null|null|null|null|null|\n",
      "+-----------+-------------------+------+--------+---------+---------+----------------+-----------+---------+---------------+--------------+-----------+------------+-------+-------+-------+----+--------------------+---------------+----+----+----+----+----+----+----+----+----+----+----+----+\n",
      "only showing top 5 rows\n",
      "\n"
     ]
    }
   ],
   "source": [
    "data1970.show(5)"
   ]
  },
  {
   "cell_type": "code",
   "execution_count": 6,
   "metadata": {},
   "outputs": [
    {
     "data": {
      "text/plain": [
       "875604"
      ]
     },
     "execution_count": 6,
     "metadata": {},
     "output_type": "execute_result"
    }
   ],
   "source": [
    "data1970.count()"
   ]
  },
  {
   "cell_type": "code",
   "execution_count": 9,
   "metadata": {},
   "outputs": [],
   "source": [
    "data1970 = data1970.cache()"
   ]
  },
  {
   "cell_type": "code",
   "execution_count": 10,
   "metadata": {},
   "outputs": [
    {
     "data": {
      "text/plain": [
       "332"
      ]
     },
     "execution_count": 10,
     "metadata": {},
     "output_type": "execute_result"
    }
   ],
   "source": [
    "#delete index row\n",
    "data1970.where('_c0==\"STATION\"').count()"
   ]
  },
  {
   "cell_type": "code",
   "execution_count": 11,
   "metadata": {},
   "outputs": [],
   "source": [
    "data19702=data1970.where('_c0!=\"STATION\"')"
   ]
  },
  {
   "cell_type": "code",
   "execution_count": 12,
   "metadata": {},
   "outputs": [
    {
     "data": {
      "text/plain": [
       "875272"
      ]
     },
     "execution_count": 12,
     "metadata": {},
     "output_type": "execute_result"
    }
   ],
   "source": [
    "data19702.count()"
   ]
  },
  {
   "cell_type": "code",
   "execution_count": 13,
   "metadata": {},
   "outputs": [],
   "source": [
    "#add index row\n",
    "from pyspark.sql import SparkSession\n",
    "#from pyspark.sql import functions._\n",
    "#import pyspark.spark.sql.{SQLContext, Row, DataFrame, Column}\n",
    "from pyspark.sql import Row,DataFrame,Column\n",
    "from pyspark.sql import SQLContext\n",
    "#from pyspark.ml import feature.VectorAssembler"
   ]
  },
  {
   "cell_type": "code",
   "execution_count": 14,
   "metadata": {},
   "outputs": [
    {
     "name": "stdout",
     "output_type": "stream",
     "text": [
      "+-----------+-----+\n",
      "|    station| temp|\n",
      "+-----------+-----+\n",
      "|70222099999|-0053|\n",
      "|70222099999|-0059|\n",
      "|70222099999|-0059|\n",
      "|70222099999|-0053|\n",
      "|70222099999|-0048|\n",
      "|70222099999|-0037|\n",
      "|70222099999|-0037|\n",
      "|70222099999|-0026|\n",
      "|70222099999|-0020|\n",
      "|70222099999|-0020|\n",
      "|70222099999|-0020|\n",
      "|70222099999|-0015|\n",
      "|70222099999|-0015|\n",
      "|70222099999|-0015|\n",
      "|70222099999|-0015|\n",
      "|70222099999|-0020|\n",
      "|70222099999|-0031|\n",
      "|70222099999|-0037|\n",
      "|70222099999|-0070|\n",
      "|70222099999|-0087|\n",
      "+-----------+-----+\n",
      "only showing top 20 rows\n",
      "\n"
     ]
    }
   ],
   "source": [
    "import pyspark.sql.functions as f\n",
    "from pyspark.sql.functions import concat, col, lit\n",
    "\n",
    "data2_converted = data19702.select(col(\"_c0\"), col(\"_c13\"))\n",
    "#data2_converted.show()\n",
    "data2_converted2 = data2_converted.select(col(\"_c0\").alias(\"station\"), f.split(data2_converted['_c13'], ',')[0].alias(\"temp\"))\n",
    "data2_converted2.show()"
   ]
  },
  {
   "cell_type": "code",
   "execution_count": null,
   "metadata": {},
   "outputs": [],
   "source": []
  },
  {
   "cell_type": "code",
   "execution_count": 41,
   "metadata": {},
   "outputs": [],
   "source": [
    "#Convert Data Type"
   ]
  },
  {
   "cell_type": "code",
   "execution_count": 15,
   "metadata": {},
   "outputs": [],
   "source": [
    "data2_converted3=data2_converted2.withColumn(\"temp\", data2_converted2[\"temp\"].cast(\"float\"))"
   ]
  },
  {
   "cell_type": "code",
   "execution_count": 16,
   "metadata": {},
   "outputs": [
    {
     "name": "stdout",
     "output_type": "stream",
     "text": [
      "+-----------+------+\n",
      "|    station|  temp|\n",
      "+-----------+------+\n",
      "|24684099999|-589.0|\n",
      "|24691099999|-589.0|\n",
      "|24266099999|-589.0|\n",
      "|24691099999|-589.0|\n",
      "|24691099999|-589.0|\n",
      "|24684099999|-589.0|\n",
      "|24684099999|-589.0|\n",
      "|24691099999|-578.0|\n",
      "|24691099999|-578.0|\n",
      "|24266099999|-578.0|\n",
      "|24691099999|-578.0|\n",
      "|24266099999|-578.0|\n",
      "|24691099999|-578.0|\n",
      "|24266099999|-578.0|\n",
      "|24691099999|-578.0|\n",
      "|24266099999|-578.0|\n",
      "|24691099999|-578.0|\n",
      "|24691099999|-578.0|\n",
      "|24691099999|-578.0|\n",
      "|24691099999|-578.0|\n",
      "+-----------+------+\n",
      "only showing top 20 rows\n",
      "\n"
     ]
    }
   ],
   "source": [
    "data2_converted3.sort('temp', ascending=True).show()"
   ]
  },
  {
   "cell_type": "code",
   "execution_count": 17,
   "metadata": {},
   "outputs": [
    {
     "name": "stdout",
     "output_type": "stream",
     "text": [
      "+-----------+----+\n",
      "|    station|temp|\n",
      "+-----------+----+\n",
      "|70222099999|-5.3|\n",
      "|70222099999|-5.9|\n",
      "|70222099999|-5.9|\n",
      "|70222099999|-5.3|\n",
      "|70222099999|-4.8|\n",
      "|70222099999|-3.7|\n",
      "|70222099999|-3.7|\n",
      "|70222099999|-2.6|\n",
      "|70222099999|-2.0|\n",
      "|70222099999|-2.0|\n",
      "|70222099999|-2.0|\n",
      "|70222099999|-1.5|\n",
      "|70222099999|-1.5|\n",
      "|70222099999|-1.5|\n",
      "|70222099999|-1.5|\n",
      "|70222099999|-2.0|\n",
      "|70222099999|-3.1|\n",
      "|70222099999|-3.7|\n",
      "|70222099999|-7.0|\n",
      "|70222099999|-8.7|\n",
      "+-----------+----+\n",
      "only showing top 20 rows\n",
      "\n"
     ]
    }
   ],
   "source": [
    "# Rescale since the original data is scaled by 10\n",
    "data2_converted4=data2_converted3.withColumn(\"temp\", data2_converted3[\"temp\"]/10)\n",
    "data2_converted4.show()"
   ]
  },
  {
   "cell_type": "code",
   "execution_count": 18,
   "metadata": {},
   "outputs": [],
   "source": [
    "# Drop rows with NA or missing values in pyspark\n",
    "data2_converted4_dropna=data2_converted4.dropna()"
   ]
  },
  {
   "cell_type": "code",
   "execution_count": 19,
   "metadata": {},
   "outputs": [
    {
     "name": "stdout",
     "output_type": "stream",
     "text": [
      "+-----------+-----+\n",
      "|    station| temp|\n",
      "+-----------+-----+\n",
      "|23445099999|999.9|\n",
      "|23445099999|999.9|\n",
      "|23445099999|999.9|\n",
      "|23445099999|999.9|\n",
      "|23445099999|999.9|\n",
      "|23445099999|999.9|\n",
      "|23445099999|999.9|\n",
      "|23445099999|999.9|\n",
      "|23445099999|999.9|\n",
      "|23445099999|999.9|\n",
      "|23445099999|999.9|\n",
      "|23445099999|999.9|\n",
      "|23445099999|999.9|\n",
      "|23445099999|999.9|\n",
      "|23445099999|999.9|\n",
      "|23445099999|999.9|\n",
      "|23445099999|999.9|\n",
      "|23445099999|999.9|\n",
      "|23445099999|999.9|\n",
      "|23445099999|999.9|\n",
      "+-----------+-----+\n",
      "only showing top 20 rows\n",
      "\n"
     ]
    }
   ],
   "source": [
    "data2_converted4_dropna.sort('temp', ascending=False).show()"
   ]
  },
  {
   "cell_type": "code",
   "execution_count": 20,
   "metadata": {},
   "outputs": [
    {
     "name": "stdout",
     "output_type": "stream",
     "text": [
      "+-----------+----+\n",
      "|    station|temp|\n",
      "+-----------+----+\n",
      "|72386523112|47.4|\n",
      "|72386523112|46.8|\n",
      "|72386523112|46.3|\n",
      "|99999923195|46.1|\n",
      "|72386523112|45.7|\n",
      "|72386523112|45.7|\n",
      "|72386523112|45.7|\n",
      "|72386523112|45.7|\n",
      "|72386523112|45.2|\n",
      "|72386523112|45.2|\n",
      "|72386523112|45.2|\n",
      "|72386523112|45.2|\n",
      "|72386523112|45.2|\n",
      "|99999923195|45.0|\n",
      "|34655099999|45.0|\n",
      "|99999923195|45.0|\n",
      "|34655099999|45.0|\n",
      "|72386523112|44.6|\n",
      "|72386523112|44.6|\n",
      "|72386523112|44.6|\n",
      "+-----------+----+\n",
      "only showing top 20 rows\n",
      "\n"
     ]
    }
   ],
   "source": [
    "#drop 9999 as NA\n",
    "data2_converted4_dropna = data2_converted4_dropna.filter(data2_converted4_dropna.temp != '999.9')\n",
    "data2_converted4_dropna.sort('temp', ascending=False).show()"
   ]
  },
  {
   "cell_type": "code",
   "execution_count": 21,
   "metadata": {},
   "outputs": [
    {
     "data": {
      "text/plain": [
       "867957"
      ]
     },
     "execution_count": 21,
     "metadata": {},
     "output_type": "execute_result"
    }
   ],
   "source": [
    "data2_converted4_dropna.count()"
   ]
  },
  {
   "cell_type": "code",
   "execution_count": 22,
   "metadata": {},
   "outputs": [
    {
     "name": "stdout",
     "output_type": "stream",
     "text": [
      "+-----------+--------------------+\n",
      "|    station|           avg(temp)|\n",
      "+-----------+--------------------+\n",
      "|99999923174|  16.672180365296803|\n",
      "|26238099999|  47.082413793103505|\n",
      "|10607099999|  10.681449690033363|\n",
      "|94999900349|    13.3245786516854|\n",
      "|38403099999|   72.41895332390364|\n",
      "|23121099999|  0.2661545027742221|\n",
      "|94999900214|                27.5|\n",
      "|22621099999|   3.583983140147525|\n",
      "|27848099999|    10.3207258064516|\n",
      "|28465099999|  10.813632901751728|\n",
      "|24266099999| -3.7741041743627637|\n",
      "|72258699999|  17.173798378810464|\n",
      "|26503099999|  31.261130136986313|\n",
      "|31041099999| -2.9347445766270015|\n",
      "|25907099999| -0.4698599852616001|\n",
      "|24679099999|-0.09917534722222249|\n",
      "|80308099999|  21.349286640726366|\n",
      "|32287099999|   2.106034182071863|\n",
      "|29602099999|   5.241007751937984|\n",
      "|31586099999|  20.029986149584516|\n",
      "+-----------+--------------------+\n",
      "only showing top 20 rows\n",
      "\n"
     ]
    }
   ],
   "source": [
    "#按station average\n",
    "#https://sparkbyexamples.com/spark/using-groupby-on-dataframe/\n",
    "data2_converted4.groupBy(\"station\").mean(\"temp\").show()"
   ]
  },
  {
   "cell_type": "code",
   "execution_count": 23,
   "metadata": {},
   "outputs": [
    {
     "name": "stdout",
     "output_type": "stream",
     "text": [
      "+-----------+-------------------+\n",
      "|    station|            avgtemp|\n",
      "+-----------+-------------------+\n",
      "|26238099999|  3.085064935064929|\n",
      "|99999923174| 16.672180365296803|\n",
      "|10607099999|  8.672524190658239|\n",
      "|94999900349|   13.3245786516854|\n",
      "|38403099999| 13.841203007518832|\n",
      "|23121099999| -7.472946236559134|\n",
      "|94999900214|               27.5|\n",
      "|22621099999|  1.479831045406543|\n",
      "|27848099999|  5.911907654921039|\n",
      "|28465099999| 0.5383993843786152|\n",
      "|24266099999|-15.780672897196268|\n",
      "|72258699999| 17.173798378810464|\n",
      "|26503099999|  3.975528169014085|\n",
      "|31041099999| -10.35791328868523|\n",
      "|25907099999| -6.029529455353828|\n",
      "|24679099999|-15.077136563876659|\n",
      "|80308099999| 19.441780376868117|\n",
      "|32287099999|  -1.38641932096604|\n",
      "|29602099999|-0.1858144972720167|\n",
      "|31586099999| -0.759335219236203|\n",
      "+-----------+-------------------+\n",
      "only showing top 20 rows\n",
      "\n"
     ]
    }
   ],
   "source": [
    "final1970 = data2_converted4_dropna.groupBy(\"station\").mean(\"temp\")\n",
    "final1970 = final1970.select(col(\"station\"),col(\"avg(temp)\").alias(\"avgtemp\"))\n",
    "final1970.show()"
   ]
  },
  {
   "cell_type": "code",
   "execution_count": 24,
   "metadata": {},
   "outputs": [
    {
     "name": "stdout",
     "output_type": "stream",
     "text": [
      "+-----------+-------------------+\n",
      "|    station|            avgtemp|\n",
      "+-----------+-------------------+\n",
      "|22621099999|  1.479831045406543|\n",
      "|27848099999|  5.911907654921039|\n",
      "|28465099999| 0.5383993843786152|\n",
      "|24266099999|-15.780672897196268|\n",
      "|72258699999| 17.173798378810464|\n",
      "|26503099999|  3.975528169014085|\n",
      "|24679099999|-15.077136563876659|\n",
      "|80308099999| 19.441780376868117|\n",
      "|29602099999|-0.1858144972720167|\n",
      "|31586099999| -0.759335219236203|\n",
      "+-----------+-------------------+\n",
      "\n"
     ]
    }
   ],
   "source": [
    "final1970.limit(10).show()"
   ]
  },
  {
   "cell_type": "code",
   "execution_count": 25,
   "metadata": {},
   "outputs": [],
   "source": [
    "final1970.createOrReplaceTempView(\"final1970\")"
   ]
  },
  {
   "cell_type": "code",
   "execution_count": 26,
   "metadata": {},
   "outputs": [],
   "source": [
    "final1970 = spark.sql(\"SELECT station,avgtemp FROM final1970 ORDER BY avgtemp ASC\")"
   ]
  },
  {
   "cell_type": "code",
   "execution_count": 27,
   "metadata": {},
   "outputs": [],
   "source": [
    "sample1970 = final1970.limit(10)"
   ]
  },
  {
   "cell_type": "code",
   "execution_count": 28,
   "metadata": {},
   "outputs": [
    {
     "name": "stdout",
     "output_type": "stream",
     "text": [
      "+-----------+-------------------+\n",
      "|    station|            avgtemp|\n",
      "+-----------+-------------------+\n",
      "|24684099999| -16.77041198501873|\n",
      "|24275099999|-16.601782098015406|\n",
      "|24771099999|-16.093366708385457|\n",
      "|24266099999|-15.780672897196268|\n",
      "|20066099999|-15.462739463601533|\n",
      "|20291099999|-15.262982126058318|\n",
      "|20594099999|-15.217231897341895|\n",
      "|24691099999|-15.194689172498965|\n",
      "|24231099999|-15.110191570881216|\n",
      "|24679099999|-15.077136563876659|\n",
      "+-----------+-------------------+\n",
      "\n"
     ]
    }
   ],
   "source": [
    "sample1970.show()"
   ]
  },
  {
   "cell_type": "code",
   "execution_count": 39,
   "metadata": {},
   "outputs": [
    {
     "name": "stdout",
     "output_type": "stream",
     "text": [
      "Collecting pyarrow\n",
      "  Downloading pyarrow-0.17.0-cp37-cp37m-manylinux2014_x86_64.whl (63.8 MB)\n",
      "\u001b[K     |████████████████████████████████| 63.8 MB 16.1 MB/s eta 0:00:01\n",
      "\u001b[?25hRequirement already satisfied: numpy>=1.14 in /home/hadoop/miniconda/lib/python3.7/site-packages (from pyarrow) (1.18.1)\n",
      "Installing collected packages: pyarrow\n",
      "Successfully installed pyarrow-0.17.0\n",
      "Note: you may need to restart the kernel to use updated packages.\n"
     ]
    }
   ],
   "source": [
    "#pip install pyarrow"
   ]
  },
  {
   "cell_type": "code",
   "execution_count": 29,
   "metadata": {},
   "outputs": [],
   "source": [
    "sample1970_p = sample1970.toPandas()"
   ]
  },
  {
   "cell_type": "code",
   "execution_count": 30,
   "metadata": {},
   "outputs": [],
   "source": [
    "final1970_p = final1970.toPandas()"
   ]
  },
  {
   "cell_type": "code",
   "execution_count": 31,
   "metadata": {},
   "outputs": [
    {
     "data": {
      "text/plain": [
       "<matplotlib.axes._subplots.AxesSubplot at 0x7fe31359d650>"
      ]
     },
     "execution_count": 31,
     "metadata": {},
     "output_type": "execute_result"
    },
    {
     "data": {
      "image/png": "[encoded data removed]",
      "text/plain": [
       "<Figure size 432x288 with 1 Axes>"
      ]
     },
     "metadata": {
      "needs_background": "light"
     },
     "output_type": "display_data"
    }
   ],
   "source": [
    "final1970_p.plot(kind='barh',y='avgtemp',colormap='RdBu')"
   ]
  },
  {
   "cell_type": "code",
   "execution_count": 32,
   "metadata": {},
   "outputs": [
    {
     "data": {
      "text/plain": [
       "<matplotlib.axes._subplots.AxesSubplot at 0x7fe312028290>"
      ]
     },
     "execution_count": 32,
     "metadata": {},
     "output_type": "execute_result"
    },
    {
     "data": {
      "image/png": "[encoded data removed]",
      "text/plain": [
       "<Figure size 432x288 with 1 Axes>"
      ]
     },
     "metadata": {
      "needs_background": "light"
     },
     "output_type": "display_data"
    }
   ],
   "source": [
    "sample1970_p.plot(kind='barh',x = 'station', y='avgtemp',colormap='RdBu')"
   ]
  },
  {
   "cell_type": "markdown",
   "metadata": {},
   "source": [
    "### Calculate and store AvgTemp for 1970"
   ]
  },
  {
   "cell_type": "code",
   "execution_count": 34,
   "metadata": {},
   "outputs": [],
   "source": [
    "from pyspark.sql.functions import mean as _mean, stddev as _stddev, col\n",
    "\n",
    "stats1970 = data2_converted4_dropna.select(\n",
    "    _mean(col('temp')).alias('mean'),\n",
    "    _stddev(col('temp')).alias('std')\n",
    ").collect()\n",
    "\n"
   ]
  },
  {
   "cell_type": "code",
   "execution_count": 35,
   "metadata": {},
   "outputs": [
    {
     "data": {
      "text/plain": [
       "[Row(mean=6.093592078870322, std=16.530631596807996)]"
      ]
     },
     "execution_count": 35,
     "metadata": {},
     "output_type": "execute_result"
    }
   ],
   "source": [
    "stats1970"
   ]
  },
  {
   "cell_type": "code",
   "execution_count": 36,
   "metadata": {},
   "outputs": [],
   "source": [
    "mean = stats1970[0]['mean']\n",
    "std = stats1970[0]['std']"
   ]
  },
  {
   "cell_type": "code",
   "execution_count": 37,
   "metadata": {},
   "outputs": [
    {
     "data": {
      "text/plain": [
       "6.093592078870322"
      ]
     },
     "execution_count": 37,
     "metadata": {},
     "output_type": "execute_result"
    }
   ],
   "source": [
    "mean"
   ]
  },
  {
   "cell_type": "code",
   "execution_count": 38,
   "metadata": {},
   "outputs": [],
   "source": [
    "import numpy as np\n",
    "np1970 = final1970.collect()"
   ]
  },
  {
   "cell_type": "code",
   "execution_count": 39,
   "metadata": {},
   "outputs": [
    {
     "name": "stdout",
     "output_type": "stream",
     "text": [
      "+-----------------+--------------+\n",
      "|     avg(avgtemp)|count(avgtemp)|\n",
      "+-----------------+--------------+\n",
      "|4.949686390988318|           300|\n",
      "+-----------------+--------------+\n",
      "\n"
     ]
    }
   ],
   "source": [
    "final1970.agg(f.mean('avgtemp'), f.count('avgtemp')).show()"
   ]
  },
  {
   "cell_type": "code",
   "execution_count": 40,
   "metadata": {},
   "outputs": [
    {
     "name": "stdout",
     "output_type": "stream",
     "text": [
      "+-----------------+\n",
      "|        avg(temp)|\n",
      "+-----------------+\n",
      "|6.093592078870319|\n",
      "+-----------------+\n",
      "\n"
     ]
    }
   ],
   "source": [
    "data2_converted4_dropna.agg({\"temp\": \"avg\"}).show()"
   ]
  },
  {
   "cell_type": "code",
   "execution_count": null,
   "metadata": {},
   "outputs": [],
   "source": []
  }
 ],
 "metadata": {
  "kernelspec": {
   "display_name": "Python 3",
   "language": "python",
   "name": "python3"
  },
  "language_info": {
   "codemirror_mode": {
    "name": "ipython",
    "version": 3
   },
   "file_extension": ".py",
   "mimetype": "text/x-python",
   "name": "python",
   "nbconvert_exporter": "python",
   "pygments_lexer": "ipython3",
   "version": "3.7.6"
  }
 },
 "nbformat": 4,
 "nbformat_minor": 4
}
