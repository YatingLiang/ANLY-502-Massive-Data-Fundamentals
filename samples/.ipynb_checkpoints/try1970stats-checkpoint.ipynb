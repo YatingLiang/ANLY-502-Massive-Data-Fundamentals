{
 "cells": [
  {
   "cell_type": "code",
   "execution_count": 65,
   "metadata": {},
   "outputs": [],
   "source": [
    "import boto3\n",
    "import botocore\n",
    "import pandas as pd\n",
    "from IPython.display import display, Markdown\n",
    "\n",
    "from io import StringIO\n",
    "import os"
   ]
  },
  {
   "cell_type": "code",
   "execution_count": 66,
   "metadata": {},
   "outputs": [
    {
     "data": {
      "text/html": [
       "\n",
       "        <div>\n",
       "            <p><b>SparkContext</b></p>\n",
       "\n",
       "            <p><a href=\"http://ip-172-31-44-238.ec2.internal:4040\">Spark UI</a></p>\n",
       "\n",
       "            <dl>\n",
       "              <dt>Version</dt>\n",
       "                <dd><code>v2.4.4</code></dd>\n",
       "              <dt>Master</dt>\n",
       "                <dd><code>yarn</code></dd>\n",
       "              <dt>AppName</dt>\n",
       "                <dd><code>pyspark-shell</code></dd>\n",
       "            </dl>\n",
       "        </div>\n",
       "        "
      ],
      "text/plain": [
       "<SparkContext master=yarn appName=pyspark-shell>"
      ]
     },
     "execution_count": 66,
     "metadata": {},
     "output_type": "execute_result"
    }
   ],
   "source": [
    "import findspark\n",
    "findspark.init()\n",
    "from pyspark import SparkContext\n",
    "sc=SparkContext()\n",
    "sc"
   ]
  },
  {
   "cell_type": "code",
   "execution_count": 67,
   "metadata": {},
   "outputs": [
    {
     "data": {
      "text/html": [
       "\n",
       "            <div>\n",
       "                <p><b>SparkSession - in-memory</b></p>\n",
       "                \n",
       "        <div>\n",
       "            <p><b>SparkContext</b></p>\n",
       "\n",
       "            <p><a href=\"http://ip-172-31-44-238.ec2.internal:4040\">Spark UI</a></p>\n",
       "\n",
       "            <dl>\n",
       "              <dt>Version</dt>\n",
       "                <dd><code>v2.4.4</code></dd>\n",
       "              <dt>Master</dt>\n",
       "                <dd><code>yarn</code></dd>\n",
       "              <dt>AppName</dt>\n",
       "                <dd><code>pyspark-shell</code></dd>\n",
       "            </dl>\n",
       "        </div>\n",
       "        \n",
       "            </div>\n",
       "        "
      ],
      "text/plain": [
       "<pyspark.sql.session.SparkSession at 0x7f2956073790>"
      ]
     },
     "execution_count": 67,
     "metadata": {},
     "output_type": "execute_result"
    }
   ],
   "source": [
    "from pyspark.sql import SparkSession\n",
    "spark=SparkSession.builder.getOrCreate()\n",
    "spark"
   ]
  },
  {
   "cell_type": "code",
   "execution_count": 68,
   "metadata": {},
   "outputs": [
    {
     "data": {
      "text/plain": [
       "s3.ServiceResource()"
      ]
     },
     "execution_count": 68,
     "metadata": {},
     "output_type": "execute_result"
    }
   ],
   "source": [
    "s3 = boto3.resource('s3')\n",
    "s3"
   ]
  },
  {
   "cell_type": "code",
   "execution_count": 69,
   "metadata": {},
   "outputs": [
    {
     "data": {
      "text/plain": [
       "s3.Bucket(name='open-data-noaa')"
      ]
     },
     "execution_count": 69,
     "metadata": {},
     "output_type": "execute_result"
    }
   ],
   "source": [
    "bucket = s3.Bucket(name=\"noaa-global-hourly-pds\")\n",
    "bucket"
   ]
  },
  {
   "cell_type": "code",
   "execution_count": 70,
   "metadata": {},
   "outputs": [],
   "source": [
    "#Get File Name List\n",
    "prefix = \"1970/\"\n",
    "#prefix = \"2010/\"\n",
    "#prefix = \"2005/\"\n",
    "#prefix = \"2000/\"\n",
    "#prefix = \"1995/\"\n",
    "#prefix = \"1990/\"\n",
    "#prefix = \"1985/\"\n",
    "#prefix = \"1980/\"\n",
    "#prefix = \"1975/\"\n",
    "#prefix = \"1970/\"\n",
    "FilesNotFound = True\n",
    "FileNameList=[]\n",
    "for obj in bucket.objects.filter(Prefix=prefix):\n",
    "    FileNameList.append('{0}{1}/{2}'.format('s3://',bucket.name, obj.key))\n",
    "    #print('{0}/{1}'.format(bucket.name, obj.key))\n",
    "    FilesNotFound = False\n",
    "if FilesNotFound:\n",
    "     print(\"ALERT\", \"No file in {0}/{1}\".format(bucket, prefix))\n"
   ]
  },
  {
   "cell_type": "code",
   "execution_count": null,
   "metadata": {},
   "outputs": [],
   "source": [
    "FileNameList"
   ]
  },
  {
   "cell_type": "code",
   "execution_count": 104,
   "metadata": {},
   "outputs": [],
   "source": [
    "#import random\n",
    "#desired_pct = 1.65\n",
    "#random.seed(20)\n",
    "#file_sample = random.sample(FileNameList, int(len(FileNameList) * desired_pct / 100))"
   ]
  },
  {
   "cell_type": "code",
   "execution_count": 77,
   "metadata": {},
   "outputs": [
    {
     "data": {
      "text/plain": [
       "3006"
      ]
     },
     "execution_count": 77,
     "metadata": {},
     "output_type": "execute_result"
    }
   ],
   "source": [
    "len(FileNameList)"
   ]
  },
  {
   "cell_type": "code",
   "execution_count": 49,
   "metadata": {},
   "outputs": [],
   "source": [
    "import random\n",
    "desired_pct = 20\n",
    "random.seed(20)\n",
    "file_sample = random.sample(FileNameList, int(len(FileNameList) * desired_pct / 100))"
   ]
  },
  {
   "cell_type": "code",
   "execution_count": 50,
   "metadata": {},
   "outputs": [
    {
     "data": {
      "text/plain": [
       "601"
      ]
     },
     "execution_count": 50,
     "metadata": {},
     "output_type": "execute_result"
    }
   ],
   "source": [
    "len(file_sample)"
   ]
  },
  {
   "cell_type": "markdown",
   "metadata": {},
   "source": [
    "## Merge Data"
   ]
  },
  {
   "cell_type": "code",
   "execution_count": 80,
   "metadata": {},
   "outputs": [],
   "source": [
    "from py4j.protocol import Py4JJavaError\n",
    "\n",
    "def file_exist(sc, file):\n",
    "    try:\n",
    "        rdd = sc.textFile(file)\n",
    "        rdd.take(1)\n",
    "        return True\n",
    "    except Py4JJavaError as e:\n",
    "        return False"
   ]
  },
  {
   "cell_type": "code",
   "execution_count": 83,
   "metadata": {},
   "outputs": [
    {
     "data": {
      "text/plain": [
       "2498"
      ]
     },
     "execution_count": 83,
     "metadata": {},
     "output_type": "execute_result"
    }
   ],
   "source": [
    "#Merge\n",
    "rdd = sc.textFile(FileNameList[0])\n",
    "i=0\n",
    "rdd_all=rdd\n",
    "rdd.count()"
   ]
  },
  {
   "cell_type": "code",
   "execution_count": null,
   "metadata": {},
   "outputs": [],
   "source": [
    "rdd1 = sc.parallelize([1, 2, 3])\n",
    "rdd2 = sc.parallelize([4, 5, 6])\n",
    "rdd3 = sc.parallelize([7, 8, 9])\n",
    "\n",
    "rdd = sc.union([rdd1, rdd2, rdd3])"
   ]
  },
  {
   "cell_type": "code",
   "execution_count": null,
   "metadata": {},
   "outputs": [],
   "source": [
    "RDDs = sc.parallelize([[\"panda\", 0], [\"pink\", 3]])\n",
    "RDDList = []\n",
    "for i in range(0,len(RDDs.first())):    \n",
    "    RDDList.append(RDDs.map(lambda x: [x[i]]).collect())\n",
    "\n",
    "print (RDDList[0])\n",
    "print (RDDList[1])"
   ]
  },
  {
   "cell_type": "code",
   "execution_count": 84,
   "metadata": {},
   "outputs": [
    {
     "data": {
      "text/plain": [
       "1193453"
      ]
     },
     "execution_count": 84,
     "metadata": {},
     "output_type": "execute_result"
    }
   ],
   "source": [
    "while i < len(FileNameList)/7:\n",
    "    if file_exist(sc, FileNameList[i]):\n",
    "        #print(FileNameList[i])\n",
    "        rdd_sep=sc.textFile(FileNameList[i])\n",
    "        rdd_all=rdd_all.union(rdd_sep)\n",
    "        \n",
    "    else:\n",
    "        print('File does not exist, skipping: ' + FileNameList[i])\n",
    "    i += 1\n",
    "rdd_all.count()"
   ]
  },
  {
   "cell_type": "code",
   "execution_count": null,
   "metadata": {},
   "outputs": [],
   "source": [
    "rdd_all.count()"
   ]
  },
  {
   "cell_type": "code",
   "execution_count": null,
   "metadata": {},
   "outputs": [],
   "source": [
    "  \n",
    "rdd_full=sc.union([rdd_all, rdd_all2])    \n",
    "rdd_all.count()"
   ]
  },
  {
   "cell_type": "code",
   "execution_count": 27,
   "metadata": {},
   "outputs": [],
   "source": [
    "#Save\n",
    "rdd_all.repartition(1).saveAsTextFile(\"s3://open-data-noaa/1970sample_v2\")"
   ]
  },
  {
   "cell_type": "code",
   "execution_count": 28,
   "metadata": {},
   "outputs": [],
   "source": [
    "df=spark.read.format(\"csv\").option(\"header\", \"true\").load(\"s3://open-data-noaa/1970sample_v2\")"
   ]
  },
  {
   "cell_type": "code",
   "execution_count": 29,
   "metadata": {},
   "outputs": [
    {
     "data": {
      "text/plain": [
       "[Row(STATION='99999993729', DATE='1970-01-01T00:00:00', SOURCE='E', LATITUDE='35.2326', LONGITUDE='-75.6219', ELEVATION='3.4', NAME='CAPE HATTERAS BILLY MITCHELL FIELD, NC US', REPORT_TYPE='SAO  ', CALL_SIGN='HAT  ', QUALITY_CONTROL='V020', WND='290,5,N,0057,5', CIG='22000,5,9,N', VIS='016000,5,9,9', TMP='+0128,4', DEW='+0061,5', SLP='10139,4', AA1='01,0000,9,5', GA1='99,9,+99999,9,00,4', GA2='99,9,+99999,9,99,9', GA3='99,9,+99999,9,99,9', GA4='99,9,+99999,9,99,9', GD1='4,08,5,+99999,9,9', GD2='0,00,5,+99999,9,9', GD3='0,00,5,+99999,9,9', GD4='0,00,5,+99999,9,9', GF1='08,06,5,99,9,99,9,99999,9,99,9,99,9', MA1='99999,9,10135,4', MW1=None, MW2=None, MW3=None, EQD='N01 00000JPWTH 1'),\n",
       " Row(STATION='99999993729', DATE='1970-01-01T03:00:00', SOURCE='E', LATITUDE='35.2326', LONGITUDE='-75.6219', ELEVATION='3.4', NAME='CAPE HATTERAS BILLY MITCHELL FIELD, NC US', REPORT_TYPE='SAO  ', CALL_SIGN='HAT  ', QUALITY_CONTROL='V020', WND='060,5,N,0077,5', CIG='22000,5,9,N', VIS='016000,5,9,9', TMP='+0083,4', DEW='+0050,5', SLP='10166,4', AA1='01,0000,9,5', GA1='99,9,+99999,9,00,4', GA2='99,9,+99999,9,99,9', GA3='99,9,+99999,9,99,9', GA4='99,9,+99999,9,99,9', GD1='2,02,5,+99999,9,9', GD2='0,00,5,+99999,9,9', GD3='0,00,5,+99999,9,9', GD4='0,00,5,+99999,9,9', GF1='02,02,5,99,9,99,9,99999,9,99,9,99,9', MA1='99999,9,10163,4', MW1=None, MW2=None, MW3=None, EQD='N01 00000JPWTH 1'),\n",
       " Row(STATION='99999993729', DATE='1970-01-01T06:00:00', SOURCE='E', LATITUDE='35.2326', LONGITUDE='-75.6219', ELEVATION='3.4', NAME='CAPE HATTERAS BILLY MITCHELL FIELD, NC US', REPORT_TYPE='SAO  ', CALL_SIGN='HAT  ', QUALITY_CONTROL='V020', WND='040,5,N,0067,5', CIG='22000,5,9,N', VIS='016000,5,9,9', TMP='+0072,4', DEW='+0033,5', SLP='10163,4', AA1='01,0000,9,5', GA1='99,9,+99999,9,00,4', GA2='99,9,+99999,9,99,9', GA3='99,9,+99999,9,99,9', GA4='99,9,+99999,9,99,9', GD1='1,03,5,+99999,9,3', GD2='0,00,5,+99999,9,9', GD3='0,00,5,+99999,9,9', GD4='0,00,5,+99999,9,9', GF1='03,02,5,99,9,99,9,99999,9,99,9,99,9', MA1='99999,9,10159,4', MW1=None, MW2=None, MW3=None, EQD='N01 00000JPWTH 1'),\n",
       " Row(STATION='99999993729', DATE='1970-01-01T09:00:00', SOURCE='E', LATITUDE='35.2326', LONGITUDE='-75.6219', ELEVATION='3.4', NAME='CAPE HATTERAS BILLY MITCHELL FIELD, NC US', REPORT_TYPE='SAO  ', CALL_SIGN='HAT  ', QUALITY_CONTROL='V020', WND='040,5,N,0057,5', CIG='02438,4,9,N', VIS='016000,5,9,9', TMP='+0067,4', DEW='+0017,5', SLP='10177,4', AA1='01,0000,9,5', GA1='99,9,+02438,4,03,4', GA2=None, GA3=None, GA4=None, GD1='4,08,5,+99999,9,9', GD2='0,99,5,+99999,9,9', GD3='0,99,5,+99999,9,9', GD4='0,99,5,+99999,9,9', GF1='08,08,5,99,9,99,9,99999,9,99,9,99,9', MA1='99999,9,10173,4', MW1=None, MW2=None, MW3=None, EQD='N01 00000JPWTH 1'),\n",
       " Row(STATION='99999993729', DATE='1970-01-01T12:00:00', SOURCE='E', LATITUDE='35.2326', LONGITUDE='-75.6219', ELEVATION='3.4', NAME='CAPE HATTERAS BILLY MITCHELL FIELD, NC US', REPORT_TYPE='SAO  ', CALL_SIGN='HAT  ', QUALITY_CONTROL='V020', WND='070,5,N,0082,5', CIG='02134,4,9,N', VIS='016000,5,9,9', TMP='+0067,4', DEW='+0017,5', SLP='10169,4', AA1='01,0000,9,5', GA1='99,9,+02134,4,03,4', GA2=None, GA3=None, GA4=None, GD1='4,08,5,+99999,9,9', GD2='0,99,5,+99999,9,9', GD3='0,99,5,+99999,9,9', GD4='0,99,5,+99999,9,9', GF1='08,08,5,99,9,99,9,99999,9,99,9,99,9', MA1='99999,9,10166,4', MW1=None, MW2=None, MW3=None, EQD='N01 00000JPWTH 1')]"
      ]
     },
     "execution_count": 29,
     "metadata": {},
     "output_type": "execute_result"
    }
   ],
   "source": [
    "df.head(5)"
   ]
  },
  {
   "cell_type": "code",
   "execution_count": 30,
   "metadata": {},
   "outputs": [],
   "source": [
    "df.write.csv(\"s3://open-data-noaa/1970samples_v2\", sep=',', header=True,mode=\"overwrite\")"
   ]
  },
  {
   "cell_type": "code",
   "execution_count": 111,
   "metadata": {},
   "outputs": [],
   "source": [
    "sc.stop()"
   ]
  }
 ],
 "metadata": {
  "kernelspec": {
   "display_name": "Python 3",
   "language": "python",
   "name": "python3"
  },
  "language_info": {
   "codemirror_mode": {
    "name": "ipython",
    "version": 3
   },
   "file_extension": ".py",
   "mimetype": "text/x-python",
   "name": "python",
   "nbconvert_exporter": "python",
   "pygments_lexer": "ipython3",
   "version": "3.7.6"
  }
 },
 "nbformat": 4,
 "nbformat_minor": 4
}
