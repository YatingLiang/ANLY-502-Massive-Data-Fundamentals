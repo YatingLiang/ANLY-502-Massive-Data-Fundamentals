{
 "cells": [
  {
   "cell_type": "code",
   "execution_count": 1,
   "metadata": {},
   "outputs": [],
   "source": [
    "import boto3\n",
    "import botocore\n",
    "import pandas as pd\n",
    "from IPython.display import display, Markdown\n",
    "\n",
    "from io import StringIO\n",
    "import os"
   ]
  },
  {
   "cell_type": "code",
   "execution_count": 2,
   "metadata": {},
   "outputs": [
    {
     "data": {
      "text/html": [
       "\n",
       "        <div>\n",
       "            <p><b>SparkContext</b></p>\n",
       "\n",
       "            <p><a href=\"http://ip-172-31-44-238.ec2.internal:4041\">Spark UI</a></p>\n",
       "\n",
       "            <dl>\n",
       "              <dt>Version</dt>\n",
       "                <dd><code>v2.4.4</code></dd>\n",
       "              <dt>Master</dt>\n",
       "                <dd><code>yarn</code></dd>\n",
       "              <dt>AppName</dt>\n",
       "                <dd><code>pyspark-shell</code></dd>\n",
       "            </dl>\n",
       "        </div>\n",
       "        "
      ],
      "text/plain": [
       "<SparkContext master=yarn appName=pyspark-shell>"
      ]
     },
     "execution_count": 2,
     "metadata": {},
     "output_type": "execute_result"
    }
   ],
   "source": [
    "import findspark\n",
    "findspark.init()\n",
    "from pyspark import SparkContext\n",
    "sc=SparkContext()\n",
    "sc"
   ]
  },
  {
   "cell_type": "code",
   "execution_count": 3,
   "metadata": {},
   "outputs": [
    {
     "data": {
      "text/html": [
       "\n",
       "            <div>\n",
       "                <p><b>SparkSession - in-memory</b></p>\n",
       "                \n",
       "        <div>\n",
       "            <p><b>SparkContext</b></p>\n",
       "\n",
       "            <p><a href=\"http://ip-172-31-44-238.ec2.internal:4041\">Spark UI</a></p>\n",
       "\n",
       "            <dl>\n",
       "              <dt>Version</dt>\n",
       "                <dd><code>v2.4.4</code></dd>\n",
       "              <dt>Master</dt>\n",
       "                <dd><code>yarn</code></dd>\n",
       "              <dt>AppName</dt>\n",
       "                <dd><code>pyspark-shell</code></dd>\n",
       "            </dl>\n",
       "        </div>\n",
       "        \n",
       "            </div>\n",
       "        "
      ],
      "text/plain": [
       "<pyspark.sql.session.SparkSession at 0x7f834f22b850>"
      ]
     },
     "execution_count": 3,
     "metadata": {},
     "output_type": "execute_result"
    }
   ],
   "source": [
    "from pyspark.sql import SparkSession\n",
    "spark=SparkSession.builder.getOrCreate()\n",
    "spark"
   ]
  },
  {
   "cell_type": "code",
   "execution_count": 4,
   "metadata": {},
   "outputs": [
    {
     "data": {
      "text/plain": [
       "s3.ServiceResource()"
      ]
     },
     "execution_count": 4,
     "metadata": {},
     "output_type": "execute_result"
    }
   ],
   "source": [
    "s3 = boto3.resource('s3')\n",
    "s3"
   ]
  },
  {
   "cell_type": "code",
   "execution_count": 35,
   "metadata": {},
   "outputs": [
    {
     "data": {
      "text/plain": [
       "s3.Bucket(name='noaa-global-hourly-pds')"
      ]
     },
     "execution_count": 35,
     "metadata": {},
     "output_type": "execute_result"
    }
   ],
   "source": [
    "bucket = s3.Bucket(name=\"noaa-global-hourly-pds\")\n",
    "bucket"
   ]
  },
  {
   "cell_type": "code",
   "execution_count": 36,
   "metadata": {},
   "outputs": [],
   "source": [
    "#Get File Name List\n",
    "#prefix = \"2015/\"\n",
    "#prefix = \"2010/\"\n",
    "#prefix = \"2005/\"\n",
    "#prefix = \"2000/\"\n",
    "#prefix = \"1995/\"\n",
    "#prefix = \"1990/\"\n",
    "#prefix = \"1985/\"\n",
    "#prefix = \"1980/\"\n",
    "#prefix = \"1975/\"\n",
    "prefix = \"2019/\"\n",
    "FilesNotFound = True\n",
    "FileNameList=[]\n",
    "for obj in bucket.objects.filter(Prefix=prefix):\n",
    "    FileNameList.append('{0}{1}/{2}'.format('s3://',bucket.name, obj.key))\n",
    "    #print('{0}/{1}'.format(bucket.name, obj.key))\n",
    "    FilesNotFound = False\n",
    "if FilesNotFound:\n",
    "     print(\"ALERT\", \"No file in {0}/{1}\".format(bucket, prefix))\n"
   ]
  },
  {
   "cell_type": "code",
   "execution_count": null,
   "metadata": {},
   "outputs": [],
   "source": [
    "FileNameList"
   ]
  },
  {
   "cell_type": "code",
   "execution_count": 37,
   "metadata": {},
   "outputs": [],
   "source": [
    "import random\n",
    "desired_pct = 50\n",
    "random.seed(20)\n",
    "file_sample = random.sample(FileNameList, int(len(FileNameList) * desired_pct / 100))"
   ]
  },
  {
   "cell_type": "code",
   "execution_count": 54,
   "metadata": {},
   "outputs": [
    {
     "data": {
      "text/plain": [
       "6941"
      ]
     },
     "execution_count": 54,
     "metadata": {},
     "output_type": "execute_result"
    }
   ],
   "source": [
    "len(file_sample)"
   ]
  },
  {
   "cell_type": "code",
   "execution_count": 40,
   "metadata": {},
   "outputs": [],
   "source": [
    "from py4j.protocol import Py4JJavaError\n",
    "\n",
    "def file_exist(sc, file):\n",
    "    try:\n",
    "        rdd = sc.textFile(file)\n",
    "        rdd.take(1)\n",
    "        return True\n",
    "    except Py4JJavaError as e:\n",
    "        return False"
   ]
  },
  {
   "cell_type": "code",
   "execution_count": 44,
   "metadata": {},
   "outputs": [],
   "source": [
    "#Merge\n",
    "rdd = sc.textFile(file_sample[0])\n",
    "i=0\n",
    "#e=0\n",
    "rdd_all=sc.emptyrdd()\n"
   ]
  },
  {
   "cell_type": "code",
   "execution_count": 51,
   "metadata": {},
   "outputs": [],
   "source": [
    "rdd_all=sc.emptyRDD()"
   ]
  },
  {
   "cell_type": "code",
   "execution_count": 52,
   "metadata": {},
   "outputs": [
    {
     "data": {
      "text/plain": [
       "0"
      ]
     },
     "execution_count": 52,
     "metadata": {},
     "output_type": "execute_result"
    }
   ],
   "source": [
    "rdd_all.count()"
   ]
  },
  {
   "cell_type": "code",
   "execution_count": null,
   "metadata": {},
   "outputs": [],
   "source": [
    "while i < len(file_sample):\n",
    "    if file_exist(sc, file_sample[i]):\n",
    "        #print(file_sample[i])\n",
    "        rdd_sep=sc.textFile(file_sample[i])\n",
    "        rdd_all=rdd_all.union(rdd_sep)\n",
    "    else:\n",
    "        print('File does not exist, skipping: ' + file_sample[i])\n",
    "    i += 1\n",
    "    \n",
    "rdd_all.count()"
   ]
  },
  {
   "cell_type": "code",
   "execution_count": 107,
   "metadata": {},
   "outputs": [],
   "source": [
    "#Save\n",
    "rdd_all.repartition(1).saveAsTextFile(\"s3://open-data-noaa/xxxxsample\")"
   ]
  },
  {
   "cell_type": "code",
   "execution_count": 108,
   "metadata": {},
   "outputs": [],
   "source": [
    "df=spark.read.format(\"csv\").option(\"header\", \"true\").load(\"s3://open-data-noaa/xxxxsample\")"
   ]
  },
  {
   "cell_type": "code",
   "execution_count": 109,
   "metadata": {},
   "outputs": [
    {
     "data": {
      "text/plain": [
       "[Row(STATION='86460099999', DATE='2015-01-01T00:00:00', SOURCE='4', LATITUDE='-32.8', LONGITUDE='-56.5166666', ELEVATION='75.0', NAME='PASO DE LOS TOROS, UY', REPORT_TYPE='FM-12', CALL_SIGN='99999', QUALITY_CONTROL='V020', WND='999,9,C,0000,1', CIG='99999,9,9,N', VIS='020000,1,9,9', TMP='+0267,1', DEW='+0212,1', SLP='10009,1', AA1=None, AA2=None, AA3=None, AY1=None, AY2=None, GA1='01,1,+00800,1,08,1', GA2='99,9,+99999,9,02,1', GA3=None, GE1='9,AGL   ,+99999,+99999', GF1='01,99,1,01,1,99,9,00800,1,99,9,99,9', KA1='120,M,+0328,1', KA2='120,N,+0267,1', MA1=None, MD1='2,9,001,9,+999,9', MW1=None, REM='SYN06486460 32598 10000 10267 20212 40009 53000 81205 333 10328 20267=', EQD='Q010     3APC3  '),\n",
       " Row(STATION='86460099999', DATE='2015-01-01T09:00:00', SOURCE='4', LATITUDE='-32.8', LONGITUDE='-56.5166666', ELEVATION='75.0', NAME='PASO DE LOS TOROS, UY', REPORT_TYPE='FM-12', CALL_SIGN='99999', QUALITY_CONTROL='V020', WND='999,9,C,0000,1', CIG='99999,9,9,N', VIS='010000,1,9,9', TMP='+0216,1', DEW='+0204,1', SLP='10026,1', AA1=None, AA2=None, AA3=None, AY1=None, AY2=None, GA1='01,1,+01250,1,08,1', GA2='99,9,+99999,9,00,1', GA3=None, GE1='9,AGL   ,+99999,+99999', GF1='04,99,1,01,1,99,9,01250,1,99,9,99,9', KA1=None, KA2=None, MA1=None, MD1='3,1,999,9,+999,9', MW1='00,1', REM='SYN05486460 41697 40000 10216 20204 40026 53/// 700// 81204=', EQD=None),\n",
       " Row(STATION='86460099999', DATE='2015-01-01T12:00:00', SOURCE='4', LATITUDE='-32.8', LONGITUDE='-56.5166666', ELEVATION='75.0', NAME='PASO DE LOS TOROS, UY', REPORT_TYPE='FM-12', CALL_SIGN='99999', QUALITY_CONTROL='V020', WND='070,1,N,0015,1', CIG='99999,9,9,N', VIS='020000,1,9,9', TMP='+0266,1', DEW='+0219,1', SLP='10033,1', AA1=None, AA2=None, AA3=None, AY1=None, AY2=None, GA1='01,1,+01250,1,08,1', GA2='99,9,+99999,9,03,1', GA3='99,9,+99999,9,00,1', GE1='9,AGL   ,+99999,+99999', GF1='06,99,1,01,1,99,9,01250,1,99,9,99,9', KA1='240,M,+0267,1', KA2='240,N,+0213,1', MA1=None, MD1='3,1,008,1,+999,9', MW1=None, REM='SYN07086460 32698 60703 10266 20219 40033 53008 81234 333 10267 20213 31///=', EQD=None),\n",
       " Row(STATION='86460099999', DATE='2015-01-01T15:00:00', SOURCE='4', LATITUDE='-32.8', LONGITUDE='-56.5166666', ELEVATION='75.0', NAME='PASO DE LOS TOROS, UY', REPORT_TYPE='FM-12', CALL_SIGN='99999', QUALITY_CONTROL='V020', WND='030,1,N,0015,1', CIG='99999,9,9,N', VIS='010000,1,9,9', TMP='+0294,1', DEW='+0211,1', SLP='10020,1', AA1=None, AA2=None, AA3=None, AY1='2,1,02,1', AY2='2,1,02,1', GA1='04,1,+00800,1,09,1', GA2='99,9,+99999,9,05,1', GA3='99,9,+99999,9,02,1', GE1='9,AGL   ,+99999,+99999', GF1='07,99,1,04,1,99,9,00800,1,99,9,99,9', KA1=None, KA2=None, MA1=None, MD1='8,1,012,1,+999,9', MW1='17,1', REM='SYN05486460 41597 70303 10294 20211 40020 58012 71722 84925=', EQD=None),\n",
       " Row(STATION='86460099999', DATE='2015-01-01T18:00:00', SOURCE='4', LATITUDE='-32.8', LONGITUDE='-56.5166666', ELEVATION='75.0', NAME='PASO DE LOS TOROS, UY', REPORT_TYPE='FM-12', CALL_SIGN='99999', QUALITY_CONTROL='V020', WND='180,1,N,0082,1', CIG='99999,9,9,N', VIS='010000,1,9,9', TMP='+0182,2', DEW='+0144,1', SLP='10049,1', AA1='06,0250,3,1', AA2=None, AA3=None, AY1='9,1,02,1', AY2='8,1,02,1', GA1='01,1,+00150,1,07,1', GA2='99,9,+99999,9,05,1', GA3=None, GE1='9,AGL   ,+99999,+99999', GF1='08,99,1,01,1,99,9,00150,1,99,9,99,9', KA1=None, KA2=None, MA1=None, MD1='3,1,026,1,+999,9', MW1='02,1', REM='SYN06086460 11297 81816 10182 20144 40049 53026 60251 70298 8172/=', EQD=None)]"
      ]
     },
     "execution_count": 109,
     "metadata": {},
     "output_type": "execute_result"
    }
   ],
   "source": [
    "df.head(5)"
   ]
  },
  {
   "cell_type": "code",
   "execution_count": 110,
   "metadata": {},
   "outputs": [],
   "source": [
    "df.write.csv(\"s3://open-data-noaa/xxxxsamples\", sep=',', header=True,mode=\"overwrite\")"
   ]
  },
  {
   "cell_type": "code",
   "execution_count": 111,
   "metadata": {},
   "outputs": [],
   "source": [
    "sc.stop()"
   ]
  }
 ],
 "metadata": {
  "kernelspec": {
   "display_name": "Python 3",
   "language": "python",
   "name": "python3"
  },
  "language_info": {
   "codemirror_mode": {
    "name": "ipython",
    "version": 3
   },
   "file_extension": ".py",
   "mimetype": "text/x-python",
   "name": "python",
   "nbconvert_exporter": "python",
   "pygments_lexer": "ipython3",
   "version": "3.7.6"
  }
 },
 "nbformat": 4,
 "nbformat_minor": 4
}
