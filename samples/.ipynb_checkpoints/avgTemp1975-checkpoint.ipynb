{
 "cells": [
  {
   "cell_type": "code",
   "execution_count": 1,
   "metadata": {},
   "outputs": [
    {
     "data": {
      "text/html": [
       "\n",
       "        <div>\n",
       "            <p><b>SparkContext</b></p>\n",
       "\n",
       "            <p><a href=\"http://ip-172-31-46-241.ec2.internal:4040\">Spark UI</a></p>\n",
       "\n",
       "            <dl>\n",
       "              <dt>Version</dt>\n",
       "                <dd><code>v2.4.4</code></dd>\n",
       "              <dt>Master</dt>\n",
       "                <dd><code>yarn</code></dd>\n",
       "              <dt>AppName</dt>\n",
       "                <dd><code>pyspark-shell</code></dd>\n",
       "            </dl>\n",
       "        </div>\n",
       "        "
      ],
      "text/plain": [
       "<SparkContext master=yarn appName=pyspark-shell>"
      ]
     },
     "execution_count": 1,
     "metadata": {},
     "output_type": "execute_result"
    }
   ],
   "source": [
    "#start spark session\n",
    "import findspark\n",
    "findspark.init()\n",
    "from pyspark import SparkContext\n",
    "sc=SparkContext()\n",
    "sc"
   ]
  },
  {
   "cell_type": "code",
   "execution_count": 2,
   "metadata": {},
   "outputs": [
    {
     "data": {
      "text/html": [
       "\n",
       "            <div>\n",
       "                <p><b>SparkSession - in-memory</b></p>\n",
       "                \n",
       "        <div>\n",
       "            <p><b>SparkContext</b></p>\n",
       "\n",
       "            <p><a href=\"http://ip-172-31-46-241.ec2.internal:4040\">Spark UI</a></p>\n",
       "\n",
       "            <dl>\n",
       "              <dt>Version</dt>\n",
       "                <dd><code>v2.4.4</code></dd>\n",
       "              <dt>Master</dt>\n",
       "                <dd><code>yarn</code></dd>\n",
       "              <dt>AppName</dt>\n",
       "                <dd><code>pyspark-shell</code></dd>\n",
       "            </dl>\n",
       "        </div>\n",
       "        \n",
       "            </div>\n",
       "        "
      ],
      "text/plain": [
       "<pyspark.sql.session.SparkSession at 0x7f15901201d0>"
      ]
     },
     "execution_count": 2,
     "metadata": {},
     "output_type": "execute_result"
    }
   ],
   "source": [
    "from pyspark.sql import SparkSession\n",
    "spark=SparkSession.builder.getOrCreate()\n",
    "spark"
   ]
  },
  {
   "cell_type": "markdown",
   "metadata": {},
   "source": [
    "## Try Data 1970"
   ]
  },
  {
   "cell_type": "code",
   "execution_count": 3,
   "metadata": {},
   "outputs": [],
   "source": [
    "data1970 = spark.read\\\n",
    "  .format('csv')\\\n",
    "  .option('header', 'false')\\\n",
    "  .option('inferSchema', 'true')\\\n",
    "  .load(\"s3://open-data-noaa/1970samples\")"
   ]
  },
  {
   "cell_type": "code",
   "execution_count": 4,
   "metadata": {},
   "outputs": [
    {
     "name": "stdout",
     "output_type": "stream",
     "text": [
      "root\n",
      " |-- _c0: string (nullable = true)\n",
      " |-- _c1: string (nullable = true)\n",
      " |-- _c2: string (nullable = true)\n",
      " |-- _c3: string (nullable = true)\n",
      " |-- _c4: string (nullable = true)\n",
      " |-- _c5: string (nullable = true)\n",
      " |-- _c6: string (nullable = true)\n",
      " |-- _c7: string (nullable = true)\n",
      " |-- _c8: string (nullable = true)\n",
      " |-- _c9: string (nullable = true)\n",
      " |-- _c10: string (nullable = true)\n",
      " |-- _c11: string (nullable = true)\n",
      " |-- _c12: string (nullable = true)\n",
      " |-- _c13: string (nullable = true)\n",
      " |-- _c14: string (nullable = true)\n",
      " |-- _c15: string (nullable = true)\n",
      " |-- _c16: string (nullable = true)\n",
      " |-- _c17: string (nullable = true)\n",
      " |-- _c18: string (nullable = true)\n",
      " |-- _c19: string (nullable = true)\n",
      " |-- _c20: string (nullable = true)\n",
      " |-- _c21: string (nullable = true)\n",
      " |-- _c22: string (nullable = true)\n",
      " |-- _c23: string (nullable = true)\n",
      " |-- _c24: string (nullable = true)\n",
      " |-- _c25: string (nullable = true)\n",
      " |-- _c26: string (nullable = true)\n",
      " |-- _c27: string (nullable = true)\n",
      " |-- _c28: string (nullable = true)\n",
      " |-- _c29: string (nullable = true)\n",
      "\n"
     ]
    }
   ],
   "source": [
    "data1970.printSchema()"
   ]
  },
  {
   "cell_type": "code",
   "execution_count": 5,
   "metadata": {},
   "outputs": [
    {
     "name": "stdout",
     "output_type": "stream",
     "text": [
      "+-----------+-------------------+------+--------+-----------+---------+-----------+-----------+---------+---------------+--------------+-----------+------------+-------+-------+-------+-----------+----+----+--------+----+----+--------------------+----+----+----+-------------+----------------+----+----+\n",
      "|        _c0|                _c1|   _c2|     _c3|        _c4|      _c5|        _c6|        _c7|      _c8|            _c9|          _c10|       _c11|        _c12|   _c13|   _c14|   _c15|       _c16|_c17|_c18|    _c19|_c20|_c21|                _c22|_c23|_c24|_c25|         _c26|            _c27|_c28|_c29|\n",
      "+-----------+-------------------+------+--------+-----------+---------+-----------+-----------+---------+---------------+--------------+-----------+------------+-------+-------+-------+-----------+----+----+--------+----+----+--------------------+----+----+----+-------------+----------------+----+----+\n",
      "|    STATION|               DATE|SOURCE|LATITUDE|  LONGITUDE|ELEVATION|       NAME|REPORT_TYPE|CALL_SIGN|QUALITY_CONTROL|           WND|        CIG|         VIS|    TMP|    DEW|    SLP|        AA1| AA2| AJ1|     AY1| GA1| GA2|                 GF1| HL1| IA1| IA2|          KA1|             MD1| MW1| EQD|\n",
      "|31702099999|1970-07-27T15:00:00|     4|    49.0|131.0833333|    257.0|OBLUC E, RS|      FM-12|    99999|           V020|999,1,C,0000,1|22000,1,C,N|002800,1,N,9|+0161,1|+0139,1|10042,1|       null|null|null|1,1,99,9|null|null|00,99,1,00,1,00,1...|null|null|null|         null|2,1,004,1,+999,9|10,1|null|\n",
      "|31702099999|1970-07-27T18:00:00|     4|    49.0|131.0833333|    257.0|OBLUC E, RS|      FM-12|    99999|           V020|999,1,C,0000,1|22000,1,C,N|002600,1,N,9|+0128,1|+0111,1|10046,1|       null|null|null|1,1,99,9|null|null|00,99,1,00,1,00,1...|null|null|null|         null|4,1,000,1,+999,9|10,1|null|\n",
      "|31702099999|1970-07-27T21:00:00|     4|    49.0|131.0833333|    257.0|OBLUC E, RS|      FM-12|    99999|           V020|999,1,C,0000,1|22000,1,C,N|003800,1,N,9|+0111,1|+0100,1|10054,1|99,0000,9,1|null|null|0,1,99,9|null|null|03,99,1,00,1,00,1...|null|null|null|999,N,+0111,1|3,1,006,1,+999,9|10,1|null|\n",
      "|31702099999|1970-07-28T00:00:00|     4|    49.0|131.0833333|    257.0|OBLUC E, RS|      FM-12|    99999|           V020|999,1,C,0000,1|00015,1,C,N|000600,1,N,9|+0139,1|+0128,1|10058,1|99,0000,9,1|null|null|4,1,99,9|null|null|09,99,1,09,1,99,9...|null|null|null|999,N,+0111,1|2,1,007,1,+999,9|45,1|null|\n",
      "+-----------+-------------------+------+--------+-----------+---------+-----------+-----------+---------+---------------+--------------+-----------+------------+-------+-------+-------+-----------+----+----+--------+----+----+--------------------+----+----+----+-------------+----------------+----+----+\n",
      "only showing top 5 rows\n",
      "\n"
     ]
    }
   ],
   "source": [
    "data1970.show(5)"
   ]
  },
  {
   "cell_type": "code",
   "execution_count": 6,
   "metadata": {},
   "outputs": [
    {
     "data": {
      "text/plain": [
       "432378"
      ]
     },
     "execution_count": 6,
     "metadata": {},
     "output_type": "execute_result"
    }
   ],
   "source": [
    "data1970.count()"
   ]
  },
  {
   "cell_type": "code",
   "execution_count": 7,
   "metadata": {},
   "outputs": [
    {
     "data": {
      "text/plain": [
       "181"
      ]
     },
     "execution_count": 7,
     "metadata": {},
     "output_type": "execute_result"
    }
   ],
   "source": [
    "#delete index row\n",
    "data1970.where('_c0==\"STATION\"').count()"
   ]
  },
  {
   "cell_type": "code",
   "execution_count": 8,
   "metadata": {},
   "outputs": [],
   "source": [
    "data19702=data1970.where('_c0!=\"STATION\"')"
   ]
  },
  {
   "cell_type": "code",
   "execution_count": 9,
   "metadata": {},
   "outputs": [
    {
     "data": {
      "text/plain": [
       "432197"
      ]
     },
     "execution_count": 9,
     "metadata": {},
     "output_type": "execute_result"
    }
   ],
   "source": [
    "data19702.count()"
   ]
  },
  {
   "cell_type": "code",
   "execution_count": 10,
   "metadata": {},
   "outputs": [],
   "source": [
    "#add index row\n",
    "from pyspark.sql import SparkSession\n",
    "#from pyspark.sql import functions._\n",
    "#import pyspark.spark.sql.{SQLContext, Row, DataFrame, Column}\n",
    "from pyspark.sql import Row,DataFrame,Column\n",
    "from pyspark.sql import SQLContext\n",
    "#from pyspark.ml import feature.VectorAssembler"
   ]
  },
  {
   "cell_type": "code",
   "execution_count": 58,
   "metadata": {},
   "outputs": [
    {
     "name": "stdout",
     "output_type": "stream",
     "text": [
      "+-----------+-----+\n",
      "|    station| temp|\n",
      "+-----------+-----+\n",
      "|31702099999|+0161|\n",
      "|31702099999|+0128|\n",
      "|31702099999|+0111|\n",
      "|31702099999|+0139|\n",
      "|31702099999|+0222|\n",
      "|31702099999|+0239|\n",
      "|31702099999|+0239|\n",
      "|31702099999|+0150|\n",
      "|31702099999|+0122|\n",
      "|31702099999|+0111|\n",
      "|31702099999|+0122|\n",
      "|31702099999|+0178|\n",
      "|31702099999|+0222|\n",
      "|31702099999|+0239|\n",
      "|31702099999|+0178|\n",
      "|31702099999|+0172|\n",
      "|31702099999|+0161|\n",
      "|31702099999|+0161|\n",
      "|31702099999|+0161|\n",
      "|31702099999|+0150|\n",
      "+-----------+-----+\n",
      "only showing top 20 rows\n",
      "\n"
     ]
    }
   ],
   "source": [
    "import pyspark.sql.functions as f\n",
    "from pyspark.sql.functions import concat, col, lit\n",
    "\n",
    "data2_converted = data19702.select(col(\"_c0\"), col(\"_c13\"))\n",
    "#data2_converted.show()\n",
    "data2_converted2 = data2_converted.select(col(\"_c0\").alias(\"station\"), f.split(data2_converted['_c13'], ',')[0].alias(\"temp\"))\n",
    "data2_converted2.show()"
   ]
  },
  {
   "cell_type": "code",
   "execution_count": null,
   "metadata": {},
   "outputs": [],
   "source": []
  },
  {
   "cell_type": "code",
   "execution_count": 41,
   "metadata": {},
   "outputs": [],
   "source": [
    "#Convert Data Type"
   ]
  },
  {
   "cell_type": "code",
   "execution_count": 59,
   "metadata": {},
   "outputs": [],
   "source": [
    "data2_converted3=data2_converted2.withColumn(\"temp\", data2_converted2[\"temp\"].cast(\"float\"))"
   ]
  },
  {
   "cell_type": "code",
   "execution_count": 63,
   "metadata": {},
   "outputs": [
    {
     "name": "stdout",
     "output_type": "stream",
     "text": [
      "+-----------+------+\n",
      "|    station|  temp|\n",
      "+-----------+------+\n",
      "|24507099999|-550.0|\n",
      "|24507099999|-539.0|\n",
      "|24507099999|-539.0|\n",
      "|24507099999|-539.0|\n",
      "|24507099999|-528.0|\n",
      "|24598099999|-528.0|\n",
      "|24507099999|-522.0|\n",
      "|24598099999|-522.0|\n",
      "|24598099999|-522.0|\n",
      "|24598099999|-522.0|\n",
      "|24507099999|-522.0|\n",
      "|24598099999|-522.0|\n",
      "|24598099999|-522.0|\n",
      "|24598099999|-522.0|\n",
      "|24598099999|-522.0|\n",
      "|24507099999|-522.0|\n",
      "|24598099999|-522.0|\n",
      "|24656099999|-522.0|\n",
      "|24598099999|-522.0|\n",
      "|24598099999|-522.0|\n",
      "+-----------+------+\n",
      "only showing top 20 rows\n",
      "\n"
     ]
    }
   ],
   "source": [
    "data2_converted3.sort('temp', ascending=True).show()"
   ]
  },
  {
   "cell_type": "code",
   "execution_count": 64,
   "metadata": {},
   "outputs": [
    {
     "name": "stdout",
     "output_type": "stream",
     "text": [
      "+-----------+----+\n",
      "|    station|temp|\n",
      "+-----------+----+\n",
      "|31702099999|16.1|\n",
      "|31702099999|12.8|\n",
      "|31702099999|11.1|\n",
      "|31702099999|13.9|\n",
      "|31702099999|22.2|\n",
      "|31702099999|23.9|\n",
      "|31702099999|23.9|\n",
      "|31702099999|15.0|\n",
      "|31702099999|12.2|\n",
      "|31702099999|11.1|\n",
      "|31702099999|12.2|\n",
      "|31702099999|17.8|\n",
      "|31702099999|22.2|\n",
      "|31702099999|23.9|\n",
      "|31702099999|17.8|\n",
      "|31702099999|17.2|\n",
      "|31702099999|16.1|\n",
      "|31702099999|16.1|\n",
      "|31702099999|16.1|\n",
      "|31702099999|15.0|\n",
      "+-----------+----+\n",
      "only showing top 20 rows\n",
      "\n"
     ]
    }
   ],
   "source": [
    "# Rescale since the original data is scaled by 10\n",
    "data2_converted4=data2_converted3.withColumn(\"temp\", data2_converted3[\"temp\"]/10)\n",
    "data2_converted4.show()"
   ]
  },
  {
   "cell_type": "code",
   "execution_count": 73,
   "metadata": {},
   "outputs": [],
   "source": [
    "# Drop rows with NA or missing values in pyspark\n",
    "data2_converted4_dropna=data2_converted4.dropna()"
   ]
  },
  {
   "cell_type": "code",
   "execution_count": 68,
   "metadata": {},
   "outputs": [
    {
     "name": "stdout",
     "output_type": "stream",
     "text": [
      "+-----------+-----+\n",
      "|    station| temp|\n",
      "+-----------+-----+\n",
      "|34385099999|999.9|\n",
      "|34385099999|999.9|\n",
      "|34385099999|999.9|\n",
      "|31959099999|999.9|\n",
      "|34385099999|999.9|\n",
      "|31959099999|999.9|\n",
      "|34385099999|999.9|\n",
      "|31959099999|999.9|\n",
      "|34385099999|999.9|\n",
      "|34385099999|999.9|\n",
      "|34385099999|999.9|\n",
      "|34385099999|999.9|\n",
      "|34385099999|999.9|\n",
      "|34385099999|999.9|\n",
      "|34385099999|999.9|\n",
      "|34385099999|999.9|\n",
      "|34385099999|999.9|\n",
      "|31959099999|999.9|\n",
      "|34385099999|999.9|\n",
      "|31959099999|999.9|\n",
      "+-----------+-----+\n",
      "only showing top 20 rows\n",
      "\n"
     ]
    }
   ],
   "source": [
    "data2_converted4_dropna.sort('temp', ascending=False).show()"
   ]
  },
  {
   "cell_type": "code",
   "execution_count": 74,
   "metadata": {},
   "outputs": [
    {
     "name": "stdout",
     "output_type": "stream",
     "text": [
      "+-----------+----+\n",
      "|    station|temp|\n",
      "+-----------+----+\n",
      "|99999903148|47.8|\n",
      "|99999903148|47.2|\n",
      "|99999903148|46.7|\n",
      "|99999903148|46.7|\n",
      "|99999903148|46.1|\n",
      "|72278523111|46.1|\n",
      "|72278523111|45.6|\n",
      "|99999903148|45.6|\n",
      "|72278523111|45.6|\n",
      "|72278523111|45.6|\n",
      "|99999903148|45.6|\n",
      "|99999903148|45.6|\n",
      "|72278523111|45.6|\n",
      "|99999903148|45.6|\n",
      "|99999903148|45.6|\n",
      "|99999903148|45.6|\n",
      "|72278523111|45.6|\n",
      "|99999903148|45.0|\n",
      "|99999903148|45.0|\n",
      "|72278523111|45.0|\n",
      "+-----------+----+\n",
      "only showing top 20 rows\n",
      "\n"
     ]
    }
   ],
   "source": [
    "#drop 9999 as NA\n",
    "data2_converted4_dropna = data2_converted4_dropna.filter(data2_converted4_dropna.temp != '999.9')\n",
    "data2_converted4_dropna.sort('temp', ascending=False).show()"
   ]
  },
  {
   "cell_type": "code",
   "execution_count": 76,
   "metadata": {},
   "outputs": [
    {
     "data": {
      "text/plain": [
       "428718"
      ]
     },
     "execution_count": 76,
     "metadata": {},
     "output_type": "execute_result"
    }
   ],
   "source": [
    "data2_converted4_dropna.count()"
   ]
  },
  {
   "cell_type": "code",
   "execution_count": 75,
   "metadata": {},
   "outputs": [
    {
     "name": "stdout",
     "output_type": "stream",
     "text": [
      "+-----------+-------------------+\n",
      "|    station|          avg(temp)|\n",
      "+-----------+-------------------+\n",
      "|26157099999| 10.016711590296504|\n",
      "|31263099999|-1.3490997229916997|\n",
      "|72450503923| 14.152203196347017|\n",
      "|30605099999|  28.92348586810232|\n",
      "|33562099999| 10.205019037729308|\n",
      "|28655099999|  36.89171401515152|\n",
      "|99999941606| 26.912910958903993|\n",
      "|99999913874| 16.121856800274102|\n",
      "|33173099999|  67.87831050228301|\n",
      "|33881099999|   74.8690674753601|\n",
      "|37498099999| 283.66189591077995|\n",
      "|30971099999|  35.75356401384089|\n",
      "|34519099999| 11.463466204506098|\n",
      "|30521099999| 0.9399148277197061|\n",
      "|99999903855|   20.1962899543379|\n",
      "|26974099999|  20.79011313330056|\n",
      "|99999912713|  25.58819796954317|\n",
      "|94578599999|  19.90311643835616|\n",
      "|94999900036| 20.945208333333333|\n",
      "|99999914925|  6.129999999999992|\n",
      "+-----------+-------------------+\n",
      "only showing top 20 rows\n",
      "\n"
     ]
    }
   ],
   "source": [
    "#按station average\n",
    "#https://sparkbyexamples.com/spark/using-groupby-on-dataframe/\n",
    "data2_converted4.groupBy(\"station\").mean(\"temp\").show()"
   ]
  },
  {
   "cell_type": "code",
   "execution_count": 78,
   "metadata": {},
   "outputs": [
    {
     "name": "stdout",
     "output_type": "stream",
     "text": [
      "+-----------+-------------------+\n",
      "|    station|            avgtemp|\n",
      "+-----------+-------------------+\n",
      "|26157099999|  4.651490514905158|\n",
      "|31263099999| -6.927089136490249|\n",
      "|72450503923| 14.152203196347017|\n",
      "|30605099999|-2.0938194444444465|\n",
      "|33562099999|  7.456820548420685|\n",
      "|28655099999| 2.4142226581657678|\n",
      "|99999941606| 26.912910958903993|\n",
      "|99999913874| 16.121856800274102|\n",
      "|33173099999|  5.036880584890333|\n",
      "|33881099999|    7.9359349593496|\n",
      "|37498099999|  6.765721649484531|\n",
      "|30971099999| -7.469197396963122|\n",
      "|34519099999|  8.370305980528515|\n",
      "|30521099999| -4.895132398753911|\n",
      "|99999903855| 20.084438862883882|\n",
      "|26974099999|  5.132183908045968|\n",
      "|99999912713|  25.58819796954317|\n",
      "|94578599999|  19.90311643835616|\n",
      "|94999900036| 20.945208333333333|\n",
      "|99999914925|  6.129999999999992|\n",
      "+-----------+-------------------+\n",
      "only showing top 20 rows\n",
      "\n"
     ]
    }
   ],
   "source": [
    "final1970 = data2_converted4_dropna.groupBy(\"station\").mean(\"temp\")\n",
    "final1970 = final1970.select(col(\"station\"),col(\"avg(temp)\").alias(\"avgtemp\"))\n",
    "final1970.show()"
   ]
  },
  {
   "cell_type": "code",
   "execution_count": 79,
   "metadata": {},
   "outputs": [
    {
     "name": "stdout",
     "output_type": "stream",
     "text": [
      "+-----------+-------------------+\n",
      "|    station|            avgtemp|\n",
      "+-----------+-------------------+\n",
      "|72450503923| 14.152203196347017|\n",
      "|30605099999|-2.0938194444444465|\n",
      "|34519099999|  8.370305980528515|\n",
      "|30521099999| -4.895132398753911|\n",
      "|94999900036| 20.945208333333333|\n",
      "|99999914925|  6.129999999999992|\n",
      "|23174099999|-10.596046852122985|\n",
      "|94910099999| 14.739506656225519|\n",
      "|31702099999|-1.4550354609928986|\n",
      "|99999912928| 21.480593607305973|\n",
      "+-----------+-------------------+\n",
      "\n"
     ]
    }
   ],
   "source": [
    "final1970.limit(10).show()"
   ]
  },
  {
   "cell_type": "code",
   "execution_count": 80,
   "metadata": {},
   "outputs": [],
   "source": [
    "final1970.createOrReplaceTempView(\"final1970\")"
   ]
  },
  {
   "cell_type": "code",
   "execution_count": 81,
   "metadata": {},
   "outputs": [],
   "source": [
    "final1970 = spark.sql(\"SELECT station,avgtemp FROM final1970 ORDER BY avgtemp ASC\")"
   ]
  },
  {
   "cell_type": "code",
   "execution_count": 82,
   "metadata": {},
   "outputs": [],
   "source": [
    "sample1970 = final1970.limit(10)"
   ]
  },
  {
   "cell_type": "code",
   "execution_count": 83,
   "metadata": {},
   "outputs": [
    {
     "name": "stdout",
     "output_type": "stream",
     "text": [
      "+-----------+-------------------+\n",
      "|    station|            avgtemp|\n",
      "+-----------+-------------------+\n",
      "|21432099999|-15.157743442328423|\n",
      "|21636099999| -14.38604060913705|\n",
      "|20679099999|-14.114778325123217|\n",
      "|21824099999|-13.872358015815962|\n",
      "|21823099999|-13.847615658362985|\n",
      "|99999927512|-13.362868908716532|\n",
      "|24598099999|-12.993143056038972|\n",
      "|24656099999|-12.504966611018347|\n",
      "|25034099999|-11.968263702568036|\n",
      "|23174099999|-10.596046852122985|\n",
      "+-----------+-------------------+\n",
      "\n"
     ]
    }
   ],
   "source": [
    "sample1970.show()"
   ]
  },
  {
   "cell_type": "code",
   "execution_count": 39,
   "metadata": {},
   "outputs": [
    {
     "name": "stdout",
     "output_type": "stream",
     "text": [
      "Collecting pyarrow\n",
      "  Downloading pyarrow-0.17.0-cp37-cp37m-manylinux2014_x86_64.whl (63.8 MB)\n",
      "\u001b[K     |████████████████████████████████| 63.8 MB 16.1 MB/s eta 0:00:01\n",
      "\u001b[?25hRequirement already satisfied: numpy>=1.14 in /home/hadoop/miniconda/lib/python3.7/site-packages (from pyarrow) (1.18.1)\n",
      "Installing collected packages: pyarrow\n",
      "Successfully installed pyarrow-0.17.0\n",
      "Note: you may need to restart the kernel to use updated packages.\n"
     ]
    }
   ],
   "source": [
    "#pip install pyarrow"
   ]
  },
  {
   "cell_type": "code",
   "execution_count": 84,
   "metadata": {},
   "outputs": [],
   "source": [
    "sample1970_p = sample1970.toPandas()"
   ]
  },
  {
   "cell_type": "code",
   "execution_count": 85,
   "metadata": {},
   "outputs": [],
   "source": [
    "final1970_p = final1970.toPandas()"
   ]
  },
  {
   "cell_type": "code",
   "execution_count": 86,
   "metadata": {},
   "outputs": [
    {
     "data": {
      "text/plain": [
       "<matplotlib.axes._subplots.AxesSubplot at 0x7f155b6ce9d0>"
      ]
     },
     "execution_count": 86,
     "metadata": {},
     "output_type": "execute_result"
    },
    {
     "data": {
      "image/png": "[encoded data removed]",
      "text/plain": [
       "<Figure size 432x288 with 1 Axes>"
      ]
     },
     "metadata": {
      "needs_background": "light"
     },
     "output_type": "display_data"
    }
   ],
   "source": [
    "final1970_p.plot(kind='barh',y='avgtemp',colormap='RdBu')"
   ]
  },
  {
   "cell_type": "code",
   "execution_count": 88,
   "metadata": {},
   "outputs": [
    {
     "data": {
      "text/plain": [
       "<matplotlib.axes._subplots.AxesSubplot at 0x7f155b2d02d0>"
      ]
     },
     "execution_count": 88,
     "metadata": {},
     "output_type": "execute_result"
    },
    {
     "data": {
      "image/png": "[encoded data removed]",
      "text/plain": [
       "<Figure size 432x288 with 1 Axes>"
      ]
     },
     "metadata": {
      "needs_background": "light"
     },
     "output_type": "display_data"
    }
   ],
   "source": [
    "sample1970_p.plot(kind='barh',x = 'station', y='avgtemp',colormap='RdBu')"
   ]
  },
  {
   "cell_type": "markdown",
   "metadata": {},
   "source": [
    "### Calculate and store AvgTemp for 1970"
   ]
  },
  {
   "cell_type": "code",
   "execution_count": 92,
   "metadata": {},
   "outputs": [],
   "source": [
    "from pyspark.sql.functions import mean as mean, stddev as stddev, col\n",
    "\n",
    "stats1970 = data2_converted4_dropna.select(\n",
    "    _mean(col('temp')).alias('mean'),\n",
    "    _stddev(col('temp')).alias('std')\n",
    ").collect()\n",
    "\n"
   ]
  },
  {
   "cell_type": "code",
   "execution_count": 104,
   "metadata": {},
   "outputs": [
    {
     "data": {
      "text/plain": [
       "[Row(mean=8.63904268073653, std=15.908194466372006)]"
      ]
     },
     "execution_count": 104,
     "metadata": {},
     "output_type": "execute_result"
    }
   ],
   "source": [
    "stats1970"
   ]
  },
  {
   "cell_type": "code",
   "execution_count": 105,
   "metadata": {},
   "outputs": [],
   "source": [
    "mean = stats1970[0]['mean']\n",
    "std = stats1970[0]['std']"
   ]
  },
  {
   "cell_type": "code",
   "execution_count": 106,
   "metadata": {},
   "outputs": [
    {
     "data": {
      "text/plain": [
       "8.63904268073653"
      ]
     },
     "execution_count": 106,
     "metadata": {},
     "output_type": "execute_result"
    }
   ],
   "source": [
    "mean"
   ]
  },
  {
   "cell_type": "code",
   "execution_count": 97,
   "metadata": {},
   "outputs": [],
   "source": [
    "import numpy as np\n",
    "np1970 = final1970.collect()"
   ]
  },
  {
   "cell_type": "code",
   "execution_count": 103,
   "metadata": {},
   "outputs": [
    {
     "name": "stdout",
     "output_type": "stream",
     "text": [
      "+-----------------+--------------+\n",
      "|     avg(avgtemp)|count(avgtemp)|\n",
      "+-----------------+--------------+\n",
      "|7.192863336313319|           149|\n",
      "+-----------------+--------------+\n",
      "\n"
     ]
    }
   ],
   "source": [
    "final1970.agg(f.mean('avgtemp'), f.count('avgtemp')).show()"
   ]
  },
  {
   "cell_type": "code",
   "execution_count": 109,
   "metadata": {},
   "outputs": [
    {
     "name": "stdout",
     "output_type": "stream",
     "text": [
      "+-----------------+\n",
      "|        avg(temp)|\n",
      "+-----------------+\n",
      "|8.639042680736528|\n",
      "+-----------------+\n",
      "\n"
     ]
    }
   ],
   "source": [
    "data2_converted4_dropna.agg({\"temp\": \"avg\"}).show()"
   ]
  },
  {
   "cell_type": "code",
   "execution_count": null,
   "metadata": {},
   "outputs": [],
   "source": []
  }
 ],
 "metadata": {
  "kernelspec": {
   "display_name": "Python 3",
   "language": "python",
   "name": "python3"
  },
  "language_info": {
   "codemirror_mode": {
    "name": "ipython",
    "version": 3
   },
   "file_extension": ".py",
   "mimetype": "text/x-python",
   "name": "python",
   "nbconvert_exporter": "python",
   "pygments_lexer": "ipython3",
   "version": "3.7.6"
  }
 },
 "nbformat": 4,
 "nbformat_minor": 4
}
