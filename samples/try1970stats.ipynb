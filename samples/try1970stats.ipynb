{
 "cells": [
  {
   "cell_type": "code",
   "execution_count": 1,
   "metadata": {},
   "outputs": [],
   "source": [
    "import boto3\n",
    "import botocore\n",
    "import pandas as pd\n",
    "from IPython.display import display, Markdown\n",
    "\n",
    "from io import StringIO\n",
    "import os"
   ]
  },
  {
   "cell_type": "code",
   "execution_count": 2,
   "metadata": {},
   "outputs": [
    {
     "data": {
      "text/html": [
       "\n",
       "        <div>\n",
       "            <p><b>SparkContext</b></p>\n",
       "\n",
       "            <p><a href=\"http://ip-172-31-33-131.ec2.internal:4040\">Spark UI</a></p>\n",
       "\n",
       "            <dl>\n",
       "              <dt>Version</dt>\n",
       "                <dd><code>v2.4.4</code></dd>\n",
       "              <dt>Master</dt>\n",
       "                <dd><code>yarn</code></dd>\n",
       "              <dt>AppName</dt>\n",
       "                <dd><code>pyspark-shell</code></dd>\n",
       "            </dl>\n",
       "        </div>\n",
       "        "
      ],
      "text/plain": [
       "<SparkContext master=yarn appName=pyspark-shell>"
      ]
     },
     "execution_count": 2,
     "metadata": {},
     "output_type": "execute_result"
    }
   ],
   "source": [
    "import findspark\n",
    "findspark.init()\n",
    "from pyspark import SparkContext\n",
    "sc=SparkContext()\n",
    "sc"
   ]
  },
  {
   "cell_type": "code",
   "execution_count": 3,
   "metadata": {},
   "outputs": [
    {
     "data": {
      "text/html": [
       "\n",
       "            <div>\n",
       "                <p><b>SparkSession - in-memory</b></p>\n",
       "                \n",
       "        <div>\n",
       "            <p><b>SparkContext</b></p>\n",
       "\n",
       "            <p><a href=\"http://ip-172-31-33-131.ec2.internal:4040\">Spark UI</a></p>\n",
       "\n",
       "            <dl>\n",
       "              <dt>Version</dt>\n",
       "                <dd><code>v2.4.4</code></dd>\n",
       "              <dt>Master</dt>\n",
       "                <dd><code>yarn</code></dd>\n",
       "              <dt>AppName</dt>\n",
       "                <dd><code>pyspark-shell</code></dd>\n",
       "            </dl>\n",
       "        </div>\n",
       "        \n",
       "            </div>\n",
       "        "
      ],
      "text/plain": [
       "<pyspark.sql.session.SparkSession at 0x7f569112b7d0>"
      ]
     },
     "execution_count": 3,
     "metadata": {},
     "output_type": "execute_result"
    }
   ],
   "source": [
    "from pyspark.sql import SparkSession\n",
    "spark=SparkSession.builder.getOrCreate()\n",
    "spark"
   ]
  },
  {
   "cell_type": "code",
   "execution_count": 12,
   "metadata": {},
   "outputs": [],
   "source": [
    "data1970 = spark.read.option(\"header\", \"false\").csv(\"s3://noaa-global-hourly-pds/1970/*.csv\")"
   ]
  },
  {
   "cell_type": "code",
   "execution_count": 13,
   "metadata": {},
   "outputs": [
    {
     "name": "stdout",
     "output_type": "stream",
     "text": [
      "root\n",
      " |-- _c0: string (nullable = true)\n",
      " |-- _c1: string (nullable = true)\n",
      " |-- _c2: string (nullable = true)\n",
      " |-- _c3: string (nullable = true)\n",
      " |-- _c4: string (nullable = true)\n",
      " |-- _c5: string (nullable = true)\n",
      " |-- _c6: string (nullable = true)\n",
      " |-- _c7: string (nullable = true)\n",
      " |-- _c8: string (nullable = true)\n",
      " |-- _c9: string (nullable = true)\n",
      " |-- _c10: string (nullable = true)\n",
      " |-- _c11: string (nullable = true)\n",
      " |-- _c12: string (nullable = true)\n",
      " |-- _c13: string (nullable = true)\n",
      " |-- _c14: string (nullable = true)\n",
      " |-- _c15: string (nullable = true)\n",
      " |-- _c16: string (nullable = true)\n",
      " |-- _c17: string (nullable = true)\n",
      " |-- _c18: string (nullable = true)\n",
      " |-- _c19: string (nullable = true)\n",
      " |-- _c20: string (nullable = true)\n",
      " |-- _c21: string (nullable = true)\n",
      " |-- _c22: string (nullable = true)\n",
      " |-- _c23: string (nullable = true)\n",
      " |-- _c24: string (nullable = true)\n",
      " |-- _c25: string (nullable = true)\n",
      " |-- _c26: string (nullable = true)\n",
      " |-- _c27: string (nullable = true)\n",
      " |-- _c28: string (nullable = true)\n",
      " |-- _c29: string (nullable = true)\n",
      " |-- _c30: string (nullable = true)\n",
      " |-- _c31: string (nullable = true)\n",
      "\n"
     ]
    }
   ],
   "source": [
    "data1970.printSchema()"
   ]
  },
  {
   "cell_type": "code",
   "execution_count": 20,
   "metadata": {},
   "outputs": [
    {
     "data": {
      "text/plain": [
       "8694985"
      ]
     },
     "execution_count": 20,
     "metadata": {},
     "output_type": "execute_result"
    }
   ],
   "source": [
    "data1970.count()"
   ]
  },
  {
   "cell_type": "code",
   "execution_count": 14,
   "metadata": {},
   "outputs": [
    {
     "data": {
      "text/plain": [
       "DataFrame[_c0: string, _c1: string, _c2: string, _c3: string, _c4: string, _c5: string, _c6: string, _c7: string, _c8: string, _c9: string, _c10: string, _c11: string, _c12: string, _c13: string, _c14: string, _c15: string, _c16: string, _c17: string, _c18: string, _c19: string, _c20: string, _c21: string, _c22: string, _c23: string, _c24: string, _c25: string, _c26: string, _c27: string, _c28: string, _c29: string, _c30: string, _c31: string]"
      ]
     },
     "execution_count": 14,
     "metadata": {},
     "output_type": "execute_result"
    }
   ],
   "source": [
    "data1970.cache()"
   ]
  },
  {
   "cell_type": "code",
   "execution_count": 15,
   "metadata": {},
   "outputs": [
    {
     "data": {
      "text/plain": [
       "3006"
      ]
     },
     "execution_count": 15,
     "metadata": {},
     "output_type": "execute_result"
    }
   ],
   "source": [
    "data1970.where('_c0==\"STATION\"').count()"
   ]
  },
  {
   "cell_type": "code",
   "execution_count": 18,
   "metadata": {},
   "outputs": [],
   "source": [
    "data19702=data1970.where('_c0!= \"STATION\" ')"
   ]
  },
  {
   "cell_type": "code",
   "execution_count": 19,
   "metadata": {},
   "outputs": [
    {
     "data": {
      "text/plain": [
       "8691979"
      ]
     },
     "execution_count": 19,
     "metadata": {},
     "output_type": "execute_result"
    }
   ],
   "source": [
    "data19702.count()"
   ]
  },
  {
   "cell_type": "code",
   "execution_count": 59,
   "metadata": {},
   "outputs": [
    {
     "name": "stdout",
     "output_type": "stream",
     "text": [
      "+-----------+-------------------+------+--------+---------+---------+--------------------+-----------+---------+---------------+--------------+-----------+------------+-------+-------+-------+-----------+------------------+------------------+------------------+------------------+-----------------+-----------------+-----------------+-----------------+--------------------+---------------+----+----+----+----+----------------+\n",
      "|        _c0|                _c1|   _c2|     _c3|      _c4|      _c5|                 _c6|        _c7|      _c8|            _c9|          _c10|       _c11|        _c12|   _c13|   _c14|   _c15|       _c16|              _c17|              _c18|              _c19|              _c20|             _c21|             _c22|             _c23|             _c24|                _c25|           _c26|_c27|_c28|_c29|_c30|            _c31|\n",
      "+-----------+-------------------+------+--------+---------+---------+--------------------+-----------+---------+---------------+--------------+-----------+------------+-------+-------+-------+-----------+------------------+------------------+------------------+------------------+-----------------+-----------------+-----------------+-----------------+--------------------+---------------+----+----+----+----+----------------+\n",
      "|    STATION|               DATE|SOURCE|LATITUDE|LONGITUDE|ELEVATION|                NAME|REPORT_TYPE|CALL_SIGN|QUALITY_CONTROL|           WND|        CIG|         VIS|    TMP|    DEW|    SLP|        AA1|               GA1|               GA2|               GA3|               GA4|              GD1|              GD2|              GD3|              GD4|                 GF1|            MA1| MW1| MW2| MW3| MW4|             EQD|\n",
      "|72572024127|1970-01-01T00:00:00|     C| 40.7781|-111.9694|   1287.8|SALT LAKE CITY IN...|      SAO  |    SLC  |           V020|160,5,N,0015,5|02286,4,9,N|012800,5,N,1|-0011,5|-0056,5|10240,5|01,0000,9,5|              null|              null|              null|              null|2,99,5,+99999,9,9|4,99,5,+99999,9,9|0,99,5,+99999,9,9|0,99,5,+99999,9,9|08,08,5,99,9,99,9...|99999,9,08754,5|00,1|null|null|null|N01 00000JPWTH 1|\n",
      "|72572024127|1970-01-01T01:00:00|     C| 40.7781|-111.9694|   1287.8|SALT LAKE CITY IN...|      SAO  |    SLC  |           V020|220,5,N,0015,5|01676,4,9,N|004800,5,N,1|-0011,5|-0061,5|10236,5|01,0000,9,5|09,1,+99999,9,10,4|02,1,+00762,4,15,4|09,1,+01676,4,06,4|              null|6,01,5,+99999,9,9|2,02,5,+99999,9,9|4,08,5,+99999,9,9|0,99,5,+99999,9,9|08,08,5,99,9,99,9...|99999,9,08750,5|85,5|null|null|null|N01 05000JPWTH 1|\n",
      "|72572024127|1970-01-01T02:00:00|     C| 40.7781|-111.9694|   1287.8|SALT LAKE CITY IN...|      SAO  |    SLC  |           V020|010,5,N,0015,5|00213,4,9,N|002400,5,N,1|-0022,5|-0044,5|10237,5|01,0003,9,5|              null|              null|              null|              null|0,99,5,+99999,9,9|0,99,5,+99999,9,9|0,99,5,+99999,9,9|             null|08,08,5,99,9,99,9...|99999,9,08750,5|71,5|null|null|null|N01 04000JPWTH 1|\n",
      "|72572024127|1970-01-01T03:00:00|     C| 40.7781|-111.9694|   1287.8|SALT LAKE CITY IN...|      SAO  |    SLC  |           V020|230,5,N,0021,5|01158,4,9,N|004800,5,N,1|-0022,5|-0044,5|10234,5|01,0000,9,5|              null|              null|              null|              null|6,99,5,+99999,9,9|2,99,5,+99999,9,9|4,99,5,+99999,9,9|0,99,5,+99999,9,9|08,08,5,99,9,99,9...|99999,9,08747,5|71,5|null|null|null|N01 04000JPWTH 1|\n",
      "|72572024127|1970-01-01T04:00:00|     C| 40.7781|-111.9694|   1287.8|SALT LAKE CITY IN...|      SAO  |    SLC  |           V020|999,5,C,0000,5|00305,4,9,N|001600,5,N,1|-0022,5|-0044,5|10235,5|01,0005,9,5|09,1,+00305,4,10,4|              null|              null|              null|5,08,5,+99999,9,9|0,99,5,+99999,9,9|0,99,5,+99999,9,9|0,99,5,+99999,9,9|08,08,5,99,9,99,9...|99999,9,08747,5|71,5|null|null|null|N01 04000JPWTH 1|\n",
      "|72572024127|1970-01-01T05:00:00|     C| 40.7781|-111.9694|   1287.8|SALT LAKE CITY IN...|      SAO  |    SLC  |           V020|350,5,N,0036,5|00213,4,9,N|001600,5,N,1|-0028,5|-0044,5|10230,5|01,0005,9,5|              null|              null|              null|              null|5,99,5,+99999,9,9|0,99,5,+99999,9,9|0,99,5,+99999,9,9|0,99,5,+99999,9,9|08,08,5,99,9,99,9...|99999,9,08744,5|71,5|null|null|null|N01 04000JPWTH 1|\n",
      "|72572024127|1970-01-01T06:00:00|     C| 40.7781|-111.9694|   1287.8|SALT LAKE CITY IN...|      SAO  |    SLC  |           V020|360,5,N,0036,5|00366,4,9,N|006400,5,N,1|-0033,5|-0050,5|10227,5|01,0000,9,5|              null|              null|              null|              null|6,99,5,+99999,9,9|3,99,5,+99999,9,9|4,99,5,+99999,9,9|0,99,5,+99999,9,9|08,08,5,99,9,99,9...|99999,9,08744,5|71,5|null|null|null|N01 04000JPWTH 1|\n",
      "|72572024127|1970-01-01T07:00:00|     C| 40.7781|-111.9694|   1287.8|SALT LAKE CITY IN...|      SAO  |    SLC  |           V020|340,5,N,0046,5|00518,4,9,N|006400,5,N,1|-0028,5|-0050,5|10228,5|01,0000,9,5|09,1,+99999,9,10,4|04,1,+00518,4,13,4|09,1,+00914,4,06,4|              null|6,02,5,+99999,9,9|3,04,5,+99999,9,9|4,08,5,+99999,9,9|0,99,5,+99999,9,9|08,08,5,99,9,99,9...|99999,9,08744,5|71,5|null|null|null|N01 04000JPWTH 1|\n",
      "|72572024127|1970-01-01T08:00:00|     C| 40.7781|-111.9694|   1287.8|SALT LAKE CITY IN...|      SAO  |    SLC  |           V020|320,5,N,0057,5|00762,4,9,N|000000,1,N,1|-0039,5|+9999,9|99999,9|01,0000,9,5|              null|              null|              null|              null|             null|             null|             null|             null|07,99,5,99,9,99,9...|           null|00,1|null|null|null|N01 00000JPWTH 1|\n",
      "|72572024127|1970-01-01T09:00:00|     C| 40.7781|-111.9694|   1287.8|SALT LAKE CITY IN...|      SAO  |    SLC  |           V020|350,5,N,0026,5|00427,4,9,N|000000,1,N,1|-0083,5|+9999,9|99999,9|01,0000,9,5|              null|              null|              null|              null|             null|             null|             null|             null|08,99,5,99,9,99,9...|           null|85,5|null|null|null|N01 05000JPWTH 1|\n",
      "|72572024127|1970-01-01T10:00:00|     C| 40.7781|-111.9694|   1287.8|SALT LAKE CITY IN...|      SAO  |    SLC  |           V020|280,5,N,0052,5|22000,5,9,N|032000,5,N,1|-0106,5|-0122,5|10248,5|01,0000,9,5|02,1,+00900,9,15,4|99,9,+00914,4,06,4|99,9,+99999,9,99,9|99,9,+99999,9,99,9|2,00,5,+99999,9,9|0,02,5,+99999,9,9|0,00,5,+99999,9,9|0,00,5,+99999,9,9|02,02,5,99,9,99,9...|99999,9,08750,5|00,1|null|null|null|N01 00000JPWTH 1|\n",
      "|72572024127|1970-01-01T11:00:00|     C| 40.7781|-111.9694|   1287.8|SALT LAKE CITY IN...|      SAO  |    SLC  |           V020|270,5,N,0036,5|22000,5,9,N|000000,1,N,1|-0106,5|+9999,9|99999,9|01,0000,9,5|              null|              null|              null|              null|             null|             null|             null|             null|00,99,5,99,9,99,9...|           null|00,1|null|null|null|N01 00000JPWTH 1|\n",
      "|72572024127|1970-01-01T12:00:00|     C| 40.7781|-111.9694|   1287.8|SALT LAKE CITY IN...|      SAO  |    SLC  |           V020|290,5,N,0036,5|22000,5,9,N|000000,1,N,1|-0122,5|+9999,9|99999,9|01,0000,9,5|              null|              null|              null|              null|             null|             null|             null|             null|02,99,5,99,9,99,9...|           null|00,1|null|null|null|N01 00000JPWTH 1|\n",
      "|72572024127|1970-01-01T13:00:00|     C| 40.7781|-111.9694|   1287.8|SALT LAKE CITY IN...|      SAO  |    SLC  |           V020|200,5,N,0010,5|22000,5,9,N|048000,5,N,1|-0128,5|-0144,5|10260,5|01,0000,9,5|99,9,+99999,9,06,4|99,9,+99999,9,99,9|99,9,+99999,9,99,9|99,9,+99999,9,99,9|0,00,5,+99999,9,9|0,00,5,+99999,9,9|0,00,5,+99999,9,9|0,00,5,+99999,9,9|00,00,5,99,9,99,9...|99999,9,08757,5|00,1|null|null|null|N01 00000JPWTH 1|\n",
      "|72572024127|1970-01-01T14:00:00|     C| 40.7781|-111.9694|   1287.8|SALT LAKE CITY IN...|      SAO  |    SLC  |           V020|999,5,C,0000,5|22000,5,9,N|048000,5,N,1|-0133,5|-0150,5|10268,5|01,0000,9,5|              null|              null|              null|              null|2,99,5,+99999,9,9|0,99,5,+99999,9,9|0,99,5,+99999,9,9|0,99,5,+99999,9,9|02,02,5,99,9,99,9...|99999,9,08761,5|00,1|null|null|null|N01 00000JPWTH 1|\n",
      "|72572024127|1970-01-01T15:00:00|     C| 40.7781|-111.9694|   1287.8|SALT LAKE CITY IN...|      SAO  |    SLC  |           V020|270,5,N,0036,5|22000,5,9,N|048000,5,N,1|-0128,5|-0150,5|10275,5|01,0000,9,5|              null|              null|              null|              null|2,99,5,+99999,9,9|0,99,5,+99999,9,9|0,99,5,+99999,9,9|0,99,5,+99999,9,9|02,02,5,99,9,99,9...|99999,9,08771,5|00,1|null|null|null|N01 00000JPWTH 1|\n",
      "|72572024127|1970-01-01T16:00:00|     C| 40.7781|-111.9694|   1287.8|SALT LAKE CITY IN...|      SAO  |    SLC  |           V020|190,5,N,0021,5|22000,5,9,N|048000,5,N,1|-0122,5|-0150,5|10278,5|01,0000,9,5|99,9,+99999,9,03,4|99,9,+99999,9,99,9|99,9,+99999,9,99,9|99,9,+99999,9,99,9|0,00,5,+99999,9,9|0,00,5,+99999,9,9|0,00,5,+99999,9,9|0,00,5,+99999,9,9|00,00,5,99,9,99,9...|99999,9,08771,5|00,1|null|null|null|N01 00000JPWTH 1|\n",
      "|72572024127|1970-01-01T17:00:00|     C| 40.7781|-111.9694|   1287.8|SALT LAKE CITY IN...|      SAO  |    SLC  |           V020|999,5,C,0000,5|22000,5,9,N|048000,5,N,1|-0128,5|-0150,5|10289,5|01,0000,9,5|              null|              null|              null|              null|2,99,5,+99999,9,9|0,99,5,+99999,9,9|0,99,5,+99999,9,9|0,99,5,+99999,9,9|01,01,5,99,9,99,9...|99999,9,08778,5|00,1|null|null|null|N01 00000JPWTH 1|\n",
      "|72572024127|1970-01-01T18:00:00|     C| 40.7781|-111.9694|   1287.8|SALT LAKE CITY IN...|      SAO  |    SLC  |           V020|090,5,N,0021,5|22000,5,9,N|032000,5,N,1|-0094,5|-0111,5|10290,5|01,0000,9,5|              null|              null|              null|              null|2,99,5,+99999,9,9|0,99,5,+99999,9,9|0,99,5,+99999,9,9|0,99,5,+99999,9,9|01,01,5,99,9,99,9...|99999,9,08784,5|00,1|null|null|null|N01 00000JPWTH 1|\n",
      "+-----------+-------------------+------+--------+---------+---------+--------------------+-----------+---------+---------------+--------------+-----------+------------+-------+-------+-------+-----------+------------------+------------------+------------------+------------------+-----------------+-----------------+-----------------+-----------------+--------------------+---------------+----+----+----+----+----------------+\n",
      "only showing top 20 rows\n",
      "\n"
     ]
    }
   ],
   "source": [
    "data1970.show()"
   ]
  },
  {
   "cell_type": "code",
   "execution_count": 21,
   "metadata": {},
   "outputs": [],
   "source": [
    "#add index row\n",
    "from pyspark.sql import SparkSession\n",
    "#from pyspark.sql import functions._\n",
    "#import pyspark.spark.sql.{SQLContext, Row, DataFrame, Column}\n",
    "from pyspark.sql import Row,DataFrame,Column\n",
    "from pyspark.sql import SQLContext\n",
    "#from pyspark.ml import feature.VectorAssembler"
   ]
  },
  {
   "cell_type": "code",
   "execution_count": 77,
   "metadata": {},
   "outputs": [
    {
     "name": "stdout",
     "output_type": "stream",
     "text": [
      "+-----------+------+-----+------+-----+\n",
      "|    station|   vis| temp|liquid|liqhr|\n",
      "+-----------+------+-----+------+-----+\n",
      "|72572024127|012800|-0011|  0000|   01|\n",
      "|72572024127|004800|-0011|  0000|   01|\n",
      "|72572024127|002400|-0022|  0003|   01|\n",
      "|72572024127|004800|-0022|  0000|   01|\n",
      "|72572024127|001600|-0022|  0005|   01|\n",
      "|72572024127|001600|-0028|  0005|   01|\n",
      "|72572024127|006400|-0033|  0000|   01|\n",
      "|72572024127|006400|-0028|  0000|   01|\n",
      "|72572024127|000000|-0039|  0000|   01|\n",
      "|72572024127|000000|-0083|  0000|   01|\n",
      "|72572024127|032000|-0106|  0000|   01|\n",
      "|72572024127|000000|-0106|  0000|   01|\n",
      "|72572024127|000000|-0122|  0000|   01|\n",
      "|72572024127|048000|-0128|  0000|   01|\n",
      "|72572024127|048000|-0133|  0000|   01|\n",
      "|72572024127|048000|-0128|  0000|   01|\n",
      "|72572024127|048000|-0122|  0000|   01|\n",
      "|72572024127|048000|-0128|  0000|   01|\n",
      "|72572024127|032000|-0094|  0000|   01|\n",
      "|72572024127|032000|-0061|  0000|   01|\n",
      "+-----------+------+-----+------+-----+\n",
      "only showing top 20 rows\n",
      "\n"
     ]
    }
   ],
   "source": [
    "import pyspark.sql.functions as f\n",
    "from pyspark.sql.functions import concat, col, lit\n",
    "\n",
    "data2_converted = data19702.select(col(\"_c0\"), col(\"_c12\"), col(\"_c13\"), col(\"_c16\"))\n",
    "#data2_converted.show()\n",
    "data2_converted2 = data2_converted.select(col(\"_c0\").alias(\"station\"), f.split(data2_converted['_c12'], ',')[0].alias(\"vis\"),f.split(data2_converted['_c13'], ',')[0].alias(\"temp\"), f.split(data2_converted['_c16'], ',')[1].alias(\"liquid\"),f.split(data2_converted['_c16'], ',')[0].alias(\"liqhr\"))\n",
    "data2_converted2.show()"
   ]
  },
  {
   "cell_type": "code",
   "execution_count": 79,
   "metadata": {},
   "outputs": [],
   "source": [
    "data2_converted3=data2_converted2.withColumn(\"temp\", data2_converted2[\"temp\"].cast(\"float\"))\n",
    "data2_converted3=data2_converted3.withColumn(\"vis\", data2_converted3[\"vis\"].cast(\"float\"))\n",
    "data2_converted3=data2_converted3.withColumn(\"liquid\", data2_converted3[\"liquid\"].cast(\"float\"))\n",
    "data2_converted3=data2_converted3.withColumn(\"liqhr\", data2_converted3[\"liqhr\"].cast(\"float\"))"
   ]
  },
  {
   "cell_type": "code",
   "execution_count": 62,
   "metadata": {},
   "outputs": [
    {
     "name": "stdout",
     "output_type": "stream",
     "text": [
      "+-----------+-------+------+\n",
      "|    station|    vis|  temp|\n",
      "+-----------+-------+------+\n",
      "|89009090001|11200.0|-750.0|\n",
      "|89009090001|11200.0|-745.0|\n",
      "|89009090001|11200.0|-739.0|\n",
      "|89009090001|11200.0|-734.0|\n",
      "|89009090001|11200.0|-734.0|\n",
      "|89009090001|11200.0|-734.0|\n",
      "|89009090001|11200.0|-728.0|\n",
      "|89009090001|11200.0|-728.0|\n",
      "|89009090001|11200.0|-722.0|\n",
      "|89009090001|11200.0|-722.0|\n",
      "|89009090001|11200.0|-722.0|\n",
      "|89009090001|11200.0|-722.0|\n",
      "|89009090001|11200.0|-722.0|\n",
      "|89009090001|11200.0|-717.0|\n",
      "|89009090001|11200.0|-717.0|\n",
      "|89009090001| 8000.0|-717.0|\n",
      "|89009090001| 8000.0|-711.0|\n",
      "|89009090001|11200.0|-711.0|\n",
      "|89009090001|11200.0|-711.0|\n",
      "|89009090001|11200.0|-711.0|\n",
      "+-----------+-------+------+\n",
      "only showing top 20 rows\n",
      "\n"
     ]
    }
   ],
   "source": [
    "data2_converted3.sort('temp', ascending=True).show()"
   ]
  },
  {
   "cell_type": "code",
   "execution_count": 81,
   "metadata": {},
   "outputs": [
    {
     "name": "stdout",
     "output_type": "stream",
     "text": [
      "+-----------+-------+------+------+-----+\n",
      "|    station|    vis|  temp|liquid|liqhr|\n",
      "+-----------+-------+------+------+-----+\n",
      "|72572024127|12800.0| -11.0|   0.0|  1.0|\n",
      "|72572024127| 4800.0| -11.0|   0.0|  1.0|\n",
      "|72572024127| 2400.0| -22.0|   0.3|  1.0|\n",
      "|72572024127| 4800.0| -22.0|   0.0|  1.0|\n",
      "|72572024127| 1600.0| -22.0|   0.5|  1.0|\n",
      "|72572024127| 1600.0| -28.0|   0.5|  1.0|\n",
      "|72572024127| 6400.0| -33.0|   0.0|  1.0|\n",
      "|72572024127| 6400.0| -28.0|   0.0|  1.0|\n",
      "|72572024127|    0.0| -39.0|   0.0|  1.0|\n",
      "|72572024127|    0.0| -83.0|   0.0|  1.0|\n",
      "|72572024127|32000.0|-106.0|   0.0|  1.0|\n",
      "|72572024127|    0.0|-106.0|   0.0|  1.0|\n",
      "|72572024127|    0.0|-122.0|   0.0|  1.0|\n",
      "|72572024127|48000.0|-128.0|   0.0|  1.0|\n",
      "|72572024127|48000.0|-133.0|   0.0|  1.0|\n",
      "|72572024127|48000.0|-128.0|   0.0|  1.0|\n",
      "|72572024127|48000.0|-122.0|   0.0|  1.0|\n",
      "|72572024127|48000.0|-128.0|   0.0|  1.0|\n",
      "|72572024127|32000.0| -94.0|   0.0|  1.0|\n",
      "|72572024127|32000.0| -61.0|   0.0|  1.0|\n",
      "+-----------+-------+------+------+-----+\n",
      "only showing top 20 rows\n",
      "\n"
     ]
    }
   ],
   "source": [
    "# Rescale since the original data is scaled by 10\n",
    "data2_converted4=data2_converted3.withColumn(\"temp\", data2_converted3[\"temp\"]/10)\n",
    "data2_converted4=data2_converted3.withColumn(\"liquid\", data2_converted3[\"liquid\"]/10/data2_converted3[\"liqhr\"])\n",
    "data2_converted4.show()"
   ]
  },
  {
   "cell_type": "code",
   "execution_count": 64,
   "metadata": {},
   "outputs": [],
   "source": [
    "# Drop rows with NA or missing values in pyspark\n",
    "data2_converted4_dropna=data2_converted4.dropna()"
   ]
  },
  {
   "cell_type": "code",
   "execution_count": 65,
   "metadata": {},
   "outputs": [
    {
     "name": "stdout",
     "output_type": "stream",
     "text": [
      "+-----------+-------+-----+\n",
      "|    station|    vis| temp|\n",
      "+-----------+-------+-----+\n",
      "|99999903102|11200.0|999.9|\n",
      "|99999903102|19200.0|999.9|\n",
      "|99999903102| 4800.0|999.9|\n",
      "|99999903102| 4800.0|999.9|\n",
      "|99999903102|12800.0|999.9|\n",
      "|99999903102|16000.0|999.9|\n",
      "|99999903102| 8000.0|999.9|\n",
      "|99999903102|11200.0|999.9|\n",
      "|99999903102|14400.0|999.9|\n",
      "|99999903102| 6400.0|999.9|\n",
      "|99999903102|24000.0|999.9|\n",
      "|99999903102| 6400.0|999.9|\n",
      "|99999903102|  500.0|999.9|\n",
      "|99999903102| 9600.0|999.9|\n",
      "|99999903102| 4800.0|999.9|\n",
      "|99999903102|12800.0|999.9|\n",
      "|99999903102| 4800.0|999.9|\n",
      "|99999903102| 8000.0|999.9|\n",
      "|99999903102| 4800.0|999.9|\n",
      "|99999903102| 8000.0|999.9|\n",
      "+-----------+-------+-----+\n",
      "only showing top 20 rows\n",
      "\n"
     ]
    }
   ],
   "source": [
    "data2_converted4_dropna.sort('temp', ascending=False).show()"
   ]
  },
  {
   "cell_type": "code",
   "execution_count": 68,
   "metadata": {},
   "outputs": [
    {
     "name": "stdout",
     "output_type": "stream",
     "text": [
      "+-----------+-------+----+\n",
      "|    station|    vis|temp|\n",
      "+-----------+-------+----+\n",
      "|99999923158|64000.0|48.9|\n",
      "|99999923158|64000.0|48.9|\n",
      "|99999923158|64000.0|48.9|\n",
      "|99999923158|64000.0|48.3|\n",
      "|74724023168|32000.0|47.9|\n",
      "|99999903148|32000.0|47.8|\n",
      "|99999923158|64000.0|47.8|\n",
      "|74724023168|40000.0|47.4|\n",
      "|72278623104|48000.0|47.4|\n",
      "|72386523112|56000.0|47.4|\n",
      "|99999923158|64000.0|47.2|\n",
      "|99999903148|40000.0|47.2|\n",
      "|72278623104|48000.0|46.8|\n",
      "|72278623104|48000.0|46.8|\n",
      "|72386523112|40000.0|46.8|\n",
      "|74724023168|32000.0|46.8|\n",
      "|74724023168|40000.0|46.8|\n",
      "|99999903148|40000.0|46.7|\n",
      "|99999903148|32000.0|46.7|\n",
      "|74724023168|48000.0|46.3|\n",
      "+-----------+-------+----+\n",
      "only showing top 20 rows\n",
      "\n"
     ]
    }
   ],
   "source": [
    "#drop 9999 as NA\n",
    "data2_converted4_dropna = data2_converted4_dropna.filter(data2_converted4_dropna.temp != '999.9')\n",
    "data2_converted4_dropna = data2_converted4_dropna.filter(data2_converted4_dropna.vis != '999999')\n",
    "data2_converted4_dropna.sort('temp', ascending=False).show()\n"
   ]
  },
  {
   "cell_type": "code",
   "execution_count": 69,
   "metadata": {},
   "outputs": [
    {
     "name": "stdout",
     "output_type": "stream",
     "text": [
      "+-----------+--------+----+\n",
      "|    station|     vis|temp|\n",
      "+-----------+--------+----+\n",
      "|78016013601|160000.0|19.4|\n",
      "|78016013601|160000.0|17.8|\n",
      "|78016013601|160000.0|18.9|\n",
      "|78016013601|160000.0|19.4|\n",
      "|78016013601|160000.0|18.9|\n",
      "|78016013601|160000.0|19.4|\n",
      "|78016013601|160000.0|20.0|\n",
      "|78016013601|160000.0|19.4|\n",
      "|78016013601|160000.0|20.0|\n",
      "|78016013601|160000.0|18.9|\n",
      "|78016013601|160000.0|19.4|\n",
      "|78016013601|160000.0|18.9|\n",
      "|78016013601|160000.0|19.4|\n",
      "|78016013601|160000.0|18.9|\n",
      "|78016013601|160000.0|19.4|\n",
      "|78016013601|160000.0|18.9|\n",
      "|78016013601|160000.0|20.0|\n",
      "|78016013601|160000.0|20.0|\n",
      "|78016013601|160000.0|20.0|\n",
      "|78016013601|160000.0|20.0|\n",
      "+-----------+--------+----+\n",
      "only showing top 20 rows\n",
      "\n"
     ]
    }
   ],
   "source": [
    "data2_converted4_dropna.sort('vis', ascending=False).show()"
   ]
  },
  {
   "cell_type": "code",
   "execution_count": 70,
   "metadata": {},
   "outputs": [
    {
     "data": {
      "text/plain": [
       "8182534"
      ]
     },
     "execution_count": 70,
     "metadata": {},
     "output_type": "execute_result"
    }
   ],
   "source": [
    "data2_converted4_dropna.count()"
   ]
  },
  {
   "cell_type": "code",
   "execution_count": 30,
   "metadata": {},
   "outputs": [
    {
     "name": "stdout",
     "output_type": "stream",
     "text": [
      "+-----------------+\n",
      "|        avg(temp)|\n",
      "+-----------------+\n",
      "|7.906684285046325|\n",
      "+-----------------+\n",
      "\n"
     ]
    }
   ],
   "source": [
    "data2_converted4_dropna.agg({\"temp\": \"avg\"}).show()"
   ]
  },
  {
   "cell_type": "code",
   "execution_count": 33,
   "metadata": {},
   "outputs": [
    {
     "name": "stdout",
     "output_type": "stream",
     "text": [
      "+------------------+\n",
      "|      stddev(temp)|\n",
      "+------------------+\n",
      "|15.781198986770178|\n",
      "+------------------+\n",
      "\n"
     ]
    }
   ],
   "source": [
    "data2_converted4_dropna.agg({\"temp\": \"std\"}).show()"
   ]
  },
  {
   "cell_type": "code",
   "execution_count": 71,
   "metadata": {},
   "outputs": [
    {
     "name": "stdout",
     "output_type": "stream",
     "text": [
      "+------------------+\n",
      "|          avg(vis)|\n",
      "+------------------+\n",
      "|22431.092017216182|\n",
      "+------------------+\n",
      "\n"
     ]
    }
   ],
   "source": [
    "data2_converted4_dropna.agg({\"vis\": \"avg\"}).show()"
   ]
  },
  {
   "cell_type": "code",
   "execution_count": 72,
   "metadata": {},
   "outputs": [
    {
     "name": "stdout",
     "output_type": "stream",
     "text": [
      "+------------------+\n",
      "|       stddev(vis)|\n",
      "+------------------+\n",
      "|18808.127321879572|\n",
      "+------------------+\n",
      "\n"
     ]
    }
   ],
   "source": [
    "data2_converted4_dropna.agg({\"vis\": \"std\"}).show()"
   ]
  },
  {
   "cell_type": "code",
   "execution_count": 31,
   "metadata": {},
   "outputs": [],
   "source": [
    "data1970mean = data2_converted4_dropna.agg({\"temp\": \"avg\"})"
   ]
  },
  {
   "cell_type": "code",
   "execution_count": 49,
   "metadata": {},
   "outputs": [],
   "source": [
    "m1970temp = data1970mean.collect()[0][\"avg(temp)\"] "
   ]
  },
  {
   "cell_type": "code",
   "execution_count": 34,
   "metadata": {},
   "outputs": [],
   "source": [
    "data1970std = data2_converted4_dropna.agg({\"temp\": \"std\"})"
   ]
  },
  {
   "cell_type": "code",
   "execution_count": 55,
   "metadata": {},
   "outputs": [],
   "source": [
    "s1970temp = data1970std.collect()[0][\"stddev(temp)\"] "
   ]
  },
  {
   "cell_type": "code",
   "execution_count": 56,
   "metadata": {},
   "outputs": [],
   "source": [
    "stats = spark.createDataFrame(\n",
    "    [\n",
    "        (m1970, s1970, 1970), # create your data here, be consistent in the types.\n",
    "        #(2, 'bar'),\n",
    "    ],\n",
    "    ['mean', 'std', 'year'] # add your columns label here\n",
    ")"
   ]
  },
  {
   "cell_type": "code",
   "execution_count": 57,
   "metadata": {},
   "outputs": [
    {
     "name": "stdout",
     "output_type": "stream",
     "text": [
      "+-----------------+------------------+----+\n",
      "|             mean|               std|year|\n",
      "+-----------------+------------------+----+\n",
      "|7.906684285046328|15.781198986770175|1970|\n",
      "+-----------------+------------------+----+\n",
      "\n"
     ]
    }
   ],
   "source": [
    "stats.show()"
   ]
  },
  {
   "cell_type": "code",
   "execution_count": 68,
   "metadata": {},
   "outputs": [
    {
     "data": {
      "text/plain": [
       "s3.ServiceResource()"
      ]
     },
     "execution_count": 68,
     "metadata": {},
     "output_type": "execute_result"
    }
   ],
   "source": [
    "s3 = boto3.resource('s3')\n",
    "s3"
   ]
  },
  {
   "cell_type": "code",
   "execution_count": 69,
   "metadata": {},
   "outputs": [
    {
     "data": {
      "text/plain": [
       "s3.Bucket(name='open-data-noaa')"
      ]
     },
     "execution_count": 69,
     "metadata": {},
     "output_type": "execute_result"
    }
   ],
   "source": [
    "bucket = s3.Bucket(name=\"noaa-global-hourly-pds\")\n",
    "bucket"
   ]
  },
  {
   "cell_type": "code",
   "execution_count": 70,
   "metadata": {},
   "outputs": [],
   "source": [
    "#Get File Name List\n",
    "prefix = \"1970/\"\n",
    "#prefix = \"2010/\"\n",
    "#prefix = \"2005/\"\n",
    "#prefix = \"2000/\"\n",
    "#prefix = \"1995/\"\n",
    "#prefix = \"1990/\"\n",
    "#prefix = \"1985/\"\n",
    "#prefix = \"1980/\"\n",
    "#prefix = \"1975/\"\n",
    "#prefix = \"1970/\"\n",
    "FilesNotFound = True\n",
    "FileNameList=[]\n",
    "for obj in bucket.objects.filter(Prefix=prefix):\n",
    "    FileNameList.append('{0}{1}/{2}'.format('s3://',bucket.name, obj.key))\n",
    "    #print('{0}/{1}'.format(bucket.name, obj.key))\n",
    "    FilesNotFound = False\n",
    "if FilesNotFound:\n",
    "     print(\"ALERT\", \"No file in {0}/{1}\".format(bucket, prefix))\n"
   ]
  },
  {
   "cell_type": "code",
   "execution_count": null,
   "metadata": {},
   "outputs": [],
   "source": [
    "FileNameList"
   ]
  },
  {
   "cell_type": "code",
   "execution_count": 104,
   "metadata": {},
   "outputs": [],
   "source": [
    "#import random\n",
    "#desired_pct = 1.65\n",
    "#random.seed(20)\n",
    "#file_sample = random.sample(FileNameList, int(len(FileNameList) * desired_pct / 100))"
   ]
  },
  {
   "cell_type": "code",
   "execution_count": 77,
   "metadata": {},
   "outputs": [
    {
     "data": {
      "text/plain": [
       "3006"
      ]
     },
     "execution_count": 77,
     "metadata": {},
     "output_type": "execute_result"
    }
   ],
   "source": [
    "len(FileNameList)"
   ]
  },
  {
   "cell_type": "code",
   "execution_count": 49,
   "metadata": {},
   "outputs": [],
   "source": [
    "import random\n",
    "desired_pct = 20\n",
    "random.seed(20)\n",
    "file_sample = random.sample(FileNameList, int(len(FileNameList) * desired_pct / 100))"
   ]
  },
  {
   "cell_type": "code",
   "execution_count": 50,
   "metadata": {},
   "outputs": [
    {
     "data": {
      "text/plain": [
       "601"
      ]
     },
     "execution_count": 50,
     "metadata": {},
     "output_type": "execute_result"
    }
   ],
   "source": [
    "len(file_sample)"
   ]
  },
  {
   "cell_type": "markdown",
   "metadata": {},
   "source": [
    "## Merge Data"
   ]
  },
  {
   "cell_type": "code",
   "execution_count": 80,
   "metadata": {},
   "outputs": [],
   "source": [
    "from py4j.protocol import Py4JJavaError\n",
    "\n",
    "def file_exist(sc, file):\n",
    "    try:\n",
    "        rdd = sc.textFile(file)\n",
    "        rdd.take(1)\n",
    "        return True\n",
    "    except Py4JJavaError as e:\n",
    "        return False"
   ]
  },
  {
   "cell_type": "code",
   "execution_count": 83,
   "metadata": {},
   "outputs": [
    {
     "data": {
      "text/plain": [
       "2498"
      ]
     },
     "execution_count": 83,
     "metadata": {},
     "output_type": "execute_result"
    }
   ],
   "source": [
    "#Merge\n",
    "rdd = sc.textFile(FileNameList[0])\n",
    "i=0\n",
    "rdd_all=rdd\n",
    "rdd.count()"
   ]
  },
  {
   "cell_type": "code",
   "execution_count": null,
   "metadata": {},
   "outputs": [],
   "source": [
    "rdd1 = sc.parallelize([1, 2, 3])\n",
    "rdd2 = sc.parallelize([4, 5, 6])\n",
    "rdd3 = sc.parallelize([7, 8, 9])\n",
    "\n",
    "rdd = sc.union([rdd1, rdd2, rdd3])"
   ]
  },
  {
   "cell_type": "code",
   "execution_count": null,
   "metadata": {},
   "outputs": [],
   "source": [
    "RDDs = sc.parallelize([[\"panda\", 0], [\"pink\", 3]])\n",
    "RDDList = []\n",
    "for i in range(0,len(RDDs.first())):    \n",
    "    RDDList.append(RDDs.map(lambda x: [x[i]]).collect())\n",
    "\n",
    "print (RDDList[0])\n",
    "print (RDDList[1])"
   ]
  },
  {
   "cell_type": "code",
   "execution_count": 84,
   "metadata": {},
   "outputs": [
    {
     "data": {
      "text/plain": [
       "1193453"
      ]
     },
     "execution_count": 84,
     "metadata": {},
     "output_type": "execute_result"
    }
   ],
   "source": [
    "while i < len(FileNameList)/7:\n",
    "    if file_exist(sc, FileNameList[i]):\n",
    "        #print(FileNameList[i])\n",
    "        rdd_sep=sc.textFile(FileNameList[i])\n",
    "        rdd_all=rdd_all.union(rdd_sep)\n",
    "        \n",
    "    else:\n",
    "        print('File does not exist, skipping: ' + FileNameList[i])\n",
    "    i += 1\n",
    "rdd_all.count()"
   ]
  },
  {
   "cell_type": "code",
   "execution_count": null,
   "metadata": {},
   "outputs": [],
   "source": [
    "rdd_all.count()"
   ]
  },
  {
   "cell_type": "code",
   "execution_count": null,
   "metadata": {},
   "outputs": [],
   "source": [
    "  \n",
    "rdd_full=sc.union([rdd_all, rdd_all2])    \n",
    "rdd_all.count()"
   ]
  },
  {
   "cell_type": "code",
   "execution_count": 27,
   "metadata": {},
   "outputs": [],
   "source": [
    "#Save\n",
    "rdd_all.repartition(1).saveAsTextFile(\"s3://open-data-noaa/1970sample_v2\")"
   ]
  },
  {
   "cell_type": "code",
   "execution_count": 28,
   "metadata": {},
   "outputs": [],
   "source": [
    "df=spark.read.format(\"csv\").option(\"header\", \"true\").load(\"s3://open-data-noaa/1970sample_v2\")"
   ]
  },
  {
   "cell_type": "code",
   "execution_count": 29,
   "metadata": {},
   "outputs": [
    {
     "data": {
      "text/plain": [
       "[Row(STATION='99999993729', DATE='1970-01-01T00:00:00', SOURCE='E', LATITUDE='35.2326', LONGITUDE='-75.6219', ELEVATION='3.4', NAME='CAPE HATTERAS BILLY MITCHELL FIELD, NC US', REPORT_TYPE='SAO  ', CALL_SIGN='HAT  ', QUALITY_CONTROL='V020', WND='290,5,N,0057,5', CIG='22000,5,9,N', VIS='016000,5,9,9', TMP='+0128,4', DEW='+0061,5', SLP='10139,4', AA1='01,0000,9,5', GA1='99,9,+99999,9,00,4', GA2='99,9,+99999,9,99,9', GA3='99,9,+99999,9,99,9', GA4='99,9,+99999,9,99,9', GD1='4,08,5,+99999,9,9', GD2='0,00,5,+99999,9,9', GD3='0,00,5,+99999,9,9', GD4='0,00,5,+99999,9,9', GF1='08,06,5,99,9,99,9,99999,9,99,9,99,9', MA1='99999,9,10135,4', MW1=None, MW2=None, MW3=None, EQD='N01 00000JPWTH 1'),\n",
       " Row(STATION='99999993729', DATE='1970-01-01T03:00:00', SOURCE='E', LATITUDE='35.2326', LONGITUDE='-75.6219', ELEVATION='3.4', NAME='CAPE HATTERAS BILLY MITCHELL FIELD, NC US', REPORT_TYPE='SAO  ', CALL_SIGN='HAT  ', QUALITY_CONTROL='V020', WND='060,5,N,0077,5', CIG='22000,5,9,N', VIS='016000,5,9,9', TMP='+0083,4', DEW='+0050,5', SLP='10166,4', AA1='01,0000,9,5', GA1='99,9,+99999,9,00,4', GA2='99,9,+99999,9,99,9', GA3='99,9,+99999,9,99,9', GA4='99,9,+99999,9,99,9', GD1='2,02,5,+99999,9,9', GD2='0,00,5,+99999,9,9', GD3='0,00,5,+99999,9,9', GD4='0,00,5,+99999,9,9', GF1='02,02,5,99,9,99,9,99999,9,99,9,99,9', MA1='99999,9,10163,4', MW1=None, MW2=None, MW3=None, EQD='N01 00000JPWTH 1'),\n",
       " Row(STATION='99999993729', DATE='1970-01-01T06:00:00', SOURCE='E', LATITUDE='35.2326', LONGITUDE='-75.6219', ELEVATION='3.4', NAME='CAPE HATTERAS BILLY MITCHELL FIELD, NC US', REPORT_TYPE='SAO  ', CALL_SIGN='HAT  ', QUALITY_CONTROL='V020', WND='040,5,N,0067,5', CIG='22000,5,9,N', VIS='016000,5,9,9', TMP='+0072,4', DEW='+0033,5', SLP='10163,4', AA1='01,0000,9,5', GA1='99,9,+99999,9,00,4', GA2='99,9,+99999,9,99,9', GA3='99,9,+99999,9,99,9', GA4='99,9,+99999,9,99,9', GD1='1,03,5,+99999,9,3', GD2='0,00,5,+99999,9,9', GD3='0,00,5,+99999,9,9', GD4='0,00,5,+99999,9,9', GF1='03,02,5,99,9,99,9,99999,9,99,9,99,9', MA1='99999,9,10159,4', MW1=None, MW2=None, MW3=None, EQD='N01 00000JPWTH 1'),\n",
       " Row(STATION='99999993729', DATE='1970-01-01T09:00:00', SOURCE='E', LATITUDE='35.2326', LONGITUDE='-75.6219', ELEVATION='3.4', NAME='CAPE HATTERAS BILLY MITCHELL FIELD, NC US', REPORT_TYPE='SAO  ', CALL_SIGN='HAT  ', QUALITY_CONTROL='V020', WND='040,5,N,0057,5', CIG='02438,4,9,N', VIS='016000,5,9,9', TMP='+0067,4', DEW='+0017,5', SLP='10177,4', AA1='01,0000,9,5', GA1='99,9,+02438,4,03,4', GA2=None, GA3=None, GA4=None, GD1='4,08,5,+99999,9,9', GD2='0,99,5,+99999,9,9', GD3='0,99,5,+99999,9,9', GD4='0,99,5,+99999,9,9', GF1='08,08,5,99,9,99,9,99999,9,99,9,99,9', MA1='99999,9,10173,4', MW1=None, MW2=None, MW3=None, EQD='N01 00000JPWTH 1'),\n",
       " Row(STATION='99999993729', DATE='1970-01-01T12:00:00', SOURCE='E', LATITUDE='35.2326', LONGITUDE='-75.6219', ELEVATION='3.4', NAME='CAPE HATTERAS BILLY MITCHELL FIELD, NC US', REPORT_TYPE='SAO  ', CALL_SIGN='HAT  ', QUALITY_CONTROL='V020', WND='070,5,N,0082,5', CIG='02134,4,9,N', VIS='016000,5,9,9', TMP='+0067,4', DEW='+0017,5', SLP='10169,4', AA1='01,0000,9,5', GA1='99,9,+02134,4,03,4', GA2=None, GA3=None, GA4=None, GD1='4,08,5,+99999,9,9', GD2='0,99,5,+99999,9,9', GD3='0,99,5,+99999,9,9', GD4='0,99,5,+99999,9,9', GF1='08,08,5,99,9,99,9,99999,9,99,9,99,9', MA1='99999,9,10166,4', MW1=None, MW2=None, MW3=None, EQD='N01 00000JPWTH 1')]"
      ]
     },
     "execution_count": 29,
     "metadata": {},
     "output_type": "execute_result"
    }
   ],
   "source": [
    "df.head(5)"
   ]
  },
  {
   "cell_type": "code",
   "execution_count": 30,
   "metadata": {},
   "outputs": [],
   "source": [
    "df.write.csv(\"s3://open-data-noaa/1970samples_v2\", sep=',', header=True,mode=\"overwrite\")"
   ]
  },
  {
   "cell_type": "code",
   "execution_count": 82,
   "metadata": {},
   "outputs": [],
   "source": [
    "sc.stop()"
   ]
  },
  {
   "cell_type": "code",
   "execution_count": null,
   "metadata": {},
   "outputs": [],
   "source": []
  }
 ],
 "metadata": {
  "kernelspec": {
   "display_name": "Python 3",
   "language": "python",
   "name": "python3"
  },
  "language_info": {
   "codemirror_mode": {
    "name": "ipython",
    "version": 3
   },
   "file_extension": ".py",
   "mimetype": "text/x-python",
   "name": "python",
   "nbconvert_exporter": "python",
   "pygments_lexer": "ipython3",
   "version": "3.7.6"
  }
 },
 "nbformat": 4,
 "nbformat_minor": 4
}
