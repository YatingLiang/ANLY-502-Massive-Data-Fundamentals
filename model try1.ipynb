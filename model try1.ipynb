{
 "cells": [
  {
   "cell_type": "code",
   "execution_count": 1,
   "metadata": {},
   "outputs": [
    {
     "data": {
      "text/html": [
       "\n",
       "        <div>\n",
       "            <p><b>SparkContext</b></p>\n",
       "\n",
       "            <p><a href=\"http://ip-172-31-60-142.ec2.internal:4040\">Spark UI</a></p>\n",
       "\n",
       "            <dl>\n",
       "              <dt>Version</dt>\n",
       "                <dd><code>v2.4.4</code></dd>\n",
       "              <dt>Master</dt>\n",
       "                <dd><code>yarn</code></dd>\n",
       "              <dt>AppName</dt>\n",
       "                <dd><code>pyspark-shell</code></dd>\n",
       "            </dl>\n",
       "        </div>\n",
       "        "
      ],
      "text/plain": [
       "<SparkContext master=yarn appName=pyspark-shell>"
      ]
     },
     "execution_count": 1,
     "metadata": {},
     "output_type": "execute_result"
    }
   ],
   "source": [
    "import findspark\n",
    "findspark.init()\n",
    "from pyspark import SparkContext\n",
    "sc=SparkContext()\n",
    "sc\n"
   ]
  },
  {
   "cell_type": "code",
   "execution_count": 2,
   "metadata": {},
   "outputs": [
    {
     "data": {
      "text/html": [
       "\n",
       "            <div>\n",
       "                <p><b>SparkSession - in-memory</b></p>\n",
       "                \n",
       "        <div>\n",
       "            <p><b>SparkContext</b></p>\n",
       "\n",
       "            <p><a href=\"http://ip-172-31-60-142.ec2.internal:4040\">Spark UI</a></p>\n",
       "\n",
       "            <dl>\n",
       "              <dt>Version</dt>\n",
       "                <dd><code>v2.4.4</code></dd>\n",
       "              <dt>Master</dt>\n",
       "                <dd><code>yarn</code></dd>\n",
       "              <dt>AppName</dt>\n",
       "                <dd><code>pyspark-shell</code></dd>\n",
       "            </dl>\n",
       "        </div>\n",
       "        \n",
       "            </div>\n",
       "        "
      ],
      "text/plain": [
       "<pyspark.sql.session.SparkSession at 0x7fbddc2adad0>"
      ]
     },
     "execution_count": 2,
     "metadata": {},
     "output_type": "execute_result"
    }
   ],
   "source": [
    "from pyspark.sql import SparkSession\n",
    "spark=SparkSession.builder.getOrCreate()\n",
    "spark"
   ]
  },
  {
   "cell_type": "code",
   "execution_count": 3,
   "metadata": {},
   "outputs": [
    {
     "name": "stdout",
     "output_type": "stream",
     "text": [
      "spark.app.name=pyspark-shell\n",
      "spark.blacklist.decommissioning.enabled=true\n",
      "spark.blacklist.decommissioning.timeout=1h\n",
      "spark.decommissioning.timeout.threshold=20\n",
      "spark.default.parallelism=48\n",
      "spark.driver.extraClassPath=/usr/lib/hadoop-lzo/lib/*:/usr/lib/hadoop/hadoop-aws.jar:/usr/share/aws/aws-java-sdk/*:/usr/share/aws/emr/emrfs/conf:/usr/share/aws/emr/emrfs/lib/*:/usr/share/aws/emr/emrfs/auxlib/*:/usr/share/aws/emr/goodies/lib/emr-spark-goodies.jar:/usr/share/aws/emr/security/conf:/usr/share/aws/emr/security/lib/*:/usr/share/aws/hmclient/lib/aws-glue-datacatalog-spark-client.jar:/usr/share/java/Hive-JSON-Serde/hive-openx-serde.jar:/usr/share/aws/sagemaker-spark-sdk/lib/sagemaker-spark-sdk.jar:/usr/share/aws/emr/s3select/lib/emr-s3-select-spark-connector.jar\n",
      "spark.driver.extraJavaOptions=-XX:+UseConcMarkSweepGC -XX:CMSInitiatingOccupancyFraction=70 -XX:MaxHeapFreeRatio=70 -XX:+CMSClassUnloadingEnabled -XX:OnOutOfMemoryError='kill -9 %p'\n",
      "spark.driver.extraLibraryPath=/usr/lib/hadoop/lib/native:/usr/lib/hadoop-lzo/lib/native\n",
      "spark.driver.memory=11171M\n",
      "spark.dynamicAllocation.enabled=true\n",
      "spark.emr.maximizeResourceAllocation=true\n",
      "spark.eventLog.dir=hdfs:///var/log/spark/apps\n",
      "spark.eventLog.enabled=true\n",
      "spark.executor.cores=4\n",
      "spark.executor.extraClassPath=/usr/lib/hadoop-lzo/lib/*:/usr/lib/hadoop/hadoop-aws.jar:/usr/share/aws/aws-java-sdk/*:/usr/share/aws/emr/emrfs/conf:/usr/share/aws/emr/emrfs/lib/*:/usr/share/aws/emr/emrfs/auxlib/*:/usr/share/aws/emr/goodies/lib/emr-spark-goodies.jar:/usr/share/aws/emr/security/conf:/usr/share/aws/emr/security/lib/*:/usr/share/aws/hmclient/lib/aws-glue-datacatalog-spark-client.jar:/usr/share/java/Hive-JSON-Serde/hive-openx-serde.jar:/usr/share/aws/sagemaker-spark-sdk/lib/sagemaker-spark-sdk.jar:/usr/share/aws/emr/s3select/lib/emr-s3-select-spark-connector.jar\n",
      "spark.executor.extraJavaOptions=-verbose:gc -XX:+PrintGCDetails -XX:+PrintGCDateStamps -XX:+UseConcMarkSweepGC -XX:CMSInitiatingOccupancyFraction=70 -XX:MaxHeapFreeRatio=70 -XX:+CMSClassUnloadingEnabled -XX:OnOutOfMemoryError='kill -9 %p'\n",
      "spark.executor.extraLibraryPath=/usr/lib/hadoop/lib/native:/usr/lib/hadoop-lzo/lib/native\n",
      "spark.executor.instances=6\n",
      "spark.executor.memory=10356M\n",
      "spark.files.fetchFailure.unRegisterOutputOnHost=true\n",
      "spark.hadoop.fs.s3.getObject.initialSocketTimeoutMilliseconds=2000\n",
      "spark.hadoop.mapreduce.fileoutputcommitter.algorithm.version.emr_internal_use_only.EmrFileSystem=2\n",
      "spark.hadoop.mapreduce.fileoutputcommitter.cleanup-failures.ignored.emr_internal_use_only.EmrFileSystem=true\n",
      "spark.hadoop.yarn.timeline-service.enabled=false\n",
      "spark.history.fs.logDirectory=hdfs:///var/log/spark/apps\n",
      "spark.history.ui.port=18080\n",
      "spark.master=yarn\n",
      "spark.resourceManager.cleanupExpiredHost=true\n",
      "spark.shuffle.service.enabled=true\n",
      "spark.sql.emr.internal.extensions=com.amazonaws.emr.spark.EmrSparkSessionExtensions\n",
      "spark.sql.execution.arrow.enabled=true\n",
      "spark.sql.hive.metastore.sharedPrefixes=com.amazonaws.services.dynamodbv2\n",
      "spark.sql.parquet.fs.optimized.committer.optimization-enabled=true\n",
      "spark.sql.parquet.output.committer.class=com.amazon.emr.committer.EmrOptimizedSparkSqlParquetOutputCommitter\n",
      "spark.sql.warehouse.dir=hdfs:///user/spark/warehouse\n",
      "spark.stage.attempt.ignoreOnDecommissionFetchFailure=true\n",
      "spark.submit.deployMode=client\n",
      "spark.ui.proxyBase=/proxy/application_1587848440828_0002\n",
      "spark.ui.showConsoleProgress=true\n",
      "spark.yarn.appMasterEnv.SPARK_PUBLIC_DNS=$(hostname -f)\n",
      "spark.yarn.historyServer.address=ip-172-31-60-142.ec2.internal:18080\n",
      "spark.yarn.isPython=true\n"
     ]
    }
   ],
   "source": [
    "from pyspark.sql import SparkSession\n",
    "spark = SparkSession.builder \\\n",
    "     .appName(\"SparkSession\") \\\n",
    "     .getOrCreate()\n",
    "from pyspark.conf import SparkConf\n",
    "conf = SparkConf()\n",
    "print(conf.toDebugString())"
   ]
  },
  {
   "cell_type": "code",
   "execution_count": 4,
   "metadata": {},
   "outputs": [],
   "source": [
    "data2019 = spark.read.option(\"header\", \"false\").csv(\"s3://noaa-global-hourly-pds/2019/*.csv\")"
   ]
  },
  {
   "cell_type": "code",
   "execution_count": 5,
   "metadata": {},
   "outputs": [
    {
     "data": {
      "text/plain": [
       "DataFrame[_c0: string, _c1: string, _c2: string, _c3: string, _c4: string, _c5: string, _c6: string, _c7: string, _c8: string, _c9: string, _c10: string, _c11: string, _c12: string, _c13: string, _c14: string, _c15: string, _c16: string, _c17: string, _c18: string, _c19: string, _c20: string, _c21: string, _c22: string, _c23: string, _c24: string, _c25: string, _c26: string, _c27: string, _c28: string, _c29: string, _c30: string, _c31: string, _c32: string, _c33: string, _c34: string, _c35: string, _c36: string, _c37: string, _c38: string, _c39: string, _c40: string, _c41: string, _c42: string, _c43: string, _c44: string, _c45: string, _c46: string, _c47: string, _c48: string, _c49: string, _c50: string, _c51: string, _c52: string, _c53: string, _c54: string, _c55: string, _c56: string, _c57: string, _c58: string]"
      ]
     },
     "execution_count": 5,
     "metadata": {},
     "output_type": "execute_result"
    }
   ],
   "source": [
    "data2019.cache()"
   ]
  },
  {
   "cell_type": "code",
   "execution_count": 6,
   "metadata": {},
   "outputs": [
    {
     "name": "stdout",
     "output_type": "stream",
     "text": [
      "root\n",
      " |-- _c0: string (nullable = true)\n",
      " |-- _c1: string (nullable = true)\n",
      " |-- _c2: string (nullable = true)\n",
      " |-- _c3: string (nullable = true)\n",
      " |-- _c4: string (nullable = true)\n",
      " |-- _c5: string (nullable = true)\n",
      " |-- _c6: string (nullable = true)\n",
      " |-- _c7: string (nullable = true)\n",
      " |-- _c8: string (nullable = true)\n",
      " |-- _c9: string (nullable = true)\n",
      " |-- _c10: string (nullable = true)\n",
      " |-- _c11: string (nullable = true)\n",
      " |-- _c12: string (nullable = true)\n",
      " |-- _c13: string (nullable = true)\n",
      " |-- _c14: string (nullable = true)\n",
      " |-- _c15: string (nullable = true)\n",
      " |-- _c16: string (nullable = true)\n",
      " |-- _c17: string (nullable = true)\n",
      " |-- _c18: string (nullable = true)\n",
      " |-- _c19: string (nullable = true)\n",
      " |-- _c20: string (nullable = true)\n",
      " |-- _c21: string (nullable = true)\n",
      " |-- _c22: string (nullable = true)\n",
      " |-- _c23: string (nullable = true)\n",
      " |-- _c24: string (nullable = true)\n",
      " |-- _c25: string (nullable = true)\n",
      " |-- _c26: string (nullable = true)\n",
      " |-- _c27: string (nullable = true)\n",
      " |-- _c28: string (nullable = true)\n",
      " |-- _c29: string (nullable = true)\n",
      " |-- _c30: string (nullable = true)\n",
      " |-- _c31: string (nullable = true)\n",
      " |-- _c32: string (nullable = true)\n",
      " |-- _c33: string (nullable = true)\n",
      " |-- _c34: string (nullable = true)\n",
      " |-- _c35: string (nullable = true)\n",
      " |-- _c36: string (nullable = true)\n",
      " |-- _c37: string (nullable = true)\n",
      " |-- _c38: string (nullable = true)\n",
      " |-- _c39: string (nullable = true)\n",
      " |-- _c40: string (nullable = true)\n",
      " |-- _c41: string (nullable = true)\n",
      " |-- _c42: string (nullable = true)\n",
      " |-- _c43: string (nullable = true)\n",
      " |-- _c44: string (nullable = true)\n",
      " |-- _c45: string (nullable = true)\n",
      " |-- _c46: string (nullable = true)\n",
      " |-- _c47: string (nullable = true)\n",
      " |-- _c48: string (nullable = true)\n",
      " |-- _c49: string (nullable = true)\n",
      " |-- _c50: string (nullable = true)\n",
      " |-- _c51: string (nullable = true)\n",
      " |-- _c52: string (nullable = true)\n",
      " |-- _c53: string (nullable = true)\n",
      " |-- _c54: string (nullable = true)\n",
      " |-- _c55: string (nullable = true)\n",
      " |-- _c56: string (nullable = true)\n",
      " |-- _c57: string (nullable = true)\n",
      " |-- _c58: string (nullable = true)\n",
      "\n"
     ]
    }
   ],
   "source": [
    "data2019.printSchema()"
   ]
  },
  {
   "cell_type": "code",
   "execution_count": 7,
   "metadata": {},
   "outputs": [
    {
     "name": "stdout",
     "output_type": "stream",
     "text": [
      "+-----------+-------------------+------+--------+---------+---------+--------------------+-----------+---------+---------------+--------------+-----------+------------+-------+-------+-------+-----------+----+----+-----------+-------------+--------+--------+--------+----------+----------+----------+--------------------+--------------------+--------------------+--------------------+--------------------+------+---------+---------+---------+---------+------------------+------------------+------------------+--------------------+--------------------+--------------------+-------------------+--------------------+------------------+-------------+-------------+----+----+----+----+----+----+----+----+-------+--------------------+----+\n",
      "|        _c0|                _c1|   _c2|     _c3|      _c4|      _c5|                 _c6|        _c7|      _c8|            _c9|          _c10|       _c11|        _c12|   _c13|   _c14|   _c15|       _c16|_c17|_c18|       _c19|         _c20|    _c21|    _c22|    _c23|      _c24|      _c25|      _c26|                _c27|                _c28|                _c29|                _c30|                _c31|  _c32|     _c33|     _c34|     _c35|     _c36|              _c37|              _c38|              _c39|                _c40|                _c41|                _c42|               _c43|                _c44|              _c45|         _c46|         _c47|_c48|_c49|_c50|_c51|_c52|_c53|_c54|_c55|   _c56|                _c57|_c58|\n",
      "+-----------+-------------------+------+--------+---------+---------+--------------------+-----------+---------+---------------+--------------+-----------+------------+-------+-------+-------+-----------+----+----+-----------+-------------+--------+--------+--------+----------+----------+----------+--------------------+--------------------+--------------------+--------------------+--------------------+------+---------+---------+---------+---------+------------------+------------------+------------------+--------------------+--------------------+--------------------+-------------------+--------------------+------------------+-------------+-------------+----+----+----+----+----+----+----+----+-------+--------------------+----+\n",
      "|    STATION|               DATE|SOURCE|LATITUDE|LONGITUDE|ELEVATION|                NAME|REPORT_TYPE|CALL_SIGN|QUALITY_CONTROL|           WND|        CIG|         VIS|    TMP|    DEW|    SLP|        AA1| AB1| AE1|        AO1|          CB1|     CF1|     CF2|     CF3|       CG1|       CG2|       CG3|                 CH1|                 CI1|                 CN1|                 CN2|                 CN3|   CO1|      CR1|      CT1|      CT2|      CT3|               CU1|               CU2|               CU3|                 CV1|                 CV2|                 CV3|                CW1|                 GH1|               IB2|          KA1|          KA2| KB1| KB2| KB3| KC1| KC2| KD1| KD2| KE1|    KF1|                 OB1| EQD|\n",
      "|99999927516|2019-01-01T00:00:00|     I| 71.3213| -156.611|      4.6|UTQIA VIK FORMERL...|      CRN05|    99999|           V020|999,9,R,0064,1|99999,9,9,N|999999,9,9,9|-0203,1|+9999,9|99999,9|01,0000,9,1|null|null|05,0000,9,1|05,+00000,1,0|0826,1,0|0818,1,0|0834,1,0|+03044,1,0|+03144,1,0|+03078,1,0|05,-0204,1,0,0803...|-0207,1,0,-0204,1...|0133,1,0,0129,1,0...|-0190,1,0,-0213,1...|014999,1,0,485950...|99,-09|02424,1,0|-0203,1,0|-0203,1,0|-0203,1,0|+9999,9,0,0001,1,0|+9999,9,0,0001,1,0|+9999,9,0,0001,1,0|-0205,1,0,9999,9,...|-0206,1,0,9999,9,...|-0206,1,0,9999,9,...|12270,1,0,30090,1,0|00000,1,0,00000,1...|-0205,1,0,0001,1,0|010,M,-0203,1|010,N,-0206,1|null|null|null|null|null|null|null|null|-0205,1|060,0081,1,0,999,...|null|\n",
      "|99999927516|2019-01-01T00:05:00|     I| 71.3213| -156.611|      4.6|UTQIA VIK FORMERL...|      CRN05|    99999|           V020|999,9,9,9999,9|99999,9,9,N|999999,9,9,9|-0203,1|+9999,9|99999,9|       null|null|null|05,0000,9,1|05,+00000,1,0|    null|    null|    null|+03043,1,0|+03144,1,0|+03078,1,0|05,-0204,1,0,0803...|                null|                null|                null|                null|99,-09|     null|-0202,1,0|-0203,1,0|-0203,1,0|              null|              null|              null|                null|                null|                null|12240,1,0,30090,1,0|                null|              null|         null|         null|null|null|null|null|null|null|null|null|   null|                null|null|\n",
      "|99999927516|2019-01-01T00:10:00|     I| 71.3213| -156.611|      4.6|UTQIA VIK FORMERL...|      CRN05|    99999|           V020|999,9,9,9999,9|99999,9,9,N|999999,9,9,9|-0202,1|+9999,9|99999,9|       null|null|null|05,0000,9,1|05,+00000,1,0|    null|    null|    null|+03043,1,0|+03144,1,0|+03078,1,0|05,-0203,1,0,0804...|                null|                null|                null|                null|99,-09|     null|-0202,1,0|-0202,1,0|-0202,1,0|              null|              null|              null|                null|                null|                null|12280,1,0,30080,1,0|                null|              null|         null|         null|null|null|null|null|null|null|null|null|   null|                null|null|\n",
      "|99999927516|2019-01-01T00:15:00|     I| 71.3213| -156.611|      4.6|UTQIA VIK FORMERL...|      CRN05|    99999|           V020|999,9,9,9999,9|99999,9,9,N|999999,9,9,9|-0202,1|+9999,9|99999,9|       null|null|null|05,0000,9,1|05,+00000,1,0|    null|    null|    null|+03043,1,0|+03144,1,0|+03079,1,0|05,-0202,1,0,0804...|                null|                null|                null|                null|99,-09|     null|-0201,1,0|-0202,1,0|-0202,1,0|              null|              null|              null|                null|                null|                null|12250,1,0,30020,1,0|                null|              null|         null|         null|null|null|null|null|null|null|null|null|   null|                null|null|\n",
      "+-----------+-------------------+------+--------+---------+---------+--------------------+-----------+---------+---------------+--------------+-----------+------------+-------+-------+-------+-----------+----+----+-----------+-------------+--------+--------+--------+----------+----------+----------+--------------------+--------------------+--------------------+--------------------+--------------------+------+---------+---------+---------+---------+------------------+------------------+------------------+--------------------+--------------------+--------------------+-------------------+--------------------+------------------+-------------+-------------+----+----+----+----+----+----+----+----+-------+--------------------+----+\n",
      "only showing top 5 rows\n",
      "\n"
     ]
    }
   ],
   "source": [
    "data2019.show(5)"
   ]
  },
  {
   "cell_type": "code",
   "execution_count": 8,
   "metadata": {},
   "outputs": [
    {
     "data": {
      "text/plain": [
       "136009361"
      ]
     },
     "execution_count": 8,
     "metadata": {},
     "output_type": "execute_result"
    }
   ],
   "source": [
    "# count data\n",
    "data2019.count()"
   ]
  },
  {
   "cell_type": "code",
   "execution_count": 8,
   "metadata": {},
   "outputs": [],
   "source": [
    "from pyspark.sql import SparkSession\n",
    "#from pyspark.sql import functions._\n",
    "#import pyspark.spark.sql.{SQLContext, Row, DataFrame, Column}\n",
    "from pyspark.sql import Row,DataFrame,Column\n",
    "from pyspark.sql import SQLContext\n",
    "#from pyspark.ml import feature.VectorAssembler\n",
    "from pyspark.sql.functions import col\n",
    "import pyspark.sql.functions as f\n",
    "from pyspark.sql.functions import concat, col, lit"
   ]
  },
  {
   "cell_type": "code",
   "execution_count": 9,
   "metadata": {},
   "outputs": [
    {
     "name": "stdout",
     "output_type": "stream",
     "text": [
      "+-----------+------+-----+------+-----+\n",
      "|    station|   vis| temp|liquid|liqhr|\n",
      "+-----------+------+-----+------+-----+\n",
      "|99999927516|999999|-0203|  0000|   01|\n",
      "|99999927516|999999|-0203|  null| null|\n",
      "|99999927516|999999|-0202|  null| null|\n",
      "|99999927516|999999|-0202|  null| null|\n",
      "|99999927516|999999|-0201|  null| null|\n",
      "|99999927516|999999|-0200|  null| null|\n",
      "|99999927516|999999|-0200|  null| null|\n",
      "|99999927516|999999|-0199|  null| null|\n",
      "|99999927516|999999|-0198|  null| null|\n",
      "|99999927516|999999|-0197|  null| null|\n",
      "|99999927516|999999|-0196|  null| null|\n",
      "|99999927516|999999|-0196|  null| null|\n",
      "|99999927516|999999|-0196|  0000|   01|\n",
      "|99999927516|999999|-0195|  null| null|\n",
      "|99999927516|999999|-0195|  null| null|\n",
      "|99999927516|999999|-0194|  null| null|\n",
      "|99999927516|999999|-0194|  null| null|\n",
      "|99999927516|999999|-0194|  null| null|\n",
      "|99999927516|999999|-0194|  null| null|\n",
      "|99999927516|999999|-0194|  null| null|\n",
      "+-----------+------+-----+------+-----+\n",
      "only showing top 20 rows\n",
      "\n"
     ]
    }
   ],
   "source": [
    "#data cleaning\n",
    "data1 = data2019.where('_c0!= \"STATION\" ')\n",
    "#select useful columns\n",
    "data2 = data1.select(col(\"_c0\"), col(\"_c12\"), col(\"_c13\"), col(\"_c16\"))\n",
    "data2\n",
    "data2 = data2.select(col(\"_c0\").alias(\"station\"), \n",
    "                             f.split(data2['_c12'], ',')[0].alias(\"vis\"),\n",
    "                             f.split(data2['_c13'], ',')[0].alias(\"temp\"), \n",
    "                             f.split(data2['_c16'], ',')[1].alias(\"liquid\"),\n",
    "                             f.split(data2['_c16'], ',')[0].alias(\"liqhr\")\n",
    "                    )\n",
    "data2.show()"
   ]
  },
  {
   "cell_type": "code",
   "execution_count": 10,
   "metadata": {},
   "outputs": [],
   "source": [
    "data3=data2.withColumn(\"temp\", data2[\"temp\"].cast(\"float\"))\n",
    "data3=data3.withColumn(\"vis\", data3[\"vis\"].cast(\"float\"))\n",
    "data3=data3.withColumn(\"liquid\", data3[\"liquid\"].cast(\"float\"))\n",
    "data3=data3.withColumn(\"liqhr\", data3[\"liqhr\"].cast(\"float\"))"
   ]
  },
  {
   "cell_type": "code",
   "execution_count": 11,
   "metadata": {},
   "outputs": [],
   "source": [
    "# Drop rows with NA or missing values in pyspark\n",
    "data3=data3.dropna()"
   ]
  },
  {
   "cell_type": "code",
   "execution_count": 12,
   "metadata": {},
   "outputs": [],
   "source": [
    "data3 = data3.filter(data3.temp != '9999')\n",
    "data3 = data3.filter(data3.vis != '999999')\n",
    "data3 = data3.filter(data3.liquid != '9999')\n",
    "data3 = data3.filter(data3.liqhr != '99')"
   ]
  },
  {
   "cell_type": "code",
   "execution_count": 13,
   "metadata": {},
   "outputs": [],
   "source": [
    "data4=data3.withColumn(\"temp\", data3[\"temp\"]/10)"
   ]
  },
  {
   "cell_type": "code",
   "execution_count": 14,
   "metadata": {},
   "outputs": [],
   "source": [
    "#liquid depth per hour\n",
    "data4=data4.withColumn(\"liquid\", data4[\"liquid\"]/10/data4[\"liqhr\"])"
   ]
  },
  {
   "cell_type": "code",
   "execution_count": 15,
   "metadata": {},
   "outputs": [
    {
     "name": "stdout",
     "output_type": "stream",
     "text": [
      "+-----------+-------+----+------+-----+\n",
      "|    station|    vis|temp|liquid|liqhr|\n",
      "+-----------+-------+----+------+-----+\n",
      "|72475023176|16000.0|-7.8|   0.0|  6.0|\n",
      "|72475023176| 2012.0|-8.3|   0.0|  1.0|\n",
      "|72475023176| 2816.0|-8.3|   0.2|  1.0|\n",
      "|72475023176| 4023.0|-8.3|   0.2|  1.0|\n",
      "|72475023176| 2816.0|-7.8|   0.2|  1.0|\n",
      "|72475023176| 2012.0|-7.8|   0.2|  1.0|\n",
      "|72475023176| 2414.0|-7.8|   0.5|  1.0|\n",
      "|72475023176| 1609.0|-7.8|   0.5|  1.0|\n",
      "|72475023176| 1609.0|-7.8|   0.5|  1.0|\n",
      "|72475023176| 2414.0|-7.2|   0.0|  1.0|\n",
      "|72475023176| 3219.0|-7.2|   0.0|  1.0|\n",
      "|72475023176| 4828.0|-7.8|   0.0|  1.0|\n",
      "|72475023176| 4828.0|-7.8|   0.2|  1.0|\n",
      "|72475023176| 4023.0|-7.8|   0.2|  1.0|\n",
      "|72475023176| 4023.0|-7.8|   0.2|  1.0|\n",
      "|72475023176| 3219.0|-7.8|   0.2|  1.0|\n",
      "|72475023176| 2414.0|-7.8|   0.2|  1.0|\n",
      "|72475023176| 2414.0|-7.8|   0.2|  1.0|\n",
      "|72475023176| 2414.0|-7.8|   0.2|  1.0|\n",
      "|72475023176| 2816.0|-7.8|   0.2|  1.0|\n",
      "+-----------+-------+----+------+-----+\n",
      "only showing top 20 rows\n",
      "\n"
     ]
    }
   ],
   "source": [
    "data4.show()"
   ]
  },
  {
   "cell_type": "code",
   "execution_count": 33,
   "metadata": {},
   "outputs": [
    {
     "data": {
      "text/plain": [
       "20616779"
      ]
     },
     "execution_count": 33,
     "metadata": {},
     "output_type": "execute_result"
    }
   ],
   "source": [
    "data4.count()"
   ]
  },
  {
   "cell_type": "code",
   "execution_count": 35,
   "metadata": {},
   "outputs": [
    {
     "name": "stdout",
     "output_type": "stream",
     "text": [
      "+-----------+------------------+------------------+--------------------+------------------+\n",
      "|    station|          avg(vis)|         avg(temp)|         avg(liquid)|        avg(liqhr)|\n",
      "+-----------+------------------+------------------+--------------------+------------------+\n",
      "|72744904954| 8029.900591715977| 3.298224852071006|  0.4578698224852095|               1.0|\n",
      "|16726099999| 9428.516228748069|18.281452859350832| 0.08311115404430704|  9.55177743431221|\n",
      "|41685099999| 7824.825986078887| 17.77494199535963|  0.5882991750451144|17.651972157772622|\n",
      "|26238099999|16278.676470588236|10.319362745098035|0.021059514214726748| 9092.426470588236|\n",
      "|72213653883|11565.361320754717| 20.90122641509437|  2.4260259433962337|2.7660377358490567|\n",
      "|47843099999|16582.717770034844|17.510592334494778|  0.3567944250871082| 8.997909407665505|\n",
      "|88968099999| 5220.986093552465|-3.170922882427308| 0.11657711757269275|    8.275600505689|\n",
      "|56838099999|17529.166666666668| 22.71990740740743|  0.6661940586419758|10.680555555555555|\n",
      "|72637594817|13126.238463799353| 8.199500342901944| 0.16760066620946373|               1.0|\n",
      "|40729099999|11287.193841847446|12.215395381385589|  0.0405411709820387| 6.033589923023093|\n",
      "|35127099999|19209.431345353674| 5.821220527045778|0.029022191400832183|              12.0|\n",
      "|28873099999|16620.967741935485|2.4177419354838707|                null|               0.0|\n",
      "|30967099999| 37310.34482758621|  8.13793103448276|0.017036124794745488|7.0344827586206895|\n",
      "|71867099999|15360.408054711246|1.4247720364741554| 0.12272036474164144| 5.867021276595745|\n",
      "|72455013947|  13340.1014354067| 9.836459330143537|  1.0494696969696937|2.6660287081339713|\n",
      "|07139099999|16418.296529968455|11.696366397943613| 0.08689488647427714|1.6664329945087042|\n",
      "|15455099999|  9258.49765258216|13.800938967136139| 0.05883411580594676|10.030046948356807|\n",
      "|03153099999|17786.771300448432| 9.414349775784713|  0.3917040358744393| 9.443946188340806|\n",
      "|65123099999|       10889.84375|       24.08671875|  1.2020507812500003|          11.15625|\n",
      "|42901099999|3946.4285714285716| 27.22046703296702|  0.7779145953253094|15.576923076923077|\n",
      "+-----------+------------------+------------------+--------------------+------------------+\n",
      "only showing top 20 rows\n",
      "\n"
     ]
    }
   ],
   "source": [
    "data4.groupBy(\"station\").agg({'vis':'avg', 'temp':'avg', 'liquid':'avg', 'liqhr':'avg'}).show()"
   ]
  },
  {
   "cell_type": "code",
   "execution_count": 18,
   "metadata": {},
   "outputs": [],
   "source": [
    "data5=data4.groupBy(\"station\").agg({'vis':'avg', 'temp':'avg', 'liquid':'avg', 'liqhr':'avg'})"
   ]
  },
  {
   "cell_type": "code",
   "execution_count": 19,
   "metadata": {},
   "outputs": [
    {
     "name": "stdout",
     "output_type": "stream",
     "text": [
      "root\n",
      " |-- station: string (nullable = true)\n",
      " |-- avg(vis): double (nullable = true)\n",
      " |-- avg(temp): double (nullable = true)\n",
      " |-- avg(liquid): double (nullable = true)\n",
      " |-- avg(liqhr): double (nullable = true)\n",
      "\n"
     ]
    }
   ],
   "source": [
    "data5.printSchema()"
   ]
  },
  {
   "cell_type": "code",
   "execution_count": 20,
   "metadata": {},
   "outputs": [],
   "source": [
    "data5=data5.where(\"avg(vis)!=0.0\")"
   ]
  },
  {
   "cell_type": "code",
   "execution_count": 23,
   "metadata": {},
   "outputs": [],
   "source": [
    "data5=data5.withColumnRenamed('avg(liquid)', 'liquid')"
   ]
  },
  {
   "cell_type": "code",
   "execution_count": 42,
   "metadata": {},
   "outputs": [],
   "source": [
    "data5=data5.withColumnRenamed('avg(temp)', 'temp')"
   ]
  },
  {
   "cell_type": "code",
   "execution_count": 26,
   "metadata": {},
   "outputs": [],
   "source": [
    "data5=data5.withColumnRenamed('avg(liqhr)', 'liqhr')"
   ]
  },
  {
   "cell_type": "code",
   "execution_count": 43,
   "metadata": {},
   "outputs": [],
   "source": [
    "data5=data5.withColumnRenamed('avg(vis)', 'vis')"
   ]
  },
  {
   "cell_type": "code",
   "execution_count": 44,
   "metadata": {},
   "outputs": [
    {
     "name": "stdout",
     "output_type": "stream",
     "text": [
      "root\n",
      " |-- station: string (nullable = true)\n",
      " |-- vis: double (nullable = true)\n",
      " |-- temp: double (nullable = true)\n",
      " |-- liquid: double (nullable = true)\n",
      " |-- liqhr: double (nullable = true)\n",
      "\n"
     ]
    }
   ],
   "source": [
    "data5.printSchema()"
   ]
  },
  {
   "cell_type": "code",
   "execution_count": 25,
   "metadata": {},
   "outputs": [],
   "source": [
    "data5=data5.where(\"liquid!=0.0\")"
   ]
  },
  {
   "cell_type": "code",
   "execution_count": 27,
   "metadata": {},
   "outputs": [],
   "source": [
    "data5=data5.where(\"liqhr!=0.0\")"
   ]
  },
  {
   "cell_type": "code",
   "execution_count": 29,
   "metadata": {},
   "outputs": [
    {
     "data": {
      "text/html": [
       "<div>\n",
       "<style scoped>\n",
       "    .dataframe tbody tr th:only-of-type {\n",
       "        vertical-align: middle;\n",
       "    }\n",
       "\n",
       "    .dataframe tbody tr th {\n",
       "        vertical-align: top;\n",
       "    }\n",
       "\n",
       "    .dataframe thead th {\n",
       "        text-align: right;\n",
       "    }\n",
       "</style>\n",
       "<table border=\"1\" class=\"dataframe\">\n",
       "  <thead>\n",
       "    <tr style=\"text-align: right;\">\n",
       "      <th></th>\n",
       "      <th>0</th>\n",
       "      <th>1</th>\n",
       "      <th>2</th>\n",
       "      <th>3</th>\n",
       "      <th>4</th>\n",
       "    </tr>\n",
       "  </thead>\n",
       "  <tbody>\n",
       "    <tr>\n",
       "      <th>summary</th>\n",
       "      <td>count</td>\n",
       "      <td>mean</td>\n",
       "      <td>stddev</td>\n",
       "      <td>min</td>\n",
       "      <td>max</td>\n",
       "    </tr>\n",
       "    <tr>\n",
       "      <th>station</th>\n",
       "      <td>9671</td>\n",
       "      <td>5.251332323462666E10</td>\n",
       "      <td>2.8538567877887745E10</td>\n",
       "      <td>01001099999</td>\n",
       "      <td>A5125600451</td>\n",
       "    </tr>\n",
       "    <tr>\n",
       "      <th>avg(vis)</th>\n",
       "      <td>9671</td>\n",
       "      <td>15130.738710451718</td>\n",
       "      <td>9295.828644117031</td>\n",
       "      <td>49.0</td>\n",
       "      <td>70001.0</td>\n",
       "    </tr>\n",
       "    <tr>\n",
       "      <th>avg(temp)</th>\n",
       "      <td>9671</td>\n",
       "      <td>13.645476985876822</td>\n",
       "      <td>9.237635810840336</td>\n",
       "      <td>-54.88260869565209</td>\n",
       "      <td>41.7</td>\n",
       "    </tr>\n",
       "    <tr>\n",
       "      <th>liquid</th>\n",
       "      <td>9671</td>\n",
       "      <td>0.5428946672738126</td>\n",
       "      <td>2.1529849826371663</td>\n",
       "      <td>8.994157179541825E-6</td>\n",
       "      <td>127.2</td>\n",
       "    </tr>\n",
       "    <tr>\n",
       "      <th>liqhr</th>\n",
       "      <td>9671</td>\n",
       "      <td>124.74751966936012</td>\n",
       "      <td>3084.24249711269</td>\n",
       "      <td>0.03773584905660377</td>\n",
       "      <td>99999.0</td>\n",
       "    </tr>\n",
       "  </tbody>\n",
       "</table>\n",
       "</div>"
      ],
      "text/plain": [
       "               0                     1                      2  \\\n",
       "summary    count                  mean                 stddev   \n",
       "station     9671  5.251332323462666E10  2.8538567877887745E10   \n",
       "avg(vis)    9671    15130.738710451718      9295.828644117031   \n",
       "avg(temp)   9671    13.645476985876822      9.237635810840336   \n",
       "liquid      9671    0.5428946672738126     2.1529849826371663   \n",
       "liqhr       9671    124.74751966936012       3084.24249711269   \n",
       "\n",
       "                              3            4  \n",
       "summary                     min          max  \n",
       "station             01001099999  A5125600451  \n",
       "avg(vis)                   49.0      70001.0  \n",
       "avg(temp)    -54.88260869565209         41.7  \n",
       "liquid     8.994157179541825E-6        127.2  \n",
       "liqhr       0.03773584905660377      99999.0  "
      ]
     },
     "execution_count": 29,
     "metadata": {},
     "output_type": "execute_result"
    }
   ],
   "source": [
    "data5.describe().toPandas().transpose()"
   ]
  },
  {
   "cell_type": "code",
   "execution_count": 45,
   "metadata": {},
   "outputs": [
    {
     "name": "stdout",
     "output_type": "stream",
     "text": [
      "['station', 'vis', 'temp', 'liquid', 'liqhr']\n"
     ]
    }
   ],
   "source": [
    "# the features without the label\n",
    "num_cols = data5.columns[:]\n",
    "print(num_cols)\n"
   ]
  },
  {
   "cell_type": "code",
   "execution_count": 51,
   "metadata": {},
   "outputs": [
    {
     "name": "stdout",
     "output_type": "stream",
     "text": [
      "+--------------------+------------------+\n",
      "|            features|              temp|\n",
      "+--------------------+------------------+\n",
      "|[13340.1014354067...| 9.836459330143537|\n",
      "|[13232.8018223234...|11.451252847380385|\n",
      "|[7824.82598607888...| 17.77494199535963|\n",
      "+--------------------+------------------+\n",
      "only showing top 3 rows\n",
      "\n"
     ]
    }
   ],
   "source": [
    "from pyspark.ml.feature import VectorAssembler\n",
    "vectorAssembler = VectorAssembler(inputCols = ['vis', 'liquid'], outputCol = 'features')\n",
    "v_df = vectorAssembler.transform(data5)\n",
    "v_df = v_df.select(['features', 'temp'])\n",
    "v_df.show(3)"
   ]
  },
  {
   "cell_type": "code",
   "execution_count": 52,
   "metadata": {},
   "outputs": [],
   "source": [
    "splits = v_df.randomSplit([0.7, 0.3])\n",
    "train_df = splits[0]\n",
    "test_df = splits[1]"
   ]
  },
  {
   "cell_type": "code",
   "execution_count": 53,
   "metadata": {},
   "outputs": [
    {
     "name": "stdout",
     "output_type": "stream",
     "text": [
      "Coefficients: [-0.0002419175820163439,0.5213658214262974]\n",
      "Intercept: 16.94568878769625\n"
     ]
    }
   ],
   "source": [
    "#Linear Regression\n",
    "from pyspark.ml.regression import LinearRegression\n",
    "lr = LinearRegression(featuresCol = 'features', labelCol='temp', maxIter=10, regParam=0.3, elasticNetParam=0.8)\n",
    "lr_model = lr.fit(train_df)\n",
    "print(\"Coefficients: \" + str(lr_model.coefficients))\n",
    "print(\"Intercept: \" + str(lr_model.intercept))\n",
    "###########vis needs normarlize!!!!!"
   ]
  },
  {
   "cell_type": "code",
   "execution_count": 54,
   "metadata": {},
   "outputs": [
    {
     "name": "stdout",
     "output_type": "stream",
     "text": [
      "RMSE: 8.889680\n",
      "r2: 0.085629\n"
     ]
    }
   ],
   "source": [
    "trainingSummary = lr_model.summary\n",
    "print(\"RMSE: %f\" % trainingSummary.rootMeanSquaredError)\n",
    "print(\"r2: %f\" % trainingSummary.r2)"
   ]
  },
  {
   "cell_type": "code",
   "execution_count": null,
   "metadata": {},
   "outputs": [],
   "source": [
    "train_df.describe().show()"
   ]
  },
  {
   "cell_type": "code",
   "execution_count": null,
   "metadata": {},
   "outputs": [],
   "source": []
  }
 ],
 "metadata": {
  "kernelspec": {
   "display_name": "Python 3",
   "language": "python",
   "name": "python3"
  },
  "language_info": {
   "codemirror_mode": {
    "name": "ipython",
    "version": 3
   },
   "file_extension": ".py",
   "mimetype": "text/x-python",
   "name": "python",
   "nbconvert_exporter": "python",
   "pygments_lexer": "ipython3",
   "version": "3.7.6"
  }
 },
 "nbformat": 4,
 "nbformat_minor": 4
}
