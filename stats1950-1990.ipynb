{
 "cells": [
  {
   "cell_type": "code",
   "execution_count": 164,
   "metadata": {},
   "outputs": [
    {
     "data": {
      "text/html": [
       "\n",
       "        <div>\n",
       "            <p><b>SparkContext</b></p>\n",
       "\n",
       "            <p><a href=\"http://ip-172-31-33-131.ec2.internal:4040\">Spark UI</a></p>\n",
       "\n",
       "            <dl>\n",
       "              <dt>Version</dt>\n",
       "                <dd><code>v2.4.4</code></dd>\n",
       "              <dt>Master</dt>\n",
       "                <dd><code>yarn</code></dd>\n",
       "              <dt>AppName</dt>\n",
       "                <dd><code>pyspark-shell</code></dd>\n",
       "            </dl>\n",
       "        </div>\n",
       "        "
      ],
      "text/plain": [
       "<SparkContext master=yarn appName=pyspark-shell>"
      ]
     },
     "execution_count": 164,
     "metadata": {},
     "output_type": "execute_result"
    }
   ],
   "source": [
    "import findspark\n",
    "findspark.init()\n",
    "from pyspark import SparkContext\n",
    "sc=SparkContext()\n",
    "sc"
   ]
  },
  {
   "cell_type": "code",
   "execution_count": 165,
   "metadata": {},
   "outputs": [
    {
     "data": {
      "text/html": [
       "\n",
       "            <div>\n",
       "                <p><b>SparkSession - in-memory</b></p>\n",
       "                \n",
       "        <div>\n",
       "            <p><b>SparkContext</b></p>\n",
       "\n",
       "            <p><a href=\"http://ip-172-31-33-131.ec2.internal:4040\">Spark UI</a></p>\n",
       "\n",
       "            <dl>\n",
       "              <dt>Version</dt>\n",
       "                <dd><code>v2.4.4</code></dd>\n",
       "              <dt>Master</dt>\n",
       "                <dd><code>yarn</code></dd>\n",
       "              <dt>AppName</dt>\n",
       "                <dd><code>pyspark-shell</code></dd>\n",
       "            </dl>\n",
       "        </div>\n",
       "        \n",
       "            </div>\n",
       "        "
      ],
      "text/plain": [
       "<pyspark.sql.session.SparkSession at 0x7f6f64914790>"
      ]
     },
     "execution_count": 165,
     "metadata": {},
     "output_type": "execute_result"
    }
   ],
   "source": [
    "from pyspark.sql import SparkSession\n",
    "spark=SparkSession.builder.getOrCreate()\n",
    "spark"
   ]
  },
  {
   "cell_type": "markdown",
   "metadata": {},
   "source": [
    "## Load Data (1950 to 1990 Every 5 Years)"
   ]
  },
  {
   "cell_type": "code",
   "execution_count": 166,
   "metadata": {},
   "outputs": [],
   "source": [
    "data1950 = spark.read.option(\"header\", \"false\").csv(\"s3://noaa-global-hourly-pds/1950/*.csv\")"
   ]
  },
  {
   "cell_type": "code",
   "execution_count": 167,
   "metadata": {},
   "outputs": [],
   "source": [
    "data1955 = spark.read.option(\"header\", \"false\").csv(\"s3://noaa-global-hourly-pds/1955/*.csv\")"
   ]
  },
  {
   "cell_type": "code",
   "execution_count": 168,
   "metadata": {},
   "outputs": [],
   "source": [
    "data1960 = spark.read.option(\"header\", \"false\").csv(\"s3://noaa-global-hourly-pds/1960/*.csv\")"
   ]
  },
  {
   "cell_type": "code",
   "execution_count": 169,
   "metadata": {},
   "outputs": [],
   "source": [
    "data1965 = spark.read.option(\"header\", \"false\").csv(\"s3://noaa-global-hourly-pds/1965/*.csv\")"
   ]
  },
  {
   "cell_type": "code",
   "execution_count": 170,
   "metadata": {},
   "outputs": [],
   "source": [
    "data1970 = spark.read.option(\"header\", \"false\").csv(\"s3://noaa-global-hourly-pds/1970/*.csv\")"
   ]
  },
  {
   "cell_type": "code",
   "execution_count": 171,
   "metadata": {},
   "outputs": [],
   "source": [
    "data1975 = spark.read.option(\"header\", \"false\").csv(\"s3://noaa-global-hourly-pds/1975/*.csv\")"
   ]
  },
  {
   "cell_type": "code",
   "execution_count": 172,
   "metadata": {},
   "outputs": [],
   "source": [
    "data1980 = spark.read.option(\"header\", \"false\").csv(\"s3://noaa-global-hourly-pds/1980/*.csv\")"
   ]
  },
  {
   "cell_type": "code",
   "execution_count": 173,
   "metadata": {},
   "outputs": [],
   "source": [
    "data1985 = spark.read.option(\"header\", \"false\").csv(\"s3://noaa-global-hourly-pds/1985/*.csv\")"
   ]
  },
  {
   "cell_type": "code",
   "execution_count": 174,
   "metadata": {},
   "outputs": [],
   "source": [
    "data1990 = spark.read.option(\"header\", \"false\").csv(\"s3://noaa-global-hourly-pds/1990/*.csv\")"
   ]
  },
  {
   "cell_type": "code",
   "execution_count": 175,
   "metadata": {},
   "outputs": [
    {
     "data": {
      "text/plain": [
       "DataFrame[_c0: string, _c1: string, _c2: string, _c3: string, _c4: string, _c5: string, _c6: string, _c7: string, _c8: string, _c9: string, _c10: string, _c11: string, _c12: string, _c13: string, _c14: string, _c15: string, _c16: string, _c17: string, _c18: string, _c19: string, _c20: string, _c21: string, _c22: string, _c23: string, _c24: string, _c25: string, _c26: string, _c27: string, _c28: string, _c29: string, _c30: string, _c31: string, _c32: string, _c33: string, _c34: string, _c35: string, _c36: string, _c37: string, _c38: string, _c39: string, _c40: string, _c41: string, _c42: string, _c43: string, _c44: string, _c45: string, _c46: string]"
      ]
     },
     "execution_count": 175,
     "metadata": {},
     "output_type": "execute_result"
    }
   ],
   "source": [
    "data1950.cache()\n",
    "data1955.cache()\n",
    "data1960.cache()\n",
    "data1965.cache()\n",
    "data1970.cache()\n",
    "data1975.cache()\n",
    "data1980.cache()\n",
    "data1985.cache()\n",
    "data1990.cache()"
   ]
  },
  {
   "cell_type": "code",
   "execution_count": 176,
   "metadata": {},
   "outputs": [
    {
     "name": "stdout",
     "output_type": "stream",
     "text": [
      "root\n",
      " |-- _c0: string (nullable = true)\n",
      " |-- _c1: string (nullable = true)\n",
      " |-- _c2: string (nullable = true)\n",
      " |-- _c3: string (nullable = true)\n",
      " |-- _c4: string (nullable = true)\n",
      " |-- _c5: string (nullable = true)\n",
      " |-- _c6: string (nullable = true)\n",
      " |-- _c7: string (nullable = true)\n",
      " |-- _c8: string (nullable = true)\n",
      " |-- _c9: string (nullable = true)\n",
      " |-- _c10: string (nullable = true)\n",
      " |-- _c11: string (nullable = true)\n",
      " |-- _c12: string (nullable = true)\n",
      " |-- _c13: string (nullable = true)\n",
      " |-- _c14: string (nullable = true)\n",
      " |-- _c15: string (nullable = true)\n",
      " |-- _c16: string (nullable = true)\n",
      " |-- _c17: string (nullable = true)\n",
      " |-- _c18: string (nullable = true)\n",
      " |-- _c19: string (nullable = true)\n",
      " |-- _c20: string (nullable = true)\n",
      " |-- _c21: string (nullable = true)\n",
      " |-- _c22: string (nullable = true)\n",
      " |-- _c23: string (nullable = true)\n",
      " |-- _c24: string (nullable = true)\n",
      " |-- _c25: string (nullable = true)\n",
      " |-- _c26: string (nullable = true)\n",
      " |-- _c27: string (nullable = true)\n",
      " |-- _c28: string (nullable = true)\n",
      "\n"
     ]
    }
   ],
   "source": [
    "data1950.printSchema()"
   ]
  },
  {
   "cell_type": "code",
   "execution_count": 177,
   "metadata": {},
   "outputs": [
    {
     "name": "stdout",
     "output_type": "stream",
     "text": [
      "+-----------+-------------------+------+---------+---------+---------+-------------+-----------+---------+---------------+--------------+-----------+------------+-------+-------+-------+----+--------+----+----+----+--------------------+----+----+----+----------------+----+----+----------------+\n",
      "|        _c0|                _c1|   _c2|      _c3|      _c4|      _c5|          _c6|        _c7|      _c8|            _c9|          _c10|       _c11|        _c12|   _c13|   _c14|   _c15|_c16|    _c17|_c18|_c19|_c20|                _c21|_c22|_c23|_c24|            _c25|_c26|_c27|            _c28|\n",
      "+-----------+-------------------+------+---------+---------+---------+-------------+-----------+---------+---------------+--------------+-----------+------------+-------+-------+-------+----+--------+----+----+----+--------------------+----+----+----+----------------+----+----+----------------+\n",
      "|    STATION|               DATE|SOURCE| LATITUDE|LONGITUDE|ELEVATION|         NAME|REPORT_TYPE|CALL_SIGN|QUALITY_CONTROL|           WND|        CIG|         VIS|    TMP|    DEW|    SLP| AA1|     AY1| GA1| GA2| GA3|                 GF1| IA1| KA1| KA2|             MD1| MW1| MW2|             EQD|\n",
      "|03135099999|1950-01-01T00:00:00|     4|55.509444|-4.586667|    19.81|PRESTWICK, UK|      FM-12|    99999|           V020|130,1,N,0026,1|22000,1,C,N|006000,1,N,9|+0033,1|+0028,1|10263,1|null|1,1,99,9|null|null|null|05,99,1,99,9,00,1...|null|null|null|2,1,006,1,+999,9|02,1|null|Q01+000002SCOTLC|\n",
      "|03135099999|1950-01-01T00:00:00|     4|55.509444|-4.586667|    19.81|PRESTWICK, UK|      SAO  |    EGPK |           V020|135,1,N,0026,1|21000,1,9,N|006400,1,N,1|+0035,1|+0030,1|10263,1|null|    null|null|null|null|07,99,1,99,9,99,9...|null|null|null|            null|00,1|null|            null|\n",
      "+-----------+-------------------+------+---------+---------+---------+-------------+-----------+---------+---------------+--------------+-----------+------------+-------+-------+-------+----+--------+----+----+----+--------------------+----+----+----+----------------+----+----+----------------+\n",
      "only showing top 3 rows\n",
      "\n"
     ]
    }
   ],
   "source": [
    "data1950.show(3)"
   ]
  },
  {
   "cell_type": "code",
   "execution_count": 178,
   "metadata": {},
   "outputs": [],
   "source": [
    "from pyspark.sql import SparkSession\n",
    "#from pyspark.sql import functions._\n",
    "#import pyspark.spark.sql.{SQLContext, Row, DataFrame, Column}\n",
    "from pyspark.sql import Row,DataFrame,Column\n",
    "from pyspark.sql import SQLContext\n",
    "#from pyspark.ml import feature.VectorAssembler"
   ]
  },
  {
   "cell_type": "markdown",
   "metadata": {},
   "source": [
    "### Create three empty dataframes to store stats of Temperature(Celsius), Visibility(Meters), and Liquid Precipitation(millimeters per hour) for each year from 1950 to 1990 (every five years)"
   ]
  },
  {
   "cell_type": "code",
   "execution_count": 179,
   "metadata": {},
   "outputs": [
    {
     "name": "stdout",
     "output_type": "stream",
     "text": [
      "+----+---+----+\n",
      "|mean|std|year|\n",
      "+----+---+----+\n",
      "|   0|  0|   0|\n",
      "+----+---+----+\n",
      "\n"
     ]
    }
   ],
   "source": [
    "tmp = spark.createDataFrame(\n",
    "    [\n",
    "        (0, 0, 0)\n",
    "    ],\n",
    "    ['mean', 'std', 'year'] \n",
    ")\n",
    "tmp.show()"
   ]
  },
  {
   "cell_type": "code",
   "execution_count": 180,
   "metadata": {},
   "outputs": [
    {
     "name": "stdout",
     "output_type": "stream",
     "text": [
      "+----+---+----+\n",
      "|mean|std|year|\n",
      "+----+---+----+\n",
      "|   0|  0|   0|\n",
      "+----+---+----+\n",
      "\n"
     ]
    }
   ],
   "source": [
    "vis = spark.createDataFrame(\n",
    "    [\n",
    "        (0, 0, 0)\n",
    "    ],\n",
    "    ['mean', 'std', 'year'] \n",
    ")\n",
    "vis.show()"
   ]
  },
  {
   "cell_type": "code",
   "execution_count": 181,
   "metadata": {},
   "outputs": [
    {
     "name": "stdout",
     "output_type": "stream",
     "text": [
      "+----+---+----+\n",
      "|mean|std|year|\n",
      "+----+---+----+\n",
      "|   0|  0|   0|\n",
      "+----+---+----+\n",
      "\n"
     ]
    }
   ],
   "source": [
    "liquid = spark.createDataFrame(\n",
    "    [\n",
    "        (0, 0, 0), \n",
    "    ],\n",
    "    ['mean', 'std', 'year'] \n",
    ")\n",
    "liquid.show()"
   ]
  },
  {
   "cell_type": "markdown",
   "metadata": {},
   "source": [
    "## Data Cleaning and EDA"
   ]
  },
  {
   "cell_type": "markdown",
   "metadata": {},
   "source": [
    "The datasets are too large to run, thus seperate 1950-1990 data to two groups. \n",
    "\n",
    "\n",
    "Group1: 1950 - 1975 Every 5 years\n",
    "\n",
    "\n",
    "Group2: 1980, 1985, 1990\n"
   ]
  },
  {
   "cell_type": "code",
   "execution_count": 182,
   "metadata": {},
   "outputs": [],
   "source": [
    "datasets1 = [data1945, data1950, data1955, data1960,data1965, data1970, data1975]\n",
    "columns = ['mean', 'std', 'year']\n",
    "year = 1950\n",
    "for data in datasets1:\n",
    "    #data cleaning\n",
    "    data1 = data.where('_c0!= \"STATION\" ')\n",
    "    #select useful columns\n",
    "    data2 = data1.select(col(\"_c0\"), col(\"_c12\"), col(\"_c13\"), col(\"_c16\"))\n",
    "    data2 = data2.select(col(\"_c0\").alias(\"station\"), \n",
    "                             f.split(data2['_c12'], ',')[0].alias(\"vis\"),\n",
    "                             f.split(data2['_c13'], ',')[0].alias(\"temp\"), \n",
    "                             f.split(data2['_c16'], ',')[1].alias(\"liquid\"),\n",
    "                             f.split(data2['_c16'], ',')[0].alias(\"liqhr\")\n",
    "                            )\n",
    "    #convert data type\n",
    "    data3=data2.withColumn(\"temp\", data2[\"temp\"].cast(\"float\"))\n",
    "    data3=data3.withColumn(\"vis\", data3[\"vis\"].cast(\"float\"))\n",
    "    data3=data3.withColumn(\"liquid\", data3[\"liquid\"].cast(\"float\"))\n",
    "    data3=data3.withColumn(\"liqhr\", data3[\"liqhr\"].cast(\"float\"))\n",
    "    # Drop rows with NA or missing values in pyspark\n",
    "    data3=data3.dropna()\n",
    "    # drop 9999 as NA\n",
    "    data3 = data3.filter(data3.temp != '9999')\n",
    "    data3 = data3.filter(data3.vis != '999999')\n",
    "    data3 = data3.filter(data3.liquid != '9999')\n",
    "    data3 = data3.filter(data3.liqhr != '99')\n",
    "    data4=data3.withColumn(\"temp\", data3[\"temp\"]/10)\n",
    "    #liquid depth per hour\n",
    "    data4=data4.withColumn(\"liquid\", data4[\"liquid\"]/10/data4[\"liqhr\"])\n",
    "    #calculate mean and std for each year\n",
    "    mtemp = data4.agg({\"temp\": \"avg\"}).collect()[0][\"avg(temp)\"] \n",
    "    mvis = data4.agg({\"vis\": \"avg\"}).collect()[0][\"avg(vis)\"] \n",
    "    mliq = data4.agg({\"liquid\": \"avg\"}).collect()[0][\"avg(liquid)\"] \n",
    "    stemp = data4.agg({\"temp\": \"std\"}).collect()[0][\"stddev(temp)\"] \n",
    "    svis = data4.agg({\"vis\": \"std\"}).collect()[0][\"stddev(vis)\"] \n",
    "    sliq = data4.agg({\"liquid\": \"std\"}).collect()[0][\"stddev(liquid)\"] \n",
    "    \n",
    "    newRow_temp = spark.createDataFrame([(mtemp,stemp,year)], columns)\n",
    "    newRow_vis = spark.createDataFrame([(mvis,svis,year)], columns)\n",
    "    newRow_liq = spark.createDataFrame([(mliq,sliq,year)], columns)\n",
    "    tmp = tmp.union(newRow_temp)\n",
    "    vis = vis.union(newRow_vis)\n",
    "    liquid = liquid.union(newRow_liq)\n",
    "    \n",
    "    year = year + 5   "
   ]
  },
  {
   "cell_type": "markdown",
   "metadata": {},
   "source": [
    "Repeat same cleaning steps and compute stats for group2"
   ]
  },
  {
   "cell_type": "code",
   "execution_count": 184,
   "metadata": {},
   "outputs": [],
   "source": [
    "dateset2 = [data1980, data1985, data1990]\n",
    "columns = ['mean', 'std', 'year']\n",
    "year = 1980\n",
    "for data in dateset2:\n",
    "    #data cleaning\n",
    "    data1 = data.where('_c0!= \"STATION\" ')\n",
    "    #select useful columns\n",
    "    data2 = data1.select(col(\"_c0\"), col(\"_c12\"), col(\"_c13\"), col(\"_c16\"))\n",
    "    data2 = data2.select(col(\"_c0\").alias(\"station\"), \n",
    "                             f.split(data2['_c12'], ',')[0].alias(\"vis\"),\n",
    "                             f.split(data2['_c13'], ',')[0].alias(\"temp\"), \n",
    "                             f.split(data2['_c16'], ',')[1].alias(\"liquid\"),\n",
    "                             f.split(data2['_c16'], ',')[0].alias(\"liqhr\")\n",
    "                            )\n",
    "    #convert data type\n",
    "    data3=data2.withColumn(\"temp\", data2[\"temp\"].cast(\"float\"))\n",
    "    data3=data3.withColumn(\"vis\", data3[\"vis\"].cast(\"float\"))\n",
    "    data3=data3.withColumn(\"liquid\", data3[\"liquid\"].cast(\"float\"))\n",
    "    data3=data3.withColumn(\"liqhr\", data3[\"liqhr\"].cast(\"float\"))\n",
    "    # Drop rows with NA or missing values in pyspark\n",
    "    data3=data3.dropna()\n",
    "    # drop 9999 as NA\n",
    "    data3 = data3.filter(data3.temp != '9999')\n",
    "    data3 = data3.filter(data3.vis != '999999')\n",
    "    data3 = data3.filter(data3.liquid != '9999')\n",
    "    data3 = data3.filter(data3.liqhr != '99')\n",
    "    data4=data3.withColumn(\"temp\", data3[\"temp\"]/10)\n",
    "    #liquid depth per hour\n",
    "    data4=data4.withColumn(\"liquid\", data4[\"liquid\"]/10/data4[\"liqhr\"])\n",
    "    #calculate mean and std for each year\n",
    "    mtemp = data4.agg({\"temp\": \"avg\"}).collect()[0][\"avg(temp)\"] \n",
    "    mvis = data4.agg({\"vis\": \"avg\"}).collect()[0][\"avg(vis)\"] \n",
    "    mliq = data4.agg({\"liquid\": \"avg\"}).collect()[0][\"avg(liquid)\"] \n",
    "    stemp = data4.agg({\"temp\": \"std\"}).collect()[0][\"stddev(temp)\"] \n",
    "    svis = data4.agg({\"vis\": \"std\"}).collect()[0][\"stddev(vis)\"] \n",
    "    sliq = data4.agg({\"liquid\": \"std\"}).collect()[0][\"stddev(liquid)\"] \n",
    "    \n",
    "    newRow_temp2 = spark.createDataFrame([(mtemp,stemp,year)], columns)\n",
    "    newRow_vis2 = spark.createDataFrame([(mvis,svis,year)], columns)\n",
    "    newRow_liq2 = spark.createDataFrame([(mliq,sliq,year)], columns)\n",
    "    tmp = tmp.union(newRow_temp2)\n",
    "    vis = vis.union(newRow_vis2)\n",
    "    liquid = liquid.union(newRow_liq2)\n",
    "    \n",
    "    year = year + 5 "
   ]
  },
  {
   "cell_type": "markdown",
   "metadata": {},
   "source": [
    "### Average Air Temperature(Celsius) and its Standard Deviation Each Year From 1950 to 1990"
   ]
  },
  {
   "cell_type": "code",
   "execution_count": null,
   "metadata": {},
   "outputs": [],
   "source": [
    "tmp = tmp.where(\"mean!=0.0\")"
   ]
  },
  {
   "cell_type": "code",
   "execution_count": 186,
   "metadata": {},
   "outputs": [],
   "source": [
    "tmp.createOrReplaceTempView('tmp')"
   ]
  },
  {
   "cell_type": "code",
   "execution_count": 187,
   "metadata": {},
   "outputs": [],
   "source": [
    "tmp = tmp.toPandas()"
   ]
  },
  {
   "cell_type": "code",
   "execution_count": 210,
   "metadata": {},
   "outputs": [
    {
     "data": {
      "text/html": [
       "<div>\n",
       "<style scoped>\n",
       "    .dataframe tbody tr th:only-of-type {\n",
       "        vertical-align: middle;\n",
       "    }\n",
       "\n",
       "    .dataframe tbody tr th {\n",
       "        vertical-align: top;\n",
       "    }\n",
       "\n",
       "    .dataframe thead th {\n",
       "        text-align: right;\n",
       "    }\n",
       "</style>\n",
       "<table border=\"1\" class=\"dataframe\">\n",
       "  <thead>\n",
       "    <tr style=\"text-align: right;\">\n",
       "      <th></th>\n",
       "      <th>mean</th>\n",
       "      <th>std</th>\n",
       "      <th>year</th>\n",
       "    </tr>\n",
       "  </thead>\n",
       "  <tbody>\n",
       "    <tr>\n",
       "      <th>0</th>\n",
       "      <td>12.175354</td>\n",
       "      <td>12.091771</td>\n",
       "      <td>1950</td>\n",
       "    </tr>\n",
       "    <tr>\n",
       "      <th>1</th>\n",
       "      <td>11.897549</td>\n",
       "      <td>12.472409</td>\n",
       "      <td>1955</td>\n",
       "    </tr>\n",
       "    <tr>\n",
       "      <th>2</th>\n",
       "      <td>11.813745</td>\n",
       "      <td>13.090213</td>\n",
       "      <td>1960</td>\n",
       "    </tr>\n",
       "    <tr>\n",
       "      <th>3</th>\n",
       "      <td>10.485303</td>\n",
       "      <td>13.620959</td>\n",
       "      <td>1965</td>\n",
       "    </tr>\n",
       "    <tr>\n",
       "      <th>4</th>\n",
       "      <td>11.582967</td>\n",
       "      <td>14.208523</td>\n",
       "      <td>1970</td>\n",
       "    </tr>\n",
       "    <tr>\n",
       "      <th>5</th>\n",
       "      <td>12.151064</td>\n",
       "      <td>11.446605</td>\n",
       "      <td>1975</td>\n",
       "    </tr>\n",
       "    <tr>\n",
       "      <th>6</th>\n",
       "      <td>13.124972</td>\n",
       "      <td>12.005562</td>\n",
       "      <td>1980</td>\n",
       "    </tr>\n",
       "    <tr>\n",
       "      <th>7</th>\n",
       "      <td>12.336547</td>\n",
       "      <td>13.476317</td>\n",
       "      <td>1985</td>\n",
       "    </tr>\n",
       "    <tr>\n",
       "      <th>8</th>\n",
       "      <td>13.461916</td>\n",
       "      <td>12.426196</td>\n",
       "      <td>1990</td>\n",
       "    </tr>\n",
       "  </tbody>\n",
       "</table>\n",
       "</div>"
      ],
      "text/plain": [
       "        mean        std  year\n",
       "0  12.175354  12.091771  1950\n",
       "1  11.897549  12.472409  1955\n",
       "2  11.813745  13.090213  1960\n",
       "3  10.485303  13.620959  1965\n",
       "4  11.582967  14.208523  1970\n",
       "5  12.151064  11.446605  1975\n",
       "6  13.124972  12.005562  1980\n",
       "7  12.336547  13.476317  1985\n",
       "8  13.461916  12.426196  1990"
      ]
     },
     "execution_count": 210,
     "metadata": {},
     "output_type": "execute_result"
    }
   ],
   "source": [
    "tmp"
   ]
  },
  {
   "cell_type": "code",
   "execution_count": 211,
   "metadata": {},
   "outputs": [
    {
     "data": {
      "image/png": "[encoded data removed]",
      "text/plain": [
       "<Figure size 432x288 with 1 Axes>"
      ]
     },
     "metadata": {
      "needs_background": "light"
     },
     "output_type": "display_data"
    }
   ],
   "source": [
    "#Average Air Temperature(Celsius)\n",
    "import matplotlib.pyplot as plt\n",
    "tmp.plot(kind='line',x='year',y='mean')\n",
    "plt.show()"
   ]
  },
  {
   "cell_type": "code",
   "execution_count": 212,
   "metadata": {},
   "outputs": [
    {
     "data": {
      "image/png": "[encoded data removed]",
      "text/plain": [
       "<Figure size 432x288 with 1 Axes>"
      ]
     },
     "metadata": {
      "needs_background": "light"
     },
     "output_type": "display_data"
    }
   ],
   "source": [
    "#std of Air Temperature(Celsius)\n",
    "tmp.plot(kind='line',x='year',y='std', colormap='RdBu')\n",
    "plt.show()"
   ]
  },
  {
   "cell_type": "code",
   "execution_count": null,
   "metadata": {},
   "outputs": [],
   "source": []
  },
  {
   "cell_type": "markdown",
   "metadata": {},
   "source": [
    "### Average Visibility Distance(Meters) and its Standard Deviation Each Year From 1950 to 1990"
   ]
  },
  {
   "cell_type": "code",
   "execution_count": null,
   "metadata": {},
   "outputs": [],
   "source": [
    "vis = vis.where(\"mean!=0.0\")"
   ]
  },
  {
   "cell_type": "code",
   "execution_count": 193,
   "metadata": {},
   "outputs": [],
   "source": [
    "vis.createOrReplaceTempView('vis')\n",
    "vis = vis.toPandas()"
   ]
  },
  {
   "cell_type": "code",
   "execution_count": 218,
   "metadata": {},
   "outputs": [
    {
     "data": {
      "text/html": [
       "<div>\n",
       "<style scoped>\n",
       "    .dataframe tbody tr th:only-of-type {\n",
       "        vertical-align: middle;\n",
       "    }\n",
       "\n",
       "    .dataframe tbody tr th {\n",
       "        vertical-align: top;\n",
       "    }\n",
       "\n",
       "    .dataframe thead th {\n",
       "        text-align: right;\n",
       "    }\n",
       "</style>\n",
       "<table border=\"1\" class=\"dataframe\">\n",
       "  <thead>\n",
       "    <tr style=\"text-align: right;\">\n",
       "      <th></th>\n",
       "      <th>mean</th>\n",
       "      <th>std</th>\n",
       "      <th>year</th>\n",
       "    </tr>\n",
       "  </thead>\n",
       "  <tbody>\n",
       "    <tr>\n",
       "      <th>0</th>\n",
       "      <td>25562.916718</td>\n",
       "      <td>21595.883647</td>\n",
       "      <td>1950</td>\n",
       "    </tr>\n",
       "    <tr>\n",
       "      <th>1</th>\n",
       "      <td>23505.801621</td>\n",
       "      <td>20220.302506</td>\n",
       "      <td>1955</td>\n",
       "    </tr>\n",
       "    <tr>\n",
       "      <th>2</th>\n",
       "      <td>24337.143253</td>\n",
       "      <td>20161.826238</td>\n",
       "      <td>1960</td>\n",
       "    </tr>\n",
       "    <tr>\n",
       "      <th>3</th>\n",
       "      <td>22357.344760</td>\n",
       "      <td>19069.154199</td>\n",
       "      <td>1965</td>\n",
       "    </tr>\n",
       "    <tr>\n",
       "      <th>4</th>\n",
       "      <td>19405.866973</td>\n",
       "      <td>18565.735526</td>\n",
       "      <td>1970</td>\n",
       "    </tr>\n",
       "    <tr>\n",
       "      <th>5</th>\n",
       "      <td>21725.970625</td>\n",
       "      <td>20127.808332</td>\n",
       "      <td>1975</td>\n",
       "    </tr>\n",
       "    <tr>\n",
       "      <th>6</th>\n",
       "      <td>21113.253961</td>\n",
       "      <td>17889.190464</td>\n",
       "      <td>1980</td>\n",
       "    </tr>\n",
       "    <tr>\n",
       "      <th>7</th>\n",
       "      <td>20569.566830</td>\n",
       "      <td>17316.039132</td>\n",
       "      <td>1985</td>\n",
       "    </tr>\n",
       "    <tr>\n",
       "      <th>8</th>\n",
       "      <td>19411.633217</td>\n",
       "      <td>16168.436186</td>\n",
       "      <td>1990</td>\n",
       "    </tr>\n",
       "  </tbody>\n",
       "</table>\n",
       "</div>"
      ],
      "text/plain": [
       "           mean           std  year\n",
       "0  25562.916718  21595.883647  1950\n",
       "1  23505.801621  20220.302506  1955\n",
       "2  24337.143253  20161.826238  1960\n",
       "3  22357.344760  19069.154199  1965\n",
       "4  19405.866973  18565.735526  1970\n",
       "5  21725.970625  20127.808332  1975\n",
       "6  21113.253961  17889.190464  1980\n",
       "7  20569.566830  17316.039132  1985\n",
       "8  19411.633217  16168.436186  1990"
      ]
     },
     "execution_count": 218,
     "metadata": {},
     "output_type": "execute_result"
    }
   ],
   "source": [
    "vis"
   ]
  },
  {
   "cell_type": "code",
   "execution_count": 219,
   "metadata": {},
   "outputs": [
    {
     "data": {
      "image/png": "[encoded data removed]",
      "text/plain": [
       "<Figure size 432x288 with 1 Axes>"
      ]
     },
     "metadata": {
      "needs_background": "light"
     },
     "output_type": "display_data"
    }
   ],
   "source": [
    "#Average Visibility Distance\n",
    "vis.plot(kind='line',x='year',y='mean')\n",
    "plt.show()"
   ]
  },
  {
   "cell_type": "code",
   "execution_count": 220,
   "metadata": {},
   "outputs": [
    {
     "data": {
      "image/png": "[encoded data removed]",
      "text/plain": [
       "<Figure size 432x288 with 1 Axes>"
      ]
     },
     "metadata": {
      "needs_background": "light"
     },
     "output_type": "display_data"
    }
   ],
   "source": [
    "#std of Visibility Distance\n",
    "vis.plot(kind='line',x='year',y='std', colormap='RdBu')\n",
    "plt.show()"
   ]
  },
  {
   "cell_type": "markdown",
   "metadata": {},
   "source": [
    "### Average Liquid Preciption Depth(Millimeters/hr) and its Standard Deviation Each Year From 1950 to 1990"
   ]
  },
  {
   "cell_type": "code",
   "execution_count": null,
   "metadata": {},
   "outputs": [],
   "source": [
    "liquid = liquid.where(\"mean!=0.0\")"
   ]
  },
  {
   "cell_type": "code",
   "execution_count": null,
   "metadata": {},
   "outputs": [],
   "source": [
    "liquid.createOrReplaceTempView('liquid')\n",
    "liquid = liquid.toPandas()"
   ]
  },
  {
   "cell_type": "code",
   "execution_count": 223,
   "metadata": {},
   "outputs": [
    {
     "data": {
      "text/html": [
       "<div>\n",
       "<style scoped>\n",
       "    .dataframe tbody tr th:only-of-type {\n",
       "        vertical-align: middle;\n",
       "    }\n",
       "\n",
       "    .dataframe tbody tr th {\n",
       "        vertical-align: top;\n",
       "    }\n",
       "\n",
       "    .dataframe thead th {\n",
       "        text-align: right;\n",
       "    }\n",
       "</style>\n",
       "<table border=\"1\" class=\"dataframe\">\n",
       "  <thead>\n",
       "    <tr style=\"text-align: right;\">\n",
       "      <th></th>\n",
       "      <th>mean</th>\n",
       "      <th>std</th>\n",
       "      <th>year</th>\n",
       "    </tr>\n",
       "  </thead>\n",
       "  <tbody>\n",
       "    <tr>\n",
       "      <th>0</th>\n",
       "      <td>0.311376</td>\n",
       "      <td>1.108496</td>\n",
       "      <td>1950</td>\n",
       "    </tr>\n",
       "    <tr>\n",
       "      <th>1</th>\n",
       "      <td>0.755602</td>\n",
       "      <td>1.805349</td>\n",
       "      <td>1955</td>\n",
       "    </tr>\n",
       "    <tr>\n",
       "      <th>2</th>\n",
       "      <td>0.830229</td>\n",
       "      <td>2.142708</td>\n",
       "      <td>1960</td>\n",
       "    </tr>\n",
       "    <tr>\n",
       "      <th>3</th>\n",
       "      <td>0.943775</td>\n",
       "      <td>2.360308</td>\n",
       "      <td>1965</td>\n",
       "    </tr>\n",
       "    <tr>\n",
       "      <th>4</th>\n",
       "      <td>1.850326</td>\n",
       "      <td>3.530043</td>\n",
       "      <td>1970</td>\n",
       "    </tr>\n",
       "    <tr>\n",
       "      <th>5</th>\n",
       "      <td>0.545133</td>\n",
       "      <td>1.935142</td>\n",
       "      <td>1975</td>\n",
       "    </tr>\n",
       "    <tr>\n",
       "      <th>6</th>\n",
       "      <td>0.565251</td>\n",
       "      <td>5.954628</td>\n",
       "      <td>1980</td>\n",
       "    </tr>\n",
       "    <tr>\n",
       "      <th>7</th>\n",
       "      <td>3.097375</td>\n",
       "      <td>13.778545</td>\n",
       "      <td>1985</td>\n",
       "    </tr>\n",
       "    <tr>\n",
       "      <th>8</th>\n",
       "      <td>6.156521</td>\n",
       "      <td>18.739629</td>\n",
       "      <td>1990</td>\n",
       "    </tr>\n",
       "  </tbody>\n",
       "</table>\n",
       "</div>"
      ],
      "text/plain": [
       "       mean        std  year\n",
       "0  0.311376   1.108496  1950\n",
       "1  0.755602   1.805349  1955\n",
       "2  0.830229   2.142708  1960\n",
       "3  0.943775   2.360308  1965\n",
       "4  1.850326   3.530043  1970\n",
       "5  0.545133   1.935142  1975\n",
       "6  0.565251   5.954628  1980\n",
       "7  3.097375  13.778545  1985\n",
       "8  6.156521  18.739629  1990"
      ]
     },
     "execution_count": 223,
     "metadata": {},
     "output_type": "execute_result"
    }
   ],
   "source": [
    "liquid"
   ]
  },
  {
   "cell_type": "code",
   "execution_count": 225,
   "metadata": {},
   "outputs": [
    {
     "data": {
      "image/png": "[encoded data removed]",
      "text/plain": [
       "<Figure size 432x288 with 1 Axes>"
      ]
     },
     "metadata": {
      "needs_background": "light"
     },
     "output_type": "display_data"
    }
   ],
   "source": [
    "#Average Liquid Preciption Depth\n",
    "liquid.plot(kind='line',x='year',y='mean')\n",
    "plt.show()"
   ]
  },
  {
   "cell_type": "code",
   "execution_count": 226,
   "metadata": {},
   "outputs": [
    {
     "data": {
      "image/png": "[encoded data removed]",
      "text/plain": [
       "<Figure size 432x288 with 1 Axes>"
      ]
     },
     "metadata": {
      "needs_background": "light"
     },
     "output_type": "display_data"
    }
   ],
   "source": [
    "#std of Liquid Preciption Depth\n",
    "liquid.plot(kind='line',x='year',y='std', colormap='RdBu')\n",
    "plt.show()"
   ]
  },
  {
   "cell_type": "code",
   "execution_count": 227,
   "metadata": {},
   "outputs": [],
   "source": [
    "sc.stop()"
   ]
  }
 ],
 "metadata": {
  "kernelspec": {
   "display_name": "Python 3",
   "language": "python",
   "name": "python3"
  },
  "language_info": {
   "codemirror_mode": {
    "name": "ipython",
    "version": 3
   },
   "file_extension": ".py",
   "mimetype": "text/x-python",
   "name": "python",
   "nbconvert_exporter": "python",
   "pygments_lexer": "ipython3",
   "version": "3.7.6"
  }
 },
 "nbformat": 4,
 "nbformat_minor": 4
}
