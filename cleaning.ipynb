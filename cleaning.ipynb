{
 "cells": [
  {
   "cell_type": "code",
   "execution_count": 1,
   "metadata": {},
   "outputs": [
    {
     "data": {
      "text/html": [
       "\n",
       "        <div>\n",
       "            <p><b>SparkContext</b></p>\n",
       "\n",
       "            <p><a href=\"http://ip-172-31-47-230.ec2.internal:4040\">Spark UI</a></p>\n",
       "\n",
       "            <dl>\n",
       "              <dt>Version</dt>\n",
       "                <dd><code>v2.4.4</code></dd>\n",
       "              <dt>Master</dt>\n",
       "                <dd><code>yarn</code></dd>\n",
       "              <dt>AppName</dt>\n",
       "                <dd><code>pyspark-shell</code></dd>\n",
       "            </dl>\n",
       "        </div>\n",
       "        "
      ],
      "text/plain": [
       "<SparkContext master=yarn appName=pyspark-shell>"
      ]
     },
     "execution_count": 1,
     "metadata": {},
     "output_type": "execute_result"
    }
   ],
   "source": [
    "import findspark\n",
    "findspark.init()\n",
    "from pyspark import SparkContext\n",
    "sc=SparkContext()\n",
    "sc"
   ]
  },
  {
   "cell_type": "code",
   "execution_count": 2,
   "metadata": {},
   "outputs": [
    {
     "data": {
      "text/html": [
       "\n",
       "            <div>\n",
       "                <p><b>SparkSession - in-memory</b></p>\n",
       "                \n",
       "        <div>\n",
       "            <p><b>SparkContext</b></p>\n",
       "\n",
       "            <p><a href=\"http://ip-172-31-47-230.ec2.internal:4040\">Spark UI</a></p>\n",
       "\n",
       "            <dl>\n",
       "              <dt>Version</dt>\n",
       "                <dd><code>v2.4.4</code></dd>\n",
       "              <dt>Master</dt>\n",
       "                <dd><code>yarn</code></dd>\n",
       "              <dt>AppName</dt>\n",
       "                <dd><code>pyspark-shell</code></dd>\n",
       "            </dl>\n",
       "        </div>\n",
       "        \n",
       "            </div>\n",
       "        "
      ],
      "text/plain": [
       "<pyspark.sql.session.SparkSession at 0x7f62d061c710>"
      ]
     },
     "execution_count": 2,
     "metadata": {},
     "output_type": "execute_result"
    }
   ],
   "source": [
    "from pyspark.sql import SparkSession\n",
    "spark=SparkSession.builder.getOrCreate()\n",
    "spark"
   ]
  },
  {
   "cell_type": "markdown",
   "metadata": {},
   "source": [
    "## Load Year 2019 data (Total 50.4GB)"
   ]
  },
  {
   "cell_type": "code",
   "execution_count": 5,
   "metadata": {},
   "outputs": [],
   "source": [
    "data2019 = spark.read.option(\"header\", \"false\").csv(\"s3://noaa-global-hourly-pds/2019/*.csv\")"
   ]
  },
  {
   "cell_type": "code",
   "execution_count": 6,
   "metadata": {},
   "outputs": [
    {
     "data": {
      "text/plain": [
       "DataFrame[_c0: string, _c1: string, _c2: string, _c3: string, _c4: string, _c5: string, _c6: string, _c7: string, _c8: string, _c9: string, _c10: string, _c11: string, _c12: string, _c13: string, _c14: string, _c15: string, _c16: string, _c17: string, _c18: string, _c19: string, _c20: string, _c21: string, _c22: string, _c23: string, _c24: string, _c25: string, _c26: string, _c27: string, _c28: string, _c29: string, _c30: string, _c31: string, _c32: string, _c33: string, _c34: string, _c35: string, _c36: string, _c37: string, _c38: string, _c39: string, _c40: string, _c41: string, _c42: string, _c43: string, _c44: string, _c45: string, _c46: string, _c47: string, _c48: string, _c49: string, _c50: string, _c51: string, _c52: string, _c53: string, _c54: string, _c55: string, _c56: string, _c57: string, _c58: string]"
      ]
     },
     "execution_count": 6,
     "metadata": {},
     "output_type": "execute_result"
    }
   ],
   "source": [
    "data2019.cache()"
   ]
  },
  {
   "cell_type": "code",
   "execution_count": 7,
   "metadata": {},
   "outputs": [
    {
     "name": "stdout",
     "output_type": "stream",
     "text": [
      "root\n",
      " |-- _c0: string (nullable = true)\n",
      " |-- _c1: string (nullable = true)\n",
      " |-- _c2: string (nullable = true)\n",
      " |-- _c3: string (nullable = true)\n",
      " |-- _c4: string (nullable = true)\n",
      " |-- _c5: string (nullable = true)\n",
      " |-- _c6: string (nullable = true)\n",
      " |-- _c7: string (nullable = true)\n",
      " |-- _c8: string (nullable = true)\n",
      " |-- _c9: string (nullable = true)\n",
      " |-- _c10: string (nullable = true)\n",
      " |-- _c11: string (nullable = true)\n",
      " |-- _c12: string (nullable = true)\n",
      " |-- _c13: string (nullable = true)\n",
      " |-- _c14: string (nullable = true)\n",
      " |-- _c15: string (nullable = true)\n",
      " |-- _c16: string (nullable = true)\n",
      " |-- _c17: string (nullable = true)\n",
      " |-- _c18: string (nullable = true)\n",
      " |-- _c19: string (nullable = true)\n",
      " |-- _c20: string (nullable = true)\n",
      " |-- _c21: string (nullable = true)\n",
      " |-- _c22: string (nullable = true)\n",
      " |-- _c23: string (nullable = true)\n",
      " |-- _c24: string (nullable = true)\n",
      " |-- _c25: string (nullable = true)\n",
      " |-- _c26: string (nullable = true)\n",
      " |-- _c27: string (nullable = true)\n",
      " |-- _c28: string (nullable = true)\n",
      " |-- _c29: string (nullable = true)\n",
      " |-- _c30: string (nullable = true)\n",
      " |-- _c31: string (nullable = true)\n",
      " |-- _c32: string (nullable = true)\n",
      " |-- _c33: string (nullable = true)\n",
      " |-- _c34: string (nullable = true)\n",
      " |-- _c35: string (nullable = true)\n",
      " |-- _c36: string (nullable = true)\n",
      " |-- _c37: string (nullable = true)\n",
      " |-- _c38: string (nullable = true)\n",
      " |-- _c39: string (nullable = true)\n",
      " |-- _c40: string (nullable = true)\n",
      " |-- _c41: string (nullable = true)\n",
      " |-- _c42: string (nullable = true)\n",
      " |-- _c43: string (nullable = true)\n",
      " |-- _c44: string (nullable = true)\n",
      " |-- _c45: string (nullable = true)\n",
      " |-- _c46: string (nullable = true)\n",
      " |-- _c47: string (nullable = true)\n",
      " |-- _c48: string (nullable = true)\n",
      " |-- _c49: string (nullable = true)\n",
      " |-- _c50: string (nullable = true)\n",
      " |-- _c51: string (nullable = true)\n",
      " |-- _c52: string (nullable = true)\n",
      " |-- _c53: string (nullable = true)\n",
      " |-- _c54: string (nullable = true)\n",
      " |-- _c55: string (nullable = true)\n",
      " |-- _c56: string (nullable = true)\n",
      " |-- _c57: string (nullable = true)\n",
      " |-- _c58: string (nullable = true)\n",
      "\n"
     ]
    }
   ],
   "source": [
    "data2019.printSchema()"
   ]
  },
  {
   "cell_type": "code",
   "execution_count": 8,
   "metadata": {},
   "outputs": [
    {
     "name": "stdout",
     "output_type": "stream",
     "text": [
      "+-----------+-------------------+------+--------+---------+---------+--------------------+-----------+---------+---------------+--------------+-----------+------------+-------+-------+-------+-----------+----+----+-----------+-------------+--------+--------+--------+----------+----------+----------+--------------------+--------------------+--------------------+--------------------+--------------------+------+---------+---------+---------+---------+------------------+------------------+------------------+--------------------+--------------------+--------------------+-------------------+--------------------+------------------+-------------+-------------+----+----+----+----+----+----+----+----+-------+--------------------+----+\n",
      "|        _c0|                _c1|   _c2|     _c3|      _c4|      _c5|                 _c6|        _c7|      _c8|            _c9|          _c10|       _c11|        _c12|   _c13|   _c14|   _c15|       _c16|_c17|_c18|       _c19|         _c20|    _c21|    _c22|    _c23|      _c24|      _c25|      _c26|                _c27|                _c28|                _c29|                _c30|                _c31|  _c32|     _c33|     _c34|     _c35|     _c36|              _c37|              _c38|              _c39|                _c40|                _c41|                _c42|               _c43|                _c44|              _c45|         _c46|         _c47|_c48|_c49|_c50|_c51|_c52|_c53|_c54|_c55|   _c56|                _c57|_c58|\n",
      "+-----------+-------------------+------+--------+---------+---------+--------------------+-----------+---------+---------------+--------------+-----------+------------+-------+-------+-------+-----------+----+----+-----------+-------------+--------+--------+--------+----------+----------+----------+--------------------+--------------------+--------------------+--------------------+--------------------+------+---------+---------+---------+---------+------------------+------------------+------------------+--------------------+--------------------+--------------------+-------------------+--------------------+------------------+-------------+-------------+----+----+----+----+----+----+----+----+-------+--------------------+----+\n",
      "|    STATION|               DATE|SOURCE|LATITUDE|LONGITUDE|ELEVATION|                NAME|REPORT_TYPE|CALL_SIGN|QUALITY_CONTROL|           WND|        CIG|         VIS|    TMP|    DEW|    SLP|        AA1| AB1| AE1|        AO1|          CB1|     CF1|     CF2|     CF3|       CG1|       CG2|       CG3|                 CH1|                 CI1|                 CN1|                 CN2|                 CN3|   CO1|      CR1|      CT1|      CT2|      CT3|               CU1|               CU2|               CU3|                 CV1|                 CV2|                 CV3|                CW1|                 GH1|               IB2|          KA1|          KA2| KB1| KB2| KB3| KC1| KC2| KD1| KD2| KE1|    KF1|                 OB1| EQD|\n",
      "|99999927516|2019-01-01T00:00:00|     I| 71.3213| -156.611|      4.6|UTQIA VIK FORMERL...|      CRN05|    99999|           V020|999,9,R,0064,1|99999,9,9,N|999999,9,9,9|-0203,1|+9999,9|99999,9|01,0000,9,1|null|null|05,0000,9,1|05,+00000,1,0|0826,1,0|0818,1,0|0834,1,0|+03044,1,0|+03144,1,0|+03078,1,0|05,-0204,1,0,0803...|-0207,1,0,-0204,1...|0133,1,0,0129,1,0...|-0190,1,0,-0213,1...|014999,1,0,485950...|99,-09|02424,1,0|-0203,1,0|-0203,1,0|-0203,1,0|+9999,9,0,0001,1,0|+9999,9,0,0001,1,0|+9999,9,0,0001,1,0|-0205,1,0,9999,9,...|-0206,1,0,9999,9,...|-0206,1,0,9999,9,...|12270,1,0,30090,1,0|00000,1,0,00000,1...|-0205,1,0,0001,1,0|010,M,-0203,1|010,N,-0206,1|null|null|null|null|null|null|null|null|-0205,1|060,0081,1,0,999,...|null|\n",
      "|99999927516|2019-01-01T00:05:00|     I| 71.3213| -156.611|      4.6|UTQIA VIK FORMERL...|      CRN05|    99999|           V020|999,9,9,9999,9|99999,9,9,N|999999,9,9,9|-0203,1|+9999,9|99999,9|       null|null|null|05,0000,9,1|05,+00000,1,0|    null|    null|    null|+03043,1,0|+03144,1,0|+03078,1,0|05,-0204,1,0,0803...|                null|                null|                null|                null|99,-09|     null|-0202,1,0|-0203,1,0|-0203,1,0|              null|              null|              null|                null|                null|                null|12240,1,0,30090,1,0|                null|              null|         null|         null|null|null|null|null|null|null|null|null|   null|                null|null|\n",
      "+-----------+-------------------+------+--------+---------+---------+--------------------+-----------+---------+---------------+--------------+-----------+------------+-------+-------+-------+-----------+----+----+-----------+-------------+--------+--------+--------+----------+----------+----------+--------------------+--------------------+--------------------+--------------------+--------------------+------+---------+---------+---------+---------+------------------+------------------+------------------+--------------------+--------------------+--------------------+-------------------+--------------------+------------------+-------------+-------------+----+----+----+----+----+----+----+----+-------+--------------------+----+\n",
      "only showing top 3 rows\n",
      "\n"
     ]
    }
   ],
   "source": [
    "data2019.show(3)"
   ]
  },
  {
   "cell_type": "markdown",
   "metadata": {},
   "source": [
    "## Data Cleaning"
   ]
  },
  {
   "cell_type": "code",
   "execution_count": 15,
   "metadata": {},
   "outputs": [],
   "source": [
    "from pyspark.sql import SparkSession\n",
    "#from pyspark.sql import functions._\n",
    "#import pyspark.spark.sql.{SQLContext, Row, DataFrame, Column}\n",
    "from pyspark.sql import Row,DataFrame,Column\n",
    "from pyspark.sql import SQLContext\n",
    "from pyspark.sql.functions import col\n",
    "from pyspark.sql import functions as f\n",
    "#from pyspark.ml import feature.VectorAssembler"
   ]
  },
  {
   "cell_type": "code",
   "execution_count": 10,
   "metadata": {},
   "outputs": [],
   "source": [
    "import datetime"
   ]
  },
  {
   "cell_type": "code",
   "execution_count": 23,
   "metadata": {},
   "outputs": [
    {
     "name": "stdout",
     "output_type": "stream",
     "text": [
      "+-----------+-------------------+--------+---------+---------+----+-----+------+-----+-----+-----+------+-----+\n",
      "|    station|               date|latitude|longitude|elevation|wind|  cig|   vis| temp|  dew|  slp|liquid|liqhr|\n",
      "+-----------+-------------------+--------+---------+---------+----+-----+------+-----+-----+-----+------+-----+\n",
      "|99999927516|2019-01-01T00:00:00| 71.3213| -156.611|      4.6|0064|99999|999999|-0203|+9999|99999|  0000|   01|\n",
      "|99999927516|2019-01-01T00:05:00| 71.3213| -156.611|      4.6|9999|99999|999999|-0203|+9999|99999|  null| null|\n",
      "|99999927516|2019-01-01T00:10:00| 71.3213| -156.611|      4.6|9999|99999|999999|-0202|+9999|99999|  null| null|\n",
      "|99999927516|2019-01-01T00:15:00| 71.3213| -156.611|      4.6|9999|99999|999999|-0202|+9999|99999|  null| null|\n",
      "|99999927516|2019-01-01T00:20:00| 71.3213| -156.611|      4.6|9999|99999|999999|-0201|+9999|99999|  null| null|\n",
      "+-----------+-------------------+--------+---------+---------+----+-----+------+-----+-----+-----+------+-----+\n",
      "only showing top 5 rows\n",
      "\n"
     ]
    }
   ],
   "source": [
    "#data cleaning\n",
    "data1 = data2019.where('_c0!= \"STATION\" ')\n",
    "#select useful columns\n",
    "data2 = data1.select(col(\"_c0\"),col(\"_c1\"), col(\"_c3\"),col(\"_c4\"),col(\"_c5\"),\n",
    "                     col(\"_c10\"),col(\"_c11\"),col(\"_c12\"), col(\"_c13\"), col(\"_c14\"),\n",
    "                     col(\"_c15\"),col(\"_c16\"))\n",
    "data2 = data2.select(col(\"_c0\").alias(\"station\"), col(\"_c1\").alias(\"date\"), \n",
    "                     col(\"_c3\").alias(\"latitude\"),col(\"_c4\").alias(\"longitude\"),\n",
    "                     col(\"_c5\").alias(\"elevation\"),\n",
    "                     f.split(data2['_c10'], ',')[3].alias(\"wind\"),\n",
    "                     f.split(data2['_c11'], ',')[0].alias(\"cig\"),\n",
    "                     f.split(data2['_c12'], ',')[0].alias(\"vis\"),\n",
    "                     f.split(data2['_c13'], ',')[0].alias(\"temp\"),\n",
    "                     f.split(data2['_c14'], ',')[0].alias(\"dew\"), \n",
    "                     f.split(data2['_c15'], ',')[0].alias(\"slp\"), \n",
    "                         f.split(data2['_c16'], ',')[1].alias(\"liquid\"),\n",
    "                         f.split(data2['_c16'], ',')[0].alias(\"liqhr\")\n",
    "                        )\n",
    "data2.show(5)"
   ]
  },
  {
   "cell_type": "code",
   "execution_count": 40,
   "metadata": {},
   "outputs": [
    {
     "name": "stdout",
     "output_type": "stream",
     "text": [
      "+-----------+-------------------+--------+---------+---------+------+-------+--------+------+------+-------+------+-----+\n",
      "|    station|               date|latitude|longitude|elevation|  wind|    cig|     vis|  temp|   dew|    slp|liquid|liqhr|\n",
      "+-----------+-------------------+--------+---------+---------+------+-------+--------+------+------+-------+------+-----+\n",
      "|99999927516|2019-01-01T00:00:00| 71.3213| -156.611|      4.6|  64.0|99999.0|999999.0|-203.0|9999.0|99999.0|   0.0|  1.0|\n",
      "|99999927516|2019-01-01T00:05:00| 71.3213| -156.611|      4.6|9999.0|99999.0|999999.0|-203.0|9999.0|99999.0|  null| null|\n",
      "|99999927516|2019-01-01T00:10:00| 71.3213| -156.611|      4.6|9999.0|99999.0|999999.0|-202.0|9999.0|99999.0|  null| null|\n",
      "|99999927516|2019-01-01T00:15:00| 71.3213| -156.611|      4.6|9999.0|99999.0|999999.0|-202.0|9999.0|99999.0|  null| null|\n",
      "|99999927516|2019-01-01T00:20:00| 71.3213| -156.611|      4.6|9999.0|99999.0|999999.0|-201.0|9999.0|99999.0|  null| null|\n",
      "+-----------+-------------------+--------+---------+---------+------+-------+--------+------+------+-------+------+-----+\n",
      "only showing top 5 rows\n",
      "\n"
     ]
    }
   ],
   "source": [
    "#convert data type to float\n",
    "data3=data2.withColumn(\"temp\", data2[\"temp\"].cast(\"float\"))\n",
    "data3=data3.withColumn(\"vis\", data3[\"vis\"].cast(\"float\"))\n",
    "data3=data3.withColumn(\"liquid\", data3[\"liquid\"].cast(\"float\"))\n",
    "data3=data3.withColumn(\"liqhr\", data3[\"liqhr\"].cast(\"float\"))\n",
    "data3=data3.withColumn(\"latitude\", data3[\"latitude\"].cast(\"float\"))\n",
    "data3=data3.withColumn(\"longitude\", data3[\"longitude\"].cast(\"float\"))\n",
    "data3=data3.withColumn(\"elevation\", data3[\"elevation\"].cast(\"float\"))\n",
    "data3=data3.withColumn(\"wind\", data3[\"wind\"].cast(\"float\"))\n",
    "data3=data3.withColumn(\"cig\", data3[\"cig\"].cast(\"float\"))\n",
    "data3=data3.withColumn(\"dew\", data3[\"dew\"].cast(\"float\"))\n",
    "data3=data3.withColumn(\"slp\", data3[\"slp\"].cast(\"float\"))\n",
    "data3.show(5)"
   ]
  },
  {
   "cell_type": "code",
   "execution_count": 41,
   "metadata": {},
   "outputs": [
    {
     "name": "stdout",
     "output_type": "stream",
     "text": [
      "root\n",
      " |-- station: string (nullable = true)\n",
      " |-- date: string (nullable = true)\n",
      " |-- latitude: float (nullable = true)\n",
      " |-- longitude: float (nullable = true)\n",
      " |-- elevation: float (nullable = true)\n",
      " |-- wind: float (nullable = true)\n",
      " |-- cig: float (nullable = true)\n",
      " |-- vis: float (nullable = true)\n",
      " |-- temp: float (nullable = true)\n",
      " |-- dew: float (nullable = true)\n",
      " |-- slp: float (nullable = true)\n",
      " |-- liquid: float (nullable = true)\n",
      " |-- liqhr: float (nullable = true)\n",
      "\n"
     ]
    }
   ],
   "source": [
    "data3.printSchema()"
   ]
  },
  {
   "cell_type": "code",
   "execution_count": 25,
   "metadata": {},
   "outputs": [],
   "source": [
    "# Drop rows with NA or missing values in pyspark\n",
    "#data3=data3.dropna()"
   ]
  },
  {
   "cell_type": "code",
   "execution_count": 42,
   "metadata": {},
   "outputs": [
    {
     "name": "stdout",
     "output_type": "stream",
     "text": [
      "+-----------+-------------------+--------+----------+---------+----+------+-------+------+------+-------+------+-----+\n",
      "|    station|               date|latitude| longitude|elevation|wind|   cig|    vis|  temp|   dew|    slp|liquid|liqhr|\n",
      "+-----------+-------------------+--------+----------+---------+----+------+-------+------+------+-------+------+-----+\n",
      "|72475023176|2019-01-01T03:52:00|38.41667|-113.01667|   1536.2|41.0| 396.0| 2012.0| -83.0|-106.0|10193.0|   0.0|  1.0|\n",
      "|72475023176|2019-01-01T04:52:00|38.41667|-113.01667|   1536.2|57.0| 335.0| 1609.0| -78.0| -94.0|10192.0|   5.0|  1.0|\n",
      "|72475023176|2019-01-01T05:52:00|38.41667|-113.01667|   1536.2|62.0| 762.0| 4828.0| -83.0|-106.0|10196.0|   2.0|  1.0|\n",
      "|72475023176|2019-01-01T06:52:00|38.41667|-113.01667|   1536.2|46.0| 610.0| 3219.0| -89.0|-111.0|10205.0|   0.0|  1.0|\n",
      "|72475023176|2019-01-01T07:52:00|38.41667|-113.01667|   1536.2|67.0|1280.0|16093.0|-100.0|-133.0|10212.0|   0.0|  1.0|\n",
      "+-----------+-------------------+--------+----------+---------+----+------+-------+------+------+-------+------+-----+\n",
      "only showing top 5 rows\n",
      "\n"
     ]
    }
   ],
   "source": [
    "# drop 9999 as NA according to format guide https://www.ncei.noaa.gov/data/global-hourly/doc/isd-format-document.pdf\n",
    "data3 = data3.filter(data3.latitude != '99999')\n",
    "data3 = data3.filter(data3.longitude != '999999')\n",
    "data3 = data3.filter(data3.elevation != '9999')\n",
    "data3 = data3.filter(data3.wind != '9999')\n",
    "data3 = data3.filter(data3.cig != '99999')\n",
    "data3 = data3.filter(data3.temp != '9999')\n",
    "data3 = data3.filter(data3.vis != '999999')\n",
    "data3 = data3.filter(data3.slp != '99999')\n",
    "data3 = data3.filter(data3.dew != '9999')\n",
    "data3 = data3.filter(data3.liquid != '9999')\n",
    "data3 = data3.filter(data3.liqhr != '99')\n",
    "data3.show(5)"
   ]
  },
  {
   "cell_type": "code",
   "execution_count": 43,
   "metadata": {},
   "outputs": [
    {
     "name": "stdout",
     "output_type": "stream",
     "text": [
      "+-----------+-------------------+--------+----------+---------+----+------+-------+-----+-----+------+------+-----+\n",
      "|    station|               date|latitude| longitude|elevation|wind|   cig|    vis| temp|  dew|   slp|liquid|liqhr|\n",
      "+-----------+-------------------+--------+----------+---------+----+------+-------+-----+-----+------+------+-----+\n",
      "|72475023176|2019-01-01T03:52:00|38.41667|-113.01667|   1536.2| 4.1| 396.0| 2012.0| -8.3|-10.6|1019.3|   0.0|  1.0|\n",
      "|72475023176|2019-01-01T04:52:00|38.41667|-113.01667|   1536.2| 5.7| 335.0| 1609.0| -7.8| -9.4|1019.2|   0.5|  1.0|\n",
      "|72475023176|2019-01-01T05:52:00|38.41667|-113.01667|   1536.2| 6.2| 762.0| 4828.0| -8.3|-10.6|1019.6|   0.2|  1.0|\n",
      "|72475023176|2019-01-01T06:52:00|38.41667|-113.01667|   1536.2| 4.6| 610.0| 3219.0| -8.9|-11.1|1020.5|   0.0|  1.0|\n",
      "|72475023176|2019-01-01T07:52:00|38.41667|-113.01667|   1536.2| 6.7|1280.0|16093.0|-10.0|-13.3|1021.2|   0.0|  1.0|\n",
      "+-----------+-------------------+--------+----------+---------+----+------+-------+-----+-----+------+------+-----+\n",
      "only showing top 5 rows\n",
      "\n"
     ]
    }
   ],
   "source": [
    "# rescale data according to format\n",
    "data4=data3.withColumn(\"temp\", data3[\"temp\"]/10)\n",
    "data4=data4.withColumn(\"wind\", data4[\"wind\"]/10)\n",
    "data4=data4.withColumn(\"dew\", data4[\"dew\"]/10)\n",
    "data4=data4.withColumn(\"slp\", data4[\"slp\"]/10)\n",
    "\n",
    "#liquid depth per hour\n",
    "data4=data4.withColumn(\"liquid\", data4[\"liquid\"]/10/data4[\"liqhr\"])\n",
    "data4.show(5)"
   ]
  },
  {
   "cell_type": "code",
   "execution_count": 30,
   "metadata": {},
   "outputs": [
    {
     "name": "stdout",
     "output_type": "stream",
     "text": [
      "+-----------+-------------------+--------+----------+---------+----+------+-------+-----+-----+------+------+\n",
      "|    station|               date|latitude| longitude|elevation|wind|   cig|    vis| temp|  dew|   slp|liquid|\n",
      "+-----------+-------------------+--------+----------+---------+----+------+-------+-----+-----+------+------+\n",
      "|72475023176|2019-01-01T03:52:00|38.41667|-113.01667|   1536.2| 4.1| 396.0| 2012.0| -8.3|-10.6|1019.3|   0.0|\n",
      "|72475023176|2019-01-01T04:52:00|38.41667|-113.01667|   1536.2| 5.7| 335.0| 1609.0| -7.8| -9.4|1019.2|   0.5|\n",
      "|72475023176|2019-01-01T05:52:00|38.41667|-113.01667|   1536.2| 6.2| 762.0| 4828.0| -8.3|-10.6|1019.6|   0.2|\n",
      "|72475023176|2019-01-01T06:52:00|38.41667|-113.01667|   1536.2| 4.6| 610.0| 3219.0| -8.9|-11.1|1020.5|   0.0|\n",
      "|72475023176|2019-01-01T07:52:00|38.41667|-113.01667|   1536.2| 6.7|1280.0|16093.0|-10.0|-13.3|1021.2|   0.0|\n",
      "+-----------+-------------------+--------+----------+---------+----+------+-------+-----+-----+------+------+\n",
      "only showing top 5 rows\n",
      "\n"
     ]
    }
   ],
   "source": [
    "#data5 = data4.drop(\"liqhr\") \n",
    "#data5.show(5)"
   ]
  },
  {
   "cell_type": "code",
   "execution_count": 45,
   "metadata": {},
   "outputs": [
    {
     "name": "stdout",
     "output_type": "stream",
     "text": [
      "+-----------+-------------------+--------+----------+---------+----+------+-------+-----+-----+------+------+-----+-----+\n",
      "|    station|               date|latitude| longitude|elevation|wind|   cig|    vis| temp|  dew|   slp|liquid|liqhr|month|\n",
      "+-----------+-------------------+--------+----------+---------+----+------+-------+-----+-----+------+------+-----+-----+\n",
      "|72475023176|2019-01-01T03:52:00|38.41667|-113.01667|   1536.2| 4.1| 396.0| 2012.0| -8.3|-10.6|1019.3|   0.0|  1.0|    1|\n",
      "|72475023176|2019-01-01T04:52:00|38.41667|-113.01667|   1536.2| 5.7| 335.0| 1609.0| -7.8| -9.4|1019.2|   0.5|  1.0|    1|\n",
      "|72475023176|2019-01-01T05:52:00|38.41667|-113.01667|   1536.2| 6.2| 762.0| 4828.0| -8.3|-10.6|1019.6|   0.2|  1.0|    1|\n",
      "|72475023176|2019-01-01T06:52:00|38.41667|-113.01667|   1536.2| 4.6| 610.0| 3219.0| -8.9|-11.1|1020.5|   0.0|  1.0|    1|\n",
      "|72475023176|2019-01-01T07:52:00|38.41667|-113.01667|   1536.2| 6.7|1280.0|16093.0|-10.0|-13.3|1021.2|   0.0|  1.0|    1|\n",
      "+-----------+-------------------+--------+----------+---------+----+------+-------+-----+-----+------+------+-----+-----+\n",
      "only showing top 5 rows\n",
      "\n"
     ]
    }
   ],
   "source": [
    "data5 = data4.withColumn(\"month\", f.month(f.to_timestamp('date', 'yyyy-MM-dd')))\n",
    "data5.show(5)"
   ]
  },
  {
   "cell_type": "code",
   "execution_count": 46,
   "metadata": {},
   "outputs": [
    {
     "data": {
      "text/plain": [
       "DataFrame[station: string, date: string, latitude: float, longitude: float, elevation: float, wind: double, cig: float, vis: float, temp: double, dew: double, slp: double, liquid: double, liqhr: float, month: int]"
      ]
     },
     "execution_count": 46,
     "metadata": {},
     "output_type": "execute_result"
    }
   ],
   "source": [
    "data5.cache()"
   ]
  },
  {
   "cell_type": "code",
   "execution_count": 47,
   "metadata": {},
   "outputs": [
    {
     "data": {
      "text/plain": [
       "10667288"
      ]
     },
     "execution_count": 47,
     "metadata": {},
     "output_type": "execute_result"
    }
   ],
   "source": [
    "data5.count()"
   ]
  },
  {
   "cell_type": "code",
   "execution_count": 48,
   "metadata": {},
   "outputs": [
    {
     "name": "stdout",
     "output_type": "stream",
     "text": [
      "root\n",
      " |-- station: string (nullable = true)\n",
      " |-- date: string (nullable = true)\n",
      " |-- latitude: float (nullable = true)\n",
      " |-- longitude: float (nullable = true)\n",
      " |-- elevation: float (nullable = true)\n",
      " |-- wind: double (nullable = true)\n",
      " |-- cig: float (nullable = true)\n",
      " |-- vis: float (nullable = true)\n",
      " |-- temp: double (nullable = true)\n",
      " |-- dew: double (nullable = true)\n",
      " |-- slp: double (nullable = true)\n",
      " |-- liquid: double (nullable = true)\n",
      " |-- liqhr: float (nullable = true)\n",
      " |-- month: integer (nullable = true)\n",
      "\n"
     ]
    }
   ],
   "source": [
    "data5.printSchema()"
   ]
  },
  {
   "cell_type": "code",
   "execution_count": 49,
   "metadata": {},
   "outputs": [],
   "source": [
    "data5.write.csv(\"s3://open-data-noaa/cleaneddata\", sep=',', header=True,mode=\"overwrite\")"
   ]
  },
  {
   "cell_type": "code",
   "execution_count": 50,
   "metadata": {},
   "outputs": [],
   "source": [
    "sc.stop()"
   ]
  }
 ],
 "metadata": {
  "kernelspec": {
   "display_name": "Python 3",
   "language": "python",
   "name": "python3"
  },
  "language_info": {
   "codemirror_mode": {
    "name": "ipython",
    "version": 3
   },
   "file_extension": ".py",
   "mimetype": "text/x-python",
   "name": "python",
   "nbconvert_exporter": "python",
   "pygments_lexer": "ipython3",
   "version": "3.7.6"
  }
 },
 "nbformat": 4,
 "nbformat_minor": 4
}
