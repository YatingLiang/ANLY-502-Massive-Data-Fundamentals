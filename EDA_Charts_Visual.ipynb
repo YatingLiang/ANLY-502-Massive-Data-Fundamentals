{
 "cells": [
  {
   "cell_type": "code",
   "execution_count": 1,
   "metadata": {},
   "outputs": [
    {
     "data": {
      "text/html": [
       "\n",
       "        <div>\n",
       "            <p><b>SparkContext</b></p>\n",
       "\n",
       "            <p><a href=\"http://ip-172-31-41-253.ec2.internal:4040\">Spark UI</a></p>\n",
       "\n",
       "            <dl>\n",
       "              <dt>Version</dt>\n",
       "                <dd><code>v2.4.4</code></dd>\n",
       "              <dt>Master</dt>\n",
       "                <dd><code>yarn</code></dd>\n",
       "              <dt>AppName</dt>\n",
       "                <dd><code>pyspark-shell</code></dd>\n",
       "            </dl>\n",
       "        </div>\n",
       "        "
      ],
      "text/plain": [
       "<SparkContext master=yarn appName=pyspark-shell>"
      ]
     },
     "execution_count": 1,
     "metadata": {},
     "output_type": "execute_result"
    }
   ],
   "source": [
    "import findspark\n",
    "findspark.init()\n",
    "from pyspark import SparkContext\n",
    "sc=SparkContext()\n",
    "sc"
   ]
  },
  {
   "cell_type": "code",
   "execution_count": 2,
   "metadata": {},
   "outputs": [
    {
     "data": {
      "text/html": [
       "\n",
       "            <div>\n",
       "                <p><b>SparkSession - in-memory</b></p>\n",
       "                \n",
       "        <div>\n",
       "            <p><b>SparkContext</b></p>\n",
       "\n",
       "            <p><a href=\"http://ip-172-31-41-253.ec2.internal:4040\">Spark UI</a></p>\n",
       "\n",
       "            <dl>\n",
       "              <dt>Version</dt>\n",
       "                <dd><code>v2.4.4</code></dd>\n",
       "              <dt>Master</dt>\n",
       "                <dd><code>yarn</code></dd>\n",
       "              <dt>AppName</dt>\n",
       "                <dd><code>pyspark-shell</code></dd>\n",
       "            </dl>\n",
       "        </div>\n",
       "        \n",
       "            </div>\n",
       "        "
      ],
      "text/plain": [
       "<pyspark.sql.session.SparkSession at 0x7ff9848f57d0>"
      ]
     },
     "execution_count": 2,
     "metadata": {},
     "output_type": "execute_result"
    }
   ],
   "source": [
    "from pyspark.sql import SparkSession\n",
    "spark=SparkSession.builder.getOrCreate()\n",
    "spark"
   ]
  },
  {
   "cell_type": "markdown",
   "metadata": {},
   "source": [
    "## Data Prepocessing"
   ]
  },
  {
   "cell_type": "code",
   "execution_count": null,
   "metadata": {},
   "outputs": [],
   "source": [
    "data2019 = spark.read.option(\"header\", \"True\").csv(\"s3://open-data-noaa/cleaneddata/*.csv\")"
   ]
  },
  {
   "cell_type": "code",
   "execution_count": 4,
   "metadata": {},
   "outputs": [],
   "source": [
    "from pyspark.sql import SparkSession\n",
    "#from pyspark.sql import functions._\n",
    "#import pyspark.spark.sql.{SQLContext, Row, DataFrame, Column}\n",
    "from pyspark.sql import Row,DataFrame,Column\n",
    "from pyspark.sql import SQLContext\n",
    "from pyspark.sql.functions import col\n",
    "from pyspark.sql import functions as f\n",
    "from pyspark.sql.types import *\n",
    "#from pyspark.ml import feature.VectorAssembler"
   ]
  },
  {
   "cell_type": "code",
   "execution_count": 5,
   "metadata": {},
   "outputs": [],
   "source": [
    "data2019=data2019.withColumn(\"temp\", data2019[\"temp\"].cast(\"float\"))\n",
    "data2019=data2019.withColumn(\"vis\", data2019[\"vis\"].cast(\"float\"))\n",
    "data2019=data2019.withColumn(\"liquid\", data2019[\"liquid\"].cast(\"float\"))\n",
    "data2019=data2019.withColumn(\"liqhr\", data2019[\"liqhr\"].cast(\"float\"))\n",
    "data2019=data2019.withColumn(\"latitude\", data2019[\"latitude\"].cast(\"float\"))\n",
    "data2019=data2019.withColumn(\"longitude\", data2019[\"longitude\"].cast(\"float\"))\n",
    "data2019=data2019.withColumn(\"elevation\", data2019[\"elevation\"].cast(\"float\"))\n",
    "data2019=data2019.withColumn(\"wind\", data2019[\"wind\"].cast(\"float\"))\n",
    "data2019=data2019.withColumn(\"cig\", data2019[\"cig\"].cast(\"float\"))\n",
    "data2019=data2019.withColumn(\"dew\", data2019[\"dew\"].cast(\"float\"))\n",
    "data2019=data2019.withColumn(\"slp\", data2019[\"slp\"].cast(\"float\"))"
   ]
  },
  {
   "cell_type": "code",
   "execution_count": 6,
   "metadata": {},
   "outputs": [
    {
     "data": {
      "text/plain": [
       "DataFrame[station: string, date: string, latitude: float, longitude: float, elevation: float, wind: float, cig: float, vis: float, temp: float, dew: float, slp: float, liquid: float, liqhr: float, month: string]"
      ]
     },
     "execution_count": 6,
     "metadata": {},
     "output_type": "execute_result"
    }
   ],
   "source": [
    "data2019.cache()"
   ]
  },
  {
   "cell_type": "code",
   "execution_count": 7,
   "metadata": {},
   "outputs": [],
   "source": [
    "# group latitude to five zones\n",
    "def lat_group(value):\n",
    "    if  value > 66.5: \n",
    "        return 'NorthFrigidZone'\n",
    "    if value <= 66.5 and value > 22.5:\n",
    "        return 'NorthTemperateZone'\n",
    "    if value <= 22.5 and value > -22.5:\n",
    "        return 'Tropics'\n",
    "    if value <= -22.5 and value > -66.5:\n",
    "        return 'SouthTemperateZone'\n",
    "    else:\n",
    "        return 'SorthFrigidZone'\n",
    "    "
   ]
  },
  {
   "cell_type": "code",
   "execution_count": 8,
   "metadata": {},
   "outputs": [
    {
     "name": "stdout",
     "output_type": "stream",
     "text": [
      "+-----------+-------------------+--------+---------+---------+----+-----+-------+-----+-----+------+------+-----+-----+------------------+\n",
      "|    station|               date|latitude|longitude|elevation|wind|  cig|    vis| temp|  dew|   slp|liquid|liqhr|month|         lat_group|\n",
      "+-----------+-------------------+--------+---------+---------+----+-----+-------+-----+-----+------+------+-----+-----+------------------+\n",
      "|72549094933|2019-01-01T00:56:00|   42.55|-94.18333|    352.3| 5.7|335.0|14484.0| -5.6| -7.8|1020.2|   0.0|  1.0|    1|NorthTemperateZone|\n",
      "|72549094933|2019-01-01T01:56:00|   42.55|-94.18333|    352.3| 5.7|396.0|16093.0| -7.8|-10.0|1022.7|   0.0|  1.0|    1|NorthTemperateZone|\n",
      "|72549094933|2019-01-01T02:56:00|   42.55|-94.18333|    352.3| 6.2|457.0|16093.0| -9.4|-11.7|1023.5|   0.0|  1.0|    1|NorthTemperateZone|\n",
      "|72549094933|2019-01-01T03:56:00|   42.55|-94.18333|    352.3| 5.7|518.0|14484.0|-10.6|-12.8|1025.0|   0.0|  1.0|    1|NorthTemperateZone|\n",
      "|72549094933|2019-01-01T04:56:00|   42.55|-94.18333|    352.3| 6.7|579.0|14484.0|-11.7|-13.9|1026.8|   0.0|  1.0|    1|NorthTemperateZone|\n",
      "+-----------+-------------------+--------+---------+---------+----+-----+-------+-----+-----+------+------+-----+-----+------------------+\n",
      "only showing top 5 rows\n",
      "\n"
     ]
    }
   ],
   "source": [
    "grouping = f.udf(lat_group, StringType())\n",
    "data = data2019.withColumn(\"lat_group\", grouping(\"latitude\"))\n",
    "data.show(5)"
   ]
  },
  {
   "cell_type": "code",
   "execution_count": 9,
   "metadata": {},
   "outputs": [
    {
     "data": {
      "text/plain": [
       "DataFrame[station: string, date: string, latitude: float, longitude: float, elevation: float, wind: float, cig: float, vis: float, temp: float, dew: float, slp: float, liquid: float, liqhr: float, month: string, lat_group: string]"
      ]
     },
     "execution_count": 9,
     "metadata": {},
     "output_type": "execute_result"
    }
   ],
   "source": [
    "data.cache()"
   ]
  },
  {
   "cell_type": "code",
   "execution_count": 10,
   "metadata": {},
   "outputs": [],
   "source": [
    "data.createOrReplaceTempView(\"data_tbl\")"
   ]
  },
  {
   "cell_type": "markdown",
   "metadata": {},
   "source": [
    "## Distribution of five zones for all stations"
   ]
  },
  {
   "cell_type": "code",
   "execution_count": 13,
   "metadata": {},
   "outputs": [],
   "source": [
    "from warnings import filterwarnings\n",
    "import seaborn as sns\n",
    "filterwarnings('ignore')\n",
    "zones_dist = data.groupBy('lat_group').count().toPandas()"
   ]
  },
  {
   "cell_type": "code",
   "execution_count": 14,
   "metadata": {},
   "outputs": [
    {
     "data": {
      "text/html": [
       "<div>\n",
       "<style scoped>\n",
       "    .dataframe tbody tr th:only-of-type {\n",
       "        vertical-align: middle;\n",
       "    }\n",
       "\n",
       "    .dataframe tbody tr th {\n",
       "        vertical-align: top;\n",
       "    }\n",
       "\n",
       "    .dataframe thead th {\n",
       "        text-align: right;\n",
       "    }\n",
       "</style>\n",
       "<table border=\"1\" class=\"dataframe\">\n",
       "  <thead>\n",
       "    <tr style=\"text-align: right;\">\n",
       "      <th></th>\n",
       "      <th>lat_group</th>\n",
       "      <th>count</th>\n",
       "    </tr>\n",
       "  </thead>\n",
       "  <tbody>\n",
       "    <tr>\n",
       "      <th>0</th>\n",
       "      <td>SorthFrigidZone</td>\n",
       "      <td>2870</td>\n",
       "    </tr>\n",
       "    <tr>\n",
       "      <th>1</th>\n",
       "      <td>SouthTemperateZone</td>\n",
       "      <td>61022</td>\n",
       "    </tr>\n",
       "    <tr>\n",
       "      <th>2</th>\n",
       "      <td>NorthTemperateZone</td>\n",
       "      <td>9947272</td>\n",
       "    </tr>\n",
       "    <tr>\n",
       "      <th>3</th>\n",
       "      <td>NorthFrigidZone</td>\n",
       "      <td>145809</td>\n",
       "    </tr>\n",
       "    <tr>\n",
       "      <th>4</th>\n",
       "      <td>Tropics</td>\n",
       "      <td>510315</td>\n",
       "    </tr>\n",
       "  </tbody>\n",
       "</table>\n",
       "</div>"
      ],
      "text/plain": [
       "            lat_group    count\n",
       "0     SorthFrigidZone     2870\n",
       "1  SouthTemperateZone    61022\n",
       "2  NorthTemperateZone  9947272\n",
       "3     NorthFrigidZone   145809\n",
       "4             Tropics   510315"
      ]
     },
     "execution_count": 14,
     "metadata": {},
     "output_type": "execute_result"
    }
   ],
   "source": [
    "zones_dist"
   ]
  },
  {
   "cell_type": "code",
   "execution_count": 15,
   "metadata": {},
   "outputs": [
    {
     "data": {
      "text/plain": [
       "<matplotlib.legend.Legend at 0x7ff955233550>"
      ]
     },
     "execution_count": 15,
     "metadata": {},
     "output_type": "execute_result"
    },
    {
     "data": {
      "text/plain": [
       "<Figure size 432x288 with 0 Axes>"
      ]
     },
     "metadata": {},
     "output_type": "display_data"
    },
    {
     "data": {
      "image/png": "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\n",
      "text/plain": [
       "<Figure size 576x360 with 1 Axes>"
      ]
     },
     "metadata": {},
     "output_type": "display_data"
    }
   ],
   "source": [
    "import matplotlib.pyplot as plt\n",
    "plt.clf()\n",
    "labels = [f\"Five Zones: {lat_group}\" for lat_group in zones_dist['lat_group']]\n",
    "c = [count for count in zones_dist['count']]\n",
    "fig, ax = plt.subplots(figsize=(8,5))\n",
    "w,a,b = ax.pie(c, autopct='%1.1f%%', colors= ['#00567c', '#66c079', '#fff392', '#fc9e8a', '#de425b'])\n",
    "plt.title('Distribution of 5 zones for all stations')\n",
    "ax.legend(w, labels, title=\"Distribution of 5 zones\", loc=\"center left\", bbox_to_anchor=(1, 0, 0.5, 1))"
   ]
  },
  {
   "cell_type": "markdown",
   "metadata": {},
   "source": [
    "Stations(93.3% of all) are mostly within North Temperate Zone, which is between Arctic Circle and Tropic of Cancer."
   ]
  },
  {
   "cell_type": "markdown",
   "metadata": {},
   "source": [
    "## Visualizations grouped by Month"
   ]
  },
  {
   "cell_type": "code",
   "execution_count": 16,
   "metadata": {},
   "outputs": [],
   "source": [
    "data_mon= data2019.groupBy(\"month\").agg({'latitude':'avg', 'longitude':'avg','elevation':'avg', 'wind':'avg', \n",
    "                                      'cig':'avg', 'vis':'avg', 'temp':'avg', 'dew':'avg', 'slp':'avg', 'liquid':'avg'})\n",
    "data_mon = data_mon.withColumn(\"month\", data_mon[\"month\"].cast(\"int\")).orderBy(\"month\")"
   ]
  },
  {
   "cell_type": "code",
   "execution_count": 17,
   "metadata": {},
   "outputs": [],
   "source": [
    "data_mon_p = data_mon.toPandas()"
   ]
  },
  {
   "cell_type": "markdown",
   "metadata": {},
   "source": [
    "### Monthly Average Temperature(Celsius) along the year"
   ]
  },
  {
   "cell_type": "code",
   "execution_count": 18,
   "metadata": {},
   "outputs": [
    {
     "data": {
      "image/png": "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\n",
      "text/plain": [
       "<Figure size 432x288 with 1 Axes>"
      ]
     },
     "metadata": {
      "needs_background": "light"
     },
     "output_type": "display_data"
    }
   ],
   "source": [
    "ax = plt.gca()\n",
    "\n",
    "data_mon_p.plot(kind='line',x='month',y='avg(temp)',ax=ax)\n",
    "\n",
    "plt.show()"
   ]
  },
  {
   "cell_type": "markdown",
   "metadata": {},
   "source": [
    "July has the highest average temperature and January has the lowest in 2019."
   ]
  },
  {
   "cell_type": "markdown",
   "metadata": {},
   "source": [
    "### Monthly Average Liquid Precipitation(millimeters/hour) along the year"
   ]
  },
  {
   "cell_type": "code",
   "execution_count": 36,
   "metadata": {},
   "outputs": [
    {
     "data": {
      "image/png": "iVBORw0KGgoAAAANSUhEUgAAAYAAAAEJCAYAAACdePCvAAAABHNCSVQICAgIfAhkiAAAAAlwSFlzAAALEgAACxIB0t1+/AAAADh0RVh0U29mdHdhcmUAbWF0cGxvdGxpYiB2ZXJzaW9uMy4yLjEsIGh0dHA6Ly9tYXRwbG90bGliLm9yZy+j8jraAAAcBElEQVR4nO3de5RV9X338fcnICIFgeAktSIORqKiRoQRXVEp9ZbxBohYQBOxtYE0MTYryyTYeguJK9Imj6lPrQ2N92BA0SSo+GCMEhIrZgahAiJ1RAMTNOGiRkMAJ3yfP/Yeejiemdkzcw7I7M9rrbNmn99v799372E4n7MvZx9FBGZmlj8f2tsrYGZme4cDwMwspxwAZmY55QAwM8spB4CZWU45AMzMcqr73l6B9jjooIOiurp6b6+Gmdk+ZenSpZsioqq4fZ8KgOrqaurr6/f2apiZ7VMk/bpUuw8BmZnllAPAzCynHABmZjm1T50DKOW9996jsbGRbdu27e1V6bJ69uzJwIED2W+//fb2qphZGe3zAdDY2EifPn2orq5G0t5enS4nIti8eTONjY0MHjx4b6+OmZXRPn8IaNu2bQwYMMAv/hUiiQEDBngPy6wL2ucDAPCLf4X592vWNXWJAOgqvvSlL7F48WIARo8eveszD+eeey5vvfVWh8asr6/nqquuKtlXXV3Npk2b2LFjB6NGjaKpqaljK25m+6R9/hxAserpj5V1vNduPq+s47Vky5YtLFmyhO9+97vv61uwYEGHx62pqaGmpqbVeXr06MEZZ5zB3LlzufTSSztcy2xP6Oj/8T31f3lf4j2AMhg3bhwjRozgmGOOYdasWdx+++189atf3dV/991388UvfhGAb3zjGxx11FGcddZZTJ48mW9/+9sAzJs3j9ra2pLjN79TB7jppps48sgjOfPMM3dbvnCPYdOmTTTfMmPRokWcf/75AGzevJmzzz6bE044gWnTplH4bXDjxo1j9uzZZfytmNkHnQOgDO68806WLl1KfX09t956K+PHj+fhhx/e1T937lwmTpxIfX09Dz30EMuWLePhhx/e7bYWzzzzDCNGjGi1ztKlS5kzZ86u5evq6tq1nl//+tc59dRTWbZsGWPGjGHdunW7+o499th2j2dm+zYHQBnceuutHH/88Zx88smsX7+eV199lcMPP5wlS5awefNm1qxZwymnnMIvf/lLxo4dywEHHECfPn244IILdo3x+uuvU1X1vns17eYXv/gFF154Ib169eLAAw9kzJgx7VrPxYsX8+lPfxqA8847j/79++/q69atGz169OCdd95p15hmtu/qcucA9rRFixbx5JNP8uyzz9KrVy9Gjx7Ntm3bmDhxIg888ABHHXUUF154IZJ2O+RS7IADDsh0qWVLV+R0796dnTt3ArQ6TmtX9Gzfvp2ePXu2uQ5m1jU4ADrp7bffpn///vTq1YuXXnqJJUuWADB+/HhuuukmDjvsMGbOnAnAqaeeyrRp07jmmmtoamriscce47Of/SwARx99NA0NDYwePbrFWqNGjeLyyy9n+vTpNDU18cgjjzBt2jQgOU+wdOlSRo4cybx581pcfvbs2Vx77bU8/vjjvPnmm7v6Nm/eTFVV1V75tK9P6pntHT4E1Em1tbU0NTXxiU98guuuu46TTz4ZgP79+zN06FB+/etfM3LkSABOPPFExowZw/HHH8/48eOpqamhb9++QHJIZtGiRa3WGj58OBMnTmTYsGFcdNFFnHbaabv6rr76am6//XY++clP7jphXOyGG25g8eLFDB8+nCeeeIJBgwbt6nv66ac599xzO/OrMLN9jFo7LPFBU1NTE8XfB7B69WqOPvrovbRG7ffuu+/Su3dvtm7dyqhRo5g1axbDhw8Hkj2ERx99lH79+mUa68Ybb6R3795cffXVnV6v8ePH861vfYsjjzyyZH8lf8/eA7D28N9L+0laGhHvux7ch4D2sKlTp/Liiy+ybds2pkyZsuvFH+A73/kO69atyxwA5bJjxw7GjRvX4ot/V+MXELOEA2APu//++1vsO+mkk9o11o033tjJtUn06NGDyy67rCxjmdm+I9M5AEm1ktZIapA0vUT/KEnPS2qSNKGg/a8kLS94bJM0Lu27W9KrBX3DyrdZZmbWljb3ACR1A24DzgIagTpJ8yPixYLZ1gGXA7sdjI6Ip4Fh6TgfBhqAJwpm+UpElL5kpR0iwjcsq6B96TyRmWWXZQ9gJNAQEWsjYgcwBxhbOENEvBYRLwA7WxlnAvB4RGzt8NqW0LNnTzZv3uwXqQpp/j4Afz7ArOvJcg7gEGB9wfNGoH0HqxOTgP9T1HaTpOuBnwHTI2J7ewcdOHAgjY2NbNy4sQOrZFk0fyOYmXUtWQKg1LGVdr3dlnQwcBywsKD5GuANoAcwC/gaMKPEslOBqcBu160322+//fxNVWZmHZDlEFAjcGjB84HAhnbW+WvgRxHxXnNDRLweie3AXSSHmt4nImZFRE1E1LR1rxwzM8suSwDUAUMkDZbUg+RQzvx21pkM/LCwId0rQMnZ23HAynaOaWZmndBmAEREE3AlyeGb1cADEbFK0gxJYwAknSipEbgY+J6kVc3LS6om2YP4edHQsyWtAFYABwHf7PzmmJlZVpk+CBYRC4AFRW3XF0zXkRwaKrXsayQnkovbT2/PipqZWXn5ZnBmZjnlW0GYdTG+15Fl5T0AM7OccgCYmeWUA8DMLKccAGZmOeUAMDPLKQeAmVlOOQDMzHLKAWBmllP+IJhZhfmDWfZB5T0AM7OccgCYmeWUA8DMLKccAGZmOeUAMDPLKQeAmVlOOQDMzHLKnwOwkjpy7bqvWzfbt2TaA5BUK2mNpAZJ00v0j5L0vKQmSROK+v4kaXn6mF/QPljSc5JeljRXUo/Ob46ZmWXVZgBI6gbcBpwDDAUmSxpaNNs64HLg/hJD/DEihqWPMQXtM4FbImII8CZwRQfW38zMOijLHsBIoCEi1kbEDmAOMLZwhoh4LSJeAHZmKSpJwOnAvLTpHmBc5rU2M7NOyxIAhwDrC543pm1Z9ZRUL2mJpOYX+QHAWxHR1NaYkqamy9dv3LixHWXNzKw1WU4Cq0RbtKPGoIjYIOlw4ClJK4DfZx0zImYBswBqamraU9fMzFqRZQ+gETi04PlAYEPWAhGxIf25FlgEnABsAvpJag6gdo1pZmadl2UPoA4YImkw8BtgEnBJlsEl9Qe2RsR2SQcBpwD/HBEh6WlgAsk5hSnATzqyAXuLb/FrlvD/hX1Xm3sA6XH6K4GFwGrggYhYJWmGpDEAkk6U1AhcDHxP0qp08aOBekn/DTwN3BwRL6Z9XwO+LKmB5JzAHeXcMDMza12mD4JFxAJgQVHb9QXTdSSHcYqX+y/guBbGXEtyhZGZme0FvhWEmVlOOQDMzHLK9wIyM/sA2ZMn1b0HYGaWUw4AM7OccgCYmeWUA8DMLKccAGZmOeUAMDPLKQeAmVlOOQDMzHLKAWBmllNd5pPAviWtmVn7eA/AzCynHABmZjnlADAzyykHgJlZTjkAzMxyygFgZpZTmQJAUq2kNZIaJE0v0T9K0vOSmiRNKGgfJulZSaskvSBpYkHf3ZJelbQ8fQwrzyaZmVkWbX4OQFI34DbgLKARqJM0PyJeLJhtHXA5cHXR4luByyLiZUl/ASyVtDAi3kr7vxIR8zq7EWZm1n5ZPgg2EmiIiLUAkuYAY4FdARARr6V9OwsXjIj/KZjeIOl3QBXwFmZmtldlCYBDgPUFzxuBk9pbSNJIoAfwSkHzTZKuB34GTI+I7SWWmwpMBRg0aFB7y5qZdUpXvstAlnMAKtEW7Ski6WDgPuBvIqJ5L+Ea4CjgRODDwNdKLRsRsyKiJiJqqqqq2lPWzMxakSUAGoFDC54PBDZkLSDpQOAx4NqIWNLcHhGvR2I7cBfJoSYzM9tDsgRAHTBE0mBJPYBJwPwsg6fz/wi4NyIeLOo7OP0pYBywsj0rbmZmndNmAEREE3AlsBBYDTwQEaskzZA0BkDSiZIagYuB70lalS7+18Ao4PISl3vOlrQCWAEcBHyzrFtmZmatynQ76IhYACwoaru+YLqO5NBQ8XI/AH7Qwpint2tNzcysrPxJYDOznHIAmJnllAPAzCynHABmZjnlADAzyykHgJlZTmW6DNT2vq58PxIz2zu8B2BmllMOADOznHIAmJnllAPAzCynHABmZjnlADAzyykHgJlZTjkAzMxyygFgZpZTDgAzs5xyAJiZ5VSmAJBUK2mNpAZJ00v0j5L0vKQmSROK+qZIejl9TCloHyFpRTrmremXw5uZ2R7SZgBI6gbcBpwDDAUmSxpaNNs64HLg/qJlPwzcAJwEjARukNQ/7b4dmAoMSR+1Hd4KMzNrtyx7ACOBhohYGxE7gDnA2MIZIuK1iHgB2Fm07KeAn0bEloh4E/gpUCvpYODAiHg2IgK4FxjX2Y0xM7PssgTAIcD6gueNaVsWLS17SDrdkTHNzKwMsgRAqWPzkXH8lpbNPKakqZLqJdVv3LgxY1kzM2tLlgBoBA4teD4Q2JBx/JaWbUyn2xwzImZFRE1E1FRVVWUsa2ZmbckSAHXAEEmDJfUAJgHzM46/EDhbUv/05O/ZwMKIeB14R9LJ6dU/lwE/6cD6m5lZB7UZABHRBFxJ8mK+GnggIlZJmiFpDICkEyU1AhcD35O0Kl12C/ANkhCpA2akbQB/D3wfaABeAR4v65aZmVmrMn0ncEQsABYUtV1fMF3H7od0Cue7E7izRHs9cGx7VtbMzMrHnwQ2M8spB4CZWU45AMzMcsoBYGaWUw4AM7OccgCYmeWUA8DMLKccAGZmOeUAMDPLKQeAmVlOOQDMzHLKAWBmllMOADOznHIAmJnllAPAzCynHABmZjnlADAzyykHgJlZTjkAzMxyKlMASKqVtEZSg6TpJfr3lzQ37X9OUnXafqmk5QWPnZKGpX2L0jGb+z5Szg0zM7PWtRkAkroBtwHnAEOByZKGFs12BfBmRBwB3ALMBIiI2RExLCKGAZ8BXouI5QXLXdrcHxG/K8P2mJlZRln2AEYCDRGxNiJ2AHOAsUXzjAXuSafnAWdIUtE8k4EfdmZlzcysfLIEwCHA+oLnjWlbyXkiogl4GxhQNM9E3h8Ad6WHf64rERgASJoqqV5S/caNGzOsrpmZZZElAEq9MEd75pF0ErA1IlYW9F8aEccBp6WPz5QqHhGzIqImImqqqqoyrK6ZmWWRJQAagUMLng8ENrQ0j6TuQF9gS0H/JIre/UfEb9Kf7wD3kxxqMjOzPSRLANQBQyQNltSD5MV8ftE884Ep6fQE4KmICABJHwIuJjl3QNrWXdJB6fR+wPnASszMbI/p3tYMEdEk6UpgIdANuDMiVkmaAdRHxHzgDuA+SQ0k7/wnFQwxCmiMiLUFbfsDC9MX/27Ak8B/lmWLzMwskzYDACAiFgALitquL5jeRvIuv9Syi4CTi9r+AIxo57qamVkZ+ZPAZmY55QAwM8spB4CZWU45AMzMcsoBYGaWUw4AM7OccgCYmeWUA8DMLKccAGZmOeUAMDPLKQeAmVlOOQDMzHLKAWBmllMOADOznHIAmJnllAPAzCynHABmZjnlADAzy6lMASCpVtIaSQ2Sppfo31/S3LT/OUnVaXu1pD9KWp4+/qNgmRGSVqTL3CpJ5dooMzNrW5sBIKkbcBtwDjAUmCxpaNFsVwBvRsQRwC3AzIK+VyJiWPr4XEH77cBUYEj6qO34ZpiZWXtl2QMYCTRExNqI2AHMAcYWzTMWuCedngec0do7ekkHAwdGxLMREcC9wLh2r72ZmXVYlgA4BFhf8LwxbSs5T0Q0AW8DA9K+wZKWSfq5pNMK5m9sY0wzM6ug7hnmKfVOPjLO8zowKCI2SxoB/FjSMRnHTAaWppIcKmLQoEEZVtfMzLLIsgfQCBxa8HwgsKGleSR1B/oCWyJie0RsBoiIpcArwMfT+Qe2MSbpcrMioiYiaqqqqjKsrpmZZZElAOqAIZIGS+oBTALmF80zH5iSTk8AnoqIkFSVnkRG0uEkJ3vXRsTrwDuSTk7PFVwG/KQM22NmZhm1eQgoIpokXQksBLoBd0bEKkkzgPqImA/cAdwnqQHYQhISAKOAGZKagD8Bn4uILWnf3wN3AwcAj6cPMzPbQ7KcAyAiFgALitquL5jeBlxcYrmHgIdaGLMeOLY9K2tmZuXjTwKbmeWUA8DMLKccAGZmOeUAMDPLKQeAmVlOOQDMzHLKAWBmllMOADOznHIAmJnllAPAzCynHABmZjnlADAzyykHgJlZTjkAzMxyygFgZpZTDgAzs5xyAJiZ5ZQDwMwspxwAZmY5lSkAJNVKWiOpQdL0Ev37S5qb9j8nqTptP0vSUkkr0p+nFyyzKB1zefr4SLk2yszM2tbml8JL6gbcBpwFNAJ1kuZHxIsFs10BvBkRR0iaBMwEJgKbgAsiYoOkY4GFwCEFy12afjm8mZntYVn2AEYCDRGxNiJ2AHOAsUXzjAXuSafnAWdIUkQsi4gNafsqoKek/cux4mZm1jlZAuAQYH3B80Z2fxe/2zwR0QS8DQwomuciYFlEbC9ouys9/HOdJJUqLmmqpHpJ9Rs3bsywumZmlkWWACj1whztmUfSMSSHhaYV9F8aEccBp6WPz5QqHhGzIqImImqqqqoyrK6ZmWWRJQAagUMLng8ENrQ0j6TuQF9gS/p8IPAj4LKIeKV5gYj4TfrzHeB+kkNNZma2h2QJgDpgiKTBknoAk4D5RfPMB6ak0xOApyIiJPUDHgOuiYhnmmeW1F3SQen0fsD5wMrObYqZmbVHmwGQHtO/kuQKntXAAxGxStIMSWPS2e4ABkhqAL4MNF8qeiVwBHBd0eWe+wMLJb0ALAd+A/xnOTfMzMxa1+ZloAARsQBYUNR2fcH0NuDiEst9E/hmC8OOyL6aZmZWbv4ksJlZTjkAzMxyygFgZpZTDgAzs5xyAJiZ5ZQDwMwspxwAZmY55QAwM8spB4CZWU45AMzMcsoBYGaWUw4AM7OccgCYmeWUA8DMLKccAGZmOeUAMDPLKQeAmVlOOQDMzHLKAWBmllOZAkBSraQ1khokTS/Rv7+kuWn/c5KqC/quSdvXSPpU1jHNzKyy2gwASd2A24BzgKHAZElDi2a7AngzIo4AbgFmpssOBSYBxwC1wL9L6pZxTDMzq6AsewAjgYaIWBsRO4A5wNiiecYC96TT84AzJCltnxMR2yPiVaAhHS/LmGZmVkGKiNZnkCYAtRHxd+nzzwAnRcSVBfOsTOdpTJ+/ApwE3AgsiYgfpO13AI+ni7U6ZsHYU4Gp6dMjgTUd2M6DgE0dWK6junK9rrxtrud6XbXeYRFRVdzYPcOCKtFWnBotzdNSe6k9j5JJFBGzgFmtrWBbJNVHRE1nxnC9PV/L9VzP9SpbL8shoEbg0ILnA4ENLc0jqTvQF9jSyrJZxjQzswrKEgB1wBBJgyX1IDmpO79onvnAlHR6AvBUJMeW5gOT0quEBgNDgF9lHNPMzCqozUNAEdEk6UpgIdANuDMiVkmaAdRHxHzgDuA+SQ0k7/wnpcuukvQA8CLQBHwhIv4EUGrM8m/eLp06hOR6e62W67me61WwXpsngc3MrGvyJ4HNzHLKAWBmllMOADOznHIAdJKkoySdIal3UXttheqNlHRiOj1U0pclnVuJWi3Uv3cP1jo13b6zKzT+SZIOTKcPkPR1SY9ImimpbwXqXSXp0LbnLFu9HpIuk3Rm+vwSSf8m6QuS9qtQzY9JulrSv0r6jqTPVeJ3aeWRq5PAkv4mIu4q43hXAV8AVgPDgH+IiJ+kfc9HxPBy1UrHvIHk/kndgZ+SfNp6EXAmsDAibipzveJLcwX8FfAUQESMKXO9X0XEyHT6syS/2x8BZwOPRMTNZa63Cjg+vdJtFrCV9FYmafv4Mtd7G/gD8ArwQ+DBiNhYzhpF9WaT/K30At4CegMPk2yfImJKK4t3pN5VwAXAz4FzgeXAm8CFwOcjYlE561kZRERuHsC6Mo+3AuidTlcD9SQhALCsAuu/guSy2V7A74ED0/YDgBcqUO954AfAaOAv05+vp9N/WYF6ywqm64CqdPrPgBUVqLe6cFuL+pZXYvtI9rrPJrl0eiPw/0g+Q9OnAvVeSH92B34LdEufq0J/LysKavQCFqXTgyr0/6EvcDPwErA5faxO2/qVu14b6/J4BcY8EPgWcB9wSVHfv5ejRpZbQexTJL3QUhfw0TKX6xYR7wJExGuSRgPzJB1G6dtgdFZTJJ+j2CrplYj4fVr7j5J2VqBeDfAPwD8BX4mI5ZL+GBE/r0AtgA9J6k/yIqlI3x1HxB8kNVWg3sqCvcL/llQTEfWSPg68V4F6ERE7gSeAJ9LDMOcAk4FvA++7V0snfSj9oOWfkbwgN39Cf3+gIoeASMLmT2mNPgARsa5Ch5weINkbHR0RbwBI+nOSQH0QOKucxSS1tEcvkiMA5XYX8DLwEPC3ki4iCYLtwMnlKNDlAoDkRf5TJLuehQT8V5lrvSFpWEQsB4iIdyWdD9wJHFfmWgA7JPWKiK3AiObG9Bhr2QMgfbG6RdKD6c/fUtm/mb7AUpJ/q5D05xHxRnp+pRKB+nfAv0q6luQGW89KWg+sT/vKbbdtiIj3SD4BP1/SARWodwfJu+NuJCH+oKS1JC8ecypQ7/tAnaQlwCj+97bwVSTBU27VETGzsCENgpmS/rYC9epIDm+V+lvsV4F6H4uIi9LpH0v6J+ApSWU79NrlzgGkdxy9KyJ+WaLv/oi4pIy1BpK8K3+jRN8pEfFMuWqlY+6fpn9x+0HAwRGxopz1StQ5DzglIv6xknVK1O0FfDSSW4pXYvw+wOEk4dYYEb+tUJ2PR8T/VGLsVmr+BUBEbJDUj+R80bqI+FWF6h0DHA2sjIiXKlGjoNYTwJPAPc3/ZpI+ClwOnBURZ5a53krgwoh4uUTf+ogo6wl+SauBY9I3Ys1tU4Cvkhx6PqzTNbpaAJhZPqSHC6eTfJfIR9Lm35LsVd0cEcVHATpbbwLJuaj33ZJe0riI+HGZ6/0z8EREPFnUXgv834gY0ukaDgAz62rKfcVfV63nADCzLkfSuogY5Hqt64ongc0sB/bwFX9dsp4DwMz2VXvyir8uWc8BYGb7qkdJroZZXtwhaZHrtc3nAMzMcso3gzMzyykHgJlZTjkAzCpIUj9Jny94PlrSo3tzncyaOQDMKqsf8Pk25zLbCxwAZilJ1ZJekvR9SSslzZZ0pqRnJL2cfhnPhyX9WNILkpZI+kS67I2S7pS0SNLa9N74kNya+GOSlkv6l7Stt6R5aa3ZkipxozuzNvkyULPdHQFcDEwlufvjJcCpwBjgH0nuFLosIsZJOh24l/+9FfBRJF+Y0wdYI+l2knvVHBsRwyA5BAScABwDbACeAU4B3nfzQrNK8x6A2e5ejYgV6R0YVwE/i+Ra6RUkX/pzKskXdBARTwEDCr7y8LGI2B4Rm4Df0fKnNX8VEY1pjeXpuGZ7nAPAbHeFt9veWfB8J8kec6nDNc0fpilc9k+0vIeddT6zinIAmLXPYuBS2HU4Z1PzN7O14B3Sb8Yy+6DxOw+z9rkRuCu9UddWkq8fbFFEbE5PIq8EHgceq/wqmmXjW0GYmeWUDwGZmeWUA8DMLKccAGZmOeUAMDPLKQeAmVlOOQDMzHLKAWBmllMOADOznPr/DtK+zublonAAAAAASUVORK5CYII=\n",
      "text/plain": [
       "<Figure size 432x288 with 1 Axes>"
      ]
     },
     "metadata": {
      "needs_background": "light"
     },
     "output_type": "display_data"
    }
   ],
   "source": [
    "ax = plt.gca()\n",
    "\n",
    "data_mon_p.plot(kind='bar',x='month',y='avg(liquid)',ax=ax)\n",
    "\n",
    "plt.show()"
   ]
  },
  {
   "cell_type": "markdown",
   "metadata": {},
   "source": [
    "March has the lowest Liquid Preciption and October has the highest Liquid Precipitation in 2019."
   ]
  },
  {
   "cell_type": "markdown",
   "metadata": {},
   "source": [
    "### Monthly Average Visibility(Meters) along the year"
   ]
  },
  {
   "cell_type": "code",
   "execution_count": 20,
   "metadata": {},
   "outputs": [
    {
     "data": {
      "image/png": "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\n",
      "text/plain": [
       "<Figure size 432x288 with 1 Axes>"
      ]
     },
     "metadata": {
      "needs_background": "light"
     },
     "output_type": "display_data"
    }
   ],
   "source": [
    "ax = plt.gca()\n",
    "\n",
    "data_mon_p.plot(kind='line',x='month',y='avg(vis)',ax=ax)\n",
    "\n",
    "plt.show()"
   ]
  },
  {
   "cell_type": "markdown",
   "metadata": {},
   "source": [
    "Febuary has the avergae lowest visibility in 2019."
   ]
  },
  {
   "cell_type": "markdown",
   "metadata": {},
   "source": [
    "### Monthly Average Wind Speed(Meters/Sec) along the year"
   ]
  },
  {
   "cell_type": "code",
   "execution_count": 21,
   "metadata": {},
   "outputs": [
    {
     "data": {
      "image/png": "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\n",
      "text/plain": [
       "<Figure size 432x288 with 1 Axes>"
      ]
     },
     "metadata": {
      "needs_background": "light"
     },
     "output_type": "display_data"
    }
   ],
   "source": [
    "ax = plt.gca()\n",
    "\n",
    "data_mon_p.plot(kind='bar',x='month',y='avg(wind)',ax=ax)\n",
    "\n",
    "plt.show()"
   ]
  },
  {
   "cell_type": "markdown",
   "metadata": {},
   "source": [
    "August has the lowest wind speed in 2019."
   ]
  },
  {
   "cell_type": "markdown",
   "metadata": {},
   "source": [
    "### Monthly Average Sea Level Pressure along the year\n"
   ]
  },
  {
   "cell_type": "code",
   "execution_count": 22,
   "metadata": {},
   "outputs": [
    {
     "data": {
      "image/png": "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\n",
      "text/plain": [
       "<Figure size 432x288 with 1 Axes>"
      ]
     },
     "metadata": {
      "needs_background": "light"
     },
     "output_type": "display_data"
    }
   ],
   "source": [
    "ax = plt.gca()\n",
    "\n",
    "data_mon_p.plot(kind='line',x='month',y='avg(slp)',ax=ax)\n",
    "\n",
    "plt.show()"
   ]
  },
  {
   "cell_type": "markdown",
   "metadata": {},
   "source": [
    "January has the highest Sea Level Pressure, and May has the lowest Sea Level Pressure in 2019."
   ]
  },
  {
   "cell_type": "markdown",
   "metadata": {},
   "source": [
    "### Boxplot of Temperature Distribution for 2019"
   ]
  },
  {
   "cell_type": "code",
   "execution_count": 27,
   "metadata": {},
   "outputs": [],
   "source": [
    "data2019_m = data2019.withColumn(\"month\", data2019[\"month\"].cast(\"int\")).orderBy(\"month\")"
   ]
  },
  {
   "cell_type": "code",
   "execution_count": 28,
   "metadata": {},
   "outputs": [
    {
     "name": "stdout",
     "output_type": "stream",
     "text": [
      "root\n",
      " |-- station: string (nullable = true)\n",
      " |-- date: string (nullable = true)\n",
      " |-- latitude: float (nullable = true)\n",
      " |-- longitude: float (nullable = true)\n",
      " |-- elevation: float (nullable = true)\n",
      " |-- wind: float (nullable = true)\n",
      " |-- cig: float (nullable = true)\n",
      " |-- vis: float (nullable = true)\n",
      " |-- temp: float (nullable = true)\n",
      " |-- dew: float (nullable = true)\n",
      " |-- slp: float (nullable = true)\n",
      " |-- liquid: float (nullable = true)\n",
      " |-- liqhr: float (nullable = true)\n",
      " |-- month: integer (nullable = true)\n",
      "\n"
     ]
    }
   ],
   "source": [
    "data2019_m.printSchema()"
   ]
  },
  {
   "cell_type": "code",
   "execution_count": 29,
   "metadata": {},
   "outputs": [],
   "source": [
    "data2019_p = data2019_m.toPandas()"
   ]
  },
  {
   "cell_type": "code",
   "execution_count": 34,
   "metadata": {},
   "outputs": [
    {
     "data": {
      "text/plain": [
       "<seaborn.axisgrid.FacetGrid at 0x7ff94587d290>"
      ]
     },
     "execution_count": 34,
     "metadata": {},
     "output_type": "execute_result"
    },
    {
     "data": {
      "image/png": "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\n",
      "text/plain": [
       "<Figure size 360x360 with 1 Axes>"
      ]
     },
     "metadata": {
      "needs_background": "light"
     },
     "output_type": "display_data"
    }
   ],
   "source": [
    "from warnings import filterwarnings\n",
    "import seaborn as sns\n",
    "filterwarnings('ignore')\n",
    "\n",
    "sns.catplot(x='month',y='temp', kind='box',data=data2019_p)\n"
   ]
  },
  {
   "cell_type": "markdown",
   "metadata": {},
   "source": [
    "### Boxplot of Visibility for 2019"
   ]
  },
  {
   "cell_type": "code",
   "execution_count": 35,
   "metadata": {},
   "outputs": [
    {
     "data": {
      "text/plain": [
       "<seaborn.axisgrid.FacetGrid at 0x7ff9456e9850>"
      ]
     },
     "execution_count": 35,
     "metadata": {},
     "output_type": "execute_result"
    },
    {
     "data": {
      "image/png": "iVBORw0KGgoAAAANSUhEUgAAAWAAAAFgCAYAAACFYaNMAAAABHNCSVQICAgIfAhkiAAAAAlwSFlzAAALEgAACxIB0t1+/AAAADh0RVh0U29mdHdhcmUAbWF0cGxvdGxpYiB2ZXJzaW9uMy4yLjEsIGh0dHA6Ly9tYXRwbG90bGliLm9yZy+j8jraAAAgAElEQVR4nO3de5RU5Znv8e8DLSheuKX1OGC42IwTJZyoHWNuTkClwRt6juYgzpHJmMM6Jk7MzCgiusZcDIPojBlnGc5y1AQzXOJh4sigBjhC4kzGC000iBqHFkU6KrSNFxQDtv2cP/bbpKqprr7tXW9V9++zVq3a77v3furt6q6nn9r17l3m7oiISOkNiD0AEZH+SglYRCQSJWARkUiUgEVEIlECFhGJpCr2AMrFtGnT/Gc/+1nsYYhI32SFOlUBB2+++WbsIYhIP6MELCISiRKwiEgkSsAiIpEoAYuIRKIELCISiRKwiEgkSsAiIpEoAYuIRKIE3AObNm1i+vTpPP3007GH0i3Nzc1cc8017N69O/ZQRIQME7CZ3Wtmu8xsS7v+PzezF83sOTNblNN/vZk1hHV1Of3TQl+Dmc3L6R9nZk+a2VYz+4mZDQr9g0O7Iawfm/bPtmDBAlpbW7n55pvTDp2pZcuWsWXLFpYuXRp7KCJCthXwj4BpuR1mNhmYAUxy95OA20L/icBM4KSwzw/MbKCZDQTuBKYDJwKXhm0BbgFud/cJwFvAFaH/CuAtd68Bbg/bpWbTpk289957ALz33nsVUwU3Nzezdu1a3J21a9eqChYpA5klYHd/DGj/Kr8SWOju+8I2u0L/DGCFu+9z95eBBuC0cGtw923uvh9YAcwwMwOmACvD/kuAC3NiLQnLK4Ezw/apWLBgQV67UqrgZcuW0draCkBra6uqYJEyUOpjwH8IfDEcGviFmX069I8CduRs1xj6OuofCbzt7i3t+vNihfXvhO0PYmZzzKzezOqbmpq69AO0Vb8dtcvV+vXraWlJnq6WlhbWr18feUQiUuoEXAUMB04HrgXuD9VpoQrVe9BPJ+vyO93vcvdad6+trq7ubOwAHHHEEUXb5WrKlClUVSVXH62qqmLKlCmRRyQipU7AjcBPPfEU0Ap8LPQfl7PdaOC1Iv1vAsPMrKpdP7n7hPVDOfhQSI/Nnz8/r33jjTemFTpTs2bNYsCA5Nc9YMAALrvsssgjEpFSJ+B/ITl2i5n9ITCIJJmuAmaGGQzjgAnAU8BGYEKY8TCI5IO6Ve7uwAbg4hB3NvBgWF4V2oT168P2qTj11FMPVL1HHHEEJ598clqhMzVy5EimTp2KmTF16lRGjBgRe0gi/V6W09CWA48DJ5hZo5ldAdwLjA9T01YAs0M1/BxwP/A88DPg6+7+UTiGexWwBngBuD9sC3Ad8Jdm1kByjPee0H8PMDL0/yVwYOpaWubPn8+AAQMqpvptM2vWLCZOnKjqV6RMWIrFYUWrra31+vr62MMQkb5JX0kkIlJOlIBFRCJRAhYRiUQJWEQkEiVgEZFIlIBFRCJRAhYRiUQJWEQkEiVgEZFIlIBFRCJRAhYRiUQJWEQkEiVgEZFIlIBFRCJRAhYRiUQJWEQkEiVgEZFIlIDLTENDAxdddBHbtm2LPRQRyZgScJlZtGgRe/fuZeHChbGHIiIZUwIuIw0NDWzfvh2A7du3qwoW6eOUgMvIokWL8tqqgkX6NiXgMtJW/XbUFpG+RQm4jIwZM6ZoW0T6FiXgMjJ37ty89rx58yKNRERKQQm4jNTU1ByoeseMGcP48eMjj0hEsqQEXGbmzp3LkCFDVP2K9AOZJWAzu9fMdpnZlgLrrjEzN7OPhbaZ2R1m1mBmm83slJxtZ5vZ1nCbndN/qpk9G/a5w8ws9I8ws3Vh+3VmNjyrnzELNTU1PPDAA6p+RfqBLCvgHwHT2nea2XHA2cCrOd3TgQnhNgdYHLYdAdwEfAY4DbgpJ6EuDtu27df2WPOAR919AvBoaIuIlJ3MErC7PwbsLrDqdmAu4Dl9M4D7PPEEMMzMjgXqgHXuvtvd3wLWAdPCuqPc/XF3d+A+4MKcWEvC8pKcfhGRslLSY8BmdgHwW3f/dbtVo4AdOe3G0Fesv7FAP8Ax7v46QLg/ush45phZvZnVNzU19eAnEhHpuZIlYDMbAtwA/HWh1QX6vAf93eLud7l7rbvXVldXd3d3EZFeKWUFfDwwDvi1mb0CjAZ+ZWb/haSCPS5n29HAa530jy7QD7AzHKIg3O9K/ScREUlByRKwuz/r7ke7+1h3H0uSRE9x9zeAVcDlYTbE6cA74fDBGmCqmQ0PH75NBdaEdXvM7PQw++Fy4MHwUKuAttkSs3P6RUTKSpbT0JYDjwMnmFmjmV1RZPOHgW1AA/CPwNcA3H038F1gY7h9J/QBXAncHfZ5CXgk9C8EzjazrSSzLXRFGxEpS5ZMIpDa2lqvr6+PPQwR6ZsKfW6lM+FERGJRAhYRiUQJWEQkEiVgEZFIlIBFRCJRAhYRiUQJWEQkEiVgEZFIlIBFRCJRAhYRiUQJWEQkEiVgEZFIlIBFRCJRAhYRiUQJWEQkEiVgEZFIlIBFRCJRAhYRiUQJWEQkEiVgEZFIlIBFRCJRAhYRiUQJWEQkEiVgEZFIlIBFRCJRAhYRiSSzBGxm95rZLjPbktN3q5n9xsw2m9kDZjYsZ931ZtZgZi+aWV1O/7TQ12Bm83L6x5nZk2a21cx+YmaDQv/g0G4I68dm9TOKiPRGlhXwj4Bp7frWARPdfRLwn8D1AGZ2IjATOCns8wMzG2hmA4E7genAicClYVuAW4Db3X0C8BZwRei/AnjL3WuA28N2IiJlJ7ME7O6PAbvb9a1195bQfAIYHZZnACvcfZ+7vww0AKeFW4O7b3P3/cAKYIaZGTAFWBn2XwJcmBNrSVheCZwZthcRKSsxjwH/GfBIWB4F7MhZ1xj6OuofCbydk8zb+vNihfXvhO0PYmZzzKzezOqbmpp6/QOJiHRHlARsZjcALcDStq4Cm3kP+ovFOrjT/S53r3X32urq6uKDFhFJWVWpH9DMZgPnAWe6e1tibASOy9lsNPBaWC7U/yYwzMyqQpWbu31brEYzqwKG0u5QiIhIOShpBWxm04DrgAvcfW/OqlXAzDCDYRwwAXgK2AhMCDMeBpF8ULcqJO4NwMVh/9nAgzmxZofli4H1OYleRKRsZFYBm9ly4EvAx8ysEbiJZNbDYGBd+FzsCXf/3+7+nJndDzxPcmji6+7+UYhzFbAGGAjc6+7PhYe4DlhhZjcDTwP3hP57gB+bWQNJ5Tszq59RRKQ3TMVhora21uvr62MPQ0T6poIzsXQmnIhIJErAIiKRKAGLiESiBFxmmpubueaaa9i9WzPnRPo6JeAys2zZMrZs2cLSpUs731hEKpoScBlpbm5m7dq1uDtr165VFSzSxykBl5Fly5bR2toKQGtrq6pgkT5OCbiMrF+/npaW5PpCLS0trF+/PvKIRCRLSsBlZMqUKVRVJScnVlVVMWXKlMgjEpEsKQGXkVmzZjFgQPIrGTBgAJdddlnkEYlIlpSAy8jIkSOZOnUqZsbUqVMZMWJE7CGJSIZKfjlKKW7WrFls375d1a9IP6CL8QS6GI+IZEgX4xERKSdKwCIikSgBi4hEogQsIhKJErCISCRKwCIikSgBi4hEogQsIhKJErCISCRKwCIikSgBi4hEogQsIhKJErCISCSZJWAzu9fMdpnZlpy+EWa2zsy2hvvhod/M7A4zazCzzWZ2Ss4+s8P2W81sdk7/qWb2bNjnDjOzYo8hIlJusqyAfwRMa9c3D3jU3ScAj4Y2wHRgQrjNARZDkkyBm4DPAKcBN+Uk1MVh27b9pnXyGCIiZSWzBOzujwHtv1d9BrAkLC8BLszpv88TTwDDzOxYoA5Y5+673f0tYB0wLaw7yt0f9+SCxve1i1XoMUREykqpjwEf4+6vA4T7o0P/KGBHznaNoa9Yf2OB/mKPcRAzm2Nm9WZW39TU1OMfSkSkJ8rlQ7hCV4v3HvR3i7vf5e617l5bXV3d3d1FRHql1Al4Zzh8QLjfFfobgeNythsNvNZJ/+gC/cUeoyI0NDRw0UUXsW3btthDKSsbNmygrq6Oxx57LPZQRFJT6gS8CmibyTAbeDCn//IwG+J04J1w+GANMNXMhocP36YCa8K6PWZ2epj9cHm7WIUeoyIsWrSIvXv3snDhwthDKSu33XYbALfcckvkkYikJ8tpaMuBx4ETzKzRzK4AFgJnm9lW4OzQBngY2AY0AP8IfA3A3XcD3wU2htt3Qh/AlcDdYZ+XgEdCf0ePUfYaGhrYvn07ANu3b1cVHGzYsIGWlhYAWlpaVAVLn6FvRQ7K4VuR58yZcyABA4wZM4a77ror4ojKw7nnnnsgAQNUVVXx0EMPRRyRSLfpW5HLXW7yLdTur3KTb6G2SKVSAi4jY8aMKdrur6qqqoq2RSqVEnAZmTt3bl573jydxAdwzTXX5LWvu+66SCMRSZcScBmpqak5UPWOGTOG8ePHRx5ReZg8efKBqreqqoozzjgj8ohE0qEEXGbmzp3LkCFDVP2201YFq/qVvkSzIIJymAUhIn2WZkGIiJQTJWARkUiUgEVEIlECFhGJRAlYRCQSJWARkUiUgEVEIlECFhGJRAlYRCQSJWARkUiUgEVEIlECFhGJRAlYRCQSJWARkUiUgEVEIlECFhGJRAm4B5qbm7nmmmvYvXt37KGUlYaGBi666CK2bduWeuwsn/NNmzYxffp0nn766dRjZy3L5zxLeg0llIB7YNmyZWzZsoWlS5fGHkpZWbRoEXv37mXhwoWpx87yOV+wYAGtra3cfPPNqcfOWpbPeZb0GkooAXdTc3Mzq1evxt1ZvXp16v/BFyxYQF1dHbfcckuqcSH5XrW6urpMvletoaGB7du3A7B9+/ZUK7Isn/NNmzbx3nvvAfDee+9VVBWc5XMOsGHDBurq6njsscdSjdvc3MzatWtxd9auXZtJFVwpFXanCdjMjjezwWH5S2b2DTMblv3QytOyZcvy2mn/B//FL34BwPr161ONC/Dss88C8Mwzz6Qee9GiRXntNCuyLJ/zBQsW5LUrqQrO8jkHuO222wBSLwaWLVtGa2srAK2trZlUwZVSYXelAv5n4CMzqwHuAcYBy4rvUpyZ/YWZPWdmW8xsuZkdambjzOxJM9tqZj8xs0Fh28Gh3RDWj82Jc33of9HM6nL6p4W+BjNL9euFV69eXbTdG+2TQZp/+G3fKtwm7Sq4rRLrqN0bWT7nbdVvR+1yluVzvmHDBlpaWgBoaWlJtQpev359Xuy0i41SVNhp6UoCbnX3FuAi4Pvu/hfAsT19QDMbBXwDqHX3icBAYCZwC3C7u08A3gKuCLtcAbzl7jXA7WE7zOzEsN9JwDTgB2Y20MwGAncC04ETgUvDtmWvrfptk+YfZlv12yaLKrgSmVnRdjkbM2ZM0XZvtFW/bdIsBqZMmUJVVRUAVVVVTJkyJbXYUJoKOy1dScAfmtmlwGygrfQ4pJePWwUcZmZVwBDgdWAKsDKsXwJcGJZnhDZh/ZmWvEpmACvcfZ+7vww0AKeFW4O7b3P3/cCKsK3IQdy9aLuczZ07N689b156b/baKtSO2r0xa9YsBgxIUs+AAQO47LLLUosN2VfYaepKAv4K8Fnge+7+spmNA/6ppw/o7r8FbgNeJUm87wCbgLdDpQ3QCIwKy6OAHWHflrD9yNz+dvt01H8QM5tjZvVmVt/U1NTTH0ngQEXTUbtcZVlFZq2mpubAeMeMGcP48eNTi53l73PkyJFMnToVM2Pq1KmMGDEitdiQfYWdpk4TsLs/7+7fcPflof2yu/f4aL+ZDSepSMcBfwAcTnK44KCHbtulg3Xd7T+40/0ud69199rq6urOhg7AH//xH+e10/zlZhn7k5/8ZF77U5/6VGqxIdtjzEOHDs1rDx8+PLXYWVaRpTB37lyGDBmS+riz/sxg1qxZTJw4MfXqty12lhV2mjpMwGZ2f7h/1sw259yeNbPNvXjMs4CX3b3J3T8Efgp8DhgWDkkAjAZeC8uNwHFhLFXAUGB3bn+7fTrqT8X8+fPz2mn+YWYZO8tjegCTJ0/OqzrOOOOM1GLff//9ee0VK1akFjvLKrIUampqeOCBB1Ifd5a/T0iq4Ntuuy316rctdpYVdpqKVcBXh/sfAl8Dzg+388J9T70KnG5mQ8Kx3DOB54ENwMVhm9nAg2F5VWgT1q/35EDdKmBmmCUxDpgAPAVsBCaEWRWDSD6oW9WL8R6krVLN4q1NlrHbquC0q982bVVTFvOM26rgNKvfNllVkZUuy99n1rKssNNknX3oYGY3AV8mqTpXACvdfWevHtTs28D/AFqAp4GvkhynXQGMCH1/4u77zOxQ4MfAyWEMM919W4hzA/BnIc433f2R0H8O8H2SGRb3uvv3OhtTbW2t19fX9+bHEhHpSMHpNZ0m4AMbmk0iSZr/HWh097PSG1t83UnA559/Pvv372fw4MGsWpVqcc3FF1/Mnj17GDp06EFvvXurru7AVGnWrFmTauys4yt26eNXauys4/cwdsEE3J1TkXcBbwDNwNHd2K/P2b9/PwD79u1LPfaePXsAeOedd1KPLSLlpSunIl9pZj8HHgU+Bvwvd5+U9cDK1fnn5x/+vuCCC1KLffHFF+e1v/zlL6cWO/e/dqF2OcdX7NLHr9TYWcdPO3ZXJveNITm+qlOn+H312ybNKrit+m2jKlikb+s0Abu7PhoWEcmALkcpIhKJEnA3DRo0KK89ePDg1GIfeeSRee32Z4CJSN+iBNxN//qv/5rXTnMa2sqVK/PaaU5DO++884q2yzl+pcZuP0Up7elQlTr2rJ+XLOOfddZZRdvdpQTcA21VcJrVb5u2Kjjt6rf9FaHSvkJUlvErNXbWKnnsfUVvL1+qBNwDlTgPuP2pzWmf6pxl/EqNnbVKHnul+o//+I+89i9/+ctexVMC7ic+97nP5bW/8IUvpBp/1qxZee00z8GfPj3/YnnnnntuarGzHHdDQ0NeO+3vbMvyd9rc3JzXLudvlSiltP/pdflU5L6uq6ciF5p4ndYxpkqNnXV8xS59/EqNnXX8XsTu9anIIiKSIiVgEZFIlIBFRCJRAhYRiUQJuJsqdYJ6JU9+V+zSx6/U2FnHTzu2ErCISCRKwCIikSgBd1MlXey5VLGzjq/YpY9fqbGzjp92bCVgEZFIlIBFRCJRAhYRiUQJWEQkEiXgbvrKV76S1/7qV7+aWuw777wzr7148eLUYl911VV57auvvjq12JDt2BcsWJDXXrhwYWqxs3xesnxOAJYtW5bXXr58eWqx583L/yrIG264IbXYWf4+s47/xS9+sWi7u5SAu2nmzJl57UsuuSS12DU1NXnt8ePHpxb7/PPPz2ufc845qcWGbMd+6qmn5rVPPvnk1GJn+bxk+ZwAjBw5Mq89YsSI1GJPnjw5r33GGWekFjvL32fW8Tdt2lS03V1KwFL2dG1aKRdpXw84SgI2s2FmttLMfmNmL5jZZ81shJmtM7Ot4X542NbM7A4zazCzzWZ2Sk6c2WH7rWY2O6f/VDN7Nuxzh/X2e0MkqvZvtZcuXRppJNLfpX0B/1gV8N8DP3P3PwL+K/ACMA941N0nAI+GNsB0YEK4zQEWA5jZCOAm4DPAacBNbUk7bDMnZ79paQ28kiZ5lyp21vFXr15dtN0bes77Vuys47dPwJdeemmv4pU8AZvZUcAZwD0A7r7f3d8GZgBLwmZLgAvD8gzgPk88AQwzs2OBOmCdu+9297eAdcC0sO4od3/ck6/7uC8nlohI2YhRAY8HmoAfmtnTZna3mR0OHOPurwOE+6PD9qOAHTn7N4a+Yv2NBfoPYmZzzKzezOqbmpp6/5OJiHRDjARcBZwCLHb3k4H3+f3hhkIKHb/1HvQf3Ol+l7vXunttdXV18VGLiKQsRgJuBBrd/cnQXkmSkHeGwweE+1052x+Xs/9o4LVO+kcX6BcRKSslT8Du/gaww8xOCF1nAs8Dq4C2mQyzgQfD8irg8jAb4nTgnXCIYg0w1cyGhw/fpgJrwro9ZnZ6mP1weU6sXqukiz2XKjZke1JAlmM/77zzirZ7o5IvPD5kyJCi7d6o5Oelr1yQ/c+BpWa2GfgUsABYCJxtZluBs0Mb4GFgG9AA/CPwNQB33w18F9gYbt8JfQBXAneHfV4CHinBz1TWsp5L++1vfzuv/a1vfSvV+FlZv3590XZ/lfZ8VyksSgJ292fCsddJ7n6hu7/l7s3ufqa7Twj3u8O27u5fd/fj3f2T7l6fE+ded68Jtx/m9Ne7+8Swz1VhNkS/lvVc2hdffLFou1wp0RSW9nxXKUxnwvUTqvQKU6IpLMvTnOX3lIC7qVInqO/du7dou5xV0sT6XJV8wkGlxs46vr4RQ0Skj1ACFhGJRAlYRCQSJWARkUiUgLupUifuZz35fcyYMUXbvVGpz0sln3Bw2GGHFW33xhFHHFG03VuVdOKOEnA3adpSYXPnzs1rt/9KG6ksRx99dNF2b8yfPz+vfeONN6YWO2t95XrAFSvL+ZGV/M0PWX/9jpTWG2+8UbTdG1l/JVGW0n79KwF3k+aklj6+Ypc+/r59+4q2e6OSnxfNAxYR6SOUgEVEIlECFhGJRAlYRCQSJWARkUiUgEVEIlECFhGJRAlYRCQSJWARkUiUgEVEIlECFhGJRAlYRCQSJWARkUiUgEVEIlECFhGJRAlYRCSSaAnYzAaa2dNmtjq0x5nZk2a21cx+YmaDQv/g0G4I68fmxLg+9L9oZnU5/dNCX4OZ6btxRKQsxayArwZeyGnfAtzu7hOAt4ArQv8VwFvuXgPcHrbDzE4EZgInAdOAH4SkPhC4E5gOnAhcGrYVESkrURKwmY0GzgXuDm0DpgArwyZLgAvD8ozQJqw/M2w/A1jh7vvc/WWgATgt3BrcfZu77wdWhG1FRMpKrAr4+8BcoDW0RwJvu3tLaDcCo8LyKGAHQFj/Ttj+QH+7fTrqP4iZzTGzejOrb2pq6u3PJCLSLSVPwGZ2HrDL3TfldhfY1DtZ193+gzvd73L3Wnevra6uLjJqEZH0VUV4zM8DF5jZOcChwFEkFfEwM6sKVe5o4LWwfSNwHNBoZlXAUGB3Tn+b3H066hcRKRslr4Dd/Xp3H+3uY0k+RFvv7pcBG4CLw2azgQfD8qrQJqxf7+4e+meGWRLjgAnAU8BGYEKYVTEoPMaqtMafHH7uuC0i0lUxKuCOXAesMLObgaeBe0L/PcCPzayBpPKdCeDuz5nZ/cDzQAvwdXf/CMDMrgLWAAOBe939ubQGmeT+jtu9ceihh/K73/0ury0i3TNw4EA++uijvHa5ipqA3f3nwM/D8jaSGQztt/kdcEkH+38P+F6B/oeBh1Mc6gGHHXYYH3zwQV47LbnJt1BbRDqXm3wLtcuJzoTrpiOPPDKvfdRRR0UaSXkZMGBA0baIHEyvkm7atWtXXnvnzp2RRlJeWltbi7ZF5GBKwCIikSgBi4hEogQsIhKJErCISCRKwCIikSgBi4hEogQsIhKJErCISCRKwCIikSgBi4hEogQsIhKJErCISCRKwCIikSgBi4hEogQsIhKJErCISCRKwCIikZTTl3L2O4sXL2bbtm1Ft7n22msBGD9+PFdeeWUphiUiJaIKWEQkElXAEbWvaJubm5k1a9aB9vLlyxkxYkSphyUiJaIE3ImuHiZI4xDByJEj89pKviJxZX2YUIcgyswnPvEJDj/8cJYvXx57KCKSMVXAnWj/H62uru6gbW699dbUHu+QQw7h+OOPV/UrUgayfv2rAu6mO++8M6+9ePHiSCMRkVIbOHBgXruqqnc1bMkTsJkdZ2YbzOwFM3vOzK4O/SPMbJ2ZbQ33w0O/mdkdZtZgZpvN7JScWLPD9lvNbHZO/6lm9mzY5w4zs7TGX1NTk9ceP358WqFFpMw9/PDDee2HHnqoV/FiHIJoAf7K3X9lZkcCm8xsHfCnwKPuvtDM5gHzgOuA6cCEcPsMsBj4jJmNAG4CagEPcVa5+1thmznAE8DDwDTgkbR+gJqaGrZt23ZQNSwipVfKD8pz9bb6hQgVsLu/7u6/Cst7gBeAUcAMYEnYbAlwYVieAdzniSeAYWZ2LFAHrHP33SHprgOmhXVHufvj7u7AfTmxUjFkyBAmTpyo6lekH5o0aRKTJk3qdfULkT+EM7OxwMnAk8Ax7v46JEnazI4Om40CduTs1hj6ivU3Fugv9PhzSCplPv7xj/fuhxGRKEr9QXmaon0IZ2ZHAP8MfNPd3y22aYE+70H/wZ3ud7l7rbvXVldXdzZkEakACxYsyGsvXLgw0kg6FyUBm9khJMl3qbv/NHTvDIcPCPe7Qn8jcFzO7qOB1zrpH12gX0T6gVNPPTWvffLJJ0caSedKfggizEi4B3jB3f8uZ9UqYDawMNw/mNN/lZmtIPkQ7p1wiGINsKBttgQwFbje3Xeb2R4zO53k0MblwD9k/oOVoc4+nNCFfqSvGjt2LK+88kpZV78Q5xjw54H/CTxrZs+Evvkkifd+M7sCeBW4JKx7GDgHaAD2Al8BCIn2u8DGsN133H13WL4S+BFwGMnsh9RmQIhI+TvqqKOYNGlSWVe/ECEBu/u/U/g4LcCZBbZ34OsdxLoXuLdAfz0wsRfD7BNyq9pK+mBCpL+wJL9JbW2tf/rTn2bnzp2dbvvBBx8AcNhhhxXd7phjjsk7U+7KK6/sNH5WsT/88EP2799/oD1o0CAOOeSQLsVfvHgx69aty1u/d+9euvK3Y2YMGTIkr+/ss88+8M8hy9iF4nc1dqH4ncVOc+x6XgqPvSuvISjL12jBolPXgsjx7rvv8sH7exncyQTrAeHvqHXf/g632dfSwrvv5k/uSOK/z+Ai4e1A7PeLxKZg7L173+eQrv5GfT8f7i88/g8LxBcpB8lr6AMGVw0uup15Mr+gdV9rh9vsa9nXwWt0L4OrBnW43wC3ELulSOz9XXoNqQIOamtrffLkyez/7U5u/OLUXse7+d/WMmjUMXlv86+99lp+1/gc1352SJE9O1ucQV8AAAmMSURBVHfr43s5dPRJB8V+8YXNVA/reL/Gpt8vjy4y667pbTjhE5O6dYii0CGONWvWdHl/xS6v+OUaO3kN7eevPnN9r8fxt0/+DYeOHnTQ62h/4zvMP/0rvYq94IkfMmj00NzYqoD7sq6cldfYtPnA8ohjJ3W43YhjdY0LkVJQAu4jCk0jy52Gtnnz5rx1mzdvZtKkJAlrGppIHErAIlJRdrz7Kn/75N8U3WbX+8kHaUcffkzROBOo6XB9KSgB92GahiZ9TVcPjX34UvIB86GjO/4wbQI10Q+1KQGLSMXo6qGytrM8y73IUAJu59V3dnPzv60tus3O9/cAcMzhRxaNUzOq47c/IlKeXn33DRY88cMO1+98Pznh9pjDO/7asFfffYMahnb6WErAObr6dmT/S+8BMKhIgq0ZdUz0tzci0j1dec3uf+lNAAaN7jjB1jC0S7GUgHOU4u3Njnc/4tbH93a4ftf7ycTxow/v+EJ1O979iAndfmSR/mPr1q188MEH3Hjjjdx8881d3q8rOSDNwxtKwCXUlf+IH770EgCHjj6+w20mdDGWSH/Vdrrwxo0bO9kyLiXgEir1f1eR/uj66/PPkutuFVxKSsAiUtHaX/e6/UlHGzduzORLOdMQ7SuJRET6O1XAIlLR9KWcIiLSbUrAIiKRKAH3wObNm9m8eXPBtzoi0rel+fpXAhYRiUQJuJva/9dTFSzSf6T9+tcsiE60n2NYSLnOMRSR3unq6x969sUGqoBFRCJRBdyJUs8xbDuLp66uLtUvcBSR7sv69a8KWEQkEiXgMqIP+ET6lz57CMLMpgF/DwwE7nb3hZGHdJCsD/CLSHnrkxWwmQ0E7gSmAycCl5rZiXFHJSKSr69WwKcBDe6+DcDMVgAzgOejjqqdSr6IiIj0Xp+sgIFRwI6cdmPoy2Nmc8ys3szqm5qaSjY4ERHouwnYCvT5QR3ud7l7rbvXVldXl2BYIiK/11cTcCNwXE57NPBapLGIiBTUVxPwRmCCmY0zs0HATGBVGoHbnxyR5skSlRo76/iKXfr4lRo76/hpx+6TH8K5e4uZXQWsIZmGdq+7Pxd5WCIiecz9oEOj/VJtba3X19fHHoaI9E2FPpfqs4cgRETKnhKwiEgkSsAiIpEoAYuIRKIELCISiRKwiEgkSsAiIpEoAYuIRKITMQIzawK2d2OXjwFvZjScSo2ddXzFLn38So2ddfzuxn7T3ae171QC7iEzq3f3WsUuXXzFLn38So2ddfy0YusQhIhIJErAIiKRKAH33F2KXfL4il36+JUaO+v4qcTWMWARkUhUAYuIRKIELCISiRJwN5nZvWa2y8y2pBz3ODPbYGYvmNlzZnZ1yvEPNbOnzOzXIf6304wfHmOgmT1tZqtTjvuKmT1rZs+YWepXzTezYWa20sx+E57/z6YU94Qw5rbbu2b2zTRih/h/EX6XW8xsuZkdmmLsq0Pc59IYc6HXjZmNMLN1ZrY13A9PMfYlYeytZtar6WIdxL81/L1sNrMHzGxYj4K7u27duAFnAKcAW1KOeyxwSlg+EvhP4MQU4xtwRFg+BHgSOD3ln+EvgWXA6pTjvgJ8LMPf6RLgq2F5EDAsg8cYCLwBjEkp3ijgZeCw0L4f+NOUYk8EtgBDSL627P8BE3oZ86DXDbAImBeW5wG3pBj7E8AJwM+B2gzGPhWoCsu39HTsqoC7yd0fA3ZnEPd1d/9VWN4DvEDyIksrvrv7e6F5SLil9gmsmY0GzgXuTitmKZjZUSQvsHsA3H2/u7+dwUOdCbzk7t0527IzVcBhZlZFkizT+ubvTwBPuPted28BfgFc1JuAHbxuZpD88yPcX5hWbHd/wd1f7Em8LsZfG54bgCdIvnm925SAy5CZjQVOJqlS04w70MyeAXYB69w9zfjfB+YCrSnGbOPAWjPbZGZzUo49HmgCfhgOn9xtZoen/BiQfDP38rSCuftvgduAV4HXgXfcfW1K4bcAZ5jZSDMbApwDHJdS7FzHuPvrkBQgwNEZPEYp/BnwSE92VAIuM2Z2BPDPwDfd/d00Y7v7R+7+KZL/1qeZ2cQ04prZecAud9+URrwCPu/upwDTga+b2Rkpxq4ieXu52N1PBt4neTucGjMbBFwA/N8UYw4nqSDHAX8AHG5mf5JGbHd/geRt9TrgZ8CvgZaiO/VTZnYDyXOztCf7KwGXETM7hCT5LnX3n2b1OOEt9s+Bgy4O0kOfBy4ws1eAFcAUM/unlGLj7q+F+13AA8BpacUGGoHGnHcDK0kScpqmA79y950pxjwLeNndm9z9Q+CnwOfSCu7u97j7Ke5+Bsnb761pxc6x08yOBQj3uzJ4jMyY2WzgPOAyDweDu0sJuEyYmZEch3zB3f8ug/jVbZ/UmtlhJC/g36QR292vd/fR7j6W5K32endPpRozs8PN7Mi2ZZIPP1KbgeLubwA7zOyE0HUm8Hxa8YNLSfHwQ/AqcLqZDQl/O2eSfG6QCjM7Otx/HPhvpD9+gFXA7LA8G3gwg8fIhJlNA64DLnD3vT0O1JtPB/vjjeQP8XXgQ5Lq6YqU4n6B5FjnZuCZcDsnxXFPAp4O8bcAf53R8/MlUpwFQXKM9tfh9hxwQwZj/hRQH56bfwGGpxh7CNAMDM1g3N8m+Se6BfgxMDjF2P9G8o/o18CZKcQ76HUDjAQeJamuHwVGpBj7orC8D9gJrEl57A3AjpzX6v/pSWydiiwiEokOQYiIRKIELCISiRKwiEgkSsAiIpEoAYuIRKIELJKicGW1r+W0v5T21eGk71ACFknXMOBrnW4lghKw9GNmNjZc0/XucO3bpWZ2lpn9Mlyj9rRwzdp/Cdd9fcLMJoV9vxWuE/tzM9tmZt8IYRcCx4fr/94a+o7Iud7w0nDmmghVsQcgElkNcAkwB9gIzCI5K/ECYD7J2U5Pu/uFZjYFuI/kzDmAPwImk1y/+UUzW0xyIZ+Jnlz0CDP7EsmV7U4iuVzkL0munfHvpfjhpLypApb+7mV3f9bdW0lOdX7Uk9NDnwXGkiTjHwO4+3pgpJkNDfs+5O773P1NkgvJHNPBYzzl7o3hMZ4JcUWUgKXf25ez3JrTbiV5h1jocEHb+fu5+35Ex+8ou7qd9DNKwCLFPQZcBgcOJ7zpxa/TvIfkkIRIp/SfWKS4b5F8W8ZmYC+/v3xiQe7eHD7E20LyLQkPZT9EqVS6GpqISCQ6BCEiEokSsIhIJErAIiKRKAGLiESiBCwiEokSsIhIJErAIiKR/H9/f9cee772ugAAAABJRU5ErkJggg==\n",
      "text/plain": [
       "<Figure size 360x360 with 1 Axes>"
      ]
     },
     "metadata": {
      "needs_background": "light"
     },
     "output_type": "display_data"
    }
   ],
   "source": [
    "from warnings import filterwarnings\n",
    "import seaborn as sns\n",
    "filterwarnings('ignore')\n",
    "\n",
    "sns.catplot(x='month',y='vis', kind='box',data=data2019_p)"
   ]
  },
  {
   "cell_type": "markdown",
   "metadata": {},
   "source": [
    "### Boxplot of Wind Speed for 2019"
   ]
  },
  {
   "cell_type": "code",
   "execution_count": 38,
   "metadata": {},
   "outputs": [
    {
     "data": {
      "text/plain": [
       "<seaborn.axisgrid.FacetGrid at 0x7ff9452c05d0>"
      ]
     },
     "execution_count": 38,
     "metadata": {},
     "output_type": "execute_result"
    },
    {
     "data": {
      "image/png": "iVBORw0KGgoAAAANSUhEUgAAAWAAAAFgCAYAAACFYaNMAAAABHNCSVQICAgIfAhkiAAAAAlwSFlzAAALEgAACxIB0t1+/AAAADh0RVh0U29mdHdhcmUAbWF0cGxvdGxpYiB2ZXJzaW9uMy4yLjEsIGh0dHA6Ly9tYXRwbG90bGliLm9yZy+j8jraAAAgAElEQVR4nO3de3Sc9X3n8ffXNwh2uFiRjYW5282lxAkchZCQdRMbDA40wLa0jUgPW9NDTtp06YUAIdmcsocSMPSy3c2y5SROaIIIKW1KGgM2a3MJIUBsLraJYbEVyzYyljy+gR3f5O/+MY+IZiSNRvLz+z0zz3xe5/hIv/Ho+T6PZvSd3/O7mrsjIiLxjcn6BEREGpUSsIhIRpSARUQyogQsIpIRJWARkYyMy/oEqnHxxRf7o48+mvVpiIiMlg32YF3UgLdt25b1KYiIpK4uErCISB4pAYuIZEQJWEQkI0rAIiIZUQIWEcmIErCISEaUgEVEMqIELCKSESVgEZEqFQoFrr/+erZv357K8ZSARUSq1N7ezpo1a7jvvvtSOZ4SsIhIFQqFAkuXLsXdWbp0aSq1YCVgEZEqtLe3c/jwYQAOHz6cSi1YCVhEpArLly/n0KFDABw6dIjly5cf8TGVgEVEqjBnzhzGjSuu4Dtu3DjmzJlzxMdUAhYRqUJbWxtjxhRT5pgxY7jqqquO+JhKwCIiVWhqamLevHmYGfPmzWPy5MlHfMy62BFDRKQWtLW10dnZmUrtF8DcPZUDhdTa2uorVqzI+jREREarfrckEhHJIyVgEZGMKAGLiGRECVhEJCNKwCIiGVECFhHJiBKwiEhGlIBFRDKiBCxRpL2TgEi5enyPBU3AZna8mT1oZq+a2Voz+5iZTTazx8zs9eTrCSHPQWpD2jsJiJSrx/dY6Brw/wAedff3AR8C1gI3AcvcfSawLClLjoXYSUCkv3p9jwVLwGZ2LDAb+BaAux9w953AZcC9ydPuBS4PdQ5SG0LsJCDSX72+x0LWgM8AeoBvm9mLZvZNM5sITHX3LQDJ1ymD/bCZXWtmK8xsRU9PT8DTlNBC7CQg0l+9vsdCJuBxwDnA3e5+NrCHETQ3uPs97t7q7q3Nzc2hzlEiCLGTgEh/9foeC5mANwOb3f25pPwgxYS81cymASRfuwOeg9SAEDsJiPRXr++xYAnY3d8ENpnZe5OH5gK/AH4EXJ08djXwUKhzkNoQYicBkf7q9T0WekeMPwPuM7MJQAfwRxST/g/M7BpgI3Bl4HOQGpD2TgIi5erxPaYdMUREwtOOGCIitUQJWEQkI0rAIiIZUQIWGaF6XPRFapMSsMgI1eOiL1KblIBFRqBeF32R2qQELDIC9broi9QmJWDJldDts/W66IvUJiVgyZXQ7bNz5szBrDim3szqZtEXqU1KwJIbMdpn58+fT9/sUXfnkksuST2GNA4lYMmNGO2zjzzySEkNePHixanHkMahBCy5EaN9dvny5SU1YLUBy5FQApbciLEod70u/C21SQlYciPGotz1uvC31CYlYMmNGIty1+vC31KbQi/ILhJVjEW563Hhb6lNWpBdpAYVCgW+/vWvc/PNN6uWnQ9akF2kXmjBn8agBCxSY7TgT+NQAhapMVrwp3EoAYvUGC340ziUgEVqjBb8aRxKwCI1Rgv+NA4lYJEaowV/GocSsEiN0YI/jUMJWKTGaMGfxqEELFJj2traSoahacpzfikBi4hkRAlYpMa0t7eXdMJpIkZ+KQGL1Jjly5fT29sLQG9vrzrhckwJWKTGaCJG41ACFqkxmojROJSARWqMJmI0DiVgkRqjiRiNI2gCNrMNZrbazF4ysxXJY5PN7DEzez35ekLIcxBJW6FQ4Prrrw+2Tu+cOXMYO3YsAGPHjlUbcJXWrVvHFVdcQUdHR9anUrUYNeBPufuH3b01Kd8ELHP3mcCypCxSN0LvVtHW1lZSA9ZEjOosXLiQvXv3cvvtt2d9KlXLogniMuDe5Pt7gcszOAfpJ3SNLlaMGHHytltFrNcltHXr1tHZ2QlAZ2dn3dSCQydgB5aa2UozuzZ5bKq7bwFIvk4JfA4yjBj7j8Xa4yx0nBi7VbS3tzNmTPFPc8yYMbl4XUJbuHBhSbleasGhE/D57n4OMB/4UzObXe0Pmtm1ZrbCzFb09PSEO8MGVygUWLJkSdAaXaxaY4w4MXariLUjRp5q832136HKtSpoAnb3ruRrN/BD4Fxgq5lNA0i+dg/xs/e4e6u7tzY3N4c8zYbW3t7+zh/7wYMHg9XoYuxxFiNOjEkSsVZDy9Pec5MmTapYrlXBErCZTTSzd/d9D8wD1gA/Aq5OnnY18FCoc5DhLVu2rKTDZ9myZanHiFWjixEnxiSJtra2kiaIUJ1wedp7ru86hirXqpA14KnA02b2MvA8sNjdHwVuBy40s9eBC5OyZGTKlCkVy2mIVaOLESfGJImmpibmzZuHmTFv3jwmT56cegzI17rDF1xwQcVyrQqWgN29w90/lPz7TXf/m+TxgrvPdfeZydf6bXjKge7u7orlNMSq0cWIE2uSRFtbG2eddVbQIWixXpcY2traSj5M6uVaNBOuwc2dO7diOQ2xanQx4sSqNTY1NXHXXXcF+131xYjxusTQ1NTExRdfjJlx8cUX1821KAE3uPnz55eUQy38EqNGFyNOnmqNEO91iaEer0UJuMHFWvglRo0uRpxYtcZYEyRivS4x1OO1KAE3OC38MnIxalp5mSAhlSkBN7g89YTHErqmlacJElKZEnCDy1ubZh7kaYKEVKYE3ODy1BOeF3maICGV5TIB52WFp1jqsfc4z9Qs1DhymYDVgTEy9dh7nGdqFmocuUvA6sCQeqdmocaRuwSsDgzJAzULNYbcJeCYa6mqnVlCUbNQY8hdAo65lqramUXkSOQuAcfowFA7s4ikIXcJOEYHhtqZRSQNuUvAEL4DQwPlRSQNuUzAoTswNFBeRNKQywQcmgbKS2gaZdMYcpmAQ795NVBeQtMom8aQywQc482rgfISikbZNI7cJeBYb14NlJdQNMqmceQuAevNK/VOo2waR+4SsN68Uu80yqZx5C4B680r9U6jbBpH7hKw3rxS7zTKpnHkLgHrzSt5oFE2jWFc1icQQltbG52dnXrzSt3qG2Uj+WbunvU5DKu1tdVXrFiR9WmIiIyWDfZg7pogRETqhRLwKGmuvoSk91djUAIeJc3Vr015SVx6fzUGJeBR0Fz92pWHxKX3V+NQAh4FTXeuTXlJXHp/NQ4l4FHQdOfalJfEpfdX41ACHgVNd65NeUlcen81juAJ2MzGmtmLZvbjpHy6mT1nZq+b2QNmNiH0OaRN051rU14SV1tbW0lNXu+v/IpRA74OWNuvfAfw9+4+E9gBXBPhHFIVa7pzXnr0Y9EHo9SboAnYzKYDlwDfTMoGzAEeTJ5yL3B5yHMIJcZc/Tz06MeUl3VA2tvbKf6pgJnp9c+x0DXgfwBuAA4n5SZgp7sfSsqbgZMG+0Ezu9bMVpjZip6ensCnOXKhd8TIS49+n1i1+RgfjKGvZfny5fT29gLQ29tbt23ZMrxgCdjMLgW63X1l/4cHeeqgi1G4+z3u3ururc3NzUHOsZblpUe/T55q86GvJS9t2TK8kDXg84HPmNkG4PsUmx7+ATjezPpWYZsOdAU8h7qVlx59iFubD50cY1yL2rIbR7AE7O5fdvfp7n4a8AfAcne/Cngc+N3kaVcDD4U6h3qWp1pQrNp8jOQY41ry0pYtw8tiHPCNwF+a2TqKbcLfyuAcal6eakGxavMxkmOsa9GC7I0hSgJ29yfc/dLk+w53P9fdZ7j7le6+P8Y51Js81YJi1eZjJMdY1xK6kzcmDaccmmbC1bC81IJi1eZjJMc83ZnEkqcO2LTlMgHn5RM3Vi0o9O8rVm0+RnLM051JDHkbTpm2XCZgfeKOTIzfV4zafMxEn4c7kxjyNpwybblLwLE+cfNSy471+4pVm4+V6NU+W508DacMIXcJONYnbl5q2XmroeQpOcagSSXZyl0CjvGJm6d2LdVQGpcmlWQvdwk4xidunmqNqqE0Lk0qyV7uEnCMT9w81RpVQ2lcmlSSvdwl4BifuHmqNeathpKXztEYNKkke7lLwBD+EzdvtcY81VDy0jkaQ97ex/Uolwk49Cdu3mqNeamhFAoFlixZkovO0Rjy9j6uR7lMwDHkqdaYF+3t7e+0aR48eFC14CrofZwtJeBRykutMU+WLVuGe3F9f3dn2bJlGZ+RSGVKwJIbU6ZMqViWgdRmni0lYMmNrVu3VixLqTxNKKpXSsCSG1OnTq1YllJ5mlBUr5SAR2ndunVcccUVdHR0ZH0qkuju7q5YllJ5mlBUr5SAR2nhwoXs3buX22+/PetTkcTcuXMrlqVUniYU1Ssl4FFYt24dnZ2dAHR2dqoWXCPmz59fUr7kkksyOpP6oIkY2VMCHoWFCxeWlOu9FpyX6buPPPIIZgaAmbF48eKMz2j0YrwmTU1NfPSjHwXgvPPO05DKDCgBj0Jf7Xeocr3Jy1Ck5cuXl4wDruc2zVivSd/dm+7islExAZvZajNbNdS/WCdZa0499dSK5bTEqAXlaQeRWG2aoa8l1muybt063njjDQA2b96sJJyB4WrAlwK/DTya/Lsq+fcw8GDYU6tdN9xwQ0n5pptuChInRi0oTzuIxGrTDH0tsV6TvDWl1aOKCdjdO929Ezjf3W9w99XJv5uAi+Kc4siFrqHMmDHjnVrvqaeeyhlnnJF6jFi1oDztIBJjcZkY1xJreFjemtLqUbVtwBPN7BN9BTP7ODAxzCkduRi1rRtuuIFjjjkmaO03Ri0obzuIhF5cJsa1xGpKidWUJkOrNgFfA3zDzDaY2QbgfwMLgp3VEYhV25oxYwY//OEPg9R+Ie5uBf1HDmgHkcpiXEusppRYTWkytKoSsLuvdPcPAbOAD7n7h939hbCnNjp5mV4Zc7eClpYWAFpaWup+B5E87PLb1NTE7NmzAZg9e3aw4WExmtLyJu0ZsFUlYDM7yszagC8C15nZ18zsa6mcQcryUtuKVQsqFAp0dXUBsGXLlrreGTePu/z23Z2EEropLW/SngFbbRPEQ8BlwCFgT79/NScv0ytj7VbQ3t7+ztjZkDvj9tXofuu3fivoteRhl99CocCTTz4JwJNPPhl06F7oprQ8CTEDttoEPN3df9/dF7r73/b9O+LoAcSsbYUe1xpjt4LYdwx9yT6EvOzyq509alOIYXvVJuBnzOyDRxwtgqamJs4++2wAzjnnnGC1rUWLFrF69WoWLVoU5PgAO3bsYP369ezcuTNYjDlz5pR0woW4YygUCjz++OMAPP7448E+tD7+8Y+XlM8///wgcUK/LjF39oixql9eprqHGLZXbQL+BLDSzF5LZsGtruWZcGvWrAFg9erVQY5fKBTeqV0tW7Ys2BsrxoprbW1tJX/sIWp17e3t9Pb2AtDb2xusRrd///6S8r59+4LECf26lFcaQq7REOM9lpep7iGG7VWbgOcDM4F5FGfG9c2QqzkrV65kz55i8/SePXt48cUXU4+xaNGikrbGELXgWCuubdiwoaQcYjD+0qVLK5bT8swzz1QspyHG69I3PXioclpiXEuedt34/Oc/X1L+whe+cMTHHG4tiGOTb98a4l/Nue2220rKt956a+oxnnjiiZJy3+11mmJNE43x+zp48GDFclr6PhSHKqchT9N3Y1xLXoaFwsAP9KeffvqIjzlcDbg9+boSWJF8XdmvXHPefvvtiuU0lHckhehYijVNNC+/L+CdztehymnI0/TdGNcSs5M3dFtz+bmncS3DrQVxafLt08DXgfnufnryr+K4FTM72syeN7OXzewVM7slefx0M3vOzF43swfMbMIRX0Vkn/rUpyqW01A+/jPUeNBJkyZVLKehb1jgUOW0xHhdYkzfjfXax7iW8k7dep+Ek3aHdbVVhG8D04D/aWbrzexBM7tumJ/ZD8xJZtB9GLjYzM4D7gD+3t1nAjsoTnOuK+W/+AsuuCD1GLFqjV/84hdLytddN9zLOnKf/vSnS8q//dthug8WLFjwzh/ImDFjuOaa9N9a5a/9hRdemHqM8t/P5ZdfnnoMgM9+9rMl5c997nOpxygfmfKJT3xiiGcemRhtzfPnzy/psE5jx5VqpyIvB/4G+G/AN4GPABVboL2o7352fPLPgTn8einLe4FU310xag//9E//VFK+++67U48RqxbUN2Kkz8svv5x6jIcffrik/B//8R+px4DiEMS+feDmzJkTZPTAd7/73ZLyd77zndRjlN/aPvbYY6nHALj//vtLyt/73vdSjxHjbwXitDWH2HGl2qnIy4CfAr8PvAZ8xN3fV8XPjTWzl4Bu4DFgPbDT3Q8lT9kMnDTEz15rZivMbEVPT081pwnkp302Vg04RLtWub42wKHKaVqwYAEf/OAHg9R+Ic61xGiXhzjv41ht5jHamkPsuFJtE8Qq4ABwFsUFec4ys3cN90Pu3uvuHwamA+cC7x/saUP87D3u3ururc3NzVWeJpx0Umk+nz59etU/W60YbWdTpkypWE5L+S1ieTkNsdqAY4hxLcccc0zFclrK/1bKyyFihPh7hDgTikIsc1BtE8RfuPts4AqgQLFNuOppQO6+E3gCOA843sz63rXTga6RnPBwyue0n3766WkeHoizjN9bb5WO8gtVCyqfvHDgwIHUY1x//fUl5RtvvDH1GH1Cd8TEuJaJEydWLKel/G/lzDPPTD1GecINkeQhTPtsuRDLHFTbBPFFM3sAeIlim+0iipMzKv1Ms5kdn3z/LuACYC3wOPC7ydOuprjQT2pWrFhRsVwvfvWrX5WU9+7dGyTOz372s5JyiMkLJ598ckk5VC0oRkdMjGspb3IbSRPcSKxcubKkHOJvJdbf4yOPPFJSDrEjdohdpKttgngX8HfA+9x9rrvfknTMVTINeDyZsvxz4DF3/zFwI/CXZrYOaAK+NcpzH1SMW/cYA9hj3bbHaGuONXkhRkdMjGuJMTQQirfUY8eOBWDs2LFBbttjTI6BOH0ZkP4u0tU2Qdzp7s/16zyr5mdWufvZ7j7L3c9y9/+ePN7h7ue6+wx3v9Ld9w93rJF48803K5bTEKNjIcakAogzdjZPHTExriVWp2X/W+qxY8cGWQck1vs4Rl9GiF2kw/w2MjR+/PiK5TTEqKFMmzatYjktCxaU7iwVYvRAzBpd6I6YGB2w5ePKQ4wzh9LdUKZNmxZk2F6MD/jBhBi2meVylHUjxhCe8o6r8nIatm7dWrGclh07dpSUQyyxGOP3BXE6YmJMXpg/v7R7JcR1QLHNvK9G98YbbwRpM7/iiitKyr/zO7+TegwY2Hfx05/+NPUYWS5HWTdiTGCI0W46derUiuW0xGjTjDWmOcRA+XIxJi/EuA6Is0xojM4xiDvlOU25S8Ax/thjtNF1d3dXLKclT22aIQbKl4u1gE3o64A4C7/H6hxra2srKYfeqy8tuUvARx99dMVyGmK0aba2tlYsp+XEE08sKYdoa441rjVGr36eFrCJMWIo1i4l5U0Qzz77bJA4actdAo7RBHHzzTeXlL/61a+mHqO8h/WXv/xl6jEg/K67MHAyTIjJMVCsBfUfhhaiFhRjEk6sNuBYd1n9hWp++sY3vlFS/sd//McgcdKWuwRcPoGhvJyG0047raQcohZUvgvC5s2bU48Bxa3oK5XTUL7gT3k5LTt27Ci5pQ7RoThjxox3Xu9TTz01yG7C3//+90vK5e3OaSmvjYZYqay8MyxE5xjE62dIW+4ScIwacHt7e0m5nlf5z9M6DbEmfHz+859nzJgxqWxJM5jynRZ+8pOfBIlTLkTSirWmSb3KXQKO8Um4ZMmSiuV6EqODLNaCLLEmfDzzzDO4eypb0gwmVm0uxh56sZo5Yoz/DyF3CTiGWHucxRCjQ7G8zfwrX/lK6jEgTgdZoVBg8eLFuDuLFy8OMnY2xiplEGf2WHkzR6hOuIsuuqhiuVYpATe4GDXgGTNmlJRDtJtCnA6y9vb2knbmEM1PMTp5BxOjQzZUDA1Dk7pUnhx/4zd+I/UY5btGP/XUU6nHANi0aVNJOUTHZYzmp/LfT6g24BhtzbHaszUMrYGccMIJFcv1pHxEwqpVq1KPcdddd5WU77jjjtRjxIoTo/npgQceKCmXd/qmJUYHbKxOXg1DayDl6yeUl6VUrJlwMbc+yoMY66bE2l5Jw9BEhhBrg9FYcfIiRqdlrBEw9UoJWIKLVTvJy5jm8ok+oWYOxui0LB/3G2pRqXqlBCzBxaqZ9q1tO1S5XpR3HpZ3LqZlxowZ76zLMXHixCCjU1566aWS8gsvvJB6jHqmBCzBxUrAMdZQLt+hO8TMrr4lIocqp6VQKLyz1+DevXuDjGmu17bZWJSAJbijjjqqYjktTU1NJeX3vOc9qceI0a4cK2ktWrSoZEzzokWLgsSRoSkBS3AxFkiCgfv/hVhYKIsVxEIpH58daq1eGZoSsORGrB148yJWU4cMTQlYciPGDrx9C74PVRYZCSXgBhcjacXa4bl815CPfOQjqcco39W3XvYeG0yMtnl9YFWmBNzgYty2l683MXPmzNRjQJzhWwsWLKhYricxRqeomaMyJWAJ7uc//3lJ+fnnnw8Sp3wXkfJyGjZs2FBSDrXmcAz79u2rWJbwlIAluFgz1GLU6G677baS8q233pp6DGkcSsASXJ4WZIl1LdIYlIAluDzVgEXSpAQswcVaJlLTXqXeKAFLcHlawD5PJkyYULEs4SkBS3BawL42HThwoGJZwlMCFhHJiBKwyAhMmjSpYllkJJSARUagfHeK8ll+IiMRLAGb2clm9riZrTWzV8zsuuTxyWb2mJm9nnxVj4zUjdWrV5eUy3d8EBmJkDXgQ8Bfufv7gfOAPzWzDwA3AcvcfSawLCmLiDScYAnY3be4+wvJ928Ba4GTgMuAe5On3QtcHuocRERqWZQ2YDM7DTgbeA6Y6u5boJikgUE31TKza81shZmt6OnpiXGaIiJRBU/AZjYJ+Ffgz919d7U/5+73uHuru7eWb4QoIpIHQROwmY2nmHzvc/d/Sx7eambTkv+fBtTvploiIkcg5CgIA74FrHX3v+v3Xz8Crk6+vxp4KNQ5iIjUsjDLUhWdD/whsNrM+sbq3AzcDvzAzK4BNgJXBjwHEZGaFSwBu/vTwFDrAc4NFVdEpF5oJpyISEaUgEVEMqIELCKSESVgEZGMKAGLiGRECVhEJCNKwCIiGVECFhHJiBKwiEhGlIBFRDKiBCwikhElYBGRjCgBi4hkRAlYRCQjSsAiIhlRAhYRyYgSsIhIRpSARUQyogQsIpIRJWARkYwoAYuIZEQJWEQkI0rAIiIZUQIWEcmIErCISEaUgEVEMqIELCKSESVgEZGMKAGLiGRECVhEJCNKwCIiGVECFhHJiBKwiEhGlIBFRDKiBCwikpFxoQ5sZouAS4Fudz8reWwy8ABwGrAB+D133zHaGHfffTcdHR3DPu9LX/oSAGeccQZf+MIXRhtORCRVwRIw8B3gfwH/3O+xm4Bl7n67md2UlG8MeA4iElE1laJ6qRDFuJZgCdjdnzKz08oevgz4ZPL9vcATHEECHuyCL7roogGP3XnnnaMNISISTMga8GCmuvsWAHffYmZThnqimV0LXAtwyimnVB3gvPPO49lnn32nfP7554/6ZGNSzUHyoPy1rOcKUYxriZ2Aq+bu9wD3ALS2tnq1P3fLLbeU/KK+9rWvHfG55Cmh5OlaROpd7AS81cymJbXfaUB3iCATJ05kz549dVP7BdUcJJ+WLFlS8vovWbIkw7M5MiGuJXYC/hFwNXB78vWhEEHOPPNMIJ3aL+QroeTlWjQCZuTycveTp9c+2DhgM7sf+BnwXjPbbGbXUEy8F5rZ68CFSbnulH/yhfhUjxEjVpxY1yK1adasWcyaNSsXr3va1xJyFMRnh/ivuaFiSuPQCJiRy8vdT55ee82EG6UYn+qxag55uRbVtEcmT7+ver0WJWARkYzU7DA0kdGYNWsWkN7tZ4yOqyw7x9L+fWWpHq9FNWARkYyoBixSQYyOq7x0jsnIqQYsMgIatidpUgIWEcmIErDICOVl2J5kTwlYRCQjSsAiIhlRAhYRyYgSsIhIRpSARUQyogQsIpIRJWARkYzUzVTkalfBB1i/fj3w6wVMKilf3KTaOLUeI1acWNcitSdPr31W11I3Cbijo4N1v1jLKcdNHva5E3qLe3geeGNrxedt3LV90Div/2IVJx87tuLPjj90GIB9m1+p+LxNu3sHjfHa2lU0H1/xR7FiCLZvWVXxeT07B3+8o6ODtWtXcdwJleP0JnG63qwcZ9eOwWOsfnUV45sqxziUbKv6ak/lGAcLlY8jtaOjo4NXX11H8+RTKz/RJwBQ6D5Y8Wk92zvTOrURK+aX1zjl2BMrPm/CoWKjwYHNuyo+b+PuN6uKWzcJGOCU4ybz1f80L7Xj3fqTpYM+fvKxY/nSx45JJcadP9s76OPNx8Pvfapykq/WDx4fmOT7HHcCzE7pV/bU4L8uxjfBey6zVGJse2jgBtix7n7yJFaNrnnyqVz56a+O7iTL/MvDtw54LOZrf8qxJ3LzeX9UVazh3Pbst6t6Xl0lYGlMHR0drHr1F9A0afgne7GWtapnY+XnFd5O4cxqV0dHB2tefZ2jmk6u+LwDPh6A13v2VXze/sKm1M5tJIp3pOs4+dhThn3u+EPFmva+zQcqPm/T7mHeGxEpAUt9aJrEuMtaUzvcoYdWDHgsb23mRzWdzCmX3TDsz1dj40MLUznOaJx87Cn81Ue/nNrx/va5r6d2rCOlBCySKNa012JNlfsZ3IvNJKt7KvcxeGHwPoZVr77GmKYpFX/2sBebdNb0DNLw3v95he6K/y+1TQm4TFdXF3t29w7ZdjtSm3b3MrGra0CM3bsqt92ORPdO2OddAx7v6upi566h225HaucO4PDAOHliTZMZd+nABdFH49CPB1/JbEzTFI66dKhNw0dm/4/vT+U4kg2NAxYRyUjd1IC7urrYs2vXkCMXRqNz13YmWvGj02IAAArDSURBVGkttKWlhX2Hd6Q6CuLolpYBMY62bamOgpg8rWXA4y0tLTBmW6qjIFpOLI3T1dXFwd2Dj14YjYMF6Do48I6B3W8N2m47aoW3BsSRkSneye0ddPTCaPQUOtl/qPTvrnhHuifVdttNuzuZ2DVxkDhvVT16YTidu99kYteeYZ9XNwlYRKrX1dXF/t17Uus821/YRNfBicM/UUakbhJwS0sLB3xs6uOAJ7RMTe14jailpYXd47elOg64pXngHcO28YdSHwVRHqerqwvfvWvIttuR8sJ2ug6W3mF1dXVxePdbqbXdHi5003XwV6kca6RaWlo4atzBVMcBN00ZPyDGvsMHUh8FcXTLhAFxDhzeleo44Aktxw37vLpJwCJSvZaWFvaM35fqMLSW5qNTOZb8mhKwSKKlpYXC+LGpjoJoaS69w2ppaWH7+B2pjoJoaR5mrrnULCXgQWyqYhha957iAgpTJlYeSLJpdy8zB3m8Z+fww9B2JpO1jh9mAljPTpg8bfD/27Vj+GFob79V/Drp3ZWft2sHtAwyVf5gYfhOuEPJ1Plxw9yVHSwAzZWfI5IXSsBlzjjjjKqedzCZqXT09DMrPm/mIMesNsaOJMbkaZVjTJ42+DGrjbN+TzFOy4mV47ScOPprWb+7GOPM5soxaK7+mCL1rq4S8MZd26sahrZ1T7FKN3Vi5Srdxl3bmXFS6S1itYuz9E0RvfPOO6t6fuwYseLEuhYKb1c3DG1Xcudy3DDDCAtvD1rT9sL2YTvhfFfx/WXHVX5/eWE7NA/s5D1c6B62E+5wsvTcmGGWsjtc6IYhmiD2FzYNOwriwK7iTLoJx1Wembe/sAmaB97L9WzvHHYY2s5kZbDjh1lprGd7J01TZgx4fNPujVUNQ+veU5yZOGVi5Y71Tbs3MpOBcTbufnPYYWhb9xRnN06dWHm25MbdbzKDHHXCjaRWdGB98d59wkmVX4gZJ01VbasOjOQ1+nVNe5jFWwapaVdfm387iTHMCJrmge+v6mNsT2IM077bfMKR3f3sPpjEGaaDrXnmqK9l51vFxXHKRziUa5oyY9QxAA6uL8Y5evqEis+byejjHFi/DYAJ0ysn1xkcV9Ux6yYBj2TZwCOubUlNifXa5+mOIS/XkqfXfjCaiiwikhElYBGRjGSSgM3sYjN7zczWmdlNWZyDiEjWoidgMxsLfAOYD3wA+KyZfSD2eYiIZM36FpeOFtDsY8Bfu/tFSfnLAO4+5DiT1tZWX7Gi+h0M+nYTOPPM0jGno90DbLA49RgjVpysYsSKU48xYsXRaz+kQRdLyWIUxElA/w2mNgMfLX+SmV0LXAtwyinD7wfV39FHh5+znpcYseLoWmovRqw4upahZVEDvhK4yN3/OCn/IXCuu//ZUD8zVA1YRKRODFoDzqITbjPQf6vW6YBWxhaRhpNFAv45MNPMTjezCcAfAD/K4DxERDIVvQ3Y3Q+Z2ReBJcBYYJG7vxL7PEREspbJVGR3fxh4OIvYIiK1QjPhREQyogQsIpIRJWARkYwoAYuIZEQJWEQkI0rAIiIZUQIWEcmIErCISEaiL8YzGmbWA3SO8MfeA2wLcDp5jBErjq6l9mLEitPo17LN3S8uf7AuEvBomNkKd29VjNqJo2upvRix4uhaBqcmCBGRjCgBi4hkJM8J+B7FqLk4upbaixErjq5lELltAxYRqXV5rgGLiNQ0JWARkYzkKgGb2SIz6zazNQFjnGxmj5vZWjN7xcyuCxTnaDN73sxeTuLcEiJOEmusmb1oZj8OGGODma02s5fMLMgOq2Z2vJk9aGavJq/PxwLEeG9yDX3/dpvZnweI8xfJ677GzO43s9S3/DWz65Ljv5LmNQz2d2hmk83sMTN7Pfl6QoAYVybXctjMUhkmNkScO5P32Coz+6GZHT/qAO6em3/AbOAcYE3AGNOAc5Lv3w38P+ADAeIYMCn5fjzwHHBeoGv6S6Ad+HHA39sG4D2BX/97gT9Ovp8AHB843ljgTeDUlI97EvBL4F1J+QfAf0k5xlnAGuAYijvj/F9gZkrHHvB3CCwEbkq+vwm4I0CM9wPvBZ4AWgNeyzxgXPL9HUdyLbmqAbv7U8D2wDG2uPsLyfdvAWsp/sGkHcfd/e2kOD75l3qPqZlNBy4Bvpn2sWMys2Mp/rF8C8DdD7j7zsBh5wLr3X2kszSrMQ54l5mNo5gk0945/P3As+6+190PAU8CV6Rx4CH+Di+j+AFJ8vXytGO4+1p3f+1IjltlnKXJ7wzgWYo7u49KrhJwbGZ2GnA2xdppiOOPNbOXgG7gMXcPEecfgBuAwwGO3Z8DS81spZldG+D4ZwA9wLeT5pRvmtnEAHH6+wPg/rQP6u5vAHcBG4EtwC53X5pymDXAbDNrMrNjgE8DJ6cco7+p7r4FipUYYErAWDEtAB4Z7Q8rAY+SmU0C/hX4c3ffHSKGu/e6+4cpfsKea2ZnpXl8M7sU6Hb3lWkedwjnu/s5wHzgT81sdsrHH0fxVvFudz8b2EPxVjcIM5sAfAb4lwDHPoFijfF0oAWYaGafSzOGu6+lePv8GPAo8DJwqOIPSQkz+wrF39l9oz2GEvAomNl4isn3Pnf/t9DxklvpJ4ABi3kcofOBz5jZBuD7wBwz+17KMQBw967kazfwQ+DclENsBjb3u0t4kGJCDmU+8IK7bw1w7AuAX7p7j7sfBP4N+HjaQdz9W+5+jrvPpnib/XraMfrZambTAJKv3QFjBWdmVwOXAld50hg8GkrAI2RmRrGdca27/13AOM19vatm9i6Kf5SvphnD3b/s7tPd/TSKt9PL3T3VmhaAmU00s3f3fU+xEyPVkSru/iawyczemzw0F/hFmjHKfJYAzQ+JjcB5ZnZM8n6bS7GvIVVmNiX5egrwnwl3PQA/Aq5Ovr8aeChgrKDM7GLgRuAz7r73iA6WRk9hrfyj+AbaAhykWCO6JkCMT1Bsz1wFvJT8+3SAOLOAF5M4a4CvBf7dfZJAoyAots++nPx7BfhKoDgfBlYkv7N/B04IFOcYoAAcF/D1uIXiB+4a4LvAUQFi/ITih9TLwNwUjzvg7xBoApZRrGUvAyYHiHFF8v1+YCuwJNC1rAM29fv7/z+jPb6mIouIZERNECIiGVECFhHJiBKwiEhGlIBFRDKiBCwikhElYJEhJKur/Um/8idDrhgnjUcJWGRoxwN/MuyzREZJCVhywcxOS9Zo/Wayxu19ZnaBmf00WYP23GRN2n9P1nF91sxmJT/718m6r0+YWYeZ/dfksLcDZybr/t6ZPDap35rD9yUz1URGZVzWJyCSohnAlcC1wM+BNoozFz8D3Exx9tKL7n65mc0B/pni7DmA9wGforjG82tmdjfFxXzO8uKCSJjZJymufvebFJeH/CnF9TSejnFxkj+qAUue/NLdV7v7YYpTnpd5carnauA0isn4uwDuvhxoMrPjkp9d7O773X0bxYVipg4R43l335zEeCk5rsioKAFLnuzv9/3hfuXDFO/2Bmsu6JuL3/9nexn67rDa54kMSwlYGslTwFXwTnPCNq+8lvNbFJskRILQp7c0kr+muGPGKmAvv14ecVDuXkg68dZQ3PVgcfhTlEai1dBERDKiJggRkYwoAYuIZEQJWEQkI0rAIiIZUQIWEcmIErCISEaUgEVEMvL/ATszRGxGlmI2AAAAAElFTkSuQmCC\n",
      "text/plain": [
       "<Figure size 360x360 with 1 Axes>"
      ]
     },
     "metadata": {
      "needs_background": "light"
     },
     "output_type": "display_data"
    }
   ],
   "source": [
    "from warnings import filterwarnings\n",
    "import seaborn as sns\n",
    "filterwarnings('ignore')\n",
    "\n",
    "sns.catplot(x='month',y='wind', kind='box',data=data2019_p)"
   ]
  },
 ],
 "metadata": {
  "kernelspec": {
   "display_name": "Python 3",
   "language": "python",
   "name": "python3"
  },
  "language_info": {
   "codemirror_mode": {
    "name": "ipython",
    "version": 3
   },
   "file_extension": ".py",
   "mimetype": "text/x-python",
   "name": "python",
   "nbconvert_exporter": "python",
   "pygments_lexer": "ipython3",
   "version": "3.7.6"
  }
 },
 "nbformat": 4,
 "nbformat_minor": 4
}
