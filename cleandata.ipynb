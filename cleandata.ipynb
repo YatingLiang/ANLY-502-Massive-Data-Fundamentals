{
 "cells": [
  {
   "cell_type": "code",
   "execution_count": 1,
   "metadata": {},
   "outputs": [
    {
     "data": {
      "text/html": [
       "\n",
       "        <div>\n",
       "            <p><b>SparkContext</b></p>\n",
       "\n",
       "            <p><a href=\"http://ip-172-31-28-80.ec2.internal:4040\">Spark UI</a></p>\n",
       "\n",
       "            <dl>\n",
       "              <dt>Version</dt>\n",
       "                <dd><code>v2.4.4</code></dd>\n",
       "              <dt>Master</dt>\n",
       "                <dd><code>yarn</code></dd>\n",
       "              <dt>AppName</dt>\n",
       "                <dd><code>pyspark-shell</code></dd>\n",
       "            </dl>\n",
       "        </div>\n",
       "        "
      ],
      "text/plain": [
       "<SparkContext master=yarn appName=pyspark-shell>"
      ]
     },
     "execution_count": 1,
     "metadata": {},
     "output_type": "execute_result"
    }
   ],
   "source": [
    "#start spark session\n",
    "import findspark\n",
    "findspark.init()\n",
    "from pyspark import SparkContext\n",
    "sc=SparkContext()\n",
    "sc"
   ]
  },
  {
   "cell_type": "code",
   "execution_count": 2,
   "metadata": {},
   "outputs": [
    {
     "data": {
      "text/html": [
       "\n",
       "            <div>\n",
       "                <p><b>SparkSession - in-memory</b></p>\n",
       "                \n",
       "        <div>\n",
       "            <p><b>SparkContext</b></p>\n",
       "\n",
       "            <p><a href=\"http://ip-172-31-28-80.ec2.internal:4040\">Spark UI</a></p>\n",
       "\n",
       "            <dl>\n",
       "              <dt>Version</dt>\n",
       "                <dd><code>v2.4.4</code></dd>\n",
       "              <dt>Master</dt>\n",
       "                <dd><code>yarn</code></dd>\n",
       "              <dt>AppName</dt>\n",
       "                <dd><code>pyspark-shell</code></dd>\n",
       "            </dl>\n",
       "        </div>\n",
       "        \n",
       "            </div>\n",
       "        "
      ],
      "text/plain": [
       "<pyspark.sql.session.SparkSession at 0x7f6ad03547d0>"
      ]
     },
     "execution_count": 2,
     "metadata": {},
     "output_type": "execute_result"
    }
   ],
   "source": [
    "from pyspark.sql import SparkSession\n",
    "spark=SparkSession.builder.getOrCreate()\n",
    "spark"
   ]
  },
  {
   "cell_type": "markdown",
   "metadata": {},
   "source": [
    "## Try Data 2019"
   ]
  },
  {
   "cell_type": "code",
   "execution_count": 100,
   "metadata": {},
   "outputs": [],
   "source": [
    "data1 = spark.read\\\n",
    "  .format('csv')\\\n",
    "  .option('header', 'false')\\\n",
    "  .option('inferSchema', 'true')\\\n",
    "  .load(\"s3://open-data-noaa/2019samples\")"
   ]
  },
  {
   "cell_type": "code",
   "execution_count": 102,
   "metadata": {},
   "outputs": [
    {
     "name": "stdout",
     "output_type": "stream",
     "text": [
      "root\n",
      " |-- _c0: string (nullable = true)\n",
      " |-- _c1: string (nullable = true)\n",
      " |-- _c2: string (nullable = true)\n",
      " |-- _c3: string (nullable = true)\n",
      " |-- _c4: string (nullable = true)\n",
      " |-- _c5: string (nullable = true)\n",
      " |-- _c6: string (nullable = true)\n",
      " |-- _c7: string (nullable = true)\n",
      " |-- _c8: string (nullable = true)\n",
      " |-- _c9: string (nullable = true)\n",
      " |-- _c10: string (nullable = true)\n",
      " |-- _c11: string (nullable = true)\n",
      " |-- _c12: string (nullable = true)\n",
      " |-- _c13: string (nullable = true)\n",
      " |-- _c14: string (nullable = true)\n",
      " |-- _c15: string (nullable = true)\n",
      " |-- _c16: string (nullable = true)\n",
      " |-- _c17: string (nullable = true)\n",
      " |-- _c18: string (nullable = true)\n",
      " |-- _c19: string (nullable = true)\n",
      " |-- _c20: string (nullable = true)\n",
      " |-- _c21: string (nullable = true)\n",
      " |-- _c22: string (nullable = true)\n",
      " |-- _c23: string (nullable = true)\n",
      " |-- _c24: string (nullable = true)\n",
      " |-- _c25: string (nullable = true)\n",
      " |-- _c26: string (nullable = true)\n",
      " |-- _c27: string (nullable = true)\n",
      " |-- _c28: string (nullable = true)\n",
      " |-- _c29: string (nullable = true)\n",
      " |-- _c30: string (nullable = true)\n",
      " |-- _c31: string (nullable = true)\n",
      " |-- _c32: string (nullable = true)\n",
      " |-- _c33: string (nullable = true)\n",
      " |-- _c34: string (nullable = true)\n",
      "\n"
     ]
    }
   ],
   "source": [
    "data1.printSchema()"
   ]
  },
  {
   "cell_type": "code",
   "execution_count": 103,
   "metadata": {},
   "outputs": [
    {
     "name": "stdout",
     "output_type": "stream",
     "text": [
      "+-----------+-------------------+---+----------+-----------+-----+--------------------+-----+-----+----+--------------+-----------+------------+---------+---------+-------+-----------+-----------+-----------+----+----+------------------+------------------+------------------+---------------+--------------------+--------------------+----+--------------------+----+----------------+----+----+--------------------+----+\n",
      "|        _c0|                _c1|_c2|       _c3|        _c4|  _c5|                 _c6|  _c7|  _c8| _c9|          _c10|       _c11|        _c12|     _c13|     _c14|   _c15|       _c16|       _c17|       _c18|_c19|_c20|              _c21|              _c22|              _c23|           _c24|                _c25|                _c26|_c27|                _c28|_c29|            _c30|_c31|_c32|                _c33|_c34|\n",
      "+-----------+-------------------+---+----------+-----------+-----+--------------------+-----+-----+----+--------------+-----------+------------+---------+---------+-------+-----------+-----------+-----------+----+----+------------------+------------------+------------------+---------------+--------------------+--------------------+----+--------------------+----+----------------+----+----+--------------------+----+\n",
      "|43314099999|2019-07-10T00:00:00|  4|     11.25| 75.7833333|  5.0|       KOZHIKODE, IN|FM-12|99999|V020|999,9,C,0000,1|99999,9,9,N|004000,1,9,9|+0228,113|+0228,114|10078,1|21,0800,3,1|   6,1,02,1|   2,1,02,1|_c19|_c20|03,1,+00800,1,06,1|99,9,+99999,9,03,1|99,9,+99999,9,00,1|           _c24|9,MSL   ,+99999,+...|07,99,1,03,1,99,9...|_c27|                _c28|_c29|9,9,999,9,-005,1|02,1|_c32|SYN06443314 21596...|_c34|\n",
      "|71846099999|2019-09-02T02:00:00|  4|52.1833333|-87.9333333|253.0|LANSDOWNE HOUSE A...|  SAO|99999|V020|340,1,9,0015,1|99999,9,9,9|999999,9,9,9|  +0061,1|  +0031,1|10180,1|       null|       null|       null|null|null|              null|              null|              null|99999,9,09869,5|    1,1,025,1,+999,9|                null|null|AWY052WLF SA 0200...|null|            null|null|null|                null|null|\n",
      "|71846099999|2019-09-02T03:00:00|  4|52.1833333|-87.9333333|253.0|LANSDOWNE HOUSE A...|FM-12|99999|V020|323,1,N,0011,1|99999,9,9,9|999999,9,9,9|  +0062,1|  +0037,1|10185,1|01,9999,9,9|06,9999,9,9|24,0002,3,1|null|null|              null|              null|              null|99999,9,09875,1|    1,1,019,1,+999,9|                null|null|          SYN004BUFR|null|            null|null|null|                null|null|\n",
      "|71846099999|2019-09-02T03:00:00|  4|52.1833333|-87.9333333|253.0|LANSDOWNE HOUSE A...|  SAO|99999|V020|320,1,9,0010,1|99999,9,9,9|999999,9,9,9|  +0061,1|  +0037,1|10185,1|       null|       null|       null|null|null|              null|              null|              null|99999,9,09874,5|    1,1,019,1,+999,9|                null|null|AWY052WLF SA 0300...|null|            null|null|null|                null|null|\n",
      "|71846099999|2019-09-02T04:00:00|  4|52.1833333|-87.9333333|253.0|LANSDOWNE HOUSE A...|  SAO|99999|V020|310,1,9,0015,1|99999,9,9,9|999999,9,9,9|  +0062,1|  +0034,1|10190,1|       null|       null|       null|null|null|              null|              null|              null|99999,9,09879,5|    2,1,016,1,+999,9|                null|null|AWY052WLF SA 0400...|null|            null|null|null|                null|null|\n",
      "+-----------+-------------------+---+----------+-----------+-----+--------------------+-----+-----+----+--------------+-----------+------------+---------+---------+-------+-----------+-----------+-----------+----+----+------------------+------------------+------------------+---------------+--------------------+--------------------+----+--------------------+----+----------------+----+----+--------------------+----+\n",
      "only showing top 5 rows\n",
      "\n"
     ]
    }
   ],
   "source": [
    "data1.show(5)"
   ]
  },
  {
   "cell_type": "code",
   "execution_count": 110,
   "metadata": {},
   "outputs": [
    {
     "data": {
      "text/plain": [
       "1426323"
      ]
     },
     "execution_count": 110,
     "metadata": {},
     "output_type": "execute_result"
    }
   ],
   "source": [
    "data1.count()"
   ]
  },
  {
   "cell_type": "code",
   "execution_count": 111,
   "metadata": {},
   "outputs": [
    {
     "data": {
      "text/plain": [
       "173"
      ]
     },
     "execution_count": 111,
     "metadata": {},
     "output_type": "execute_result"
    }
   ],
   "source": [
    "#delete index row\n",
    "data1.where('_c0==\"STATION\"').count()"
   ]
  },
  {
   "cell_type": "code",
   "execution_count": 112,
   "metadata": {},
   "outputs": [],
   "source": [
    "data2=data1.where('_c0!=\"STATION\"')"
   ]
  },
  {
   "cell_type": "code",
   "execution_count": 113,
   "metadata": {},
   "outputs": [
    {
     "data": {
      "text/plain": [
       "1426150"
      ]
     },
     "execution_count": 113,
     "metadata": {},
     "output_type": "execute_result"
    }
   ],
   "source": [
    "data2.count()"
   ]
  },
  {
   "cell_type": "code",
   "execution_count": 159,
   "metadata": {},
   "outputs": [],
   "source": [
    "#add index row\n",
    "from pyspark.sql import SparkSession\n",
    "#from pyspark.sql import functions._\n",
    "#import pyspark.spark.sql.{SQLContext, Row, DataFrame, Column}\n",
    "from pyspark.sql import Row,DataFrame,Column\n",
    "from pyspark.sql import SQLContext\n",
    "#from pyspark.ml import feature.VectorAssembler"
   ]
  },
  {
   "cell_type": "code",
   "execution_count": 160,
   "metadata": {},
   "outputs": [
    {
     "ename": "NameError",
     "evalue": "name 'Seq' is not defined",
     "output_type": "error",
     "traceback": [
      "\u001b[0;31m---------------------------------------------------------------------------\u001b[0m",
      "\u001b[0;31mNameError\u001b[0m                                 Traceback (most recent call last)",
      "\u001b[0;32m<ipython-input-160-035eac7bbcc7>\u001b[0m in \u001b[0;36m<module>\u001b[0;34m\u001b[0m\n\u001b[0;32m----> 1\u001b[0;31m \u001b[0mnewColumns\u001b[0m \u001b[0;34m=\u001b[0m \u001b[0mSeq\u001b[0m\u001b[0;34m(\u001b[0m\u001b[0;34m\"STATION\"\u001b[0m\u001b[0;34m,\u001b[0m\u001b[0;34m\"DATE\"\u001b[0m\u001b[0;34m,\u001b[0m\u001b[0;34m\"SOURCE\"\u001b[0m\u001b[0;34m,\u001b[0m\u001b[0;34m\"LATITUDE\"\u001b[0m\u001b[0;34m,\u001b[0m\u001b[0;34m\"LONGITUDE\"\u001b[0m\u001b[0;34m,\u001b[0m\u001b[0;34m\"ELEVATION\"\u001b[0m\u001b[0;34m,\u001b[0m\u001b[0;34m\"NAME\"\u001b[0m\u001b[0;34m,\u001b[0m\u001b[0;34m\"REPORT_TYPE\"\u001b[0m\u001b[0;34m,\u001b[0m \u001b[0;34m\"CALL_SIGN\"\u001b[0m\u001b[0;34m,\u001b[0m\u001b[0;34m\"QUALITY_CONTROL\"\u001b[0m\u001b[0;34m,\u001b[0m\u001b[0;34m\"WND\"\u001b[0m\u001b[0;34m,\u001b[0m\u001b[0;34m\"CIG\"\u001b[0m\u001b[0;34m,\u001b[0m\u001b[0;34m\"VIS\"\u001b[0m\u001b[0;34m,\u001b[0m\u001b[0;34m\"TMP\"\u001b[0m\u001b[0;34m,\u001b[0m\u001b[0;34m\"DEW\"\u001b[0m\u001b[0;34m,\u001b[0m\u001b[0;34m\"SLP\"\u001b[0m\u001b[0;34m,\u001b[0m\u001b[0;34m\"GF1\"\u001b[0m\u001b[0;34m)\u001b[0m\u001b[0;34m\u001b[0m\u001b[0;34m\u001b[0m\u001b[0m\n\u001b[0m\u001b[1;32m      2\u001b[0m \u001b[0;31m#val data2 = data2.toDF(newColumns:_*)\u001b[0m\u001b[0;34m\u001b[0m\u001b[0;34m\u001b[0m\u001b[0;34m\u001b[0m\u001b[0m\n",
      "\u001b[0;31mNameError\u001b[0m: name 'Seq' is not defined"
     ]
    }
   ],
   "source": [
    "newColumns = Seq(\"STATION\",\"DATE\",\"SOURCE\",\"LATITUDE\",\"LONGITUDE\",\"ELEVATION\",\"NAME\",\"REPORT_TYPE\", \"CALL_SIGN\",\"QUALITY_CONTROL\",\"WND\",\"CIG\",\"VIS\",\"TMP\",\"DEW\",\"SLP\",\"GF1\")\n",
    "#val data2 = data2.toDF(newColumns:_*)"
   ]
  },
  {
   "cell_type": "code",
   "execution_count": null,
   "metadata": {},
   "outputs": [],
   "source": [
    "newColumns"
   ]
  },
  {
   "cell_type": "code",
   "execution_count": 118,
   "metadata": {},
   "outputs": [
    {
     "ename": "TypeError",
     "evalue": "withColumnRenamed() takes 3 positional arguments but 18 were given",
     "output_type": "error",
     "traceback": [
      "\u001b[0;31m---------------------------------------------------------------------------\u001b[0m",
      "\u001b[0;31mTypeError\u001b[0m                                 Traceback (most recent call last)",
      "\u001b[0;32m<ipython-input-118-3c4a05ca8112>\u001b[0m in \u001b[0;36m<module>\u001b[0;34m\u001b[0m\n\u001b[0;32m----> 1\u001b[0;31m \u001b[0mdata2\u001b[0m\u001b[0;34m.\u001b[0m\u001b[0mwithColumnRenamed\u001b[0m\u001b[0;34m(\u001b[0m\u001b[0;34m\"STATION\"\u001b[0m\u001b[0;34m,\u001b[0m\u001b[0;34m\"DATE\"\u001b[0m\u001b[0;34m,\u001b[0m\u001b[0;34m\"SOURCE\"\u001b[0m\u001b[0;34m,\u001b[0m\u001b[0;34m\"LATITUDE\"\u001b[0m\u001b[0;34m,\u001b[0m\u001b[0;34m\"LONGITUDE\"\u001b[0m\u001b[0;34m,\u001b[0m\u001b[0;34m\"ELEVATION\"\u001b[0m\u001b[0;34m,\u001b[0m\u001b[0;34m\"NAME\"\u001b[0m\u001b[0;34m,\u001b[0m\u001b[0;34m\"REPORT_TYPE\"\u001b[0m\u001b[0;34m,\u001b[0m \u001b[0;34m\"CALL_SIGN\"\u001b[0m\u001b[0;34m,\u001b[0m\u001b[0;34m\"QUALITY_CONTROL\"\u001b[0m\u001b[0;34m,\u001b[0m\u001b[0;34m\"WND\"\u001b[0m\u001b[0;34m,\u001b[0m\u001b[0;34m\"CIG\"\u001b[0m\u001b[0;34m,\u001b[0m\u001b[0;34m\"VIS\"\u001b[0m\u001b[0;34m,\u001b[0m\u001b[0;34m\"TMP\"\u001b[0m\u001b[0;34m,\u001b[0m\u001b[0;34m\"DEW\"\u001b[0m\u001b[0;34m,\u001b[0m\u001b[0;34m\"SLP\"\u001b[0m\u001b[0;34m,\u001b[0m\u001b[0;34m\"GF1\"\u001b[0m\u001b[0;34m)\u001b[0m\u001b[0;31m\\\u001b[0m\u001b[0;34m\u001b[0m\u001b[0;34m\u001b[0m\u001b[0m\n\u001b[0m\u001b[1;32m      2\u001b[0m \u001b[0;34m.\u001b[0m\u001b[0mprintSchema\u001b[0m\u001b[0;34m(\u001b[0m\u001b[0;34m)\u001b[0m\u001b[0;34m\u001b[0m\u001b[0;34m\u001b[0m\u001b[0m\n",
      "\u001b[0;31mTypeError\u001b[0m: withColumnRenamed() takes 3 positional arguments but 18 were given"
     ]
    }
   ],
   "source": [
    "data2.withColumnRenamed(\"STATION\",\"DATE\",\"SOURCE\",\"LATITUDE\",\"LONGITUDE\",\"ELEVATION\",\"NAME\",\"REPORT_TYPE\", \"CALL_SIGN\",\"QUALITY_CONTROL\",\"WND\",\"CIG\",\"VIS\",\"TMP\",\"DEW\",\"SLP\",\"GF1\")\\\n",
    ".printSchema()"
   ]
  },
  {
   "cell_type": "code",
   "execution_count": 98,
   "metadata": {},
   "outputs": [
    {
     "ename": "ModuleNotFoundError",
     "evalue": "No module named 'spark'",
     "output_type": "error",
     "traceback": [
      "\u001b[0;31m---------------------------------------------------------------------------\u001b[0m",
      "\u001b[0;31mModuleNotFoundError\u001b[0m                       Traceback (most recent call last)",
      "\u001b[0;32m<ipython-input-98-39b93da98b28>\u001b[0m in \u001b[0;36m<module>\u001b[0;34m\u001b[0m\n\u001b[0;32m----> 1\u001b[0;31m \u001b[0;32mimport\u001b[0m \u001b[0mspark\u001b[0m\u001b[0;34m.\u001b[0m\u001b[0mimplicits\u001b[0m\u001b[0;34m.\u001b[0m\u001b[0m_\u001b[0m\u001b[0;34m\u001b[0m\u001b[0;34m\u001b[0m\u001b[0m\n\u001b[0m\u001b[1;32m      2\u001b[0m \u001b[0mdata1\u001b[0m\u001b[0;34m=\u001b[0m\u001b[0mseq\u001b[0m\u001b[0;34m(\u001b[0m\u001b[0mdata\u001b[0m\u001b[0;34m)\u001b[0m\u001b[0;34m.\u001b[0m\u001b[0mtoDF\u001b[0m\u001b[0;34m(\u001b[0m\u001b[0;34m\"STATION\"\u001b[0m\u001b[0;34m,\u001b[0m\u001b[0;34m\"DATE\"\u001b[0m\u001b[0;34m,\u001b[0m\u001b[0;34m\"SOURCE\"\u001b[0m\u001b[0;34m,\u001b[0m\u001b[0;34m\"LATITUDE\"\u001b[0m\u001b[0;34m,\u001b[0m\u001b[0;34m\"LONGITUDE\"\u001b[0m\u001b[0;34m,\u001b[0m\u001b[0;34m\"ELEVATION\"\u001b[0m\u001b[0;34m,\u001b[0m\u001b[0;34m\"NAME\"\u001b[0m\u001b[0;34m,\u001b[0m\u001b[0;34m\"REPORT_TYPE\"\u001b[0m\u001b[0;34m,\u001b[0m\u001b[0;34m\"CALL_SIGN\"\u001b[0m\u001b[0;34m,\u001b[0m\u001b[0;34m\"QUALITY_CONTROL\"\u001b[0m\u001b[0;34m,\u001b[0m\u001b[0;34m\"WND\"\u001b[0m\u001b[0;34m,\u001b[0m\u001b[0;34m\"CIG\"\u001b[0m\u001b[0;34m,\u001b[0m\u001b[0;34m\"VIS\"\u001b[0m\u001b[0;34m,\u001b[0m\u001b[0;34m\"TMP\"\u001b[0m\u001b[0;34m,\u001b[0m\u001b[0;34m\"DEW\"\u001b[0m\u001b[0;34m,\u001b[0m\u001b[0;34m\"SLP\"\u001b[0m\u001b[0;34m,\u001b[0m\u001b[0;34m\"GF1\"\u001b[0m\u001b[0;34m)\u001b[0m\u001b[0;34m\u001b[0m\u001b[0;34m\u001b[0m\u001b[0m\n\u001b[1;32m      3\u001b[0m \u001b[0;31m#\"STATION\",\"DATE\",\"SOURCE\",\"LATITUDE\",\"LONGITUDE\",\"ELEVATION\",\"NAME\",\"REPORT_TYPE\",\"CALL_SIGN\",\"QUALITY_CONTROL\",\"WND\",\"CIG\",\"VIS\",\"TMP\",\"DEW\",\"SLP\",\"GF1\"\u001b[0m\u001b[0;34m\u001b[0m\u001b[0;34m\u001b[0m\u001b[0;34m\u001b[0m\u001b[0m\n",
      "\u001b[0;31mModuleNotFoundError\u001b[0m: No module named 'spark'"
     ]
    }
   ],
   "source": [
    "import spark.implicits._\n",
    "\n",
    "data1=seq(data).toDF(\"STATION\",\"DATE\",\"SOURCE\",\"LATITUDE\",\"LONGITUDE\",\"ELEVATION\",\"NAME\",\"REPORT_TYPE\",\"CALL_SIGN\",\"QUALITY_CONTROL\",\"WND\",\"CIG\",\"VIS\",\"TMP\",\"DEW\",\"SLP\",\"GF1\")\n",
    "#\"STATION\",\"DATE\",\"SOURCE\",\"LATITUDE\",\"LONGITUDE\",\"ELEVATION\",\"NAME\",\"REPORT_TYPE\",\"CALL_SIGN\",\"QUALITY_CONTROL\",\"WND\",\"CIG\",\"VIS\",\"TMP\",\"DEW\",\"SLP\",\"GF1\""
   ]
  },
  {
   "cell_type": "code",
   "execution_count": null,
   "metadata": {},
   "outputs": [],
   "source": [
    "#Convert Data Type"
   ]
  },
  {
   "cell_type": "code",
   "execution_count": 141,
   "metadata": {},
   "outputs": [],
   "source": [
    "data2_converted=data2.withColumn(\"_c31\", data2[\"_c31\"].cast(\"float\"))"
   ]
  },
  {
   "cell_type": "code",
   "execution_count": 142,
   "metadata": {},
   "outputs": [
    {
     "data": {
      "text/plain": [
       "DataFrame[_c0: string, _c1: string, _c2: string, _c3: string, _c4: string, _c5: string, _c6: string, _c7: string, _c8: string, _c9: string, _c10: string, _c11: string, _c12: string, _c13: string, _c14: string, _c15: string, _c16: string, _c17: string, _c18: string, _c19: string, _c20: string, _c21: string, _c22: string, _c23: string, _c24: string, _c25: string, _c26: string, _c27: string, _c28: string, _c29: string, _c30: string, _c31: float, _c32: string, _c33: string, _c34: string]"
      ]
     },
     "execution_count": 142,
     "metadata": {},
     "output_type": "execute_result"
    }
   ],
   "source": [
    "data2_converted"
   ]
  },
  {
   "cell_type": "code",
   "execution_count": 145,
   "metadata": {},
   "outputs": [
    {
     "name": "stdout",
     "output_type": "stream",
     "text": [
      "+-----------+---------+\n",
      "|        _c0|sum(_c31)|\n",
      "+-----------+---------+\n",
      "|52818099999|     null|\n",
      "|99404199999|     null|\n",
      "|94367099999|     null|\n",
      "|72253512909|     null|\n",
      "|44305099999|     null|\n",
      "|71136099999|     null|\n",
      "|81908099999|     null|\n",
      "|26657099999|     null|\n",
      "|43344099999|     null|\n",
      "|07460099999|     null|\n",
      "|72656604965|     null|\n",
      "|59046099999|     null|\n",
      "|95146099999|     null|\n",
      "|68375099999|     null|\n",
      "|74778099999|     null|\n",
      "|11022099999|     null|\n",
      "|83424099999|     null|\n",
      "|41933099999|     null|\n",
      "|42871099999|     null|\n",
      "|15247099999|     null|\n",
      "+-----------+---------+\n",
      "only showing top 20 rows\n",
      "\n"
     ]
    }
   ],
   "source": [
    "#按station average\n",
    "#https://sparkbyexamples.com/spark/using-groupby-on-dataframe/\n",
    "data2_converted.groupBy(\"_c0\").sum(\"_c31\").show()"
   ]
  },
  {
   "cell_type": "code",
   "execution_count": 128,
   "metadata": {},
   "outputs": [],
   "source": [
    "#Drop duplicate rows in pyspark by a specific column\n",
    "data2_dropdup=data2.dropDuplicates((['_c0']))"
   ]
  },
  {
   "cell_type": "code",
   "execution_count": 130,
   "metadata": {},
   "outputs": [
    {
     "data": {
      "text/plain": [
       "173"
      ]
     },
     "execution_count": 130,
     "metadata": {},
     "output_type": "execute_result"
    }
   ],
   "source": [
    "data2_dropdup.count()"
   ]
  },
  {
   "cell_type": "code",
   "execution_count": 136,
   "metadata": {},
   "outputs": [
    {
     "name": "stdout",
     "output_type": "stream",
     "text": [
      "+-----------+-------------------+---+----------+------+------+-------------------+-----+-----+----+--------------+-----------+------------+-------+-------+-------+----------------+---------------+------+--------------------+----+----+----+----+----+----+--------------------+----+----+----+---------------+----------------+----+----+----+\n",
      "|        _c0|                _c1|_c2|       _c3|   _c4|   _c5|                _c6|  _c7|  _c8| _c9|          _c10|       _c11|        _c12|   _c13|   _c14|   _c15|            _c16|           _c17|  _c18|                _c19|_c20|_c21|_c22|_c23|_c24|_c25|                _c26|_c27|_c28|_c29|           _c30|            _c31|_c32|_c33|_c34|\n",
      "+-----------+-------------------+---+----------+------+------+-------------------+-----+-----+----+--------------+-----------+------------+-------+-------+-------+----------------+---------------+------+--------------------+----+----+----+----+----+----+--------------------+----+----+----+---------------+----------------+----+----+----+\n",
      "|52818099999|2019-01-01T00:00:00|  4|36.4166666|  94.9|2809.0|         GOLMUD, CH|FM-12|99999|V020|360,1,N,0000,1|22000,1,9,9|008000,1,9,9|-0135,1|-0227,1|99999,9|     06,9999,9,9|    24,9999,9,9|  null|                null|null|null|null|null|null|null|00,99,1,99,9,99,9...|null|null|null|99999,9,07277,1|7,1,002,1,+010,1|null|null|null|\n",
      "|99404199999|2019-01-01T00:00:00|  4|    37.507|-122.2|   6.0|REDWOOD CITY, CA US|FM-13|99999|V020|010,1,N,0072,1|99999,9,9,N|999999,9,9,9|+0128,1|+9999,9|10170,1|2,1,005,1,+999,9|5,99,0103,1,999|+114,1|SYN080RTYC1 46///...|null|null|null|null|null|null|                null|null|null|null|           null|            null|null|null|null|\n",
      "+-----------+-------------------+---+----------+------+------+-------------------+-----+-----+----+--------------+-----------+------------+-------+-------+-------+----------------+---------------+------+--------------------+----+----+----+----+----+----+--------------------+----+----+----+---------------+----------------+----+----+----+\n",
      "only showing top 2 rows\n",
      "\n"
     ]
    }
   ],
   "source": [
    "data2_dropdup.show(2)"
   ]
  },
  {
   "cell_type": "code",
   "execution_count": 131,
   "metadata": {},
   "outputs": [],
   "source": [
    "# Drop rows with NA or missing values in pyspark\n",
    "data2_dropna=data2_dropdup.dropna()\n",
    "#似乎没必要dropna"
   ]
  },
  {
   "cell_type": "code",
   "execution_count": 132,
   "metadata": {},
   "outputs": [
    {
     "data": {
      "text/plain": [
       "1"
      ]
     },
     "execution_count": 132,
     "metadata": {},
     "output_type": "execute_result"
    }
   ],
   "source": [
    "data2_dropna.count()"
   ]
  },
  {
   "cell_type": "code",
   "execution_count": 134,
   "metadata": {},
   "outputs": [
    {
     "name": "stdout",
     "output_type": "stream",
     "text": [
      "+-----------+-------------------+---+-----+----------+---+-------------+-----+-----+----+--------------+-----------+------------+---------+---------+-------+-----------+--------+--------+----+----+------------------+------------------+------------------+----+--------------------+--------------------+----+----+----+----------------+----+----+--------------------+----+\n",
      "|        _c0|                _c1|_c2|  _c3|       _c4|_c5|          _c6|  _c7|  _c8| _c9|          _c10|       _c11|        _c12|     _c13|     _c14|   _c15|       _c16|    _c17|    _c18|_c19|_c20|              _c21|              _c22|              _c23|_c24|                _c25|                _c26|_c27|_c28|_c29|            _c30|_c31|_c32|                _c33|_c34|\n",
      "+-----------+-------------------+---+-----+----------+---+-------------+-----+-----+----+--------------+-----------+------------+---------+---------+-------+-----------+--------+--------+----+----+------------------+------------------+------------------+----+--------------------+--------------------+----+----+----+----------------+----+----+--------------------+----+\n",
      "|43314099999|2019-07-10T00:00:00|  4|11.25|75.7833333|5.0|KOZHIKODE, IN|FM-12|99999|V020|999,9,C,0000,1|99999,9,9,N|004000,1,9,9|+0228,113|+0228,114|10078,1|21,0800,3,1|6,1,02,1|2,1,02,1|_c19|_c20|03,1,+00800,1,06,1|99,9,+99999,9,03,1|99,9,+99999,9,00,1|_c24|9,MSL   ,+99999,+...|07,99,1,03,1,99,9...|_c27|_c28|_c29|9,9,999,9,-005,1|02,1|_c32|SYN06443314 21596...|_c34|\n",
      "+-----------+-------------------+---+-----+----------+---+-------------+-----+-----+----+--------------+-----------+------------+---------+---------+-------+-----------+--------+--------+----+----+------------------+------------------+------------------+----+--------------------+--------------------+----+----+----+----------------+----+----+--------------------+----+\n",
      "\n"
     ]
    }
   ],
   "source": [
    "data2_dropna.show()"
   ]
  }
 ],
 "metadata": {
  "kernelspec": {
   "display_name": "Python 3",
   "language": "python",
   "name": "python3"
  },
  "language_info": {
   "codemirror_mode": {
    "name": "ipython",
    "version": 3
   },
   "file_extension": ".py",
   "mimetype": "text/x-python",
   "name": "python",
   "nbconvert_exporter": "python",
   "pygments_lexer": "ipython3",
   "version": "3.7.6"
  }
 },
 "nbformat": 4,
 "nbformat_minor": 4
}
